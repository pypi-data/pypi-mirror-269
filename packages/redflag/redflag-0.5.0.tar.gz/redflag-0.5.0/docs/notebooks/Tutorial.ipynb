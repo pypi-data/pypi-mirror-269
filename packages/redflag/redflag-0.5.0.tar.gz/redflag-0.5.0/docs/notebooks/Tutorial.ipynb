{
 "cells": [
  {
   "cell_type": "markdown",
   "metadata": {},
   "source": [
    "# 🚩 Tutorial\n",
    "\n",
    "We're going to look at some features of `redflag`, a library for helping find problems in machine learning pipelines.\n",
    "\n",
    "You'll need the following packages to run the code in this tutorial:\n",
    "\n",
    "- `redflag`\n",
    "- `pandas`\n",
    "- `seaborn`\n",
    "\n",
    "\n",
    "## A simple ML workflow\n",
    "\n",
    "First, let's see how we can burn ourselves:"
   ]
  },
  {
   "cell_type": "code",
   "execution_count": 6,
   "metadata": {},
   "outputs": [
    {
     "data": {
      "text/plain": [
       "array(['ss', 'ss', 'ss', 'ms', 'ms', 'ss'], dtype='<U2')"
      ]
     },
     "execution_count": 6,
     "metadata": {},
     "output_type": "execute_result"
    }
   ],
   "source": [
    "X = [[19], [23], [35], [64], [59], [31]]  # The smallest gamma-ray log.\n",
    "y = ['ss', 'ss', 'ss', 'ms', 'ms', 'ss']\n",
    "\n",
    "from sklearn.svm import SVC\n",
    "\n",
    "clf = SVC(kernel='linear')\n",
    "clf.fit(X, y)\n",
    "clf.predict(X)"
   ]
  },
  {
   "cell_type": "markdown",
   "metadata": {},
   "source": [
    "So far so good. We're predicting on the training data, but everything is at least working.\n",
    "\n",
    "Now someone tells us we should scale our training data."
   ]
  },
  {
   "cell_type": "code",
   "execution_count": 7,
   "metadata": {},
   "outputs": [
    {
     "data": {
      "text/plain": [
       "array(['ms', 'ms', 'ms', 'ms', 'ms', 'ms'], dtype='<U2')"
      ]
     },
     "execution_count": 7,
     "metadata": {},
     "output_type": "execute_result"
    }
   ],
   "source": [
    "from sklearn.preprocessing import StandardScaler\n",
    "\n",
    "scaler = StandardScaler()\n",
    "scaler.fit(X)\n",
    "X_scaled = scaler.transform(X)\n",
    "\n",
    "clf.fit(X_scaled, y)\n",
    "clf.predict(X)  # <-- Oops, we predicted on unscaled data."
   ]
  },
  {
   "cell_type": "markdown",
   "metadata": {},
   "source": [
    "Easily done. There are lots of people on Stack Overflow and Cross Validated wondering why all their predictions are the same. It's often because they've done something like this.\n",
    "\n",
    "Even easier is this common pattern:"
   ]
  },
  {
   "cell_type": "code",
   "execution_count": 8,
   "metadata": {},
   "outputs": [
    {
     "data": {
      "text/plain": [
       "array(['ms', 'ss'], dtype='<U2')"
      ]
     },
     "execution_count": 8,
     "metadata": {},
     "output_type": "execute_result"
    }
   ],
   "source": [
    "from sklearn.model_selection import train_test_split\n",
    "\n",
    "scaler = StandardScaler()\n",
    "scaler.fit(X)\n",
    "\n",
    "X_train, X_test, y_train, y_test = train_test_split(X, y)\n",
    "\n",
    "X_train_scaled = scaler.transform(X_train)\n",
    "X_test_scaled = scaler.transform(X_test)\n",
    "\n",
    "clf.fit(X_train_scaled, y_train)\n",
    "clf.predict(X_test_scaled)"
   ]
  },
  {
   "cell_type": "markdown",
   "metadata": {},
   "source": [
    "There are at least three major problems with this block of code:\n",
    "\n",
    "- The split is totally random and not stratified to preserve the class imbalance in y.\n",
    "- The scaler was fit to the entire dataset, leaking test data into the model.\n",
    "- The data are correlated in a hidden feature (depth) and cannot be split randomly.\n",
    "\n",
    "There are plenty of other problems too: it's not reproducible, there's not enough data, etc, etc.\n",
    "\n",
    "These kinds of errors are everywhere in machine learning, and `redflag` wants to help change that.\n",
    "\n",
    "## A quick look at `redflag`\n",
    "\n",
    "First make sure you have `redflag` v0.1.10 at least, otherwise do `python -m pip install -U redflag` in your environment."
   ]
  },
  {
   "cell_type": "code",
   "execution_count": 9,
   "metadata": {},
   "outputs": [
    {
     "data": {
      "text/plain": [
       "'0.4.2rc2.dev14+g54704af.d20240421'"
      ]
     },
     "execution_count": 9,
     "metadata": {},
     "output_type": "execute_result"
    }
   ],
   "source": [
    "import redflag as rf\n",
    "\n",
    "rf.__version__"
   ]
  },
  {
   "cell_type": "markdown",
   "metadata": {},
   "source": [
    "## Load some data"
   ]
  },
  {
   "cell_type": "code",
   "execution_count": 10,
   "metadata": {},
   "outputs": [
    {
     "data": {
      "text/html": [
       "<div>\n",
       "<style scoped>\n",
       "    .dataframe tbody tr th:only-of-type {\n",
       "        vertical-align: middle;\n",
       "    }\n",
       "\n",
       "    .dataframe tbody tr th {\n",
       "        vertical-align: top;\n",
       "    }\n",
       "\n",
       "    .dataframe thead th {\n",
       "        text-align: right;\n",
       "    }\n",
       "</style>\n",
       "<table border=\"1\" class=\"dataframe\">\n",
       "  <thead>\n",
       "    <tr style=\"text-align: right;\">\n",
       "      <th></th>\n",
       "      <th>Well Name</th>\n",
       "      <th>Depth</th>\n",
       "      <th>Formation</th>\n",
       "      <th>RelPos</th>\n",
       "      <th>Marine</th>\n",
       "      <th>GR</th>\n",
       "      <th>ILD</th>\n",
       "      <th>DeltaPHI</th>\n",
       "      <th>PHIND</th>\n",
       "      <th>PE</th>\n",
       "      <th>Facies</th>\n",
       "      <th>LATITUDE</th>\n",
       "      <th>LONGITUDE</th>\n",
       "      <th>ILD_log10</th>\n",
       "      <th>Lithology</th>\n",
       "      <th>RHOB</th>\n",
       "      <th>Mineralogy</th>\n",
       "      <th>Siliciclastic</th>\n",
       "    </tr>\n",
       "  </thead>\n",
       "  <tbody>\n",
       "    <tr>\n",
       "      <th>0</th>\n",
       "      <td>SHRIMPLIN</td>\n",
       "      <td>851.3064</td>\n",
       "      <td>A1 SH</td>\n",
       "      <td>1.000</td>\n",
       "      <td>1</td>\n",
       "      <td>77.45</td>\n",
       "      <td>4.613176</td>\n",
       "      <td>9.9</td>\n",
       "      <td>11.915</td>\n",
       "      <td>4.6</td>\n",
       "      <td>3.0</td>\n",
       "      <td>37.978076</td>\n",
       "      <td>-100.987305</td>\n",
       "      <td>0.664</td>\n",
       "      <td>siltstone</td>\n",
       "      <td>2393.499945</td>\n",
       "      <td>siliciclastic</td>\n",
       "      <td>True</td>\n",
       "    </tr>\n",
       "    <tr>\n",
       "      <th>1</th>\n",
       "      <td>SHRIMPLIN</td>\n",
       "      <td>851.4588</td>\n",
       "      <td>A1 SH</td>\n",
       "      <td>0.979</td>\n",
       "      <td>1</td>\n",
       "      <td>78.26</td>\n",
       "      <td>4.581419</td>\n",
       "      <td>14.2</td>\n",
       "      <td>12.565</td>\n",
       "      <td>4.1</td>\n",
       "      <td>3.0</td>\n",
       "      <td>37.978076</td>\n",
       "      <td>-100.987305</td>\n",
       "      <td>0.661</td>\n",
       "      <td>siltstone</td>\n",
       "      <td>2416.119814</td>\n",
       "      <td>siliciclastic</td>\n",
       "      <td>True</td>\n",
       "    </tr>\n",
       "    <tr>\n",
       "      <th>2</th>\n",
       "      <td>SHRIMPLIN</td>\n",
       "      <td>851.6112</td>\n",
       "      <td>A1 SH</td>\n",
       "      <td>0.957</td>\n",
       "      <td>1</td>\n",
       "      <td>79.05</td>\n",
       "      <td>4.549881</td>\n",
       "      <td>14.8</td>\n",
       "      <td>13.050</td>\n",
       "      <td>3.6</td>\n",
       "      <td>3.0</td>\n",
       "      <td>37.978076</td>\n",
       "      <td>-100.987305</td>\n",
       "      <td>0.658</td>\n",
       "      <td>siltstone</td>\n",
       "      <td>2404.576056</td>\n",
       "      <td>siliciclastic</td>\n",
       "      <td>True</td>\n",
       "    </tr>\n",
       "    <tr>\n",
       "      <th>3</th>\n",
       "      <td>SHRIMPLIN</td>\n",
       "      <td>851.7636</td>\n",
       "      <td>A1 SH</td>\n",
       "      <td>0.936</td>\n",
       "      <td>1</td>\n",
       "      <td>86.10</td>\n",
       "      <td>4.518559</td>\n",
       "      <td>13.9</td>\n",
       "      <td>13.115</td>\n",
       "      <td>3.5</td>\n",
       "      <td>3.0</td>\n",
       "      <td>37.978076</td>\n",
       "      <td>-100.987305</td>\n",
       "      <td>0.655</td>\n",
       "      <td>siltstone</td>\n",
       "      <td>2393.249071</td>\n",
       "      <td>siliciclastic</td>\n",
       "      <td>True</td>\n",
       "    </tr>\n",
       "    <tr>\n",
       "      <th>4</th>\n",
       "      <td>SHRIMPLIN</td>\n",
       "      <td>851.9160</td>\n",
       "      <td>A1 SH</td>\n",
       "      <td>0.915</td>\n",
       "      <td>1</td>\n",
       "      <td>74.58</td>\n",
       "      <td>4.436086</td>\n",
       "      <td>13.5</td>\n",
       "      <td>13.300</td>\n",
       "      <td>3.4</td>\n",
       "      <td>3.0</td>\n",
       "      <td>37.978076</td>\n",
       "      <td>-100.987305</td>\n",
       "      <td>0.647</td>\n",
       "      <td>siltstone</td>\n",
       "      <td>2382.602601</td>\n",
       "      <td>siliciclastic</td>\n",
       "      <td>True</td>\n",
       "    </tr>\n",
       "  </tbody>\n",
       "</table>\n",
       "</div>"
      ],
      "text/plain": [
       "   Well Name     Depth Formation  RelPos  Marine     GR       ILD  DeltaPHI  \\\n",
       "0  SHRIMPLIN  851.3064     A1 SH   1.000       1  77.45  4.613176       9.9   \n",
       "1  SHRIMPLIN  851.4588     A1 SH   0.979       1  78.26  4.581419      14.2   \n",
       "2  SHRIMPLIN  851.6112     A1 SH   0.957       1  79.05  4.549881      14.8   \n",
       "3  SHRIMPLIN  851.7636     A1 SH   0.936       1  86.10  4.518559      13.9   \n",
       "4  SHRIMPLIN  851.9160     A1 SH   0.915       1  74.58  4.436086      13.5   \n",
       "\n",
       "    PHIND   PE  Facies   LATITUDE   LONGITUDE  ILD_log10  Lithology  \\\n",
       "0  11.915  4.6     3.0  37.978076 -100.987305      0.664  siltstone   \n",
       "1  12.565  4.1     3.0  37.978076 -100.987305      0.661  siltstone   \n",
       "2  13.050  3.6     3.0  37.978076 -100.987305      0.658  siltstone   \n",
       "3  13.115  3.5     3.0  37.978076 -100.987305      0.655  siltstone   \n",
       "4  13.300  3.4     3.0  37.978076 -100.987305      0.647  siltstone   \n",
       "\n",
       "          RHOB     Mineralogy  Siliciclastic  \n",
       "0  2393.499945  siliciclastic           True  \n",
       "1  2416.119814  siliciclastic           True  \n",
       "2  2404.576056  siliciclastic           True  \n",
       "3  2393.249071  siliciclastic           True  \n",
       "4  2382.602601  siliciclastic           True  "
      ]
     },
     "execution_count": 10,
     "metadata": {},
     "output_type": "execute_result"
    }
   ],
   "source": [
    "import pandas as pd\n",
    "\n",
    "df = pd.read_csv('https://raw.githubusercontent.com/scienxlab/datasets/main/kgs/panoma-training-data.csv')\n",
    "\n",
    "df.head()"
   ]
  },
  {
   "cell_type": "markdown",
   "metadata": {},
   "source": [
    "For later use, I'm going to add a spurious column to the data:"
   ]
  },
  {
   "cell_type": "code",
   "execution_count": 11,
   "metadata": {},
   "outputs": [],
   "source": [
    "import numpy as np\n",
    "\n",
    "rng = np.random.default_rng(42)\n",
    "\n",
    "df['Noise'] = rng.normal(size=len(df))"
   ]
  },
  {
   "cell_type": "markdown",
   "metadata": {},
   "source": [
    "## Imbalance metrics\n",
    "\n",
    "`redflag` has some algorithms for various tasks, such as:\n",
    "\n",
    "- Imbalance metrics\n",
    "- Flagging data problems\n",
    "- Outlier detection\n",
    "- Distribution shape\n",
    "- Feature importance\n",
    "\n",
    "Let's look at imbalance first."
   ]
  },
  {
   "cell_type": "code",
   "execution_count": 12,
   "metadata": {},
   "outputs": [
    {
     "data": {
      "text/plain": [
       "3.378593040846633"
      ]
     },
     "execution_count": 12,
     "metadata": {},
     "output_type": "execute_result"
    }
   ],
   "source": [
    "rf.imbalance_degree(df['Lithology'])"
   ]
  },
  {
   "cell_type": "markdown",
   "metadata": {},
   "source": [
    "To interpret this number, split it into two parts:\n",
    "\n",
    "- The integer part, 3, is equal to $m - 1$, where $m$ is the number of minority classes.\n",
    "- The fractional part, 0.378..., is a measure of the amount of imbalance, where 0 means the dataset is balanced perfectly and 0.999... is really bad.\n",
    "\n",
    "If the imbalance degree is -1 then there are no minority classes and all the classes have equal support.\n",
    "\n",
    "In general, this statistic is more informative than the commonly used 'imbalance ratio' (`rf.imbalance_ratio()`), which is the ratio of support in the maximum majority class to that in the minimum minority class, with no regard for the support of the other classes."
   ]
  },
  {
   "cell_type": "markdown",
   "metadata": {},
   "source": [
    "We can get the minority classes, which are those with fewer samples than expected. These are returned in order, smallest first:"
   ]
  },
  {
   "cell_type": "code",
   "execution_count": 13,
   "metadata": {},
   "outputs": [
    {
     "data": {
      "text/plain": [
       "array(['dolomite', 'sandstone', 'mudstone', 'wackestone'], dtype='<U10')"
      ]
     },
     "execution_count": 13,
     "metadata": {},
     "output_type": "execute_result"
    }
   ],
   "source": [
    "rf.minority_classes(df['Lithology'])"
   ]
  },
  {
   "cell_type": "markdown",
   "metadata": {},
   "source": [
    "## Clipping\n",
    "\n",
    "If a feature has been clipped, it will have multiple instances at its min and/or max value. There are legitimate reasons why this might happen, for example the feature may be naturally bounded (e.g. porosity is always greater than 0), or the feature may have been deliberately clipped as part of the data preparation process."
   ]
  },
  {
   "cell_type": "code",
   "execution_count": 14,
   "metadata": {},
   "outputs": [
    {
     "data": {
      "text/plain": [
       "True"
      ]
     },
     "execution_count": 14,
     "metadata": {},
     "output_type": "execute_result"
    }
   ],
   "source": [
    "rf.is_clipped(df['GR'])"
   ]
  },
  {
   "cell_type": "code",
   "execution_count": 18,
   "metadata": {},
   "outputs": [
    {
     "data": {
      "text/plain": [
       "<seaborn.axisgrid.FacetGrid at 0x12d8028d0>"
      ]
     },
     "execution_count": 18,
     "metadata": {},
     "output_type": "execute_result"
    },
    {
     "data": {
      "image/png": "[encoded data removed]",
      "text/plain": [
       "<Figure size 500x500 with 1 Axes>"
      ]
     },
     "metadata": {},
     "output_type": "display_data"
    }
   ],
   "source": [
    "import seaborn as sns\n",
    "\n",
    "sns.displot(df['GR'], lw=0, kde=True)"
   ]
  },
  {
   "cell_type": "markdown",
   "metadata": {},
   "source": [
    "## Independence assumption\n",
    "\n",
    "If a feature is correlated to lagged (shifted) versions of itself (i.e. 'autocorrelated'), then the dataset may be ordered by that feature, or the records may not be independent. For example, samples collected along a borehole are ordered by depth, and since the earth is organized, not random, this means that neighbouring samples will be correlated. Similarly, samples collected through time (the weather every hour) are often autocorrelated — you can predict the weather in an hour quite accurately by predicting it to be the same as the weather now.\n",
    "\n",
    "If several features are correlated to themselves, then the data instances may not be independent, breaking the IID assumption.\n",
    "\n",
    "Let's see if our gamma-ray data are autocorrelated:"
   ]
  },
  {
   "cell_type": "code",
   "execution_count": 19,
   "metadata": {},
   "outputs": [
    {
     "data": {
      "text/plain": [
       "True"
      ]
     },
     "execution_count": 19,
     "metadata": {},
     "output_type": "execute_result"
    }
   ],
   "source": [
    "rf.is_correlated(df['GR'])"
   ]
  },
  {
   "cell_type": "markdown",
   "metadata": {},
   "source": [
    "The property of being detectably autocorrelated is order-dependent. That is, shuffling the data apparently removes the correlation because the samples are now in random order, so any sample-to-sample correspondence appears to be gone:"
   ]
  },
  {
   "cell_type": "code",
   "execution_count": 20,
   "metadata": {},
   "outputs": [
    {
     "data": {
      "text/plain": [
       "False"
      ]
     },
     "execution_count": 20,
     "metadata": {},
     "output_type": "execute_result"
    }
   ],
   "source": [
    "import numpy as np\n",
    "\n",
    "gr = df['GR'].to_numpy(copy=True)\n",
    "np.random.shuffle(gr)\n",
    "rf.is_correlated(gr)"
   ]
  },
  {
   "cell_type": "markdown",
   "metadata": {},
   "source": [
    "But this does not mean the records are independent &mdash; only that you cannot tell that the records are autocorrelated.\n",
    "\n",
    "A common way to deal with autocorrelation is to split the data differently. For example, if you have 1000 samples from 100 locations (or patients), with about 10 samples from each location (or patient), then it may be better (i.e. fairer) to split _locations_ (or patients) into train and test sets, not _samples_. If you simply split samples, you will have records from inviduals locations (or patients) in both train and test, which is a common source of leakage."
   ]
  },
  {
   "cell_type": "markdown",
   "metadata": {},
   "source": [
    "## Importance\n",
    "\n",
    "We might like to see which of our features are more useful. There's a function for that:"
   ]
  },
  {
   "cell_type": "code",
   "execution_count": 21,
   "metadata": {},
   "outputs": [
    {
     "data": {
      "text/plain": [
       "array([0.40331202, 0.21106044, 0.31756576, 0.06806178])"
      ]
     },
     "execution_count": 21,
     "metadata": {},
     "output_type": "execute_result"
    }
   ],
   "source": [
    "features = ['GR', 'RHOB', 'PE', 'Noise']\n",
    "\n",
    "rf.feature_importances(df[features], df['Lithology'])"
   ]
  },
  {
   "cell_type": "markdown",
   "metadata": {},
   "source": [
    "As we'd hope, the `'Noise'` attribute is shown to be not very useful.\n",
    "\n",
    "The relative importance of your features (dataset columns) for making accurate predictions is not a perfectly well-defined thing. Accordingly, there are several ways to measure feature importance. The `feature_importances` function aggregates three different measures of feature importance. The underlying models it uses depend on the type of task.\n",
    "\n",
    "**Classification tasks** use the following:\n",
    "\n",
    "- A logistic regression model (using the absolute values of the coefficients).\n",
    "- A random forest classifier (based on [mean reduction in impurity](https://scikit-learn.org/stable/auto_examples/ensemble/plot_forest_importances.html) or Gini importance).\n",
    "- A K-nearest neighbours classifier (based on [permutation feature importance](https://scikit-learn.org/stable/modules/permutation_importance.html) with F1 score objective).\n",
    "\n",
    "**Regression tasks** are assessed with the following:\n",
    "\n",
    "- A linear regression (using the absolute coefficients).\n",
    "- A random forest regressor, again using Gini importance.\n",
    "- A K-nearest neighbours, again with permutation importance but with mean squared error objective.\n",
    "\n",
    "The aggregation function sums the normalized scores of the tests, and normalizes the result so that it sums to one."
   ]
  },
  {
   "cell_type": "markdown",
   "metadata": {},
   "source": [
    "## Distributions\n",
    "\n",
    "A common problem in the search for models is a mismatch between the distribution of the training and validation datasets. This might happen for several reasons, for example because of how the dataset is organized, how it was split, or because of how it was handled after splitting. \n",
    "\n",
    "One simple error that can go unnoticed is fitting the model to scaled data, then forgetting to scale new data before prediction. Let's see how `redflag` checks for this, with the `wasserstein` function."
   ]
  },
  {
   "cell_type": "code",
   "execution_count": 22,
   "metadata": {},
   "outputs": [
    {
     "data": {
      "text/plain": [
       "array([[0.25985545, 0.28404634, 0.49139232, 0.33701782],\n",
       "       [0.22736457, 0.13473663, 0.33672956, 0.20969657],\n",
       "       [0.41216725, 0.34568777, 0.39729747, 0.48092099],\n",
       "       [0.0801856 , 0.10675027, 0.13740318, 0.10325295],\n",
       "       [0.19913347, 0.21828753, 0.26995735, 0.33063277],\n",
       "       [0.24612402, 0.23889923, 0.26699721, 0.2350674 ],\n",
       "       [0.20666445, 0.44112543, 0.16229232, 0.63527036],\n",
       "       [0.18187639, 0.34992043, 0.19400917, 0.74988182],\n",
       "       [0.31761526, 0.27206283, 0.30255291, 0.24779581]])"
      ]
     },
     "execution_count": 22,
     "metadata": {},
     "output_type": "execute_result"
    }
   ],
   "source": [
    "wells = df['Well Name']\n",
    "features = ['GR', 'RHOB', 'ILD_log10', 'PE']\n",
    "\n",
    "w = rf.wasserstein(df[features], groups=wells, standardize=True)\n",
    "w"
   ]
  },
  {
   "cell_type": "markdown",
   "metadata": {},
   "source": [
    "## Pipelines"
   ]
  },
  {
   "cell_type": "markdown",
   "metadata": {},
   "source": [
    "To make things as easy as possible, it would be nice to have some smoke alarms in the pipeline. Redflag has some prebuilt smoke alarms, and you can also make your own.\n",
    "\n",
    "Redflag's smoke alarms won't be able to catch everything, however. For example if the data are shuffled and/or randomly sampled in a split, it might be very hard to spot self-correlation. I'm not sure how to alert the user to that kind of error, other than by potentially providing a wrapped version of `train_test_split()`.\n",
    "\n",
    "Anyway, let's split our data in a sensible way: by well."
   ]
  },
  {
   "cell_type": "code",
   "execution_count": 23,
   "metadata": {},
   "outputs": [],
   "source": [
    "features = ['GR', 'RHOB', 'PE', 'Noise']\n",
    "test_wells = ['CRAWFORD', 'STUART']\n",
    "\n",
    "test_flag = df['Well Name'].isin(test_wells)\n",
    "\n",
    "X_test = df.loc[test_flag, features]\n",
    "y_test = df.loc[test_flag, 'Lithology']\n",
    "X_train = df.loc[~test_flag, features]\n",
    "y_train = df.loc[~test_flag, 'Lithology']"
   ]
  },
  {
   "cell_type": "code",
   "execution_count": 24,
   "metadata": {},
   "outputs": [
    {
     "data": {
      "text/html": [
       "<style>#sk-container-id-1 {color: black;}#sk-container-id-1 pre{padding: 0;}#sk-container-id-1 div.sk-toggleable {background-color: white;}#sk-container-id-1 label.sk-toggleable__label {cursor: pointer;display: block;width: 100%;margin-bottom: 0;padding: 0.3em;box-sizing: border-box;text-align: center;}#sk-container-id-1 label.sk-toggleable__label-arrow:before {content: \"▸\";float: left;margin-right: 0.25em;color: #696969;}#sk-container-id-1 label.sk-toggleable__label-arrow:hover:before {color: black;}#sk-container-id-1 div.sk-estimator:hover label.sk-toggleable__label-arrow:before {color: black;}#sk-container-id-1 div.sk-toggleable__content {max-height: 0;max-width: 0;overflow: hidden;text-align: left;background-color: #f0f8ff;}#sk-container-id-1 div.sk-toggleable__content pre {margin: 0.2em;color: black;border-radius: 0.25em;background-color: #f0f8ff;}#sk-container-id-1 input.sk-toggleable__control:checked~div.sk-toggleable__content {max-height: 200px;max-width: 100%;overflow: auto;}#sk-container-id-1 input.sk-toggleable__control:checked~label.sk-toggleable__label-arrow:before {content: \"▾\";}#sk-container-id-1 div.sk-estimator input.sk-toggleable__control:checked~label.sk-toggleable__label {background-color: #d4ebff;}#sk-container-id-1 div.sk-label input.sk-toggleable__control:checked~label.sk-toggleable__label {background-color: #d4ebff;}#sk-container-id-1 input.sk-hidden--visually {border: 0;clip: rect(1px 1px 1px 1px);clip: rect(1px, 1px, 1px, 1px);height: 1px;margin: -1px;overflow: hidden;padding: 0;position: absolute;width: 1px;}#sk-container-id-1 div.sk-estimator {font-family: monospace;background-color: #f0f8ff;border: 1px dotted black;border-radius: 0.25em;box-sizing: border-box;margin-bottom: 0.5em;}#sk-container-id-1 div.sk-estimator:hover {background-color: #d4ebff;}#sk-container-id-1 div.sk-parallel-item::after {content: \"\";width: 100%;border-bottom: 1px solid gray;flex-grow: 1;}#sk-container-id-1 div.sk-label:hover label.sk-toggleable__label {background-color: #d4ebff;}#sk-container-id-1 div.sk-serial::before {content: \"\";position: absolute;border-left: 1px solid gray;box-sizing: border-box;top: 0;bottom: 0;left: 50%;z-index: 0;}#sk-container-id-1 div.sk-serial {display: flex;flex-direction: column;align-items: center;background-color: white;padding-right: 0.2em;padding-left: 0.2em;position: relative;}#sk-container-id-1 div.sk-item {position: relative;z-index: 1;}#sk-container-id-1 div.sk-parallel {display: flex;align-items: stretch;justify-content: center;background-color: white;position: relative;}#sk-container-id-1 div.sk-item::before, #sk-container-id-1 div.sk-parallel-item::before {content: \"\";position: absolute;border-left: 1px solid gray;box-sizing: border-box;top: 0;bottom: 0;left: 50%;z-index: -1;}#sk-container-id-1 div.sk-parallel-item {display: flex;flex-direction: column;z-index: 1;position: relative;background-color: white;}#sk-container-id-1 div.sk-parallel-item:first-child::after {align-self: flex-end;width: 50%;}#sk-container-id-1 div.sk-parallel-item:last-child::after {align-self: flex-start;width: 50%;}#sk-container-id-1 div.sk-parallel-item:only-child::after {width: 0;}#sk-container-id-1 div.sk-dashed-wrapped {border: 1px dashed gray;margin: 0 0.4em 0.5em 0.4em;box-sizing: border-box;padding-bottom: 0.4em;background-color: white;}#sk-container-id-1 div.sk-label label {font-family: monospace;font-weight: bold;display: inline-block;line-height: 1.2em;}#sk-container-id-1 div.sk-label-container {text-align: center;}#sk-container-id-1 div.sk-container {/* jupyter's `normalize.less` sets `[hidden] { display: none; }` but bootstrap.min.css set `[hidden] { display: none !important; }` so we also need the `!important` here to be able to override the default hidden behavior on the sphinx rendered scikit-learn.org. See: https://github.com/scikit-learn/scikit-learn/issues/21755 */display: inline-block !important;position: relative;}#sk-container-id-1 div.sk-text-repr-fallback {display: none;}</style><div id=\"sk-container-id-1\" class=\"sk-top-container\"><div class=\"sk-text-repr-fallback\"><pre>Pipeline(steps=[(&#x27;rf.imbalance&#x27;, ImbalanceDetector()),\n",
       "                (&#x27;rf.clip&#x27;, ClipDetector()),\n",
       "                (&#x27;rf.correlation&#x27;, CorrelationDetector()),\n",
       "                (&#x27;rf.multimodality&#x27;, MultimodalityDetector()),\n",
       "                (&#x27;rf.outlier&#x27;, OutlierDetector()),\n",
       "                (&#x27;rf.distributions&#x27;, DistributionComparator()),\n",
       "                (&#x27;rf.importance&#x27;, ImportanceDetector()),\n",
       "                (&#x27;rf.dummy&#x27;, DummyPredictor())])</pre><b>In a Jupyter environment, please rerun this cell to show the HTML representation or trust the notebook. <br />On GitHub, the HTML representation is unable to render, please try loading this page with nbviewer.org.</b></div><div class=\"sk-container\" hidden><div class=\"sk-item sk-dashed-wrapped\"><div class=\"sk-label-container\"><div class=\"sk-label sk-toggleable\"><input class=\"sk-toggleable__control sk-hidden--visually\" id=\"sk-estimator-id-1\" type=\"checkbox\" ><label for=\"sk-estimator-id-1\" class=\"sk-toggleable__label sk-toggleable__label-arrow\">Pipeline</label><div class=\"sk-toggleable__content\"><pre>Pipeline(steps=[(&#x27;rf.imbalance&#x27;, ImbalanceDetector()),\n",
       "                (&#x27;rf.clip&#x27;, ClipDetector()),\n",
       "                (&#x27;rf.correlation&#x27;, CorrelationDetector()),\n",
       "                (&#x27;rf.multimodality&#x27;, MultimodalityDetector()),\n",
       "                (&#x27;rf.outlier&#x27;, OutlierDetector()),\n",
       "                (&#x27;rf.distributions&#x27;, DistributionComparator()),\n",
       "                (&#x27;rf.importance&#x27;, ImportanceDetector()),\n",
       "                (&#x27;rf.dummy&#x27;, DummyPredictor())])</pre></div></div></div><div class=\"sk-serial\"><div class=\"sk-item\"><div class=\"sk-estimator sk-toggleable\"><input class=\"sk-toggleable__control sk-hidden--visually\" id=\"sk-estimator-id-2\" type=\"checkbox\" ><label for=\"sk-estimator-id-2\" class=\"sk-toggleable__label sk-toggleable__label-arrow\">ImbalanceDetector</label><div class=\"sk-toggleable__content\"><pre>ImbalanceDetector()</pre></div></div></div><div class=\"sk-item\"><div class=\"sk-estimator sk-toggleable\"><input class=\"sk-toggleable__control sk-hidden--visually\" id=\"sk-estimator-id-3\" type=\"checkbox\" ><label for=\"sk-estimator-id-3\" class=\"sk-toggleable__label sk-toggleable__label-arrow\">ClipDetector</label><div class=\"sk-toggleable__content\"><pre>ClipDetector()</pre></div></div></div><div class=\"sk-item\"><div class=\"sk-estimator sk-toggleable\"><input class=\"sk-toggleable__control sk-hidden--visually\" id=\"sk-estimator-id-4\" type=\"checkbox\" ><label for=\"sk-estimator-id-4\" class=\"sk-toggleable__label sk-toggleable__label-arrow\">CorrelationDetector</label><div class=\"sk-toggleable__content\"><pre>CorrelationDetector()</pre></div></div></div><div class=\"sk-item\"><div class=\"sk-estimator sk-toggleable\"><input class=\"sk-toggleable__control sk-hidden--visually\" id=\"sk-estimator-id-5\" type=\"checkbox\" ><label for=\"sk-estimator-id-5\" class=\"sk-toggleable__label sk-toggleable__label-arrow\">MultimodalityDetector</label><div class=\"sk-toggleable__content\"><pre>MultimodalityDetector()</pre></div></div></div><div class=\"sk-item\"><div class=\"sk-estimator sk-toggleable\"><input class=\"sk-toggleable__control sk-hidden--visually\" id=\"sk-estimator-id-6\" type=\"checkbox\" ><label for=\"sk-estimator-id-6\" class=\"sk-toggleable__label sk-toggleable__label-arrow\">OutlierDetector</label><div class=\"sk-toggleable__content\"><pre>OutlierDetector()</pre></div></div></div><div class=\"sk-item\"><div class=\"sk-estimator sk-toggleable\"><input class=\"sk-toggleable__control sk-hidden--visually\" id=\"sk-estimator-id-7\" type=\"checkbox\" ><label for=\"sk-estimator-id-7\" class=\"sk-toggleable__label sk-toggleable__label-arrow\">DistributionComparator</label><div class=\"sk-toggleable__content\"><pre>DistributionComparator()</pre></div></div></div><div class=\"sk-item\"><div class=\"sk-estimator sk-toggleable\"><input class=\"sk-toggleable__control sk-hidden--visually\" id=\"sk-estimator-id-8\" type=\"checkbox\" ><label for=\"sk-estimator-id-8\" class=\"sk-toggleable__label sk-toggleable__label-arrow\">ImportanceDetector</label><div class=\"sk-toggleable__content\"><pre>ImportanceDetector()</pre></div></div></div><div class=\"sk-item\"><div class=\"sk-estimator sk-toggleable\"><input class=\"sk-toggleable__control sk-hidden--visually\" id=\"sk-estimator-id-9\" type=\"checkbox\" ><label for=\"sk-estimator-id-9\" class=\"sk-toggleable__label sk-toggleable__label-arrow\">DummyPredictor</label><div class=\"sk-toggleable__content\"><pre>DummyPredictor()</pre></div></div></div></div></div></div></div>"
      ],
      "text/plain": [
       "Pipeline(steps=[('rf.imbalance', ImbalanceDetector()),\n",
       "                ('rf.clip', ClipDetector()),\n",
       "                ('rf.correlation', CorrelationDetector()),\n",
       "                ('rf.multimodality', MultimodalityDetector()),\n",
       "                ('rf.outlier', OutlierDetector()),\n",
       "                ('rf.distributions', DistributionComparator()),\n",
       "                ('rf.importance', ImportanceDetector()),\n",
       "                ('rf.dummy', DummyPredictor())])"
      ]
     },
     "execution_count": 24,
     "metadata": {},
     "output_type": "execute_result"
    }
   ],
   "source": [
    "rf.pipeline"
   ]
  },
  {
   "cell_type": "markdown",
   "metadata": {},
   "source": [
    "We can include this in other pipelines:"
   ]
  },
  {
   "cell_type": "code",
   "execution_count": 25,
   "metadata": {},
   "outputs": [
    {
     "data": {
      "text/html": [
       "<style>#sk-container-id-2 {color: black;}#sk-container-id-2 pre{padding: 0;}#sk-container-id-2 div.sk-toggleable {background-color: white;}#sk-container-id-2 label.sk-toggleable__label {cursor: pointer;display: block;width: 100%;margin-bottom: 0;padding: 0.3em;box-sizing: border-box;text-align: center;}#sk-container-id-2 label.sk-toggleable__label-arrow:before {content: \"▸\";float: left;margin-right: 0.25em;color: #696969;}#sk-container-id-2 label.sk-toggleable__label-arrow:hover:before {color: black;}#sk-container-id-2 div.sk-estimator:hover label.sk-toggleable__label-arrow:before {color: black;}#sk-container-id-2 div.sk-toggleable__content {max-height: 0;max-width: 0;overflow: hidden;text-align: left;background-color: #f0f8ff;}#sk-container-id-2 div.sk-toggleable__content pre {margin: 0.2em;color: black;border-radius: 0.25em;background-color: #f0f8ff;}#sk-container-id-2 input.sk-toggleable__control:checked~div.sk-toggleable__content {max-height: 200px;max-width: 100%;overflow: auto;}#sk-container-id-2 input.sk-toggleable__control:checked~label.sk-toggleable__label-arrow:before {content: \"▾\";}#sk-container-id-2 div.sk-estimator input.sk-toggleable__control:checked~label.sk-toggleable__label {background-color: #d4ebff;}#sk-container-id-2 div.sk-label input.sk-toggleable__control:checked~label.sk-toggleable__label {background-color: #d4ebff;}#sk-container-id-2 input.sk-hidden--visually {border: 0;clip: rect(1px 1px 1px 1px);clip: rect(1px, 1px, 1px, 1px);height: 1px;margin: -1px;overflow: hidden;padding: 0;position: absolute;width: 1px;}#sk-container-id-2 div.sk-estimator {font-family: monospace;background-color: #f0f8ff;border: 1px dotted black;border-radius: 0.25em;box-sizing: border-box;margin-bottom: 0.5em;}#sk-container-id-2 div.sk-estimator:hover {background-color: #d4ebff;}#sk-container-id-2 div.sk-parallel-item::after {content: \"\";width: 100%;border-bottom: 1px solid gray;flex-grow: 1;}#sk-container-id-2 div.sk-label:hover label.sk-toggleable__label {background-color: #d4ebff;}#sk-container-id-2 div.sk-serial::before {content: \"\";position: absolute;border-left: 1px solid gray;box-sizing: border-box;top: 0;bottom: 0;left: 50%;z-index: 0;}#sk-container-id-2 div.sk-serial {display: flex;flex-direction: column;align-items: center;background-color: white;padding-right: 0.2em;padding-left: 0.2em;position: relative;}#sk-container-id-2 div.sk-item {position: relative;z-index: 1;}#sk-container-id-2 div.sk-parallel {display: flex;align-items: stretch;justify-content: center;background-color: white;position: relative;}#sk-container-id-2 div.sk-item::before, #sk-container-id-2 div.sk-parallel-item::before {content: \"\";position: absolute;border-left: 1px solid gray;box-sizing: border-box;top: 0;bottom: 0;left: 50%;z-index: -1;}#sk-container-id-2 div.sk-parallel-item {display: flex;flex-direction: column;z-index: 1;position: relative;background-color: white;}#sk-container-id-2 div.sk-parallel-item:first-child::after {align-self: flex-end;width: 50%;}#sk-container-id-2 div.sk-parallel-item:last-child::after {align-self: flex-start;width: 50%;}#sk-container-id-2 div.sk-parallel-item:only-child::after {width: 0;}#sk-container-id-2 div.sk-dashed-wrapped {border: 1px dashed gray;margin: 0 0.4em 0.5em 0.4em;box-sizing: border-box;padding-bottom: 0.4em;background-color: white;}#sk-container-id-2 div.sk-label label {font-family: monospace;font-weight: bold;display: inline-block;line-height: 1.2em;}#sk-container-id-2 div.sk-label-container {text-align: center;}#sk-container-id-2 div.sk-container {/* jupyter's `normalize.less` sets `[hidden] { display: none; }` but bootstrap.min.css set `[hidden] { display: none !important; }` so we also need the `!important` here to be able to override the default hidden behavior on the sphinx rendered scikit-learn.org. See: https://github.com/scikit-learn/scikit-learn/issues/21755 */display: inline-block !important;position: relative;}#sk-container-id-2 div.sk-text-repr-fallback {display: none;}</style><div id=\"sk-container-id-2\" class=\"sk-top-container\"><div class=\"sk-text-repr-fallback\"><pre>Pipeline(steps=[(&#x27;standardscaler&#x27;, StandardScaler()),\n",
       "                (&#x27;pipeline&#x27;,\n",
       "                 Pipeline(steps=[(&#x27;rf.imbalance&#x27;, ImbalanceDetector()),\n",
       "                                 (&#x27;rf.clip&#x27;, ClipDetector()),\n",
       "                                 (&#x27;rf.correlation&#x27;, CorrelationDetector()),\n",
       "                                 (&#x27;rf.multimodality&#x27;, MultimodalityDetector()),\n",
       "                                 (&#x27;rf.outlier&#x27;, OutlierDetector()),\n",
       "                                 (&#x27;rf.distributions&#x27;, DistributionComparator()),\n",
       "                                 (&#x27;rf.importance&#x27;, ImportanceDetector()),\n",
       "                                 (&#x27;rf.dummy&#x27;, DummyPredictor())])),\n",
       "                (&#x27;svc&#x27;, SVC())])</pre><b>In a Jupyter environment, please rerun this cell to show the HTML representation or trust the notebook. <br />On GitHub, the HTML representation is unable to render, please try loading this page with nbviewer.org.</b></div><div class=\"sk-container\" hidden><div class=\"sk-item sk-dashed-wrapped\"><div class=\"sk-label-container\"><div class=\"sk-label sk-toggleable\"><input class=\"sk-toggleable__control sk-hidden--visually\" id=\"sk-estimator-id-10\" type=\"checkbox\" ><label for=\"sk-estimator-id-10\" class=\"sk-toggleable__label sk-toggleable__label-arrow\">Pipeline</label><div class=\"sk-toggleable__content\"><pre>Pipeline(steps=[(&#x27;standardscaler&#x27;, StandardScaler()),\n",
       "                (&#x27;pipeline&#x27;,\n",
       "                 Pipeline(steps=[(&#x27;rf.imbalance&#x27;, ImbalanceDetector()),\n",
       "                                 (&#x27;rf.clip&#x27;, ClipDetector()),\n",
       "                                 (&#x27;rf.correlation&#x27;, CorrelationDetector()),\n",
       "                                 (&#x27;rf.multimodality&#x27;, MultimodalityDetector()),\n",
       "                                 (&#x27;rf.outlier&#x27;, OutlierDetector()),\n",
       "                                 (&#x27;rf.distributions&#x27;, DistributionComparator()),\n",
       "                                 (&#x27;rf.importance&#x27;, ImportanceDetector()),\n",
       "                                 (&#x27;rf.dummy&#x27;, DummyPredictor())])),\n",
       "                (&#x27;svc&#x27;, SVC())])</pre></div></div></div><div class=\"sk-serial\"><div class=\"sk-item\"><div class=\"sk-estimator sk-toggleable\"><input class=\"sk-toggleable__control sk-hidden--visually\" id=\"sk-estimator-id-11\" type=\"checkbox\" ><label for=\"sk-estimator-id-11\" class=\"sk-toggleable__label sk-toggleable__label-arrow\">StandardScaler</label><div class=\"sk-toggleable__content\"><pre>StandardScaler()</pre></div></div></div><div class=\"sk-item\"><div class=\"sk-label-container\"><div class=\"sk-label sk-toggleable\"><input class=\"sk-toggleable__control sk-hidden--visually\" id=\"sk-estimator-id-12\" type=\"checkbox\" ><label for=\"sk-estimator-id-12\" class=\"sk-toggleable__label sk-toggleable__label-arrow\">pipeline: Pipeline</label><div class=\"sk-toggleable__content\"><pre>Pipeline(steps=[(&#x27;rf.imbalance&#x27;, ImbalanceDetector()),\n",
       "                (&#x27;rf.clip&#x27;, ClipDetector()),\n",
       "                (&#x27;rf.correlation&#x27;, CorrelationDetector()),\n",
       "                (&#x27;rf.multimodality&#x27;, MultimodalityDetector()),\n",
       "                (&#x27;rf.outlier&#x27;, OutlierDetector()),\n",
       "                (&#x27;rf.distributions&#x27;, DistributionComparator()),\n",
       "                (&#x27;rf.importance&#x27;, ImportanceDetector()),\n",
       "                (&#x27;rf.dummy&#x27;, DummyPredictor())])</pre></div></div></div><div class=\"sk-serial\"><div class=\"sk-item\"><div class=\"sk-estimator sk-toggleable\"><input class=\"sk-toggleable__control sk-hidden--visually\" id=\"sk-estimator-id-13\" type=\"checkbox\" ><label for=\"sk-estimator-id-13\" class=\"sk-toggleable__label sk-toggleable__label-arrow\">ImbalanceDetector</label><div class=\"sk-toggleable__content\"><pre>ImbalanceDetector()</pre></div></div></div><div class=\"sk-item\"><div class=\"sk-estimator sk-toggleable\"><input class=\"sk-toggleable__control sk-hidden--visually\" id=\"sk-estimator-id-14\" type=\"checkbox\" ><label for=\"sk-estimator-id-14\" class=\"sk-toggleable__label sk-toggleable__label-arrow\">ClipDetector</label><div class=\"sk-toggleable__content\"><pre>ClipDetector()</pre></div></div></div><div class=\"sk-item\"><div class=\"sk-estimator sk-toggleable\"><input class=\"sk-toggleable__control sk-hidden--visually\" id=\"sk-estimator-id-15\" type=\"checkbox\" ><label for=\"sk-estimator-id-15\" class=\"sk-toggleable__label sk-toggleable__label-arrow\">CorrelationDetector</label><div class=\"sk-toggleable__content\"><pre>CorrelationDetector()</pre></div></div></div><div class=\"sk-item\"><div class=\"sk-estimator sk-toggleable\"><input class=\"sk-toggleable__control sk-hidden--visually\" id=\"sk-estimator-id-16\" type=\"checkbox\" ><label for=\"sk-estimator-id-16\" class=\"sk-toggleable__label sk-toggleable__label-arrow\">MultimodalityDetector</label><div class=\"sk-toggleable__content\"><pre>MultimodalityDetector()</pre></div></div></div><div class=\"sk-item\"><div class=\"sk-estimator sk-toggleable\"><input class=\"sk-toggleable__control sk-hidden--visually\" id=\"sk-estimator-id-17\" type=\"checkbox\" ><label for=\"sk-estimator-id-17\" class=\"sk-toggleable__label sk-toggleable__label-arrow\">OutlierDetector</label><div class=\"sk-toggleable__content\"><pre>OutlierDetector()</pre></div></div></div><div class=\"sk-item\"><div class=\"sk-estimator sk-toggleable\"><input class=\"sk-toggleable__control sk-hidden--visually\" id=\"sk-estimator-id-18\" type=\"checkbox\" ><label for=\"sk-estimator-id-18\" class=\"sk-toggleable__label sk-toggleable__label-arrow\">DistributionComparator</label><div class=\"sk-toggleable__content\"><pre>DistributionComparator()</pre></div></div></div><div class=\"sk-item\"><div class=\"sk-estimator sk-toggleable\"><input class=\"sk-toggleable__control sk-hidden--visually\" id=\"sk-estimator-id-19\" type=\"checkbox\" ><label for=\"sk-estimator-id-19\" class=\"sk-toggleable__label sk-toggleable__label-arrow\">ImportanceDetector</label><div class=\"sk-toggleable__content\"><pre>ImportanceDetector()</pre></div></div></div><div class=\"sk-item\"><div class=\"sk-estimator sk-toggleable\"><input class=\"sk-toggleable__control sk-hidden--visually\" id=\"sk-estimator-id-20\" type=\"checkbox\" ><label for=\"sk-estimator-id-20\" class=\"sk-toggleable__label sk-toggleable__label-arrow\">DummyPredictor</label><div class=\"sk-toggleable__content\"><pre>DummyPredictor()</pre></div></div></div></div></div><div class=\"sk-item\"><div class=\"sk-estimator sk-toggleable\"><input class=\"sk-toggleable__control sk-hidden--visually\" id=\"sk-estimator-id-21\" type=\"checkbox\" ><label for=\"sk-estimator-id-21\" class=\"sk-toggleable__label sk-toggleable__label-arrow\">SVC</label><div class=\"sk-toggleable__content\"><pre>SVC()</pre></div></div></div></div></div></div></div>"
      ],
      "text/plain": [
       "Pipeline(steps=[('standardscaler', StandardScaler()),\n",
       "                ('pipeline',\n",
       "                 Pipeline(steps=[('rf.imbalance', ImbalanceDetector()),\n",
       "                                 ('rf.clip', ClipDetector()),\n",
       "                                 ('rf.correlation', CorrelationDetector()),\n",
       "                                 ('rf.multimodality', MultimodalityDetector()),\n",
       "                                 ('rf.outlier', OutlierDetector()),\n",
       "                                 ('rf.distributions', DistributionComparator()),\n",
       "                                 ('rf.importance', ImportanceDetector()),\n",
       "                                 ('rf.dummy', DummyPredictor())])),\n",
       "                ('svc', SVC())])"
      ]
     },
     "execution_count": 25,
     "metadata": {},
     "output_type": "execute_result"
    }
   ],
   "source": [
    "from sklearn.pipeline import make_pipeline\n",
    "\n",
    "pipe = make_pipeline(StandardScaler(), rf.pipeline, SVC())\n",
    "pipe"
   ]
  },
  {
   "cell_type": "code",
   "execution_count": 26,
   "metadata": {},
   "outputs": [
    {
     "name": "stderr",
     "output_type": "stream",
     "text": [
      "🚩 The labels are imbalanced by more than the threshold (0.420 > 0.400). See self.minority_classes_ for the minority classes.\n",
      "🚩 Features 0, 1 have samples that may be clipped.\n",
      "🚩 Features 0, 1, 2 have samples that may be correlated.\n",
      "🚩 Feature 0 has a multimodal distribution.\n",
      "ℹ️ Multimodality detection may not have succeeded for all groups in all features.\n",
      "🚩 There are more outliers than expected in the training data (316 vs 31).\n",
      "🚩 Feature 3 has low importance; check for relevance.\n",
      "ℹ️ Dummy classifier scores: {'f1': 0.25609045854904466, 'roc_auc': 0.5021169500369603} (stratified strategy).\n"
     ]
    },
    {
     "data": {
      "text/html": [
       "<style>#sk-container-id-3 {color: black;}#sk-container-id-3 pre{padding: 0;}#sk-container-id-3 div.sk-toggleable {background-color: white;}#sk-container-id-3 label.sk-toggleable__label {cursor: pointer;display: block;width: 100%;margin-bottom: 0;padding: 0.3em;box-sizing: border-box;text-align: center;}#sk-container-id-3 label.sk-toggleable__label-arrow:before {content: \"▸\";float: left;margin-right: 0.25em;color: #696969;}#sk-container-id-3 label.sk-toggleable__label-arrow:hover:before {color: black;}#sk-container-id-3 div.sk-estimator:hover label.sk-toggleable__label-arrow:before {color: black;}#sk-container-id-3 div.sk-toggleable__content {max-height: 0;max-width: 0;overflow: hidden;text-align: left;background-color: #f0f8ff;}#sk-container-id-3 div.sk-toggleable__content pre {margin: 0.2em;color: black;border-radius: 0.25em;background-color: #f0f8ff;}#sk-container-id-3 input.sk-toggleable__control:checked~div.sk-toggleable__content {max-height: 200px;max-width: 100%;overflow: auto;}#sk-container-id-3 input.sk-toggleable__control:checked~label.sk-toggleable__label-arrow:before {content: \"▾\";}#sk-container-id-3 div.sk-estimator input.sk-toggleable__control:checked~label.sk-toggleable__label {background-color: #d4ebff;}#sk-container-id-3 div.sk-label input.sk-toggleable__control:checked~label.sk-toggleable__label {background-color: #d4ebff;}#sk-container-id-3 input.sk-hidden--visually {border: 0;clip: rect(1px 1px 1px 1px);clip: rect(1px, 1px, 1px, 1px);height: 1px;margin: -1px;overflow: hidden;padding: 0;position: absolute;width: 1px;}#sk-container-id-3 div.sk-estimator {font-family: monospace;background-color: #f0f8ff;border: 1px dotted black;border-radius: 0.25em;box-sizing: border-box;margin-bottom: 0.5em;}#sk-container-id-3 div.sk-estimator:hover {background-color: #d4ebff;}#sk-container-id-3 div.sk-parallel-item::after {content: \"\";width: 100%;border-bottom: 1px solid gray;flex-grow: 1;}#sk-container-id-3 div.sk-label:hover label.sk-toggleable__label {background-color: #d4ebff;}#sk-container-id-3 div.sk-serial::before {content: \"\";position: absolute;border-left: 1px solid gray;box-sizing: border-box;top: 0;bottom: 0;left: 50%;z-index: 0;}#sk-container-id-3 div.sk-serial {display: flex;flex-direction: column;align-items: center;background-color: white;padding-right: 0.2em;padding-left: 0.2em;position: relative;}#sk-container-id-3 div.sk-item {position: relative;z-index: 1;}#sk-container-id-3 div.sk-parallel {display: flex;align-items: stretch;justify-content: center;background-color: white;position: relative;}#sk-container-id-3 div.sk-item::before, #sk-container-id-3 div.sk-parallel-item::before {content: \"\";position: absolute;border-left: 1px solid gray;box-sizing: border-box;top: 0;bottom: 0;left: 50%;z-index: -1;}#sk-container-id-3 div.sk-parallel-item {display: flex;flex-direction: column;z-index: 1;position: relative;background-color: white;}#sk-container-id-3 div.sk-parallel-item:first-child::after {align-self: flex-end;width: 50%;}#sk-container-id-3 div.sk-parallel-item:last-child::after {align-self: flex-start;width: 50%;}#sk-container-id-3 div.sk-parallel-item:only-child::after {width: 0;}#sk-container-id-3 div.sk-dashed-wrapped {border: 1px dashed gray;margin: 0 0.4em 0.5em 0.4em;box-sizing: border-box;padding-bottom: 0.4em;background-color: white;}#sk-container-id-3 div.sk-label label {font-family: monospace;font-weight: bold;display: inline-block;line-height: 1.2em;}#sk-container-id-3 div.sk-label-container {text-align: center;}#sk-container-id-3 div.sk-container {/* jupyter's `normalize.less` sets `[hidden] { display: none; }` but bootstrap.min.css set `[hidden] { display: none !important; }` so we also need the `!important` here to be able to override the default hidden behavior on the sphinx rendered scikit-learn.org. See: https://github.com/scikit-learn/scikit-learn/issues/21755 */display: inline-block !important;position: relative;}#sk-container-id-3 div.sk-text-repr-fallback {display: none;}</style><div id=\"sk-container-id-3\" class=\"sk-top-container\"><div class=\"sk-text-repr-fallback\"><pre>Pipeline(steps=[(&#x27;standardscaler&#x27;, StandardScaler()),\n",
       "                (&#x27;pipeline&#x27;,\n",
       "                 Pipeline(steps=[(&#x27;rf.imbalance&#x27;, ImbalanceDetector()),\n",
       "                                 (&#x27;rf.clip&#x27;, ClipDetector()),\n",
       "                                 (&#x27;rf.correlation&#x27;, CorrelationDetector()),\n",
       "                                 (&#x27;rf.multimodality&#x27;, MultimodalityDetector()),\n",
       "                                 (&#x27;rf.outlier&#x27;,\n",
       "                                  OutlierDetector(threshold=3.643721188696941)),\n",
       "                                 (&#x27;rf.distributions&#x27;, DistributionComparator()),\n",
       "                                 (&#x27;rf.importance&#x27;, ImportanceDetector()),\n",
       "                                 (&#x27;rf.dummy&#x27;, DummyPredictor())])),\n",
       "                (&#x27;svc&#x27;, SVC())])</pre><b>In a Jupyter environment, please rerun this cell to show the HTML representation or trust the notebook. <br />On GitHub, the HTML representation is unable to render, please try loading this page with nbviewer.org.</b></div><div class=\"sk-container\" hidden><div class=\"sk-item sk-dashed-wrapped\"><div class=\"sk-label-container\"><div class=\"sk-label sk-toggleable\"><input class=\"sk-toggleable__control sk-hidden--visually\" id=\"sk-estimator-id-22\" type=\"checkbox\" ><label for=\"sk-estimator-id-22\" class=\"sk-toggleable__label sk-toggleable__label-arrow\">Pipeline</label><div class=\"sk-toggleable__content\"><pre>Pipeline(steps=[(&#x27;standardscaler&#x27;, StandardScaler()),\n",
       "                (&#x27;pipeline&#x27;,\n",
       "                 Pipeline(steps=[(&#x27;rf.imbalance&#x27;, ImbalanceDetector()),\n",
       "                                 (&#x27;rf.clip&#x27;, ClipDetector()),\n",
       "                                 (&#x27;rf.correlation&#x27;, CorrelationDetector()),\n",
       "                                 (&#x27;rf.multimodality&#x27;, MultimodalityDetector()),\n",
       "                                 (&#x27;rf.outlier&#x27;,\n",
       "                                  OutlierDetector(threshold=3.643721188696941)),\n",
       "                                 (&#x27;rf.distributions&#x27;, DistributionComparator()),\n",
       "                                 (&#x27;rf.importance&#x27;, ImportanceDetector()),\n",
       "                                 (&#x27;rf.dummy&#x27;, DummyPredictor())])),\n",
       "                (&#x27;svc&#x27;, SVC())])</pre></div></div></div><div class=\"sk-serial\"><div class=\"sk-item\"><div class=\"sk-estimator sk-toggleable\"><input class=\"sk-toggleable__control sk-hidden--visually\" id=\"sk-estimator-id-23\" type=\"checkbox\" ><label for=\"sk-estimator-id-23\" class=\"sk-toggleable__label sk-toggleable__label-arrow\">StandardScaler</label><div class=\"sk-toggleable__content\"><pre>StandardScaler()</pre></div></div></div><div class=\"sk-item\"><div class=\"sk-label-container\"><div class=\"sk-label sk-toggleable\"><input class=\"sk-toggleable__control sk-hidden--visually\" id=\"sk-estimator-id-24\" type=\"checkbox\" ><label for=\"sk-estimator-id-24\" class=\"sk-toggleable__label sk-toggleable__label-arrow\">pipeline: Pipeline</label><div class=\"sk-toggleable__content\"><pre>Pipeline(steps=[(&#x27;rf.imbalance&#x27;, ImbalanceDetector()),\n",
       "                (&#x27;rf.clip&#x27;, ClipDetector()),\n",
       "                (&#x27;rf.correlation&#x27;, CorrelationDetector()),\n",
       "                (&#x27;rf.multimodality&#x27;, MultimodalityDetector()),\n",
       "                (&#x27;rf.outlier&#x27;, OutlierDetector(threshold=3.643721188696941)),\n",
       "                (&#x27;rf.distributions&#x27;, DistributionComparator()),\n",
       "                (&#x27;rf.importance&#x27;, ImportanceDetector()),\n",
       "                (&#x27;rf.dummy&#x27;, DummyPredictor())])</pre></div></div></div><div class=\"sk-serial\"><div class=\"sk-item\"><div class=\"sk-estimator sk-toggleable\"><input class=\"sk-toggleable__control sk-hidden--visually\" id=\"sk-estimator-id-25\" type=\"checkbox\" ><label for=\"sk-estimator-id-25\" class=\"sk-toggleable__label sk-toggleable__label-arrow\">ImbalanceDetector</label><div class=\"sk-toggleable__content\"><pre>ImbalanceDetector()</pre></div></div></div><div class=\"sk-item\"><div class=\"sk-estimator sk-toggleable\"><input class=\"sk-toggleable__control sk-hidden--visually\" id=\"sk-estimator-id-26\" type=\"checkbox\" ><label for=\"sk-estimator-id-26\" class=\"sk-toggleable__label sk-toggleable__label-arrow\">ClipDetector</label><div class=\"sk-toggleable__content\"><pre>ClipDetector()</pre></div></div></div><div class=\"sk-item\"><div class=\"sk-estimator sk-toggleable\"><input class=\"sk-toggleable__control sk-hidden--visually\" id=\"sk-estimator-id-27\" type=\"checkbox\" ><label for=\"sk-estimator-id-27\" class=\"sk-toggleable__label sk-toggleable__label-arrow\">CorrelationDetector</label><div class=\"sk-toggleable__content\"><pre>CorrelationDetector()</pre></div></div></div><div class=\"sk-item\"><div class=\"sk-estimator sk-toggleable\"><input class=\"sk-toggleable__control sk-hidden--visually\" id=\"sk-estimator-id-28\" type=\"checkbox\" ><label for=\"sk-estimator-id-28\" class=\"sk-toggleable__label sk-toggleable__label-arrow\">MultimodalityDetector</label><div class=\"sk-toggleable__content\"><pre>MultimodalityDetector()</pre></div></div></div><div class=\"sk-item\"><div class=\"sk-estimator sk-toggleable\"><input class=\"sk-toggleable__control sk-hidden--visually\" id=\"sk-estimator-id-29\" type=\"checkbox\" ><label for=\"sk-estimator-id-29\" class=\"sk-toggleable__label sk-toggleable__label-arrow\">OutlierDetector</label><div class=\"sk-toggleable__content\"><pre>OutlierDetector(threshold=3.643721188696941)</pre></div></div></div><div class=\"sk-item\"><div class=\"sk-estimator sk-toggleable\"><input class=\"sk-toggleable__control sk-hidden--visually\" id=\"sk-estimator-id-30\" type=\"checkbox\" ><label for=\"sk-estimator-id-30\" class=\"sk-toggleable__label sk-toggleable__label-arrow\">DistributionComparator</label><div class=\"sk-toggleable__content\"><pre>DistributionComparator()</pre></div></div></div><div class=\"sk-item\"><div class=\"sk-estimator sk-toggleable\"><input class=\"sk-toggleable__control sk-hidden--visually\" id=\"sk-estimator-id-31\" type=\"checkbox\" ><label for=\"sk-estimator-id-31\" class=\"sk-toggleable__label sk-toggleable__label-arrow\">ImportanceDetector</label><div class=\"sk-toggleable__content\"><pre>ImportanceDetector()</pre></div></div></div><div class=\"sk-item\"><div class=\"sk-estimator sk-toggleable\"><input class=\"sk-toggleable__control sk-hidden--visually\" id=\"sk-estimator-id-32\" type=\"checkbox\" ><label for=\"sk-estimator-id-32\" class=\"sk-toggleable__label sk-toggleable__label-arrow\">DummyPredictor</label><div class=\"sk-toggleable__content\"><pre>DummyPredictor()</pre></div></div></div></div></div><div class=\"sk-item\"><div class=\"sk-estimator sk-toggleable\"><input class=\"sk-toggleable__control sk-hidden--visually\" id=\"sk-estimator-id-33\" type=\"checkbox\" ><label for=\"sk-estimator-id-33\" class=\"sk-toggleable__label sk-toggleable__label-arrow\">SVC</label><div class=\"sk-toggleable__content\"><pre>SVC()</pre></div></div></div></div></div></div></div>"
      ],
      "text/plain": [
       "Pipeline(steps=[('standardscaler', StandardScaler()),\n",
       "                ('pipeline',\n",
       "                 Pipeline(steps=[('rf.imbalance', ImbalanceDetector()),\n",
       "                                 ('rf.clip', ClipDetector()),\n",
       "                                 ('rf.correlation', CorrelationDetector()),\n",
       "                                 ('rf.multimodality', MultimodalityDetector()),\n",
       "                                 ('rf.outlier',\n",
       "                                  OutlierDetector(threshold=3.643721188696941)),\n",
       "                                 ('rf.distributions', DistributionComparator()),\n",
       "                                 ('rf.importance', ImportanceDetector()),\n",
       "                                 ('rf.dummy', DummyPredictor())])),\n",
       "                ('svc', SVC())])"
      ]
     },
     "execution_count": 26,
     "metadata": {},
     "output_type": "execute_result"
    }
   ],
   "source": [
    "pipe.fit(X_train, y_train)"
   ]
  },
  {
   "cell_type": "code",
   "execution_count": 27,
   "metadata": {},
   "outputs": [
    {
     "name": "stderr",
     "output_type": "stream",
     "text": [
      "🚩 Feature 0 has samples that may be clipped.\n",
      "🚩 Features 0, 1, 2 have samples that may be correlated.\n",
      "🚩 There are more outliers than expected in the data (26 vs 8).\n",
      "🚩 Feature 2 has a distribution that is different from training.\n"
     ]
    },
    {
     "data": {
      "text/plain": [
       "array(['siltstone', 'siltstone', 'siltstone', 'siltstone', 'siltstone',\n",
       "       'siltstone', 'siltstone', 'siltstone', 'siltstone', 'siltstone',\n",
       "       'siltstone', 'siltstone', 'siltstone', 'siltstone', 'siltstone',\n",
       "       'siltstone', 'siltstone', 'siltstone', 'siltstone', 'siltstone',\n",
       "       'siltstone', 'siltstone', 'siltstone', 'sandstone', 'wackestone',\n",
       "       'wackestone', 'wackestone', 'siltstone', 'siltstone', 'siltstone',\n",
       "       'siltstone', 'siltstone', 'siltstone', 'siltstone', 'siltstone',\n",
       "       'siltstone', 'siltstone', 'siltstone', 'siltstone', 'siltstone',\n",
       "       'siltstone', 'siltstone', 'limestone', 'limestone', 'limestone',\n",
       "       'wackestone', 'wackestone', 'wackestone', 'wackestone',\n",
       "       'siltstone', 'siltstone', 'siltstone', 'mudstone', 'mudstone',\n",
       "       'mudstone', 'mudstone', 'mudstone', 'siltstone', 'siltstone',\n",
       "       'siltstone', 'siltstone', 'siltstone', 'siltstone', 'siltstone',\n",
       "       'siltstone', 'siltstone', 'mudstone', 'wackestone', 'limestone',\n",
       "       'limestone', 'limestone', 'limestone', 'limestone', 'limestone',\n",
       "       'limestone', 'limestone', 'limestone', 'limestone', 'limestone',\n",
       "       'limestone', 'limestone', 'limestone', 'limestone', 'limestone',\n",
       "       'limestone', 'limestone', 'limestone', 'limestone', 'limestone',\n",
       "       'limestone', 'wackestone', 'wackestone', 'wackestone',\n",
       "       'wackestone', 'wackestone', 'wackestone', 'siltstone', 'siltstone',\n",
       "       'siltstone', 'siltstone', 'siltstone', 'siltstone', 'siltstone',\n",
       "       'siltstone', 'wackestone', 'wackestone', 'wackestone',\n",
       "       'wackestone', 'wackestone', 'wackestone', 'wackestone',\n",
       "       'wackestone', 'wackestone', 'wackestone', 'wackestone',\n",
       "       'wackestone', 'siltstone', 'siltstone', 'siltstone', 'siltstone',\n",
       "       'siltstone', 'siltstone', 'siltstone', 'siltstone', 'siltstone',\n",
       "       'siltstone', 'siltstone', 'siltstone', 'siltstone', 'siltstone',\n",
       "       'siltstone', 'siltstone', 'siltstone', 'siltstone', 'siltstone',\n",
       "       'siltstone', 'siltstone', 'siltstone', 'siltstone', 'siltstone',\n",
       "       'siltstone', 'siltstone', 'siltstone', 'siltstone', 'siltstone',\n",
       "       'siltstone', 'siltstone', 'wackestone', 'wackestone', 'wackestone',\n",
       "       'wackestone', 'limestone', 'limestone', 'limestone', 'limestone',\n",
       "       'limestone', 'limestone', 'limestone', 'limestone', 'limestone',\n",
       "       'wackestone', 'siltstone', 'siltstone', 'siltstone', 'siltstone',\n",
       "       'wackestone', 'wackestone', 'wackestone', 'wackestone',\n",
       "       'wackestone', 'wackestone', 'wackestone', 'wackestone',\n",
       "       'wackestone', 'wackestone', 'mudstone', 'wackestone', 'wackestone',\n",
       "       'siltstone', 'siltstone', 'siltstone', 'siltstone', 'siltstone',\n",
       "       'siltstone', 'siltstone', 'siltstone', 'siltstone', 'siltstone',\n",
       "       'siltstone', 'siltstone', 'siltstone', 'siltstone', 'siltstone',\n",
       "       'siltstone', 'siltstone', 'siltstone', 'limestone', 'limestone',\n",
       "       'limestone', 'limestone', 'limestone', 'limestone', 'limestone',\n",
       "       'limestone', 'limestone', 'limestone', 'limestone', 'limestone',\n",
       "       'limestone', 'limestone', 'limestone', 'limestone', 'limestone',\n",
       "       'limestone', 'limestone', 'limestone', 'limestone', 'limestone',\n",
       "       'limestone', 'wackestone', 'wackestone', 'wackestone', 'siltstone',\n",
       "       'siltstone', 'siltstone', 'siltstone', 'siltstone', 'siltstone',\n",
       "       'siltstone', 'siltstone', 'siltstone', 'siltstone', 'siltstone',\n",
       "       'siltstone', 'siltstone', 'siltstone', 'siltstone', 'siltstone',\n",
       "       'siltstone', 'siltstone', 'siltstone', 'siltstone', 'siltstone',\n",
       "       'siltstone', 'limestone', 'limestone', 'limestone', 'limestone',\n",
       "       'limestone', 'limestone', 'limestone', 'limestone', 'limestone',\n",
       "       'wackestone', 'siltstone', 'siltstone', 'siltstone', 'siltstone',\n",
       "       'siltstone', 'siltstone', 'siltstone', 'siltstone', 'siltstone',\n",
       "       'siltstone', 'siltstone', 'siltstone', 'siltstone', 'siltstone',\n",
       "       'siltstone', 'siltstone', 'siltstone', 'siltstone', 'siltstone',\n",
       "       'siltstone', 'siltstone', 'limestone', 'limestone', 'limestone',\n",
       "       'limestone', 'limestone', 'limestone', 'limestone', 'limestone',\n",
       "       'limestone', 'wackestone', 'limestone', 'siltstone', 'siltstone',\n",
       "       'siltstone', 'limestone', 'limestone', 'limestone', 'limestone',\n",
       "       'limestone', 'limestone', 'limestone', 'limestone', 'limestone',\n",
       "       'siltstone', 'siltstone', 'siltstone', 'siltstone', 'siltstone',\n",
       "       'siltstone', 'siltstone', 'mudstone', 'wackestone', 'wackestone',\n",
       "       'limestone', 'limestone', 'limestone', 'limestone', 'limestone',\n",
       "       'limestone', 'limestone', 'limestone', 'limestone', 'limestone',\n",
       "       'siltstone', 'limestone', 'mudstone', 'mudstone', 'wackestone',\n",
       "       'wackestone', 'wackestone', 'siltstone', 'siltstone', 'siltstone',\n",
       "       'siltstone', 'siltstone', 'siltstone', 'siltstone', 'siltstone',\n",
       "       'siltstone', 'siltstone', 'siltstone', 'siltstone', 'siltstone',\n",
       "       'siltstone', 'siltstone', 'siltstone', 'siltstone', 'siltstone',\n",
       "       'siltstone', 'siltstone', 'siltstone', 'siltstone', 'siltstone',\n",
       "       'siltstone', 'siltstone', 'siltstone', 'siltstone', 'siltstone',\n",
       "       'siltstone', 'siltstone', 'siltstone', 'siltstone', 'siltstone',\n",
       "       'siltstone', 'siltstone', 'siltstone', 'limestone', 'limestone',\n",
       "       'limestone', 'limestone', 'limestone', 'limestone', 'limestone',\n",
       "       'limestone', 'limestone', 'limestone', 'limestone', 'limestone',\n",
       "       'limestone', 'limestone', 'limestone', 'limestone', 'limestone',\n",
       "       'limestone', 'limestone', 'limestone', 'limestone', 'limestone',\n",
       "       'wackestone', 'wackestone', 'wackestone', 'wackestone',\n",
       "       'wackestone', 'wackestone', 'wackestone', 'wackestone',\n",
       "       'wackestone', 'wackestone', 'wackestone', 'wackestone',\n",
       "       'wackestone', 'wackestone', 'wackestone', 'wackestone',\n",
       "       'wackestone', 'wackestone', 'wackestone', 'wackestone',\n",
       "       'wackestone', 'wackestone', 'wackestone', 'wackestone',\n",
       "       'wackestone', 'wackestone', 'wackestone', 'wackestone',\n",
       "       'wackestone', 'wackestone', 'wackestone', 'wackestone',\n",
       "       'wackestone', 'wackestone', 'wackestone', 'wackestone',\n",
       "       'siltstone', 'siltstone', 'siltstone', 'mudstone', 'mudstone',\n",
       "       'mudstone', 'mudstone', 'mudstone', 'mudstone', 'mudstone',\n",
       "       'siltstone', 'siltstone', 'siltstone', 'siltstone', 'siltstone',\n",
       "       'siltstone', 'siltstone', 'siltstone', 'siltstone', 'siltstone',\n",
       "       'siltstone', 'siltstone', 'siltstone', 'siltstone', 'siltstone',\n",
       "       'siltstone', 'siltstone', 'siltstone', 'siltstone', 'siltstone',\n",
       "       'siltstone', 'siltstone', 'siltstone', 'siltstone', 'siltstone',\n",
       "       'siltstone', 'siltstone', 'siltstone', 'siltstone', 'siltstone',\n",
       "       'siltstone', 'siltstone', 'siltstone', 'wackestone', 'limestone',\n",
       "       'limestone', 'limestone', 'limestone', 'limestone', 'limestone',\n",
       "       'limestone', 'wackestone', 'wackestone', 'sandstone', 'sandstone',\n",
       "       'sandstone', 'siltstone', 'siltstone', 'siltstone', 'siltstone',\n",
       "       'siltstone', 'siltstone', 'siltstone', 'siltstone', 'siltstone',\n",
       "       'siltstone', 'siltstone', 'siltstone', 'siltstone', 'siltstone',\n",
       "       'siltstone', 'siltstone', 'siltstone', 'siltstone', 'siltstone',\n",
       "       'siltstone', 'siltstone', 'siltstone', 'wackestone', 'wackestone',\n",
       "       'siltstone', 'siltstone', 'siltstone', 'siltstone', 'siltstone',\n",
       "       'siltstone', 'wackestone', 'wackestone', 'limestone', 'limestone',\n",
       "       'limestone', 'limestone', 'limestone', 'wackestone', 'wackestone',\n",
       "       'wackestone', 'wackestone', 'wackestone', 'wackestone',\n",
       "       'wackestone', 'wackestone', 'wackestone', 'limestone',\n",
       "       'wackestone', 'wackestone', 'wackestone', 'wackestone',\n",
       "       'wackestone', 'siltstone', 'siltstone', 'siltstone', 'siltstone',\n",
       "       'siltstone', 'sandstone', 'sandstone', 'sandstone', 'sandstone',\n",
       "       'sandstone', 'sandstone', 'sandstone', 'sandstone', 'sandstone',\n",
       "       'sandstone', 'sandstone', 'sandstone', 'sandstone', 'sandstone',\n",
       "       'sandstone', 'siltstone', 'siltstone', 'wackestone', 'wackestone',\n",
       "       'wackestone', 'wackestone', 'wackestone', 'wackestone',\n",
       "       'wackestone', 'wackestone', 'wackestone', 'wackestone',\n",
       "       'siltstone', 'siltstone', 'siltstone', 'siltstone', 'wackestone',\n",
       "       'wackestone', 'wackestone', 'siltstone', 'siltstone', 'sandstone',\n",
       "       'siltstone', 'limestone', 'limestone', 'limestone', 'limestone',\n",
       "       'limestone', 'limestone', 'limestone', 'limestone', 'limestone',\n",
       "       'limestone', 'limestone', 'limestone', 'limestone', 'wackestone',\n",
       "       'wackestone', 'wackestone', 'wackestone', 'wackestone',\n",
       "       'wackestone', 'wackestone', 'wackestone', 'limestone',\n",
       "       'wackestone', 'limestone', 'wackestone', 'wackestone',\n",
       "       'wackestone', 'limestone', 'limestone', 'limestone', 'wackestone',\n",
       "       'wackestone', 'siltstone', 'siltstone', 'siltstone', 'siltstone',\n",
       "       'siltstone', 'siltstone', 'siltstone', 'siltstone', 'siltstone',\n",
       "       'siltstone', 'siltstone', 'siltstone', 'siltstone', 'siltstone',\n",
       "       'siltstone', 'siltstone', 'siltstone', 'siltstone', 'sandstone',\n",
       "       'siltstone', 'siltstone', 'limestone', 'limestone', 'limestone',\n",
       "       'limestone', 'limestone', 'limestone', 'limestone', 'limestone',\n",
       "       'limestone', 'limestone', 'limestone', 'limestone', 'limestone',\n",
       "       'limestone', 'siltstone', 'wackestone', 'mudstone', 'sandstone',\n",
       "       'sandstone', 'sandstone', 'limestone', 'siltstone', 'siltstone',\n",
       "       'mudstone', 'mudstone', 'mudstone', 'siltstone', 'siltstone',\n",
       "       'siltstone', 'siltstone', 'siltstone', 'siltstone', 'siltstone',\n",
       "       'siltstone', 'siltstone', 'siltstone', 'siltstone', 'siltstone',\n",
       "       'siltstone', 'siltstone', 'siltstone', 'siltstone', 'siltstone',\n",
       "       'siltstone', 'siltstone', 'siltstone', 'siltstone', 'limestone',\n",
       "       'limestone', 'limestone', 'limestone', 'limestone', 'limestone',\n",
       "       'limestone', 'limestone', 'limestone', 'limestone', 'limestone',\n",
       "       'limestone', 'wackestone', 'wackestone', 'wackestone', 'siltstone',\n",
       "       'siltstone', 'siltstone', 'sandstone', 'siltstone', 'siltstone',\n",
       "       'siltstone', 'siltstone', 'siltstone', 'siltstone', 'siltstone',\n",
       "       'siltstone', 'siltstone', 'siltstone', 'siltstone', 'siltstone',\n",
       "       'siltstone', 'siltstone', 'siltstone', 'siltstone', 'siltstone',\n",
       "       'siltstone', 'limestone', 'limestone', 'limestone', 'limestone',\n",
       "       'limestone', 'limestone', 'limestone', 'limestone', 'wackestone',\n",
       "       'wackestone', 'wackestone', 'wackestone', 'wackestone',\n",
       "       'wackestone', 'siltstone', 'siltstone', 'siltstone', 'siltstone',\n",
       "       'wackestone', 'wackestone', 'wackestone', 'siltstone', 'siltstone',\n",
       "       'siltstone', 'siltstone', 'siltstone', 'limestone', 'limestone',\n",
       "       'limestone', 'limestone', 'limestone', 'limestone', 'wackestone',\n",
       "       'wackestone', 'limestone', 'limestone', 'limestone', 'limestone',\n",
       "       'limestone', 'siltstone', 'siltstone', 'siltstone', 'siltstone',\n",
       "       'siltstone', 'siltstone', 'siltstone', 'siltstone', 'siltstone',\n",
       "       'siltstone', 'siltstone', 'siltstone', 'siltstone', 'siltstone',\n",
       "       'limestone', 'limestone', 'wackestone', 'siltstone', 'siltstone',\n",
       "       'siltstone', 'siltstone', 'siltstone', 'siltstone', 'siltstone',\n",
       "       'siltstone', 'siltstone', 'siltstone', 'siltstone', 'siltstone',\n",
       "       'siltstone', 'siltstone', 'siltstone', 'siltstone', 'siltstone',\n",
       "       'mudstone', 'limestone', 'mudstone', 'mudstone', 'siltstone',\n",
       "       'siltstone', 'siltstone', 'mudstone', 'siltstone', 'siltstone',\n",
       "       'siltstone', 'siltstone', 'siltstone', 'siltstone', 'siltstone',\n",
       "       'siltstone', 'siltstone', 'siltstone', 'siltstone', 'siltstone',\n",
       "       'siltstone', 'siltstone', 'siltstone', 'siltstone', 'siltstone',\n",
       "       'siltstone', 'siltstone', 'siltstone', 'siltstone'], dtype=object)"
      ]
     },
     "execution_count": 27,
     "metadata": {},
     "output_type": "execute_result"
    }
   ],
   "source": [
    "pipe.predict(X_test)"
   ]
  },
  {
   "cell_type": "markdown",
   "metadata": {},
   "source": [
    "## Making your own tests"
   ]
  },
  {
   "cell_type": "code",
   "execution_count": 28,
   "metadata": {},
   "outputs": [
    {
     "name": "stderr",
     "output_type": "stream",
     "text": [
      "🚩 Feature 3 has samples that are negative.\n"
     ]
    },
    {
     "data": {
      "text/html": [
       "<style>#sk-container-id-4 {color: black;}#sk-container-id-4 pre{padding: 0;}#sk-container-id-4 div.sk-toggleable {background-color: white;}#sk-container-id-4 label.sk-toggleable__label {cursor: pointer;display: block;width: 100%;margin-bottom: 0;padding: 0.3em;box-sizing: border-box;text-align: center;}#sk-container-id-4 label.sk-toggleable__label-arrow:before {content: \"▸\";float: left;margin-right: 0.25em;color: #696969;}#sk-container-id-4 label.sk-toggleable__label-arrow:hover:before {color: black;}#sk-container-id-4 div.sk-estimator:hover label.sk-toggleable__label-arrow:before {color: black;}#sk-container-id-4 div.sk-toggleable__content {max-height: 0;max-width: 0;overflow: hidden;text-align: left;background-color: #f0f8ff;}#sk-container-id-4 div.sk-toggleable__content pre {margin: 0.2em;color: black;border-radius: 0.25em;background-color: #f0f8ff;}#sk-container-id-4 input.sk-toggleable__control:checked~div.sk-toggleable__content {max-height: 200px;max-width: 100%;overflow: auto;}#sk-container-id-4 input.sk-toggleable__control:checked~label.sk-toggleable__label-arrow:before {content: \"▾\";}#sk-container-id-4 div.sk-estimator input.sk-toggleable__control:checked~label.sk-toggleable__label {background-color: #d4ebff;}#sk-container-id-4 div.sk-label input.sk-toggleable__control:checked~label.sk-toggleable__label {background-color: #d4ebff;}#sk-container-id-4 input.sk-hidden--visually {border: 0;clip: rect(1px 1px 1px 1px);clip: rect(1px, 1px, 1px, 1px);height: 1px;margin: -1px;overflow: hidden;padding: 0;position: absolute;width: 1px;}#sk-container-id-4 div.sk-estimator {font-family: monospace;background-color: #f0f8ff;border: 1px dotted black;border-radius: 0.25em;box-sizing: border-box;margin-bottom: 0.5em;}#sk-container-id-4 div.sk-estimator:hover {background-color: #d4ebff;}#sk-container-id-4 div.sk-parallel-item::after {content: \"\";width: 100%;border-bottom: 1px solid gray;flex-grow: 1;}#sk-container-id-4 div.sk-label:hover label.sk-toggleable__label {background-color: #d4ebff;}#sk-container-id-4 div.sk-serial::before {content: \"\";position: absolute;border-left: 1px solid gray;box-sizing: border-box;top: 0;bottom: 0;left: 50%;z-index: 0;}#sk-container-id-4 div.sk-serial {display: flex;flex-direction: column;align-items: center;background-color: white;padding-right: 0.2em;padding-left: 0.2em;position: relative;}#sk-container-id-4 div.sk-item {position: relative;z-index: 1;}#sk-container-id-4 div.sk-parallel {display: flex;align-items: stretch;justify-content: center;background-color: white;position: relative;}#sk-container-id-4 div.sk-item::before, #sk-container-id-4 div.sk-parallel-item::before {content: \"\";position: absolute;border-left: 1px solid gray;box-sizing: border-box;top: 0;bottom: 0;left: 50%;z-index: -1;}#sk-container-id-4 div.sk-parallel-item {display: flex;flex-direction: column;z-index: 1;position: relative;background-color: white;}#sk-container-id-4 div.sk-parallel-item:first-child::after {align-self: flex-end;width: 50%;}#sk-container-id-4 div.sk-parallel-item:last-child::after {align-self: flex-start;width: 50%;}#sk-container-id-4 div.sk-parallel-item:only-child::after {width: 0;}#sk-container-id-4 div.sk-dashed-wrapped {border: 1px dashed gray;margin: 0 0.4em 0.5em 0.4em;box-sizing: border-box;padding-bottom: 0.4em;background-color: white;}#sk-container-id-4 div.sk-label label {font-family: monospace;font-weight: bold;display: inline-block;line-height: 1.2em;}#sk-container-id-4 div.sk-label-container {text-align: center;}#sk-container-id-4 div.sk-container {/* jupyter's `normalize.less` sets `[hidden] { display: none; }` but bootstrap.min.css set `[hidden] { display: none !important; }` so we also need the `!important` here to be able to override the default hidden behavior on the sphinx rendered scikit-learn.org. See: https://github.com/scikit-learn/scikit-learn/issues/21755 */display: inline-block !important;position: relative;}#sk-container-id-4 div.sk-text-repr-fallback {display: none;}</style><div id=\"sk-container-id-4\" class=\"sk-top-container\"><div class=\"sk-text-repr-fallback\"><pre>Pipeline(steps=[(&#x27;detector&#x27;,\n",
       "                 Detector(func=&lt;function BaseRedflagDetector.__init__.&lt;locals&gt;.&lt;lambda&gt; at 0x12efbb880&gt;,\n",
       "                          message=&#x27;are negative&#x27;)),\n",
       "                (&#x27;svc&#x27;, SVC())])</pre><b>In a Jupyter environment, please rerun this cell to show the HTML representation or trust the notebook. <br />On GitHub, the HTML representation is unable to render, please try loading this page with nbviewer.org.</b></div><div class=\"sk-container\" hidden><div class=\"sk-item sk-dashed-wrapped\"><div class=\"sk-label-container\"><div class=\"sk-label sk-toggleable\"><input class=\"sk-toggleable__control sk-hidden--visually\" id=\"sk-estimator-id-34\" type=\"checkbox\" ><label for=\"sk-estimator-id-34\" class=\"sk-toggleable__label sk-toggleable__label-arrow\">Pipeline</label><div class=\"sk-toggleable__content\"><pre>Pipeline(steps=[(&#x27;detector&#x27;,\n",
       "                 Detector(func=&lt;function BaseRedflagDetector.__init__.&lt;locals&gt;.&lt;lambda&gt; at 0x12efbb880&gt;,\n",
       "                          message=&#x27;are negative&#x27;)),\n",
       "                (&#x27;svc&#x27;, SVC())])</pre></div></div></div><div class=\"sk-serial\"><div class=\"sk-item\"><div class=\"sk-estimator sk-toggleable\"><input class=\"sk-toggleable__control sk-hidden--visually\" id=\"sk-estimator-id-35\" type=\"checkbox\" ><label for=\"sk-estimator-id-35\" class=\"sk-toggleable__label sk-toggleable__label-arrow\">Detector</label><div class=\"sk-toggleable__content\"><pre>Detector(func=&lt;function BaseRedflagDetector.__init__.&lt;locals&gt;.&lt;lambda&gt; at 0x12efbb880&gt;,\n",
       "         message=&#x27;are negative&#x27;)</pre></div></div></div><div class=\"sk-item\"><div class=\"sk-estimator sk-toggleable\"><input class=\"sk-toggleable__control sk-hidden--visually\" id=\"sk-estimator-id-36\" type=\"checkbox\" ><label for=\"sk-estimator-id-36\" class=\"sk-toggleable__label sk-toggleable__label-arrow\">SVC</label><div class=\"sk-toggleable__content\"><pre>SVC()</pre></div></div></div></div></div></div></div>"
      ],
      "text/plain": [
       "Pipeline(steps=[('detector',\n",
       "                 Detector(func=<function BaseRedflagDetector.__init__.<locals>.<lambda> at 0x12efbb880>,\n",
       "                          message='are negative')),\n",
       "                ('svc', SVC())])"
      ]
     },
     "execution_count": 28,
     "metadata": {},
     "output_type": "execute_result"
    }
   ],
   "source": [
    "from redflag import Detector\n",
    "\n",
    "def has_negative(x) -> bool:\n",
    "    \"\"\"Returns True, i.e. triggers, if any samples are negative.\"\"\"\n",
    "    return any(x < 0)\n",
    "\n",
    "negative_detector = Detector(has_negative, \"are negative\")\n",
    "\n",
    "pipe = make_pipeline(negative_detector, SVC())  # NB, no standardization.\n",
    "pipe.fit(X_train, y_train)"
   ]
  },
  {
   "cell_type": "markdown",
   "metadata": {},
   "source": [
    "The noise feature we added has negative values; the others are all positive, which is what we expect for these data.\n",
    "\n",
    "(Careful! All standardized features will have negative values.)"
   ]
  }
 ],
 "metadata": {
  "kernelspec": {
   "display_name": "redflag",
   "language": "python",
   "name": "redflag"
  },
  "language_info": {
   "codemirror_mode": {
    "name": "ipython",
    "version": 3
   },
   "file_extension": ".py",
   "mimetype": "text/x-python",
   "name": "python",
   "nbconvert_exporter": "python",
   "pygments_lexer": "ipython3",
   "version": "3.12.0"
  },
  "vscode": {
   "interpreter": {
    "hash": "3ad933181bd8a04b432d3370b9dc3b0662ad032c4dfaa4e4f1596c548f763858"
   }
  }
 },
 "nbformat": 4,
 "nbformat_minor": 4
}
