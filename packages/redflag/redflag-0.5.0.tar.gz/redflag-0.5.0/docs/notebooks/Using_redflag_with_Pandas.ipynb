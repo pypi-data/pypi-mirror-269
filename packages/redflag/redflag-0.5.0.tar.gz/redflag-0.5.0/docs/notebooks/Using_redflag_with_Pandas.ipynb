{
 "cells": [
  {
   "cell_type": "markdown",
   "id": "a8d12712-5c7b-4acb-bb8b-e73efcb9b5dc",
   "metadata": {},
   "source": [
    "# 🚩 Using `redflag` with Pandas\n",
    "\n",
    "As well as using `redflag`'s functions directly (see `Basic_usage.ipynb`), or with `sklearn` (see `Using_redflag_with_Pandas.ipynb`), `redflag` has some Pandas 'accessors' that give you access to some `redflag` functions almost as if they were methods on Pandas objects.\n",
    "\n",
    "The best way to get the idea is to look at an example.\n",
    "\n",
    "First, even though we may not use it directly, we have to import `redflag` to get access to its functions. As long as you have `pandas` installed, it will register the accessors."
   ]
  },
  {
   "cell_type": "code",
   "execution_count": 4,
   "id": "77aa7f67-0bc7-48e9-87f4-183aa2dc2c35",
   "metadata": {},
   "outputs": [
    {
     "data": {
      "text/plain": [
       "'0.4.2rc2.dev14+g54704af.d20240421'"
      ]
     },
     "execution_count": 4,
     "metadata": {},
     "output_type": "execute_result"
    }
   ],
   "source": [
    "import redflag as rf\n",
    "\n",
    "rf.__version__"
   ]
  },
  {
   "cell_type": "code",
   "execution_count": 5,
   "id": "3dbcf6e1-1cb5-4ca5-b64a-bc1d9e7b174f",
   "metadata": {},
   "outputs": [
    {
     "data": {
      "text/html": [
       "<div>\n",
       "<style scoped>\n",
       "    .dataframe tbody tr th:only-of-type {\n",
       "        vertical-align: middle;\n",
       "    }\n",
       "\n",
       "    .dataframe tbody tr th {\n",
       "        vertical-align: top;\n",
       "    }\n",
       "\n",
       "    .dataframe thead th {\n",
       "        text-align: right;\n",
       "    }\n",
       "</style>\n",
       "<table border=\"1\" class=\"dataframe\">\n",
       "  <thead>\n",
       "    <tr style=\"text-align: right;\">\n",
       "      <th></th>\n",
       "      <th>Well Name</th>\n",
       "      <th>Depth</th>\n",
       "      <th>Formation</th>\n",
       "      <th>RelPos</th>\n",
       "      <th>Marine</th>\n",
       "      <th>GR</th>\n",
       "      <th>ILD</th>\n",
       "      <th>DeltaPHI</th>\n",
       "      <th>PHIND</th>\n",
       "      <th>PE</th>\n",
       "      <th>Facies</th>\n",
       "      <th>LATITUDE</th>\n",
       "      <th>LONGITUDE</th>\n",
       "      <th>ILD_log10</th>\n",
       "      <th>Lithology</th>\n",
       "      <th>RHOB</th>\n",
       "      <th>Mineralogy</th>\n",
       "      <th>Siliciclastic</th>\n",
       "    </tr>\n",
       "  </thead>\n",
       "  <tbody>\n",
       "    <tr>\n",
       "      <th>0</th>\n",
       "      <td>SHRIMPLIN</td>\n",
       "      <td>851.3064</td>\n",
       "      <td>A1 SH</td>\n",
       "      <td>1.000</td>\n",
       "      <td>1</td>\n",
       "      <td>77.45</td>\n",
       "      <td>4.613176</td>\n",
       "      <td>9.9</td>\n",
       "      <td>11.915</td>\n",
       "      <td>4.6</td>\n",
       "      <td>3.0</td>\n",
       "      <td>37.978076</td>\n",
       "      <td>-100.987305</td>\n",
       "      <td>0.664</td>\n",
       "      <td>siltstone</td>\n",
       "      <td>2393.499945</td>\n",
       "      <td>siliciclastic</td>\n",
       "      <td>True</td>\n",
       "    </tr>\n",
       "    <tr>\n",
       "      <th>1</th>\n",
       "      <td>SHRIMPLIN</td>\n",
       "      <td>851.4588</td>\n",
       "      <td>A1 SH</td>\n",
       "      <td>0.979</td>\n",
       "      <td>1</td>\n",
       "      <td>78.26</td>\n",
       "      <td>4.581419</td>\n",
       "      <td>14.2</td>\n",
       "      <td>12.565</td>\n",
       "      <td>4.1</td>\n",
       "      <td>3.0</td>\n",
       "      <td>37.978076</td>\n",
       "      <td>-100.987305</td>\n",
       "      <td>0.661</td>\n",
       "      <td>siltstone</td>\n",
       "      <td>2416.119814</td>\n",
       "      <td>siliciclastic</td>\n",
       "      <td>True</td>\n",
       "    </tr>\n",
       "    <tr>\n",
       "      <th>2</th>\n",
       "      <td>SHRIMPLIN</td>\n",
       "      <td>851.6112</td>\n",
       "      <td>A1 SH</td>\n",
       "      <td>0.957</td>\n",
       "      <td>1</td>\n",
       "      <td>79.05</td>\n",
       "      <td>4.549881</td>\n",
       "      <td>14.8</td>\n",
       "      <td>13.050</td>\n",
       "      <td>3.6</td>\n",
       "      <td>3.0</td>\n",
       "      <td>37.978076</td>\n",
       "      <td>-100.987305</td>\n",
       "      <td>0.658</td>\n",
       "      <td>siltstone</td>\n",
       "      <td>2404.576056</td>\n",
       "      <td>siliciclastic</td>\n",
       "      <td>True</td>\n",
       "    </tr>\n",
       "    <tr>\n",
       "      <th>3</th>\n",
       "      <td>SHRIMPLIN</td>\n",
       "      <td>851.7636</td>\n",
       "      <td>A1 SH</td>\n",
       "      <td>0.936</td>\n",
       "      <td>1</td>\n",
       "      <td>86.10</td>\n",
       "      <td>4.518559</td>\n",
       "      <td>13.9</td>\n",
       "      <td>13.115</td>\n",
       "      <td>3.5</td>\n",
       "      <td>3.0</td>\n",
       "      <td>37.978076</td>\n",
       "      <td>-100.987305</td>\n",
       "      <td>0.655</td>\n",
       "      <td>siltstone</td>\n",
       "      <td>2393.249071</td>\n",
       "      <td>siliciclastic</td>\n",
       "      <td>True</td>\n",
       "    </tr>\n",
       "    <tr>\n",
       "      <th>4</th>\n",
       "      <td>SHRIMPLIN</td>\n",
       "      <td>851.9160</td>\n",
       "      <td>A1 SH</td>\n",
       "      <td>0.915</td>\n",
       "      <td>1</td>\n",
       "      <td>74.58</td>\n",
       "      <td>4.436086</td>\n",
       "      <td>13.5</td>\n",
       "      <td>13.300</td>\n",
       "      <td>3.4</td>\n",
       "      <td>3.0</td>\n",
       "      <td>37.978076</td>\n",
       "      <td>-100.987305</td>\n",
       "      <td>0.647</td>\n",
       "      <td>siltstone</td>\n",
       "      <td>2382.602601</td>\n",
       "      <td>siliciclastic</td>\n",
       "      <td>True</td>\n",
       "    </tr>\n",
       "  </tbody>\n",
       "</table>\n",
       "</div>"
      ],
      "text/plain": [
       "   Well Name     Depth Formation  RelPos  Marine     GR       ILD  DeltaPHI  \\\n",
       "0  SHRIMPLIN  851.3064     A1 SH   1.000       1  77.45  4.613176       9.9   \n",
       "1  SHRIMPLIN  851.4588     A1 SH   0.979       1  78.26  4.581419      14.2   \n",
       "2  SHRIMPLIN  851.6112     A1 SH   0.957       1  79.05  4.549881      14.8   \n",
       "3  SHRIMPLIN  851.7636     A1 SH   0.936       1  86.10  4.518559      13.9   \n",
       "4  SHRIMPLIN  851.9160     A1 SH   0.915       1  74.58  4.436086      13.5   \n",
       "\n",
       "    PHIND   PE  Facies   LATITUDE   LONGITUDE  ILD_log10  Lithology  \\\n",
       "0  11.915  4.6     3.0  37.978076 -100.987305      0.664  siltstone   \n",
       "1  12.565  4.1     3.0  37.978076 -100.987305      0.661  siltstone   \n",
       "2  13.050  3.6     3.0  37.978076 -100.987305      0.658  siltstone   \n",
       "3  13.115  3.5     3.0  37.978076 -100.987305      0.655  siltstone   \n",
       "4  13.300  3.4     3.0  37.978076 -100.987305      0.647  siltstone   \n",
       "\n",
       "          RHOB     Mineralogy  Siliciclastic  \n",
       "0  2393.499945  siliciclastic           True  \n",
       "1  2416.119814  siliciclastic           True  \n",
       "2  2404.576056  siliciclastic           True  \n",
       "3  2393.249071  siliciclastic           True  \n",
       "4  2382.602601  siliciclastic           True  "
      ]
     },
     "execution_count": 5,
     "metadata": {},
     "output_type": "execute_result"
    }
   ],
   "source": [
    "import pandas as pd\n",
    "\n",
    "df = pd.read_csv('https://raw.githubusercontent.com/scienxlab/datasets/main/kgs/panoma-training-data.csv')\n",
    "\n",
    "df.head()"
   ]
  },
  {
   "cell_type": "markdown",
   "id": "d77e460b-b925-4dec-b56d-d3f18ed1ecbb",
   "metadata": {},
   "source": [
    "## Series accessor"
   ]
  },
  {
   "cell_type": "markdown",
   "id": "98f5c772-a33d-43cf-82cf-54dc21535133",
   "metadata": {},
   "source": [
    "For the time being, there are only accessors on Pandas `Series` objects. For example:"
   ]
  },
  {
   "cell_type": "code",
   "execution_count": 6,
   "id": "1b17a7e8-1d28-4e1b-9b7d-ecdbbe750aaf",
   "metadata": {},
   "outputs": [],
   "source": [
    "# Call the Series s for simplicity:\n",
    "s = df['Lithology']"
   ]
  },
  {
   "cell_type": "markdown",
   "id": "52e5e4e1-9200-46b2-9d77-9cc0d2cbc4a8",
   "metadata": {},
   "source": [
    "Now we can call the `redflag` function `imbalance_degree()` as if it were a method (but notice the extra `redflag` we have to insert to access the method):"
   ]
  },
  {
   "cell_type": "code",
   "execution_count": 7,
   "id": "6af691f4-90a3-4a8e-b842-a20f70c72314",
   "metadata": {},
   "outputs": [
    {
     "data": {
      "text/plain": [
       "3.378593040846633"
      ]
     },
     "execution_count": 7,
     "metadata": {},
     "output_type": "execute_result"
    }
   ],
   "source": [
    "s.redflag.imbalance_degree()"
   ]
  },
  {
   "cell_type": "markdown",
   "id": "f2ea6821-0610-44b4-a855-653642ea089d",
   "metadata": {},
   "source": [
    "Or we can ask for the new 'dummy' scores:"
   ]
  },
  {
   "cell_type": "code",
   "execution_count": 8,
   "id": "5897e460-cc15-4858-939b-b91b19fafc9f",
   "metadata": {},
   "outputs": [
    {
     "data": {
      "text/plain": [
       "{'f1': 0.24566600930871996,\n",
       " 'roc_auc': 0.5021684735059516,\n",
       " 'strategy': 'stratified',\n",
       " 'task': 'classification'}"
      ]
     },
     "execution_count": 8,
     "metadata": {},
     "output_type": "execute_result"
    }
   ],
   "source": [
    "s.redflag.dummy_scores()"
   ]
  },
  {
   "cell_type": "markdown",
   "id": "3b9be98e-5642-4bab-80eb-f4c226422781",
   "metadata": {},
   "source": [
    "Let's try that on a regression target like `df['RHOB']`"
   ]
  },
  {
   "cell_type": "code",
   "execution_count": 9,
   "id": "f734bb50-15e9-43c3-b31f-1a078e398dc3",
   "metadata": {},
   "outputs": [
    {
     "data": {
      "text/plain": [
       "{'mean_squared_error': 47528.78263092096,\n",
       " 'r2': 0.0,\n",
       " 'strategy': 'mean',\n",
       " 'task': 'regression'}"
      ]
     },
     "execution_count": 9,
     "metadata": {},
     "output_type": "execute_result"
    }
   ],
   "source": [
    "df['RHOB'].redflag.dummy_scores()"
   ]
  },
  {
   "cell_type": "markdown",
   "id": "381501a1-8944-4b3f-a4cf-d80e08fbac4f",
   "metadata": {},
   "source": [
    "Or we can ask for a 'report' (very simple for now):"
   ]
  },
  {
   "cell_type": "code",
   "execution_count": 10,
   "id": "02380595-2b47-4718-9b58-ef6b170f29b1",
   "metadata": {},
   "outputs": [
    {
     "name": "stdout",
     "output_type": "stream",
     "text": [
      "Continuous data suitable for regression\n",
      "Outliers:    [  95   96  132  175  176  177  222  223  263  526  527  531  532  533\n",
      "  534  575  576  577  578  579  580  581  582  583  584  585  586  587\n",
      "  588  621  622  633  634  635  636  652  653  654  660  661  662  663\n",
      "  711  712  713  756  757  758  759  760  768  769  770  771  772  773\n",
      "  774  775  776  777  778  779  780  781  782  800  801  802  803  804\n",
      "  818  819  821  822  823  824  835  836  841  842  843  844  845  846\n",
      "  849  850  934  935  936  937  938 1039 1040 1044 1048 1049 1113 1114\n",
      " 1115 1116 1145 1146 1147 1148 1149 1150 1151 1216 1217 1218 1221 1222\n",
      " 1223 1224 1225 1304 1313 1314 1315 1316 1368 1369 1370 1371 1372 1373\n",
      " 1374 1375 1446 1447 1496 1497 1498 1499 1546 1547 1548 1549 1567 1568\n",
      " 1622 1623 1624 1662 1663 1664 1665 1666 1722 1723 1724 1725 1726 1735\n",
      " 1739 1740 1741 1742 1743 1744 1745 1746 1747 1748 1753 1754 1755 1756\n",
      " 1757 1777 1778 1779 1780 1781 1782 1783 1784 1785 1786 1787 1788 1789\n",
      " 1790 1805 1806 1807 1808 1809 1810 1812 1813 1866 1868 1869 1870 1981\n",
      " 1982 2054 2055 2139 2327 2415 2416 2417 2418 2488 2489 2490 2867 2868\n",
      " 2869 2870 2871 2872 2873 2882 2883 2884 2888 2889 2921 2922 2923 2924\n",
      " 2925 2926 2927 2928 2929 2930 2931 2932 2933 2972 2973 2974 2975 2976\n",
      " 3004 3087 3088 3089 3090 3091 3092 3093 3094 3095 3096 3097 3098 3099\n",
      " 3100 3101 3102 3109 3110 3111 3112 3113 3114 3115 3341 3429 3430 3443\n",
      " 3444 3515 3516 3517 3861 3862 3863 3905 3906 3907 3931 3932 3933 3934\n",
      " 3935]\n",
      "Correlated:  True\n",
      "Dummy scores:{'mean': {'mean_squared_error': 47528.78263092096, 'r2': 0.0}}\n",
      "\n"
     ]
    }
   ],
   "source": [
    "print(df['RHOB'].redflag.report())"
   ]
  },
  {
   "cell_type": "markdown",
   "id": "e007d9b8-4346-4d9a-93a5-45222a137248",
   "metadata": {},
   "source": [
    "This is an experimental feature; future releases will have more functions. Feedback welcome!"
   ]
  },
  {
   "cell_type": "markdown",
   "id": "ba98b9a2-e0a4-4ed8-a2d4-f87eb882af40",
   "metadata": {},
   "source": [
    "## DataFrame accessor\n",
    "\n",
    "Experimental feature: so far only `feature_importances` and `correlation_detector` are implemented."
   ]
  },
  {
   "cell_type": "code",
   "execution_count": 11,
   "id": "274cc24d-69ad-49ef-8606-cc9b77b154dc",
   "metadata": {},
   "outputs": [
    {
     "data": {
      "text/plain": [
       "array([0.29029061, 0.18151719, 0.30409475, 0.22409746])"
      ]
     },
     "execution_count": 11,
     "metadata": {},
     "output_type": "execute_result"
    }
   ],
   "source": [
    "features = ['GR', 'RHOB', 'PE', 'ILD_log10']\n",
    "df.redflag.feature_importances(features, target='Lithology')"
   ]
  },
  {
   "cell_type": "code",
   "execution_count": 12,
   "id": "12e3e4ee-e8df-47ba-810d-3bff492d5389",
   "metadata": {},
   "outputs": [
    {
     "name": "stderr",
     "output_type": "stream",
     "text": [
      "🚩 Feature 0 appears to be autocorrelated.\n",
      "🚩 Feature 1 appears to be autocorrelated.\n",
      "🚩 Feature 2 appears to be autocorrelated.\n",
      "🚩 Feature 3 appears to be autocorrelated.\n"
     ]
    }
   ],
   "source": [
    "df.redflag.correlation_detector(features, target=None)"
   ]
  },
  {
   "cell_type": "markdown",
   "id": "a3185f63-64b1-47fd-875d-2c646b84aa65",
   "metadata": {},
   "source": [
    "Indeed, all of these features are correlated."
   ]
  }
 ],
 "metadata": {
  "kernelspec": {
   "display_name": "redflag",
   "language": "python",
   "name": "redflag"
  },
  "language_info": {
   "codemirror_mode": {
    "name": "ipython",
    "version": 3
   },
   "file_extension": ".py",
   "mimetype": "text/x-python",
   "name": "python",
   "nbconvert_exporter": "python",
   "pygments_lexer": "ipython3",
   "version": "3.12.0"
  }
 },
 "nbformat": 4,
 "nbformat_minor": 5
}
