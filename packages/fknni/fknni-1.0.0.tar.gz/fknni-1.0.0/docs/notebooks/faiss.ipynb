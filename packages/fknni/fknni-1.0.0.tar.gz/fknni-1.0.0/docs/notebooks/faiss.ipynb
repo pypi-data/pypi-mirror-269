{
 "cells": [
  {
   "cell_type": "markdown",
   "metadata": {},
   "source": [
    "# Faiss KNN imputation example and scikit-learn comparison"
   ]
  },
  {
   "cell_type": "markdown",
   "metadata": {
    "collapsed": false
   },
   "source": [
    "[Faiss](https://github.com/facebookresearch/faiss) is a library for efficient similarity search and clustering of dense vectors.\n",
    "The FaissImputer makes use of faiss to efficiently search nearest neighbors for dense matrices."
   ]
  },
  {
   "cell_type": "markdown",
   "metadata": {
    "collapsed": false
   },
   "source": [
    "## Prediction performance comparison"
   ]
  },
  {
   "cell_type": "code",
   "execution_count": 1,
   "metadata": {
    "ExecuteTime": {
     "end_time": "2024-04-24T10:54:54.274792998Z",
     "start_time": "2024-04-24T10:54:51.910270112Z"
    },
    "collapsed": false
   },
   "outputs": [],
   "source": [
    "import numpy as np\n",
    "import pandas as pd\n",
    "from fknni import FaissImputer\n",
    "from sklearn.impute import KNNImputer"
   ]
  },
  {
   "cell_type": "code",
   "execution_count": 2,
   "metadata": {
    "ExecuteTime": {
     "end_time": "2024-04-24T10:54:54.404276414Z",
     "start_time": "2024-04-24T10:54:54.315428592Z"
    },
    "collapsed": false
   },
   "outputs": [
    {
     "data": {
      "text/html": "<div>\n<style scoped>\n    .dataframe tbody tr th:only-of-type {\n        vertical-align: middle;\n    }\n\n    .dataframe tbody tr th {\n        vertical-align: top;\n    }\n\n    .dataframe thead th {\n        text-align: right;\n    }\n</style>\n<table border=\"1\" class=\"dataframe\">\n  <thead>\n    <tr style=\"text-align: right;\">\n      <th></th>\n      <th>A</th>\n      <th>B</th>\n      <th>C</th>\n      <th>D</th>\n      <th>E</th>\n    </tr>\n  </thead>\n  <tbody>\n    <tr>\n      <th>0</th>\n      <td>85</td>\n      <td>63</td>\n      <td>51</td>\n      <td>26</td>\n      <td>30</td>\n    </tr>\n    <tr>\n      <th>1</th>\n      <td>4</td>\n      <td>7</td>\n      <td>1</td>\n      <td>17</td>\n      <td>81</td>\n    </tr>\n    <tr>\n      <th>2</th>\n      <td>64</td>\n      <td>91</td>\n      <td>50</td>\n      <td>60</td>\n      <td>97</td>\n    </tr>\n    <tr>\n      <th>3</th>\n      <td>72</td>\n      <td>63</td>\n      <td>54</td>\n      <td>55</td>\n      <td>93</td>\n    </tr>\n    <tr>\n      <th>4</th>\n      <td>27</td>\n      <td>81</td>\n      <td>67</td>\n      <td>0</td>\n      <td>39</td>\n    </tr>\n    <tr>\n      <th>5</th>\n      <td>85</td>\n      <td>55</td>\n      <td>3</td>\n      <td>76</td>\n      <td>72</td>\n    </tr>\n    <tr>\n      <th>6</th>\n      <td>84</td>\n      <td>17</td>\n      <td>8</td>\n      <td>86</td>\n      <td>2</td>\n    </tr>\n    <tr>\n      <th>7</th>\n      <td>54</td>\n      <td>8</td>\n      <td>29</td>\n      <td>48</td>\n      <td>42</td>\n    </tr>\n    <tr>\n      <th>8</th>\n      <td>40</td>\n      <td>2</td>\n      <td>0</td>\n      <td>12</td>\n      <td>0</td>\n    </tr>\n    <tr>\n      <th>9</th>\n      <td>67</td>\n      <td>52</td>\n      <td>64</td>\n      <td>25</td>\n      <td>61</td>\n    </tr>\n  </tbody>\n</table>\n</div>",
      "text/plain": "    A   B   C   D   E\n0  85  63  51  26  30\n1   4   7   1  17  81\n2  64  91  50  60  97\n3  72  63  54  55  93\n4  27  81  67   0  39\n5  85  55   3  76  72\n6  84  17   8  86   2\n7  54   8  29  48  42\n8  40   2   0  12   0\n9  67  52  64  25  61"
     },
     "execution_count": 2,
     "metadata": {},
     "output_type": "execute_result"
    }
   ],
   "source": [
    "rng = np.random.default_rng(0)\n",
    "\n",
    "# Create a DataFrame with 10 missing values\n",
    "df = pd.DataFrame(rng.integers(0, 100, size=(10, 5)), columns=list(\"ABCDE\"))\n",
    "df"
   ]
  },
  {
   "cell_type": "code",
   "execution_count": 3,
   "metadata": {
    "ExecuteTime": {
     "end_time": "2024-04-24T10:54:54.405925984Z",
     "start_time": "2024-04-24T10:54:54.324637066Z"
    },
    "collapsed": false
   },
   "outputs": [
    {
     "data": {
      "text/html": "<div>\n<style scoped>\n    .dataframe tbody tr th:only-of-type {\n        vertical-align: middle;\n    }\n\n    .dataframe tbody tr th {\n        vertical-align: top;\n    }\n\n    .dataframe thead th {\n        text-align: right;\n    }\n</style>\n<table border=\"1\" class=\"dataframe\">\n  <thead>\n    <tr style=\"text-align: right;\">\n      <th></th>\n      <th>A</th>\n      <th>B</th>\n      <th>C</th>\n      <th>D</th>\n      <th>E</th>\n    </tr>\n  </thead>\n  <tbody>\n    <tr>\n      <th>0</th>\n      <td>85.0</td>\n      <td>63.0</td>\n      <td>51.0</td>\n      <td>26.0</td>\n      <td>30.0</td>\n    </tr>\n    <tr>\n      <th>1</th>\n      <td>NaN</td>\n      <td>7.0</td>\n      <td>NaN</td>\n      <td>17.0</td>\n      <td>NaN</td>\n    </tr>\n    <tr>\n      <th>2</th>\n      <td>64.0</td>\n      <td>NaN</td>\n      <td>50.0</td>\n      <td>60.0</td>\n      <td>NaN</td>\n    </tr>\n    <tr>\n      <th>3</th>\n      <td>72.0</td>\n      <td>63.0</td>\n      <td>54.0</td>\n      <td>55.0</td>\n      <td>NaN</td>\n    </tr>\n    <tr>\n      <th>4</th>\n      <td>NaN</td>\n      <td>81.0</td>\n      <td>67.0</td>\n      <td>0.0</td>\n      <td>39.0</td>\n    </tr>\n    <tr>\n      <th>5</th>\n      <td>85.0</td>\n      <td>55.0</td>\n      <td>3.0</td>\n      <td>76.0</td>\n      <td>72.0</td>\n    </tr>\n    <tr>\n      <th>6</th>\n      <td>84.0</td>\n      <td>17.0</td>\n      <td>8.0</td>\n      <td>86.0</td>\n      <td>2.0</td>\n    </tr>\n    <tr>\n      <th>7</th>\n      <td>54.0</td>\n      <td>NaN</td>\n      <td>29.0</td>\n      <td>48.0</td>\n      <td>42.0</td>\n    </tr>\n    <tr>\n      <th>8</th>\n      <td>NaN</td>\n      <td>2.0</td>\n      <td>0.0</td>\n      <td>12.0</td>\n      <td>0.0</td>\n    </tr>\n    <tr>\n      <th>9</th>\n      <td>67.0</td>\n      <td>52.0</td>\n      <td>64.0</td>\n      <td>NaN</td>\n      <td>61.0</td>\n    </tr>\n  </tbody>\n</table>\n</div>",
      "text/plain": "      A     B     C     D     E\n0  85.0  63.0  51.0  26.0  30.0\n1   NaN   7.0   NaN  17.0   NaN\n2  64.0   NaN  50.0  60.0   NaN\n3  72.0  63.0  54.0  55.0   NaN\n4   NaN  81.0  67.0   0.0  39.0\n5  85.0  55.0   3.0  76.0  72.0\n6  84.0  17.0   8.0  86.0   2.0\n7  54.0   NaN  29.0  48.0  42.0\n8   NaN   2.0   0.0  12.0   0.0\n9  67.0  52.0  64.0   NaN  61.0"
     },
     "execution_count": 3,
     "metadata": {},
     "output_type": "execute_result"
    }
   ],
   "source": [
    "df_missing = df.copy()\n",
    "indices = [(i, j) for i in range(df.shape[0]) for j in range(df.shape[1])]\n",
    "rng.shuffle(indices)\n",
    "for i, j in indices[:10]:\n",
    "    df_missing.iat[i, j] = np.nan\n",
    "df_missing"
   ]
  },
  {
   "cell_type": "code",
   "execution_count": 8,
   "metadata": {
    "ExecuteTime": {
     "end_time": "2024-04-24T10:58:11.360790550Z",
     "start_time": "2024-04-24T10:58:11.315812849Z"
    },
    "collapsed": false
   },
   "outputs": [
    {
     "data": {
      "text/plain": "array([[85.        , 63.        , 51.        , 26.        , 30.        ],\n       [69.80000305,  7.        , 33.2444458 , 17.        , 28.45714378],\n       [64.        , 52.59999847, 50.        , 60.        , 40.65714264],\n       [72.        , 63.        , 54.        , 55.        , 40.65714264],\n       [72.19999695, 81.        , 67.        ,  0.        , 39.        ],\n       [85.        , 55.        ,  3.        , 76.        , 72.        ],\n       [84.        , 17.        ,  8.        , 86.        ,  2.        ],\n       [54.        , 52.59999847, 29.        , 48.        , 42.        ],\n       [73.80000305,  2.        ,  0.        , 12.        ,  0.        ],\n       [67.        , 52.        , 64.        , 46.2444458 , 61.        ]])"
     },
     "execution_count": 8,
     "metadata": {},
     "output_type": "execute_result"
    }
   ],
   "source": [
    "faiss_imputer = FaissImputer(n_neighbors=5, strategy=\"mean\")\n",
    "\n",
    "df_imputed_faiss = faiss_imputer.fit_transform(df_missing)\n",
    "df_imputed_faiss"
   ]
  },
  {
   "cell_type": "code",
   "execution_count": 9,
   "metadata": {
    "ExecuteTime": {
     "end_time": "2024-04-24T10:58:12.017341110Z",
     "start_time": "2024-04-24T10:58:11.979862921Z"
    },
    "collapsed": false
   },
   "outputs": [],
   "source": [
    "imputer = KNNImputer(n_neighbors=5)"
   ]
  },
  {
   "cell_type": "code",
   "execution_count": 10,
   "metadata": {
    "ExecuteTime": {
     "end_time": "2024-04-24T10:58:14.814817872Z",
     "start_time": "2024-04-24T10:58:14.802774507Z"
    },
    "collapsed": false
   },
   "outputs": [
    {
     "data": {
      "text/plain": "array([[85. , 63. , 51. , 26. , 30. ],\n       [68.4,  7. , 38.8, 17. , 27. ],\n       [64. , 50. , 50. , 60. , 41.4],\n       [72. , 63. , 54. , 55. , 48.8],\n       [68.4, 81. , 67. ,  0. , 39. ],\n       [85. , 55. ,  3. , 76. , 72. ],\n       [84. , 17. ,  8. , 86. ,  2. ],\n       [54. , 48. , 29. , 48. , 42. ],\n       [71.8,  2. ,  0. , 12. ,  0. ],\n       [67. , 52. , 64. , 37.8, 61. ]])"
     },
     "execution_count": 10,
     "metadata": {},
     "output_type": "execute_result"
    }
   ],
   "source": [
    "df_imputed_scikit = imputer.fit_transform(df_missing)\n",
    "df_imputed_scikit"
   ]
  },
  {
   "cell_type": "code",
   "execution_count": 12,
   "metadata": {
    "ExecuteTime": {
     "end_time": "2024-04-24T10:59:49.312441609Z",
     "start_time": "2024-04-24T10:59:49.264281741Z"
    },
    "collapsed": false
   },
   "outputs": [
    {
     "name": "stdout",
     "output_type": "stream",
     "text": [
      "Mean Squared Error: 4.38948107984583\n",
      "Mean Absolute Error: 0.7748571701049802\n"
     ]
    }
   ],
   "source": [
    "mse = np.mean((df_imputed_scikit - df_imputed_faiss) ** 2)\n",
    "mae = np.mean(np.abs(df_imputed_scikit - df_imputed_faiss))\n",
    "\n",
    "print(f\"Mean Squared Error: {mse}\")\n",
    "print(f\"Mean Absolute Error: {mae}\")"
   ]
  },
  {
   "cell_type": "markdown",
   "metadata": {
    "collapsed": false
   },
   "source": [
    "## Speed comparison"
   ]
  },
  {
   "cell_type": "code",
   "execution_count": 7,
   "metadata": {
    "ExecuteTime": {
     "end_time": "2024-04-24T10:56:18.352006752Z",
     "start_time": "2024-04-24T10:54:54.490986452Z"
    },
    "collapsed": false
   },
   "outputs": [
    {
     "data": {
      "image/png": "[encoded data removed]",
      "text/plain": "<Figure size 640x480 with 1 Axes>"
     },
     "metadata": {},
     "output_type": "display_data"
    }
   ],
   "source": [
    "import time\n",
    "import matplotlib.pyplot as plt\n",
    "from sklearn.datasets import make_classification\n",
    "\n",
    "n_samples, n_features = 10000, 50\n",
    "X, _ = make_classification(n_samples=n_samples, n_features=n_features, random_state=42)\n",
    "X = pd.DataFrame(X)\n",
    "n_missing = int(n_samples * n_features * 0.1)\n",
    "missing_indices = np.random.choice(X.size, n_missing, replace=False)\n",
    "X.values[np.unravel_index(missing_indices, X.shape)] = np.nan\n",
    "\n",
    "knn_imputer = KNNImputer(n_neighbors=5)\n",
    "faiss_imputer = FaissImputer(n_neighbors=5)\n",
    "\n",
    "start_time = time.time()\n",
    "knn_imputed = knn_imputer.fit_transform(X)\n",
    "knn_time = time.time() - start_time\n",
    "\n",
    "start_time = time.time()\n",
    "faiss_imputed = faiss_imputer.fit_transform(X)\n",
    "faiss_time = time.time() - start_time\n",
    "\n",
    "times = [knn_time, faiss_time]\n",
    "labels = [\"scikit-learn KNNImputer\", \"FaissImputer\"]\n",
    "plt.bar(labels, times, color=[\"blue\", \"green\"])\n",
    "plt.ylabel(\"Time in seconds\")\n",
    "plt.title(\"Imputation Time Comparison\")\n",
    "plt.show()"
   ]
  }
 ],
 "metadata": {
  "kernelspec": {
   "display_name": "Python 3.9.12 ('squidpy39')",
   "language": "python",
   "name": "python3"
  },
  "language_info": {
   "codemirror_mode": {
    "name": "ipython",
    "version": 3
   },
   "file_extension": ".py",
   "mimetype": "text/x-python",
   "name": "python",
   "nbconvert_exporter": "python",
   "pygments_lexer": "ipython3",
   "version": "3.11.3"
  },
  "vscode": {
   "interpreter": {
    "hash": "ae6466e8d4f517858789b5c9e8f0ed238fb8964458a36305fca7bddc149e9c64"
   }
  }
 },
 "nbformat": 4,
 "nbformat_minor": 4
}
