{
 "cells": [
  {
   "cell_type": "code",
   "execution_count": 1,
   "id": "b094cf45",
   "metadata": {},
   "outputs": [],
   "source": [
    "import righor\n",
    "import matplotlib.pyplot as plt\n",
    "import seaborn\n",
    "import pandas as pd\n",
    "from tqdm.notebook import tqdm\n",
    "from collections import Counter\n",
    "import numpy as np\n",
    "\n",
    "# load the model\n",
    "igor_model = righor.load_model(\"human\", \"trb\")\n",
    "\n",
    "# alternatively, you can load a model from igor files \n",
    "# igor_model = righor.load_model_from_files(params.txt, marginals.txt, anchor_v.csv, anchor_j.csv)"
   ]
  },
  {
   "cell_type": "code",
   "execution_count": 2,
   "id": "81148148",
   "metadata": {},
   "outputs": [
    {
     "data": {
      "application/vnd.jupyter.widget-view+json": {
       "model_id": "0a71763365ae42d19ff8e732a2e55541",
       "version_major": 2,
       "version_minor": 0
      },
      "text/plain": [
       "  0%|          | 0/10000 [00:00<?, ?it/s]"
      ]
     },
     "metadata": {},
     "output_type": "display_data"
    },
    {
     "name": "stdout",
     "output_type": "stream",
     "text": [
      "TRB CDR3 containing \"IGH\": CASSEKGGGQIGHSYEQYF\n",
      "\n",
      "Result:\n",
      "GenerationResult(\n",
      "CDR3 (nucletides): TGTGCCAGCATTCGCCACGGGAGGAATGACTATGGCTACACCTTC,\n",
      "CDR3 (amino-acids): CASIRHGRNDYGYTF,\n",
      "Full sequence (nucleotides): GAACCTGAAGTCACCCAGACTCCCAGCCAT...,\n",
      "V gene: TRBV2*01,\n",
      "J gene: TRBJ1-2*01)\n",
      "\t\t \n",
      "Explicit recombination event:\n",
      "StaticEvent(\n",
      "nb. del. on V3: 11,\n",
      "nb. del. on D5: 13,\n",
      "nb. del. on D3: 8,\n",
      "nb. del. on J5: 7,\n",
      "V-D insertions: TTCGCCAC,\n",
      "D-J insertions: AGGAATG)\n"
     ]
    }
   ],
   "source": [
    "## Generate sequences\n",
    "\n",
    "# Create a generator object\n",
    "generator = igor_model.generator(seed=42) # or igor_model.generator() to run it without a seed\n",
    "\n",
    "# Generate 10'000 functional sequences (not out-of-frame, no stop codons, right boundaries)\n",
    "for _ in tqdm(range(10000)):\n",
    "    # generate_without_errors ignore Igor error model, use \"generate\" if this is needed\n",
    "    sequence = generator.generate_without_errors(functional=True)\n",
    "    if \"IGH\" in sequence.cdr3_aa:\n",
    "        print(\"TRB CDR3 containing \\\"IGH\\\":\", sequence.cdr3_aa)\n",
    "\n",
    "print()\n",
    "\n",
    "# Generate one sequence with a particular V/J genes family \n",
    "V_genes = righor.genes_matching(\"TRBV2\", igor_model) # return all the V genes that match TRBV5\n",
    "J_genes = righor.genes_matching(\"TRBJ\", igor_model) # all the J genes\n",
    "generator = igor_model.generator(seed=42, available_v=V_genes, available_j=J_genes) \n",
    "generation_result = generator.generate_without_errors(functional=True)\n",
    "print(\"Result:\")\n",
    "print(generation_result)\n",
    "print(\"Explicit recombination event:\")\n",
    "print(generation_result.recombination_event)"
   ]
  },
  {
   "cell_type": "code",
   "execution_count": 3,
   "id": "6cd32849",
   "metadata": {},
   "outputs": [
    {
     "name": "stdout",
     "output_type": "stream",
     "text": [
      "Probability that this specific event chain created the sequence: 0.29.\n",
      "Reconstructed sequence (without errors): GAAGCTGACATCTACCAGACCCCAAGATACCTTGTTATAGGGACAGGAAAGAAGATCACTCTGGAATGTTCTCAAACCATGGGCCATGACAAAATGTACTGGTATCAACAAGATCCAGGAATGGAACTACACCTCATCCACTATTCCTATGGAGTTAATTCCACAGAGAAGGGAGATCTTTCCTCTGAGTCAACAGTCTCCAGAATAAGGACGGAGCATTTTCCCCTGACCCTGGAGTCTGCCAGGCCCTCACATACCTCTCAGTACCTCTGTGCCAGCAGTGAGGACAGGGACGTCACTGAAGCTTTCTTTGGACAAGGCACCAGACTCACAGTTGTAG\n",
      "Pgen: 9.6e-13\n"
     ]
    }
   ],
   "source": [
    "## Evaluate a given sequence\n",
    "\n",
    "my_sequence = \"ACCCTCCAGTCTGCCAGGCCCTCACATACCTCTCAGTACCTCTGTGCCAGCAGTGAGGACAGGGACGTCACTGAAGCTTTCTTTGGACAAGGCACC\"\n",
    "\n",
    "# first align the sequence\n",
    "align_params = righor.AlignmentParameters() # default alignment parameters\n",
    "aligned_sequence = igor_model.align_sequence(my_sequence, align_params)\n",
    "\n",
    "# we can also align a sequence from a CDR3 and a list of V-genes and J-genes (much faster)\n",
    "# v_genes = righor.genes_matching(\"TRBV1\", igor_model)\n",
    "# j_genes = righor.genes_matching(\"TRBJ1\", igor_model)\n",
    "# igor_model.align_cdr3('TGTGTGAGAGATATTGTAGTAGTACCAGCTGCTAACCGCTTTCCTTCTTACTACTACTACTACTACATGGACGTCTGG', v_genes, j_genes)\n",
    "\n",
    "# then evaluate it\n",
    "infer_params = righor.InferenceParameters() # default inference parameters\n",
    "result_inference = igor_model.evaluate(aligned_sequence, infer_params)\n",
    "\n",
    "# Most likely scenario\n",
    "best_event = result_inference.best_event\n",
    "\n",
    "print(f\"Probability that this specific event chain created the sequence: {best_event.likelihood / result_inference.likelihood:.2f}.\")\n",
    "print(f\"Reconstructed sequence (without errors):\", best_event.reconstructed_sequence)\n",
    "print(f\"Pgen: {result_inference.pgen:.1e}\")"
   ]
  },
  {
   "cell_type": "code",
   "execution_count": 4,
   "id": "f4d67a05",
   "metadata": {},
   "outputs": [
    {
     "data": {
      "application/vnd.jupyter.widget-view+json": {
       "model_id": "d462b57a0a784af586ff18e58e5698d1",
       "version_major": 2,
       "version_minor": 0
      },
      "text/plain": [
       "  0%|          | 0/35 [00:00<?, ?it/s]"
      ]
     },
     "metadata": {},
     "output_type": "display_data"
    }
   ],
   "source": [
    "# Inference of a model (takes ~10min)\n",
    "\n",
    "# here we just generate the sequences needed\n",
    "generator = igor_model.generator()\n",
    "example_seq = generator.generate(False)\n",
    "sequences = [generator.generate(False).full_seq for _ in range(1000)]\n",
    "\n",
    "# define parameters for the alignment and the inference\n",
    "align_params = righor.AlignmentParameters()\n",
    "align_params.left_v_cutoff = 40\n",
    "infer_params = righor.InferenceParameters()\n",
    "\n",
    "# generate an uniform model as a starting point \n",
    "# (it's generally *much* faster to start from an already inferred model)\n",
    "model = igor_model.copy()\n",
    "model.p_ins_vd = np.ones(model.p_ins_vd.shape)\n",
    "model.error_rate = 0\n",
    "\n",
    "# align multiple sequences at once\n",
    "aligned_sequences = model.align_all_sequences(sequences, align_params)\n",
    "\n",
    "# multiple round of expectation-maximization to infer the model\n",
    "models = {}\n",
    "model = igor_model.uniform()\n",
    "model.error_rate = 0\n",
    "models[0] = model\n",
    "for ii in tqdm(range(35)):\n",
    "    models[ii+1] = models[ii].copy()\n",
    "    models[ii+1].infer(aligned_sequences, infer_params)"
   ]
  },
  {
   "cell_type": "code",
   "execution_count": 27,
   "id": "4e900e03",
   "metadata": {},
   "outputs": [
    {
     "name": "stdout",
     "output_type": "stream",
     "text": [
      "Save the model in IGoR format: create a directory 'directory'\n",
      "and four files that represents the model.\n"
     ]
    }
   ],
   "source": [
    "models[10].save_model('test_save')"
   ]
  },
  {
   "cell_type": "code",
   "execution_count": 25,
   "id": "648f4fa6",
   "metadata": {},
   "outputs": [
    {
     "ename": "RuntimeError",
     "evalue": "File exists (os error 17)",
     "output_type": "error",
     "traceback": [
      "\u001b[0;31m---------------------------------------------------------------------------\u001b[0m",
      "\u001b[0;31mRuntimeError\u001b[0m                              Traceback (most recent call last)",
      "Cell \u001b[0;32mIn[25], line 3\u001b[0m\n\u001b[1;32m      1\u001b[0m \u001b[38;5;66;03m# save the model in the Igor format\u001b[39;00m\n\u001b[1;32m      2\u001b[0m \u001b[38;5;66;03m# will return an error if the directory already exists\u001b[39;00m\n\u001b[0;32m----> 3\u001b[0m \u001b[43mmodels\u001b[49m\u001b[43m[\u001b[49m\u001b[38;5;241;43m10\u001b[39;49m\u001b[43m]\u001b[49m\u001b[38;5;241;43m.\u001b[39;49m\u001b[43msave_model\u001b[49m\u001b[43m(\u001b[49m\u001b[38;5;124;43m'\u001b[39;49m\u001b[38;5;124;43mtest_save\u001b[39;49m\u001b[38;5;124;43m'\u001b[39;49m\u001b[43m)\u001b[49m\n\u001b[1;32m      4\u001b[0m \u001b[38;5;66;03m# load the model\u001b[39;00m\n\u001b[1;32m      5\u001b[0m igor_model \u001b[38;5;241m=\u001b[39m righor\u001b[38;5;241m.\u001b[39mvdj\u001b[38;5;241m.\u001b[39mModel\u001b[38;5;241m.\u001b[39mload_model_from_files(\u001b[38;5;124m'\u001b[39m\u001b[38;5;124mtest_save/model_params.txt\u001b[39m\u001b[38;5;124m'\u001b[39m,\n\u001b[1;32m      6\u001b[0m                                           \u001b[38;5;124m'\u001b[39m\u001b[38;5;124mtest_save/model_marginals.txt\u001b[39m\u001b[38;5;124m'\u001b[39m,\n\u001b[1;32m      7\u001b[0m                                           \u001b[38;5;124m'\u001b[39m\u001b[38;5;124mtest_save/V_gene_CDR3_anchors.csv\u001b[39m\u001b[38;5;124m'\u001b[39m,\n\u001b[1;32m      8\u001b[0m                                           \u001b[38;5;124m'\u001b[39m\u001b[38;5;124mtest_save/J_gene_CDR3_anchors.csv\u001b[39m\u001b[38;5;124m'\u001b[39m)\n",
      "\u001b[0;31mRuntimeError\u001b[0m: File exists (os error 17)"
     ]
    }
   ],
   "source": [
    "# save the model in the Igor format\n",
    "# will return an error if the directory already exists\n",
    "models[10].save_model('test_save')\n",
    "# load the model\n",
    "igor_model = righor.vdj.Model.load_model_from_files('test_save/model_params.txt',\n",
    "                                          'test_save/model_marginals.txt',\n",
    "                                          'test_save/V_gene_CDR3_anchors.csv',\n",
    "                                          'test_save/J_gene_CDR3_anchors.csv')\n",
    "\n",
    "# save the model in json format (one file)\n",
    "models[10].save_json('test_save.json')\n",
    "# load the model in json\n",
    "igor_model = righor.vdj.Model.load_json('test_save.json')"
   ]
  },
  {
   "cell_type": "code",
   "execution_count": 6,
   "id": "8efe79c0",
   "metadata": {},
   "outputs": [
    {
     "data": {
      "text/plain": [
       "<matplotlib.collections.PathCollection at 0x7f8ff97ab820>"
      ]
     },
     "execution_count": 6,
     "metadata": {},
     "output_type": "execute_result"
    },
    {
     "data": {
      "image/png": "[encoded data removed]",
      "text/plain": [
       "<Figure size 640x480 with 1 Axes>"
      ]
     },
     "metadata": {},
     "output_type": "display_data"
    }
   ],
   "source": [
    "plt.scatter(range(models[5].p_ins_vd.shape[0]), models[5].p_ins_vd)\n",
    "plt.scatter(range(igor_model.p_ins_vd.shape[0]), igor_model.p_ins_vd)"
   ]
  },
  {
   "cell_type": "code",
   "execution_count": 5,
   "id": "016bf7d5",
   "metadata": {},
   "outputs": [],
   "source": [
    "v_genes = righor.genes_matching(\"TRBV1\", igor_model)\n",
    "j_genes = righor.genes_matching(\"TRBJ1\", igor_model)\n",
    "igor_model.align_cdr3('TGTGTGAGAGATATTGTAGTAGTACCAGCTGCTAACCGCTTTCCTTCTTACTACTACTACTACTACATGGACGTCTGG', v_genes, j_genes)\n",
    "infer_params = righor.InferenceParameters() # default inference parameters\n",
    "result_inference = igor_model.evaluate(aligned_sequence, infer_params)\n"
   ]
  },
  {
   "cell_type": "code",
   "execution_count": 18,
   "id": "1c360f21",
   "metadata": {},
   "outputs": [
    {
     "data": {
      "text/plain": [
       "True"
      ]
     },
     "execution_count": 18,
     "metadata": {},
     "output_type": "execute_result"
    }
   ],
   "source": [
    "result_inference.best_event.cdr3.get_string() == \"tgtgccagcagtgaggacagggacgtcactgaagctttcttt\".upper()"
   ]
  },
  {
   "cell_type": "code",
   "execution_count": 15,
   "id": "818fc068",
   "metadata": {},
   "outputs": [
    {
     "name": "stdout",
     "output_type": "stream",
     "text": [
      "TGTGCCAGCAGTGAGGACAGGGACGTCACTGAAGCTTTCTTT\n"
     ]
    }
   ],
   "source": []
  },
  {
   "cell_type": "code",
   "execution_count": 19,
   "id": "db945695",
   "metadata": {},
   "outputs": [
    {
     "data": {
      "text/plain": [
       "CASSEDRDVTEAFF"
      ]
     },
     "execution_count": 19,
     "metadata": {},
     "output_type": "execute_result"
    }
   ],
   "source": [
    "result_inference.best_event.cdr3.translate()"
   ]
  },
  {
   "cell_type": "code",
   "execution_count": null,
   "id": "1e6c7e83",
   "metadata": {},
   "outputs": [],
   "source": []
  }
 ],
 "metadata": {
  "kernelspec": {
   "display_name": "Python 3 (ipykernel)",
   "language": "python",
   "name": "python3"
  },
  "language_info": {
   "codemirror_mode": {
    "name": "ipython",
    "version": 3
   },
   "file_extension": ".py",
   "mimetype": "text/x-python",
   "name": "python",
   "nbconvert_exporter": "python",
   "pygments_lexer": "ipython3",
   "version": "3.10.10"
  }
 },
 "nbformat": 4,
 "nbformat_minor": 5
}
