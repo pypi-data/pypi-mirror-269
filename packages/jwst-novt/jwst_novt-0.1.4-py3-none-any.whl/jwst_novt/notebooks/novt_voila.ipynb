{
 "cells": [
  {
   "cell_type": "code",
   "execution_count": null,
   "id": "004b39a0-17c0-4acf-9769-e8940034ed02",
   "metadata": {
    "tags": []
   },
   "outputs": [],
   "source": [
    "from IPython.display import display\n",
    "\n",
    "from jwst_novt.interact.control_instruments import ControlInstruments\n",
    "from jwst_novt.interact.save_overlays import SaveOverlays\n",
    "from jwst_novt.interact.show_overlays import ShowOverlays\n",
    "from jwst_novt.interact.show_timeline import ShowTimeline\n",
    "from jwst_novt.interact.style_application import StyleApplication\n",
    "from jwst_novt.interact.upload_data import UploadData\n",
    "from jwst_novt.interact.view_image import ViewImage\n",
    "\n",
    "NOVT_CONTEXT = \"novt_voila\""
   ]
  },
  {
   "cell_type": "code",
   "execution_count": null,
   "id": "2f680961-c821-46b5-b297-e0689aa56071",
   "metadata": {
    "tags": []
   },
   "outputs": [],
   "source": [
    "# make widgets\n",
    "image_viewer = ViewImage()\n",
    "uploaded_data = UploadData(image_viewer.viz, allow_configuration=True)\n",
    "nirspec_controls = ControlInstruments(\"NIRSpec\", image_viewer.viz)\n",
    "nircam_controls = ControlInstruments(\"NIRCam\", image_viewer.viz)\n",
    "timeline_controls = ShowTimeline()\n",
    "overlay_controls = ShowOverlays(\n",
    "    image_viewer.viz, uploaded_data, nirspec=nirspec_controls, nircam=nircam_controls\n",
    ")\n",
    "save_controls = SaveOverlays(overlay_controls, allow_configuration=True)\n",
    "application_style = StyleApplication(\n",
    "    image_viewer,\n",
    "    uploaded_data,\n",
    "    nirspec_controls,\n",
    "    nircam_controls,\n",
    "    timeline_controls,\n",
    "    overlay_controls,\n",
    "    save_controls,\n",
    "    context=NOVT_CONTEXT,\n",
    ")"
   ]
  },
  {
   "cell_type": "code",
   "execution_count": null,
   "id": "f5b1b86e-7fa8-4f76-9101-61dc5f4c2eb3",
   "metadata": {
    "tags": []
   },
   "outputs": [],
   "source": [
    "# display widgets\n",
    "display(application_style.widgets)"
   ]
  }
 ],
 "metadata": {
  "kernelspec": {
   "display_name": "Python 3 (ipykernel)",
   "language": "python",
   "name": "python3"
  },
  "language_info": {
   "codemirror_mode": {
    "name": "ipython",
    "version": 3
   },
   "file_extension": ".py",
   "mimetype": "text/x-python",
   "name": "python",
   "nbconvert_exporter": "python",
   "pygments_lexer": "ipython3",
   "version": "3.11.3"
  }
 },
 "nbformat": 4,
 "nbformat_minor": 5
}
