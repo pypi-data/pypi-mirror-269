{
 "cells": [
  {
   "cell_type": "markdown",
   "metadata": {
    "tags": []
   },
   "source": [
    "# JWST NIRSpec Observation Visualization Tool (NOVT): Aperture and Visibility Tools\n",
    "-----------------------------------------------------------------------------------\n",
    "**Author**: Melanie Clarke (mclarke@stsci.edu) | **Latest update**: May 17, 2023.\n",
    "<a class=\"anchor\" id=\"title\"></a>\n",
    "\n",
    "## Notebook Goals\n",
    "Use NOVT tools to determine NIRSpec and NIRCam apertures and visibility for\n",
    "a specific target within a range of dates.\n"
   ]
  },
  {
   "cell_type": "markdown",
   "metadata": {},
   "source": [
    "## Table of contents\n",
    "1. [Introduction](#intro)\n",
    "2. [Determine visibility ranges](#visibility)\n",
    "3. [Set aperture locations](#apertures)\n",
    "4. [Check target coverage](#targets)\n",
    "5. [Save DS9 regions](#regions)"
   ]
  },
  {
   "cell_type": "markdown",
   "metadata": {},
   "source": [
    "<a class=\"anchor\" id=\"intro\"></a>\n",
    "## Introduction\n",
    "\n",
    "The NOVT package contains tools intended to assist in visualizing and planning NIRSpec observations, especially for multi-object spectroscopy (MOS) observations that require NIRCam pre-imaging observations.\n",
    "\n",
    "STScI plans to host a web application that uses NOVT tools to plot target visibility and display NIRSpec and NIRCam apertures over a FITS image.  This notebook demonstrates how to use the same tools to generate inputs that may be used programmatically, or with your preferred visualization tool."
   ]
  },
  {
   "cell_type": "markdown",
   "metadata": {},
   "source": [
    "To start, we import some necessary packages."
   ]
  },
  {
   "cell_type": "code",
   "execution_count": null,
   "metadata": {
    "ExecuteTime": {
     "end_time": "2023-05-17T22:57:43.355570Z",
     "start_time": "2023-05-17T22:57:32.136202Z"
    },
    "collapsed": false,
    "jupyter": {
     "outputs_hidden": false
    },
    "tags": []
   },
   "outputs": [],
   "source": [
    "import datetime\n",
    "\n",
    "import numpy as np\n",
    "import pandas as pd\n",
    "from astropy import units\n",
    "from astropy.coordinates import SkyCoord\n",
    "from astropy.stats import circmean\n",
    "from astropy.wcs import WCS\n",
    "\n",
    "from jwst_novt import footprints as fp\n",
    "from jwst_novt import timeline as tl"
   ]
  },
  {
   "cell_type": "markdown",
   "metadata": {},
   "source": [
    "For this example, we will set our target field to a location near the center of M51 (NGC 5194)."
   ]
  },
  {
   "cell_type": "code",
   "execution_count": null,
   "metadata": {
    "ExecuteTime": {
     "end_time": "2023-05-17T22:57:43.358297Z",
     "start_time": "2023-05-17T22:57:43.356254Z"
    },
    "collapsed": false,
    "jupyter": {
     "outputs_hidden": false
    },
    "tags": []
   },
   "outputs": [],
   "source": [
    "# right ascension and declination in degrees\n",
    "# center is at 202.46959, 47.195187\n",
    "ra = 202.4792\n",
    "dec = 47.1902"
   ]
  },
  {
   "cell_type": "markdown",
   "metadata": {},
   "source": [
    "<a class=\"anchor\" id=\"visibility\"></a>\n",
    "## Determine visibility ranges\n",
    "\n",
    "JWST has ranges of time for which a particular target is visible. Within those ranges, the position angle (PA) for an instrument is tightly constrained by date. We use the NOVT timeline function to derive periods of visibility and the PA for NIRSpec and NIRCam during those times.\n",
    "\n",
    "Note that this function uses astroquery to find a current ephemeris for JWST, so an internet connection is required to run it."
   ]
  },
  {
   "cell_type": "markdown",
   "metadata": {},
   "source": [
    "By default, the timeline function reports visibility data for one year from the current date for both NIRSpec and NIRCam.  The output is a dataframe with time and angle data."
   ]
  },
  {
   "cell_type": "code",
   "execution_count": null,
   "metadata": {
    "ExecuteTime": {
     "end_time": "2023-05-17T22:57:44.525193Z",
     "start_time": "2023-05-17T22:57:43.359682Z"
    },
    "collapsed": false,
    "jupyter": {
     "outputs_hidden": false
    },
    "tags": []
   },
   "outputs": [],
   "source": [
    "timeline_data = tl.timeline(ra, dec)\n",
    "timeline_data"
   ]
  },
  {
   "cell_type": "markdown",
   "metadata": {},
   "source": [
    "Times for which the target is not visible are marked in the angle columns with NaN values.  Let's take the first week for which the target is visible."
   ]
  },
  {
   "cell_type": "code",
   "execution_count": null,
   "metadata": {
    "ExecuteTime": {
     "end_time": "2023-05-17T22:57:44.528845Z",
     "start_time": "2023-05-17T22:57:44.526732Z"
    },
    "collapsed": false,
    "jupyter": {
     "outputs_hidden": false
    },
    "tags": []
   },
   "outputs": [],
   "source": [
    "# find all visible periods\n",
    "visible = ~np.isnan(timeline_data[\"V3PA\"])\n",
    "\n",
    "# take the first visible date as the start date\n",
    "start_date = timeline_data.loc[visible, \"Time\"].iloc[0]\n",
    "\n",
    "# take the first visible date more than a week out as the end date\n",
    "one_week = start_date + datetime.timedelta(days=7)\n",
    "in_range = visible & (timeline_data[\"Time\"] > one_week)\n",
    "end_date = timeline_data.loc[in_range, \"Time\"].iloc[0]\n",
    "\n",
    "print(f\"Visible date range: {start_date} - {end_date}\")"
   ]
  },
  {
   "cell_type": "markdown",
   "metadata": {},
   "source": [
    "We can get the PA values for NIRCam and NIRSpec within those dates from the timeline dataframe."
   ]
  },
  {
   "cell_type": "code",
   "execution_count": null,
   "metadata": {
    "ExecuteTime": {
     "end_time": "2023-05-17T22:57:44.535693Z",
     "start_time": "2023-05-17T22:57:44.532964Z"
    },
    "collapsed": false,
    "jupyter": {
     "outputs_hidden": false
    },
    "tags": []
   },
   "outputs": [],
   "source": [
    "date_range = timeline_data[\"Time\"].between(start_date, end_date, inclusive=\"both\")\n",
    "pa = timeline_data.loc[date_range]\n",
    "pa"
   ]
  },
  {
   "cell_type": "markdown",
   "metadata": {},
   "source": [
    "We can get the average value in the date range with a circular mean."
   ]
  },
  {
   "cell_type": "code",
   "execution_count": null,
   "metadata": {
    "ExecuteTime": {
     "end_time": "2023-05-17T22:57:44.538653Z",
     "start_time": "2023-05-17T22:57:44.536790Z"
    },
    "collapsed": false,
    "jupyter": {
     "outputs_hidden": false
    },
    "tags": []
   },
   "outputs": [],
   "source": [
    "# Use min and max PA data for each instrument, where values are not NaN\n",
    "nircam_pa = np.array([pa[\"NIRCAM_min_PA\"], pa[\"NIRCAM_max_PA\"]])\n",
    "nircam_avg = circmean(nircam_pa[~np.isnan(nircam_pa)] * units.deg)\n",
    "\n",
    "nirspec_pa = np.array([pa[\"NIRSPEC_min_PA\"], pa[\"NIRSPEC_max_PA\"]])\n",
    "nirspec_avg = circmean(nirspec_pa[~np.isnan(nirspec_pa)] * units.deg)\n",
    "\n",
    "# Wrap negative angles\n",
    "nircam_avg_pa = (nircam_avg.value + 360) % 360\n",
    "nirspec_avg_pa = (nirspec_avg.value + 360) % 360\n",
    "\n",
    "print(f\"Average NIRCam PA this week: {nircam_avg_pa:.2f} deg\")\n",
    "print(f\"Average NIRSpec PA this week: {nirspec_avg_pa:.2f} deg\")"
   ]
  },
  {
   "cell_type": "markdown",
   "metadata": {},
   "source": [
    "<a class=\"anchor\" id=\"apertures\"></a>\n",
    "## Set aperture locations\n",
    "\n",
    "We can use the NOVT footprints module to project JWST instrument apertures onto the sky at a given target location and with a specified position angle.\n",
    "\n",
    "Target location and PA are set separately for NIRSpec and NIRCam, to allow optimization of particular pointings in planning the NIRCam pre-imaging, and to explore a range of possible position angles set by the observation timing.\n",
    "\n",
    "NOVT returns aperture regions as a set of <a href=\"https://astropy-regions.readthedocs.io/en/stable/\">astropy regions</a> in sky coordinates. These can be used to determine if a particular target is contained within a specified region, or can be displayed as an overlay on a FITS image of the target."
   ]
  },
  {
   "cell_type": "markdown",
   "metadata": {},
   "source": [
    "By default, the NIRSpec footprint includes all the NIRSpec apertures (MSA, IFU, fixed slits). Here, we retrieve only the four MSA apertures."
   ]
  },
  {
   "cell_type": "code",
   "execution_count": null,
   "metadata": {
    "ExecuteTime": {
     "end_time": "2023-05-17T22:57:44.630592Z",
     "start_time": "2023-05-17T22:57:44.539526Z"
    },
    "collapsed": false,
    "jupyter": {
     "outputs_hidden": false
    },
    "tags": []
   },
   "outputs": [],
   "source": [
    "nirspec_regions = fp.nirspec_footprint(\n",
    "    ra,\n",
    "    dec,\n",
    "    nirspec_avg_pa,\n",
    "    include_center=False,\n",
    "    apertures=[\"NRS_FULL_MSA1\", \"NRS_FULL_MSA2\", \"NRS_FULL_MSA3\", \"NRS_FULL_MSA4\"],\n",
    ")\n",
    "nirspec_regions"
   ]
  },
  {
   "cell_type": "markdown",
   "metadata": {},
   "source": [
    "The Short and Long channels for NIRCam have separate, overlapping footprints."
   ]
  },
  {
   "cell_type": "code",
   "execution_count": null,
   "metadata": {
    "ExecuteTime": {
     "end_time": "2023-05-17T22:57:44.745572Z",
     "start_time": "2023-05-17T22:57:44.576142Z"
    },
    "collapsed": false,
    "jupyter": {
     "outputs_hidden": false
    },
    "tags": []
   },
   "outputs": [],
   "source": [
    "nircam_long_regions = fp.nircam_long_footprint(\n",
    "    ra, dec, nircam_avg_pa, include_center=False\n",
    ")\n",
    "nircam_long_regions"
   ]
  },
  {
   "cell_type": "code",
   "execution_count": null,
   "metadata": {
    "ExecuteTime": {
     "end_time": "2023-05-17T22:57:44.932276Z",
     "start_time": "2023-05-17T22:57:44.746114Z"
    },
    "collapsed": false,
    "jupyter": {
     "outputs_hidden": false
    },
    "tags": []
   },
   "outputs": [],
   "source": [
    "nircam_short_regions = fp.nircam_short_footprint(\n",
    "    ra, dec, nircam_avg_pa, include_center=False\n",
    ")\n",
    "nircam_short_regions"
   ]
  },
  {
   "cell_type": "markdown",
   "metadata": {},
   "source": [
    "NIRCam regions can additionally be computed with a dither pattern applied and/or with offsets for a two-tile mosaic."
   ]
  },
  {
   "cell_type": "code",
   "execution_count": null,
   "metadata": {
    "ExecuteTime": {
     "end_time": "2023-05-17T22:57:46.761675Z",
     "start_time": "2023-05-17T22:57:44.932655Z"
    },
    "collapsed": false,
    "jupyter": {
     "outputs_hidden": false
    },
    "tags": []
   },
   "outputs": [],
   "source": [
    "print(\"Number of regions in NIRCam long field: \", len(nircam_long_regions))\n",
    "\n",
    "# use a 3-point dither pattern\n",
    "dither_pattern = \"FULL3\"\n",
    "dither = fp.nircam_dither_footprint(\n",
    "    ra,\n",
    "    dec,\n",
    "    nircam_avg_pa,\n",
    "    channel=\"long\",\n",
    "    include_center=False,\n",
    "    dither_pattern=dither_pattern,\n",
    ")\n",
    "print(\"Number of regions in dithered NIRCam long field: \", len(dither))\n",
    "\n",
    "# use a 2-tile mosaic\n",
    "mosaic_offset = (20, 100)  # arcsec\n",
    "mosaic = fp.nircam_dither_footprint(\n",
    "    ra,\n",
    "    dec,\n",
    "    nircam_avg_pa,\n",
    "    channel=\"long\",\n",
    "    include_center=False,\n",
    "    add_mosaic=True,\n",
    "    mosaic_offset=mosaic_offset,\n",
    ")\n",
    "print(\"Number of regions in mosaicked NIRCam long field: \", len(mosaic))\n",
    "\n",
    "# use the 3-point pattern with the 2-tile mosaic\n",
    "dither_mosaic = fp.nircam_dither_footprint(\n",
    "    ra,\n",
    "    dec,\n",
    "    nircam_avg_pa,\n",
    "    channel=\"long\",\n",
    "    include_center=False,\n",
    "    dither_pattern=dither_pattern,\n",
    "    add_mosaic=True,\n",
    "    mosaic_offset=mosaic_offset,\n",
    ")\n",
    "print(\n",
    "    \"Number of regions in dithered and mosaicked NIRCam long field: \",\n",
    "    len(dither_mosaic),\n",
    ")"
   ]
  },
  {
   "cell_type": "markdown",
   "metadata": {},
   "source": [
    "<a class=\"anchor\" id=\"targets\"></a>\n",
    "## Check target coverage\n",
    "\n",
    "Instrument aperture regions can be used to check whether a particular source is covered by both the NIRSpec MSA apertures and the NIRCam apertures.\n",
    "\n",
    "If you have a source catalog in .radec form, the NOVT tools can read it in and create regions identifying the specified sources. This file should have the form of a text file with two or three columns, where the first is RA in degrees, the second is Dec in degrees, and the optional third column flags sources as either primary ('P') or filler ('F')."
   ]
  },
  {
   "cell_type": "markdown",
   "metadata": {},
   "source": [
    "If you want to read your own catalog in to a set of regions, use the jwst_novt.footprints.source_catalog function."
   ]
  },
  {
   "cell_type": "code",
   "execution_count": null,
   "metadata": {
    "ExecuteTime": {
     "end_time": "2023-05-17T22:57:46.799689Z",
     "start_time": "2023-05-17T22:57:46.779714Z"
    },
    "collapsed": false,
    "jupyter": {
     "outputs_hidden": false
    },
    "tags": []
   },
   "outputs": [],
   "source": [
    "?fp.source_catalog"
   ]
  },
  {
   "cell_type": "markdown",
   "metadata": {},
   "source": [
    "Here, we define a small catalog inline for testing."
   ]
  },
  {
   "cell_type": "code",
   "execution_count": null,
   "metadata": {
    "ExecuteTime": {
     "end_time": "2023-05-17T22:57:46.825375Z",
     "start_time": "2023-05-17T22:57:46.799868Z"
    },
    "collapsed": false,
    "jupyter": {
     "outputs_hidden": false
    },
    "tags": []
   },
   "outputs": [],
   "source": [
    "catalog = pd.DataFrame(\n",
    "    {\n",
    "        \"ra\": [\n",
    "            202.46875,\n",
    "            202.46587,\n",
    "            202.47322,\n",
    "            202.46553,\n",
    "            202.46538,\n",
    "            202.47324,\n",
    "            202.47409,\n",
    "            202.47295,\n",
    "            202.46466,\n",
    "            202.46596,\n",
    "        ],\n",
    "        \"dec\": [\n",
    "            47.19884,\n",
    "            47.19392,\n",
    "            47.19707,\n",
    "            47.19569,\n",
    "            47.1945,\n",
    "            47.19746,\n",
    "            47.19543,\n",
    "            47.19178,\n",
    "            47.19452,\n",
    "            47.19864,\n",
    "        ],\n",
    "        \"flag\": [\"P\", \"P\", \"F\", \"F\", \"F\", \"P\", \"F\", \"F\", \"P\", \"F\"],\n",
    "    }\n",
    ")\n",
    "catalog"
   ]
  },
  {
   "cell_type": "markdown",
   "metadata": {},
   "source": [
    "We can use the catalog to test if our aperture regions are covering our most important targets.\n",
    "\n",
    "Note that sky regions require a WCS for 'contains' calculations. This can be read from a FITS file if you have one from which your source catalog was derived. We'll make a simple one for testing."
   ]
  },
  {
   "cell_type": "code",
   "execution_count": null,
   "metadata": {
    "tags": []
   },
   "outputs": [],
   "source": [
    "# make a simple WCS centered at our target location\n",
    "wcs = WCS(\n",
    "    {\n",
    "        \"CTYPE1\": \"RA---TAN\",\n",
    "        \"CUNIT1\": \"deg\",\n",
    "        \"CDELT1\": -1 / 3600.0,\n",
    "        \"CRPIX1\": 1,\n",
    "        \"CRVAL1\": ra,\n",
    "        \"CTYPE2\": \"DEC--TAN\",\n",
    "        \"CUNIT2\": \"deg\",\n",
    "        \"CDELT2\": 1 / 3600,\n",
    "        \"CRPIX2\": 1,\n",
    "        \"CRVAL2\": dec,\n",
    "    }\n",
    ")"
   ]
  },
  {
   "cell_type": "code",
   "execution_count": null,
   "metadata": {
    "ExecuteTime": {
     "end_time": "2023-05-17T22:57:46.825544Z",
     "start_time": "2023-05-17T22:57:46.800066Z"
    },
    "collapsed": false,
    "jupyter": {
     "outputs_hidden": false
    },
    "tags": []
   },
   "outputs": [],
   "source": [
    "# loop over source type to check target coverage\n",
    "for flag in [\"Primary\", \"Filler\"]:\n",
    "    # get the sources from the catalog by flag\n",
    "    source = catalog[catalog[\"flag\"] == flag[0]]\n",
    "    n_source = len(source)\n",
    "\n",
    "    # make sky coordinates for all the sources in the catalog\n",
    "    coord = SkyCoord(source[\"ra\"], source[\"dec\"], unit=\"deg\")\n",
    "\n",
    "    # find the number of sources contained in any of the 4 NIRSpec quadrants\n",
    "    contained = np.full(n_source, False)\n",
    "    for reg in nirspec_regions:\n",
    "        contained |= reg.contains(coord, wcs)\n",
    "    print(\n",
    "        f\"{np.sum(contained)} / {n_source} {flag} sources \"\n",
    "        f\"contained in NIRSpec apertures\"\n",
    "    )\n",
    "\n",
    "    # find the number of sources contained in any of the NIRCam apertures\n",
    "    contained = np.full(n_source, False)\n",
    "    for reg in dither_mosaic:\n",
    "        contained |= reg.contains(coord, wcs)\n",
    "    print(\n",
    "        f\"{np.sum(contained)} / {n_source} {flag} sources \"\n",
    "        f\"contained in dither/mosaic NIRCam apertures\\n\"\n",
    "    )"
   ]
  },
  {
   "cell_type": "markdown",
   "metadata": {},
   "source": [
    "Some of our primary and filler targets are contained in the NIRSpec apertures at the target position and specified PA, some are not. All our targets are contained in the dithered and mosaicked NIRCam pre-imaging field."
   ]
  },
  {
   "cell_type": "markdown",
   "metadata": {},
   "source": [
    "<a class=\"anchor\" id=\"regions\"></a>\n",
    "## Save regions\n",
    "\n",
    "Regions produced by the NOVT functions can be saved to disk using the astropy regions <a href=\"https://astropy-regions.readthedocs.io/en/stable/region_io.html\">I/O functionality</a>."
   ]
  },
  {
   "cell_type": "markdown",
   "metadata": {},
   "source": [
    "We can save our already-generated instrument footprints to disk."
   ]
  },
  {
   "cell_type": "code",
   "execution_count": null,
   "metadata": {
    "ExecuteTime": {
     "end_time": "2023-05-17T22:57:46.844496Z",
     "start_time": "2023-05-17T22:57:46.823456Z"
    },
    "collapsed": false,
    "jupyter": {
     "outputs_hidden": false
    },
    "tags": []
   },
   "outputs": [],
   "source": [
    "nirspec_regions.write(\"novt_nirspec_regions.reg\", format=\"ds9\", overwrite=True)\n",
    "dither_mosaic.write(\"novt_nircam_regions.reg\", format=\"ds9\", overwrite=True)"
   ]
  },
  {
   "cell_type": "markdown",
   "metadata": {},
   "source": [
    "We can also make point regions for our catalog sources and save them."
   ]
  },
  {
   "cell_type": "code",
   "execution_count": null,
   "metadata": {
    "ExecuteTime": {
     "end_time": "2023-05-17T22:57:46.866216Z",
     "start_time": "2023-05-17T22:57:46.832053Z"
    },
    "collapsed": false,
    "jupyter": {
     "outputs_hidden": false
    },
    "tags": []
   },
   "outputs": [],
   "source": [
    "primary, filler = fp.source_catalog(catalog)\n",
    "primary.write(\"novt_primary_catalog.reg\", format=\"ds9\", overwrite=True)\n",
    "filler.write(\"novt_filler_catalog.reg\", format=\"ds9\", overwrite=True)"
   ]
  },
  {
   "cell_type": "markdown",
   "metadata": {},
   "source": [
    "These regions can be loaded in to DS9, for overlay on a FITS image of the target region if desired."
   ]
  },
  {
   "cell_type": "markdown",
   "metadata": {},
   "source": [
    "[Top of Page](#title)\n"
   ]
  }
 ],
 "metadata": {
  "kernelspec": {
   "display_name": "Python 3 (ipykernel)",
   "language": "python",
   "name": "python3"
  },
  "language_info": {
   "codemirror_mode": {
    "name": "ipython",
    "version": 3
   },
   "file_extension": ".py",
   "mimetype": "text/x-python",
   "name": "python",
   "nbconvert_exporter": "python",
   "pygments_lexer": "ipython3",
   "version": "3.11.3"
  }
 },
 "nbformat": 4,
 "nbformat_minor": 4
}
