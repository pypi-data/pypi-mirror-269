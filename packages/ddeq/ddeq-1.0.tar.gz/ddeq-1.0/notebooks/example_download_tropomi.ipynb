{
 "cells": [
  {
   "cell_type": "markdown",
   "id": "331621da-4c40-4dd1-8cf1-b1933d265da6",
   "metadata": {},
   "source": [
    "# Download Sentinel-5P/TROPOMI observations\n",
    "This example demonstrates how to download TROPOMI NO$_2$ fields around a list of sources using either the GUI or function calls."
   ]
  },
  {
   "cell_type": "code",
   "execution_count": null,
   "id": "6cfe1e05-ad2f-48ea-b490-bc73959dbc65",
   "metadata": {},
   "outputs": [],
   "source": [
    "import glob\n",
    "import os\n",
    "\n",
    "import matplotlib.pyplot as plt\n",
    "import numpy as np\n",
    "import xarray as xr\n",
    "\n",
    "import ddeq\n",
    "import getpass\n",
    "\n",
    "data_path_raw = os.path.join('data', 'S5P_raw')\n",
    "data_path_cropped = os.path.join('data', 'S5P_cropped')"
   ]
  },
  {
   "cell_type": "code",
   "execution_count": null,
   "id": "ed8f8b73-c7e9-45f6-9968-a74e475c2b42",
   "metadata": {},
   "outputs": [],
   "source": [
    "# list of point sources\n",
    "sources = ddeq.misc.read_point_sources()\n",
    "source_list = [\"Belchatow\", \"Janschwalde\", \"Lipetsk\", \"Matimba\"]\n",
    "sources"
   ]
  },
  {
   "cell_type": "markdown",
   "id": "3cfdea06-bb82-4b8e-911f-b773681ab8cf",
   "metadata": {},
   "source": [
    "## Graphical user interface\n",
    "*Acknowledgement*: The following UI is based on the [Python Script Tutorial](https://www.star.nesdis.noaa.gov/atmospheric-composition-training/python_tropomi_level2_download.php) by the NOAA/NESDIS/STAR Aerosols and Atmospheric Composition Science Team."
   ]
  },
  {
   "cell_type": "markdown",
   "id": "2a740861-8d0a-4823-8484-1c3240bc8bea",
   "metadata": {},
   "source": [
    "The TROPOMI NO$_2$ product are available as \"Near real time\", \"Offline\" and \"Reprocessing\" product. The current version 02.04 is available as offline product (OFFL) from 25 July 2022. For earlier dates, the reprocessed data (RPRO) is available, which is recommended for orbits 24655 to 24779. However, at the time of writing (i.e. August 2023), the OFFL product is only available till orbit 22060 measured on 15 January 2022. For more information see: https://sentinel.esa.int/documents/247904/3541451/Sentinel-5P-Nitrogen-Dioxide-Level-2-Product-Readme-File"
   ]
  },
  {
   "cell_type": "markdown",
   "id": "d6356988-341c-4baa-b2f0-8919e1d2210d",
   "metadata": {},
   "source": [
    "### Download example file\n",
    "In the following, we demonstrate how to download and crop TROPOMI NO$_2$ around the Matimbe/Medupi power plant in South Africa. We only download files for 25 July 2021 that are also used for demonstration in other tutorials. \n",
    "\n",
    "The following code opens a GUI for downloading TROPOMI data. Select \"Nitrogen dioxde\" as product, \"Reprocessing\" as data latency and \"L2\" as processing level. For start and end date, we use 25 July 2021. Three options are availble for defining the area of interest. Here, we use \"Point source\" and choose \"Matimba\" from the list.\n",
    "\n",
    "*Important: Do not re-run the cell below after picking your parameters, because this will reset values to default!*"
   ]
  },
  {
   "cell_type": "code",
   "execution_count": null,
   "id": "91dc791e-ae28-42e4-a88f-7c25964b35eb",
   "metadata": {},
   "outputs": [],
   "source": [
    "parameters = ddeq.download_S5P.show_UI(sources)"
   ]
  },
  {
   "cell_type": "markdown",
   "id": "b6834ab3-be76-4fad-8634-021b03ec30b3",
   "metadata": {},
   "source": [
    "To download S5P/TROPOMI data, you need to create an account on the Copernicus Data Space Ecosystem (https://dataspace.copernicus.eu/)."
   ]
  },
  {
   "cell_type": "code",
   "execution_count": null,
   "id": "0e19c79d-8d7e-49ac-918c-7209d6f30e2c",
   "metadata": {},
   "outputs": [],
   "source": [
    "def get_user_credentials():\n",
    "    username = input(\"Enter your username: \")\n",
    "    password = getpass.getpass(\"Enter your password: \")\n",
    "    return username, password\n",
    "\n",
    "username, password = get_user_credentials()"
   ]
  },
  {
   "cell_type": "code",
   "execution_count": null,
   "id": "6d5e8aad-23aa-4180-b799-b12cde601d1e",
   "metadata": {
    "tags": []
   },
   "outputs": [],
   "source": [
    "ddeq.download_S5P.main_UI(username, password, data_path_raw, *parameters, sources)"
   ]
  },
  {
   "cell_type": "markdown",
   "id": "1ae2332c-43e6-4674-b201-5cf2c9e4a2ca",
   "metadata": {},
   "source": [
    "### Command line version\n",
    "The API can also be used without the script using the function `get_tropomi_files`. \n",
    "\n",
    "First, the polygon used for selcting the region around a source can be calculated with the function `get_bounding_box`. It uses the coordinates of a point and a distance in meters to calculate a polygon using the coordinates as center and distance as radius."
   ]
  },
  {
   "cell_type": "code",
   "execution_count": null,
   "id": "1e35eb2d-dab9-4d4f-b496-ac093e51a96e",
   "metadata": {},
   "outputs": [],
   "source": [
    "lon_o, lat_o = ddeq.misc.get_source_location(sources.sel(source='Matimba'))\n",
    "west_lon, east_lon, south_lat, north_lat = ddeq.download_S5P.get_bounding_box(lon_o, lat_o, 1e3)"
   ]
  },
  {
   "cell_type": "markdown",
   "id": "b7ea0b71-2d3f-47de-9ef3-15d45b06331f",
   "metadata": {},
   "source": [
    "The query parameters can be inserted manually in the following format:"
   ]
  },
  {
   "cell_type": "code",
   "execution_count": null,
   "id": "151b030a-c24f-482b-9e07-f57c98397433",
   "metadata": {},
   "outputs": [],
   "source": [
    "ddeq.download_S5P.get_tropomi_files(\n",
    "    west_lon,\n",
    "    east_lon,\n",
    "    south_lat,\n",
    "    north_lat,\n",
    "    start_date='2021-07-25',\n",
    "    end_date='2021-07-25',\n",
    "    product_abbreviation='L2__NO2___', # i.e None, 'L2__NO2___', 'L2__O3____', 'L2__CO____', 'L2__CH4___' \n",
    "    latency='RPRO', # i.e '-', 'NRTI', 'OFFL', 'RPRO')\n",
    "    level='L2', # i.e None, 'L1b', 'L2'\n",
    "    orbit=\"-\", # i.e '-', '11933', \n",
    "    save_path=data_path_raw,\n",
    "    username=username,\n",
    "    password=password,\n",
    "    ask=False\n",
    ")"
   ]
  },
  {
   "cell_type": "markdown",
   "id": "2963a11a-e251-48a8-8d6d-bce75f75a338",
   "metadata": {},
   "source": [
    "Next, one has to create a list of all S5P files which should be processed further."
   ]
  },
  {
   "cell_type": "code",
   "execution_count": null,
   "id": "aa5d7adc-8f99-41a0-af99-5012db313686",
   "metadata": {
    "tags": []
   },
   "outputs": [],
   "source": [
    "all_files = sorted(glob.glob(os.path.join(data_path_raw, '*NO2*.nc')))\n",
    "all_files = [os.path.basename(file) for file in all_files]\n",
    "all_files"
   ]
  },
  {
   "cell_type": "markdown",
   "id": "f91181d2-6ab7-4df3-980f-8548840480f7",
   "metadata": {},
   "source": [
    "### Plot orbits\n",
    "\n",
    "To quickly check the coverage of an image, one can use the `plot_orbit` function."
   ]
  },
  {
   "cell_type": "code",
   "execution_count": null,
   "id": "a595fd79-128d-42ca-9b01-dbec7f0885fb",
   "metadata": {
    "tags": []
   },
   "outputs": [],
   "source": [
    "ddeq.download_S5P.plot_orbit(all_files[0], path=data_path_raw)"
   ]
  },
  {
   "cell_type": "markdown",
   "id": "98107024-b2a0-40a8-8086-a5e957f01487",
   "metadata": {},
   "source": [
    "### Crop and save\n",
    "To crop the swath around the source of interest, `ddeq.download_S5P.crop_and_save` can be used as follows:"
   ]
  },
  {
   "cell_type": "code",
   "execution_count": null,
   "id": "1d995748-d4ca-473e-b8c8-c185ccb1680d",
   "metadata": {
    "tags": []
   },
   "outputs": [],
   "source": [
    "ddeq.download_S5P.crop_and_save(all_files, sources.sel(source=[\"Matimba\"]), distance=300e3, delete=False,\n",
    "                                path_open=data_path_raw, path_save=data_path_cropped)"
   ]
  },
  {
   "cell_type": "markdown",
   "id": "90101373-0c6c-4a69-92c7-d425e8de7444",
   "metadata": {},
   "source": [
    "### Plot cropped image\n",
    "The image can be visualized as follows:"
   ]
  },
  {
   "cell_type": "code",
   "execution_count": null,
   "id": "d82474c2-6ff0-4908-abcb-ebf2b3ebc9cf",
   "metadata": {},
   "outputs": [],
   "source": [
    "for filename in all_files:\n",
    "    fn = os.path.join(data_path_cropped, f'Matimba_{filename}')\n",
    "    data_S5p = xr.open_dataset(fn)\n",
    "\n",
    "    fig = ddeq.download_S5P.plot_extent(data_S5p, 'NO2', sources, 0, 200e-6)"
   ]
  },
  {
   "cell_type": "code",
   "execution_count": null,
   "id": "ccfe585d-57b7-4fd2-bdbb-f7622df74739",
   "metadata": {},
   "outputs": [],
   "source": []
  }
 ],
 "metadata": {
  "kernelspec": {
   "display_name": "Python 3 (ipykernel)",
   "language": "python",
   "name": "python3"
  },
  "language_info": {
   "codemirror_mode": {
    "name": "ipython",
    "version": 3
   },
   "file_extension": ".py",
   "mimetype": "text/x-python",
   "name": "python",
   "nbconvert_exporter": "python",
   "pygments_lexer": "ipython3",
   "version": "3.10.6"
  }
 },
 "nbformat": 4,
 "nbformat_minor": 5
}
