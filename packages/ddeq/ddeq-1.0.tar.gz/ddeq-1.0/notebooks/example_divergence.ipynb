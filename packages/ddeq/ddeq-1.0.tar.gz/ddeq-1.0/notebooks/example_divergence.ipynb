{
 "cells": [
  {
   "cell_type": "markdown",
   "id": "790dc265-c833-49b2-8ded-46408a64bf6c",
   "metadata": {},
   "source": [
    "# Example: Divergence method"
   ]
  },
  {
   "cell_type": "code",
   "execution_count": null,
   "id": "9fb4e0ad-881d-44eb-895a-940e5b772ad0",
   "metadata": {},
   "outputs": [],
   "source": [
    "import os\n",
    "\n",
    "import cartopy.crs as ccrs\n",
    "import matplotlib.pyplot as plt\n",
    "import pandas as pd\n",
    "import numpy as np\n",
    "import ucat\n",
    "import xarray as xr\n",
    "\n",
    "import ddeq"
   ]
  },
  {
   "cell_type": "markdown",
   "id": "116aec64-7b29-4150-9c90-534471b760a3",
   "metadata": {},
   "source": [
    "## SMARTCARB dataset\n",
    "A brief example demonstrating the application of the divergence method to estimate CO2 and NO2 emissions of the Boxberg power plant in the SMARTCARB dataset. The example requires both the SMARTCARB Level-2 data and the wind fields that you can download here: https://doi.org/10.5281/zenodo.4048227. To run the example, you need the download and extract the CO2M dataset (`Sentinel_CO2.tar.gz` file) and the SMARTCARB wind fields (`cosmo2D_2015-01.tar.gz` and `cosmo2D_2015-07.tar.gz`)."
   ]
  },
  {
   "cell_type": "code",
   "execution_count": null,
   "id": "472db229-cc91-4841-a6d2-4c612986f2bf",
   "metadata": {},
   "outputs": [],
   "source": [
    "# modify to point to your SMARTCARB dataset\n",
    "ROOT = '/project/coco2/fileshare/WP4/SMARTCARB/'\n",
    "SMARTCARB_DATA_PATH = os.path.join(ROOT, 'level2')\n",
    "SMARTCARB_WIND_PATTERN = 'SMARTCARB_winds_%Y%m%d%H.nc'\n",
    "SMARTCARB_WIND_PATH = os.path.join(ROOT, 'wind_fields')"
   ]
  },
  {
   "cell_type": "code",
   "execution_count": null,
   "id": "4173e35b-c0a4-4d24-a9b1-e8c5c77f9779",
   "metadata": {},
   "outputs": [],
   "source": [
    "sources = ddeq.misc.read_point_sources()\n",
    "sources = sources.sel(source=['Boxberg'])\n",
    "\n",
    "l2 = ddeq.smartcarb.Level2Dataset(SMARTCARB_DATA_PATH, 'ace', co2_noise_scenario='low', no2_noise_scenario='low',\n",
    "                                  make_no2_error_cloud_dependent=False)\n",
    "\n",
    "res = ddeq.div.estimate_emissions(\n",
    "    l2, SMARTCARB_WIND_PATH, sources,\n",
    "    wind_product='SMARTCARB', pattern=SMARTCARB_WIND_PATTERN,\n",
    "    trace_gases=['CO2', 'NO2'],\n",
    "    varnames=['CO2', 'NO2'],\n",
    "    smooth_data=[True, False],\n",
    "    remove_background=[True, False],\n",
    "    start_date='2015-02-01', end_date='2015-05-01')"
   ]
  },
  {
   "cell_type": "code",
   "execution_count": null,
   "id": "89eda727-8eae-42b3-928a-5583792819ac",
   "metadata": {},
   "outputs": [],
   "source": [
    "res"
   ]
  },
  {
   "cell_type": "markdown",
   "id": "02ef6273-0d16-455c-b2da-534c7c1a82b3",
   "metadata": {},
   "source": [
    "The estimated emissions of Boxberg are 760.2$\\pm$61.56 kg/s and 0.5766$\\pm$0.06649 kg/s for CO2 and NO2 using low-noise CO2 and NO2 for constellation ace from 1 Feb to 1 May 2015."
   ]
  },
  {
   "cell_type": "markdown",
   "id": "cbd749d5-6044-4397-9f62-2a54df818841",
   "metadata": {},
   "source": [
    "### Compare with true emissions"
   ]
  },
  {
   "cell_type": "code",
   "execution_count": null,
   "id": "f818846b-8779-4ee2-84c9-6b84a251a2f8",
   "metadata": {},
   "outputs": [],
   "source": [
    "times = pd.date_range('2015-02-01', '2015-05-01')\n",
    "co2_true = np.mean([ddeq.smartcarb.read_true_emissions(t, 'CO2', 'Boxberg').mean() for t in times])\n",
    "no2_true = np.mean([ddeq.smartcarb.read_true_emissions(t, 'NO2', 'Boxberg').mean() for t in times])"
   ]
  },
  {
   "cell_type": "code",
   "execution_count": null,
   "id": "436feceb-0ab6-4423-a573-ffa5bbdc3241",
   "metadata": {},
   "outputs": [],
   "source": [
    "co2_est = ddeq.misc.kgs_to_Mtyr(res.sel(source='Boxberg')['CO2_estimated_emissions'])\n",
    "co2_pre = ddeq.misc.kgs_to_Mtyr(res.sel(source='Boxberg')['CO2_estimated_emissions_precision'])\n",
    "\n",
    "no2_est = 1e3 * ddeq.misc.kgs_to_Mtyr(res.sel(source='Boxberg')['NO2_estimated_emissions'])\n",
    "no2_pre = 1e3 * ddeq.misc.kgs_to_Mtyr(res.sel(source='Boxberg')['NO2_estimated_emissions_precision'])\n",
    "\n",
    "print(f'CO2 estimate: {co2_est:.1f}±{co2_pre:.1f} Mt/a, True: {co2_true:.1f} Mt/a')\n",
    "print(f'NO2 estimate: {no2_est:.1f}±{no2_pre:.1f} kt/a, True: {no2_true:.1f} kt/a')"
   ]
  },
  {
   "cell_type": "markdown",
   "id": "797c48d6-8383-4cda-a74d-7fde8b588f45",
   "metadata": {},
   "source": [
    "## TROPOMI NO2 product\n",
    "This example uses TROPOMI NO2 images and ERA-5 wind fields prepared (but not published) in the CoCO2 project. To apply the divergence method to TROPOMI data, TROPOMI data can be downloaded and prepared using *ddeq* (see: `example_download_tropomi.ipynb`). "
   ]
  },
  {
   "cell_type": "code",
   "execution_count": null,
   "id": "75cd5728-ebae-41c7-9123-ac42de744184",
   "metadata": {},
   "outputs": [],
   "source": [
    "# this example uses data prepare in the CoCO2 project\n",
    "DATA_PATH = '/home/gerrit/project/coco2/jupyter/WP4/Empa/master_thesis/data/S5P_cropped_v2'\n",
    "WIND_PATH = '/home/gerrit/project/coco2/jupyter/WP4/ERA5/'"
   ]
  },
  {
   "cell_type": "code",
   "execution_count": null,
   "id": "1e070127-0904-41f9-8e87-5b5e8dc53620",
   "metadata": {},
   "outputs": [],
   "source": [
    "sources = ddeq.misc.read_point_sources()\n",
    "sources = sources.sel(source=['Matimba'])"
   ]
  },
  {
   "cell_type": "code",
   "execution_count": null,
   "id": "31356fef-77e2-4ac6-9948-680a913f1faf",
   "metadata": {},
   "outputs": [],
   "source": [
    "s5p_l2 = ddeq.sats.Level2TropomiDataset('Matimba_S5P_????_L2__NO2____%Y%m%dT????*.nc', root=DATA_PATH)"
   ]
  },
  {
   "cell_type": "code",
   "execution_count": null,
   "id": "5d346349-507b-499a-badb-f6d2c2c82277",
   "metadata": {},
   "outputs": [],
   "source": [
    "res = ddeq.div.estimate_emissions(\n",
    "    s5p_l2, WIND_PATH, sources,\n",
    "    wind_product='ERA5', pattern='ERA5-gnfra-%Y%m%dt%H00_SouthernAfrica.nc',\n",
    "    trace_gases=['NO2'],\n",
    "    start_date='2021-01-01', end_date='2021-12-31', hour=12,\n",
    "    varnames=['NO2'],\n",
    "    smooth_data=[False],\n",
    "    remove_background=[False]\n",
    ")"
   ]
  },
  {
   "cell_type": "code",
   "execution_count": null,
   "id": "d9cc4207-ef26-4725-93ff-084e7c8a1c50",
   "metadata": {},
   "outputs": [],
   "source": [
    "DOMAIN = ddeq.misc.Domain('Matimba', 27, -24.2, 28.2, -23.1)\n",
    "\n",
    "amf_correction = 1.27\n",
    "f = 2.5\n",
    "\n",
    "fig, axes = plt.subplots(1,2, figsize=(9.5,3.3),\n",
    "                         subplot_kw={'projection': ccrs.PlateCarree()})\n",
    "\n",
    "this = res.sel(source='Matimba')\n",
    "\n",
    "fig, ax, _ = ddeq.vis.create_map(DOMAIN, ax=axes[0], admin_level=1, edgecolor='k')\n",
    "m = ax.pcolormesh(\n",
    "    this.longrid, this.latgrid,\n",
    "    amf_correction * ucat.convert_columns(this['NO2_grid'], 'm-2', 'umol m-2', molar_mass='NO2'),\n",
    "    vmin=0, vmax=300, transform=ccrs.PlateCarree()\n",
    ")\n",
    "plt.colorbar(m, ax=ax).set_label('NO$_2$ enhancement [µmol m$^{-2}$]')\n",
    "\n",
    "fig, ax, _ = ddeq.vis.create_map(DOMAIN, ax=axes[1], admin_level=1, edgecolor='k')\n",
    "m = ax.pcolormesh(\n",
    "    this.longrid, this.latgrid,\n",
    "    f * amf_correction * this['NO2_div'],\n",
    "    vmin=-2, vmax=6, transform=ccrs.PlateCarree()\n",
    ")\n",
    "plt.colorbar(m, ax=ax).set_label('NO$_x$ flux [g m$^{-2}$ s$^{-1}$]')\n",
    "\n",
    "for i, ax in enumerate(axes.flatten()):\n",
    "    ddeq.vis.add_gridlines(ax, dlon=0.2, dlat=0.2)\n",
    "    ddeq.vis.add_hot_spots(\n",
    "        ax, sources=sources,\n",
    "        do_path_effect=True, ms=3, size='small'\n",
    "    )\n",
    "    ax.set_title(f'({\"abcd\"[i]})')\n",
    "\n",
    "\n",
    "em = amf_correction * f * ddeq.misc.kgs_to_Mtyr(res['NO2_estimated_emissions'][0]) * 1e3\n",
    "em_std = amf_correction * f * ddeq.misc.kgs_to_Mtyr(res['NO2_estimated_emissions_precision'][0]) * 1e3\n",
    "\n",
    "axes[1].set_title(f'(b) Q = {em:.1f} kt NO$_2$ a$^{{-1}}$')\n",
    "\n",
    "plt.tight_layout()"
   ]
  },
  {
   "cell_type": "code",
   "execution_count": null,
   "id": "4d7a278f-a709-44f7-a32f-6d2c2dffd72c",
   "metadata": {},
   "outputs": [],
   "source": []
  }
 ],
 "metadata": {
  "kernelspec": {
   "display_name": "Python 3 (ipykernel)",
   "language": "python",
   "name": "python3"
  },
  "language_info": {
   "codemirror_mode": {
    "name": "ipython",
    "version": 3
   },
   "file_extension": ".py",
   "mimetype": "text/x-python",
   "name": "python",
   "nbconvert_exporter": "python",
   "pygments_lexer": "ipython3",
   "version": "3.10.6"
  }
 },
 "nbformat": 4,
 "nbformat_minor": 5
}
