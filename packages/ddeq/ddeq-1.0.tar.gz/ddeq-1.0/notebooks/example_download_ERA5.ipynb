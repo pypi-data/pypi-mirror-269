{
 "cells": [
  {
   "cell_type": "markdown",
   "id": "a7f9b8cc-84c6-43a9-81db-60e792db4aa0",
   "metadata": {},
   "source": [
    "# Example: Download ERA-5 wind fields"
   ]
  },
  {
   "cell_type": "code",
   "execution_count": null,
   "id": "191eae28-06f3-4be8-a7f5-a17468e742fa",
   "metadata": {},
   "outputs": [],
   "source": [
    "import os\n",
    "\n",
    "import matplotlib.pyplot as plt\n",
    "import numpy as np\n",
    "import pandas as pd\n",
    "import xarray as xr\n",
    "\n",
    "import ddeq\n",
    "\n",
    "# coords of Matimba power plant\n",
    "sources = ddeq.misc.read_point_sources()\n",
    "lon_o, lat_o = coords = ddeq.misc.get_source_location(sources.sel(source='Matimba'))\n",
    "area = [lat_o - 0.251, lon_o - 0.251, lat_o + 0.251, lon_o + 0.251]"
   ]
  },
  {
   "cell_type": "markdown",
   "id": "d58bca3c-76e5-4208-b30e-1ef95b22b9b7",
   "metadata": {},
   "source": [
    "## Download different ERA-5 data \n",
    "The following function download ERA-5 fields from the reanalysis product either on model or pressure levels, **if** the data not already exists in `ddeq.DATA_PATH` (which should be the case). You can modify the code to download additional data. It is highly recommened to change the data path.\n",
    "\n",
    "**(Downloading ERA-5 data requires setting up access for the Copernicus Climate Data Store (CDS) Application Program Interface (API). Link: https://cds.climate.copernicus.eu/api-how-to.)**\n",
    "\n",
    "Download ERA-5 on model levels (normally very slow):"
   ]
  },
  {
   "cell_type": "code",
   "execution_count": null,
   "id": "f4bae07a-41e0-47c8-b751-0ef735da93e0",
   "metadata": {},
   "outputs": [],
   "source": [
    "era5_lvl_filename, era5_sfc_filename = ddeq.era5.download_model_lvl(\n",
    "    time=pd.Timestamp('2015-04-01 12:00'),\n",
    "    area=area, prefix='Matimba',\n",
    "    data_path=ddeq.DATA_PATH\n",
    ")"
   ]
  },
  {
   "cell_type": "markdown",
   "id": "3f9b1145-ec5e-4687-897c-3ea6b53f7cf9",
   "metadata": {},
   "source": [
    "Download wind fields on ERA-5 pressure levels"
   ]
  },
  {
   "cell_type": "code",
   "execution_count": null,
   "id": "5676711f-9fa4-4e11-9ca9-fcf05df52bbe",
   "metadata": {},
   "outputs": [],
   "source": [
    "era5_pressure_filename = ddeq.era5.download_pressure_lvl(\n",
    "    time=pd.Timestamp('2015-04-01 12:00'),\n",
    "    area=area, prefix='Matimba',\n",
    "    data_path=ddeq.DATA_PATH,\n",
    "    timesteps=1\n",
    ")"
   ]
  },
  {
   "cell_type": "markdown",
   "id": "34c1a946-82b3-4ac6-989b-daff3aeb1121",
   "metadata": {},
   "source": [
    "Download PBL height"
   ]
  },
  {
   "cell_type": "code",
   "execution_count": null,
   "id": "718d8b9d-1eec-47bf-9d19-0079b5038134",
   "metadata": {},
   "outputs": [],
   "source": [
    "era5_pbl_filename = ddeq.era5.download_pbl(\n",
    "    time=pd.Timestamp('2015-04-01 12:00'),\n",
    "    area=area, prefix='Matimba',\n",
    "    data_path=ddeq.DATA_PATH,\n",
    "    timesteps=1\n",
    ")"
   ]
  },
  {
   "cell_type": "markdown",
   "id": "ef776b17-33b6-440d-ad7b-efc53ec4b43d",
   "metadata": {},
   "source": [
    "## Vertical averaging\n",
    "The following function convert 3D model fields to wind speed and direction at source used, for example, by the CSF method."
   ]
  },
  {
   "cell_type": "code",
   "execution_count": null,
   "id": "a9563b26-e858-4902-bba6-5ca4e17d30a1",
   "metadata": {},
   "outputs": [],
   "source": [
    "# Weighted by GNFR-A emission profiles\n",
    "gnfra = ddeq.era5.prepare(\n",
    "    time=pd.Timestamp('2015-04-01 12:00'),\n",
    "    coords=coords,\n",
    "    query='gnfra',\n",
    "    prefix='Matimba',\n",
    "    data_path=ddeq.DATA_PATH\n",
    ")\n",
    "\n",
    "gnfra.speed"
   ]
  },
  {
   "cell_type": "code",
   "execution_count": null,
   "id": "1ddf81b0-bbf9-43dd-aa57-9ac2e8624f41",
   "metadata": {},
   "outputs": [],
   "source": [
    "# Mean value in planet boundary layer\n",
    "pbl = ddeq.era5.prepare(\n",
    "    time=pd.Timestamp('2015-04-01 12:00'),\n",
    "    coords=coords,\n",
    "    query='pbl_mean',\n",
    "    prefix='Matimba',\n",
    "    data_path=ddeq.DATA_PATH\n",
    ")"
   ]
  },
  {
   "cell_type": "code",
   "execution_count": null,
   "id": "190ab356-eb86-4c1c-a721-b72705f6886e",
   "metadata": {},
   "outputs": [],
   "source": [
    "# Mean of pressure levels 700-1000 hPa\n",
    "pres = ddeq.era5.prepare(\n",
    "    time=pd.Timestamp('2015-04-01 12:00'),\n",
    "    coords=coords,\n",
    "    query='pressure_levels',\n",
    "    prefix='Matimba',\n",
    "    data_path=ddeq.DATA_PATH\n",
    ")"
   ]
  },
  {
   "cell_type": "markdown",
   "id": "efa3c046-6c04-4a2a-8be3-8d250cd91a0f",
   "metadata": {},
   "source": [
    "## Visualize examples\n",
    "Plot wind profile for Matimba example."
   ]
  },
  {
   "cell_type": "code",
   "execution_count": null,
   "id": "556c89e4-126d-4094-a301-8ea2dee8dadc",
   "metadata": {},
   "outputs": [],
   "source": [
    "era5 = ddeq.era5.compute_height_levels(era5_lvl_filename, era5_sfc_filename)\n",
    "era5_weighted = ddeq.era5.calculate_gnfra_weighted_winds(era5_lvl_filename, era5_sfc_filename)"
   ]
  },
  {
   "cell_type": "code",
   "execution_count": null,
   "id": "6e803e5c-6ad0-40a2-8dca-11150b9f787f",
   "metadata": {},
   "outputs": [],
   "source": [
    "h = era5.h.sel(longitude=lon_o, latitude=lat_o, method='nearest').isel(time=0)\n",
    "u = era5.u.sel(longitude=lon_o, latitude=lat_o, method='nearest').isel(time=0)\n",
    "v = era5.v.sel(longitude=lon_o, latitude=lat_o, method='nearest').isel(time=0)\n",
    "p = era5.p_mid.sel(longitude=lon_o, latitude=lat_o, method='nearest').isel(time=0)"
   ]
  },
  {
   "cell_type": "code",
   "execution_count": null,
   "id": "9e2afbf5-a3bb-45cb-9e19-e2d5bc2bd31a",
   "metadata": {},
   "outputs": [],
   "source": [
    "h = era5.h.mean(['time', 'latitude', 'longitude'])\n",
    "u = era5.u.mean(['time', 'latitude', 'longitude'])\n",
    "v = era5.v.mean(['time', 'latitude', 'longitude'])\n",
    "p = era5.p_mid.mean(['time', 'latitude', 'longitude'])\n",
    "\n",
    "speed = np.sqrt(u**2 + v**2)\n",
    "weights = era5_weighted.weights.mean(['time', 'latitude', 'longitude'])"
   ]
  },
  {
   "cell_type": "code",
   "execution_count": null,
   "id": "ea4bae8d-130b-4ffb-908c-86be70954f1b",
   "metadata": {},
   "outputs": [],
   "source": [
    "plt.figure(figsize=(3,6))\n",
    "plt.plot(speed, h, label='Wind speed')\n",
    "plt.xlabel('Wind speed [m/s]')\n",
    "plt.ylabel('Height [m]')\n",
    "\n",
    "plt.vlines([float(gnfra.speed)], 0, 4500, label='GNFR-A', colors='C1')\n",
    "plt.vlines([float(pbl.speed)], 0, 4500, label='PBL', colors='C2')\n",
    "plt.vlines([float(pres.speed)], 0, 4500, label='pressure levels', colors='C3')\n",
    "plt.vlines(gnfra.isel(time=0).speed.values.flatten(), 0, 4000)\n",
    "\n",
    "plt.xlim(0,8)\n",
    "plt.ylim(0,4500)\n",
    "plt.legend()\n",
    "\n",
    "plt.twiny()\n",
    "plt.plot(weights[:], h, 'k--')\n",
    "plt.xlabel('Weight')"
   ]
  },
  {
   "cell_type": "code",
   "execution_count": null,
   "id": "9df4848f-60d4-4ce8-8e04-cd70b859f31f",
   "metadata": {},
   "outputs": [],
   "source": []
  }
 ],
 "metadata": {
  "kernelspec": {
   "display_name": "Python 3 (ipykernel)",
   "language": "python",
   "name": "python3"
  },
  "language_info": {
   "codemirror_mode": {
    "name": "ipython",
    "version": 3
   },
   "file_extension": ".py",
   "mimetype": "text/x-python",
   "name": "python",
   "nbconvert_exporter": "python",
   "pygments_lexer": "ipython3",
   "version": "3.10.6"
  }
 },
 "nbformat": 4,
 "nbformat_minor": 5
}
