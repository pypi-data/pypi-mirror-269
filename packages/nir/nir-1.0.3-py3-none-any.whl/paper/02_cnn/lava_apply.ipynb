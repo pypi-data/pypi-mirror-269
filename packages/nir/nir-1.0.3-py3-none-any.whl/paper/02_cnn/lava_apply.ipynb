{
 "cells": [
  {
   "cell_type": "code",
   "execution_count": 2,
   "metadata": {},
   "outputs": [],
   "source": [
    "import lava.lib.dl.slayer as slayer\n",
    "import matplotlib.pyplot as plt\n",
    "import numpy as np\n",
    "import nir\n",
    "# import norse\n",
    "import tonic\n",
    "import os\n",
    "import torch\n",
    "import tqdm\n",
    "\n",
    "import sys\n",
    "sys.path.append(\"/Users/steve/Code/NIR/paper\")\n",
    "\n",
    "from nir_to_lava import ImportConfig, LavaLibrary, import_from_nir"
   ]
  },
  {
   "cell_type": "code",
   "execution_count": 2,
   "metadata": {},
   "outputs": [],
   "source": [
    "graph = nir.read('cnn_sinabs.nir')\n",
    "import_config = ImportConfig(library_preference=LavaLibrary.LavaDl)\n",
    "net = import_from_nir(graph, import_config)"
   ]
  },
  {
   "cell_type": "code",
   "execution_count": 3,
   "metadata": {},
   "outputs": [],
   "source": [
    "bs = 128\n",
    "collate = tonic.collation.PadTensors(batch_first=False)\n",
    "to_frame = tonic.transforms.ToFrame(sensor_size=tonic.datasets.NMNIST.sensor_size, time_window=1e3)\n",
    "test_ds = tonic.datasets.NMNIST(\"./nmnist\", transform=to_frame, train=False)\n",
    "test_dl = torch.utils.data.DataLoader(test_ds, shuffle=True, batch_size=bs, collate_fn=collate)"
   ]
  },
  {
   "cell_type": "code",
   "execution_count": 6,
   "metadata": {},
   "outputs": [
    {
     "name": "stderr",
     "output_type": "stream",
     "text": [
      "Processing: 100%|██████████| 79/79 [17:19<00:00, 13.16s/it, accuracy=98.08%]"
     ]
    },
    {
     "name": "stdout",
     "output_type": "stream",
     "text": [
      "accuracy: 98.08% +/- 1.20%\n"
     ]
    },
    {
     "name": "stderr",
     "output_type": "stream",
     "text": [
      "\n"
     ]
    }
   ],
   "source": [
    "accuracies = []\n",
    "pbar = tqdm.tqdm(total=len(test_dl), desc=\"Processing\")\n",
    "\n",
    "for idx, (x, y) in enumerate(test_dl):\n",
    "    x = torch.moveaxis(x, 0, -1)\n",
    "    out = net(x)\n",
    "    pred = out.mean(axis=-1).argmax(axis=1)\n",
    "    accuracy = (pred == y).sum() / x.shape[0]\n",
    "    accuracies.append(accuracy)\n",
    "    pbar.set_postfix(accuracy=\"{:.2f}%\".format(sum(accuracies)/len(accuracies)*100))\n",
    "    pbar.update(1)\n",
    "pbar.close()\n",
    "accuracies = np.array(accuracies)\n",
    "print(f'accuracy: {accuracies.mean():.2%} +/- {accuracies.std():.2%}')"
   ]
  },
  {
   "cell_type": "code",
   "execution_count": null,
   "metadata": {},
   "outputs": [],
   "source": [
    "# compare activations and accuracy with stored ones\n",
    "if os.path.exists(\"lava_accuracy.npy\"):\n",
    "  stored_acc = np.load(\"lava_accuracy.npy\")\n",
    "  assert np.allclose(stored_acc, accuracies.mean(), atol=1e-3)\n",
    "\n",
    "if os.path.exists(\"lava_activity.npy\"):\n",
    "  stored_activations = np.load(\"lava_activity.npy\")\n",
    "  numbers = np.load(\"cnn_numbers.npy\")\n",
    "  with torch.no_grad():\n",
    "    y = net.blocks[0](torch.moveaxis(torch.tensor(numbers), 0, -1).float())\n",
    "    out = net.blocks[1](y).moveaxis(-1, 0)\n",
    "    out = out.numpy()\n",
    "    assert np.allclose(stored_activations, out, atol=1e-3)"
   ]
  },
  {
   "cell_type": "markdown",
   "metadata": {},
   "source": [
    "## Write results to disk"
   ]
  },
  {
   "cell_type": "code",
   "execution_count": 5,
   "metadata": {},
   "outputs": [],
   "source": [
    "np.save(\"lava_accuracy.npy\", accuracies.mean())"
   ]
  },
  {
   "cell_type": "code",
   "execution_count": 123,
   "metadata": {},
   "outputs": [
    {
     "data": {
      "text/plain": [
       "torch.Size([300, 10, 16, 16, 16])"
      ]
     },
     "execution_count": 123,
     "metadata": {},
     "output_type": "execute_result"
    }
   ],
   "source": [
    "numbers = np.load(\"cnn_numbers.npy\")\n",
    "with torch.no_grad():\n",
    "  y = net.blocks[0](torch.moveaxis(torch.tensor(numbers), 0, -1).float())\n",
    "  out = net.blocks[1](y).moveaxis(-1, 0)\n",
    "  np.save(\"Lava_activity.npy\", out.numpy())\n",
    "out.shape"
   ]
  }
 ],
 "metadata": {
  "kernelspec": {
   "display_name": ".venv",
   "language": "python",
   "name": "python3"
  },
  "language_info": {
   "codemirror_mode": {
    "name": "ipython",
    "version": 3
   },
   "file_extension": ".py",
   "mimetype": "text/x-python",
   "name": "python",
   "nbconvert_exporter": "python",
   "pygments_lexer": "ipython3",
   "version": "3.10.10"
  },
  "orig_nbformat": 4
 },
 "nbformat": 4,
 "nbformat_minor": 2
}
