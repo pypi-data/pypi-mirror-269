{
 "cells": [
  {
   "cell_type": "markdown",
   "metadata": {},
   "source": [
    "# Raster Analysis and Add Image or GIF\n",
    "\n",
    "[![image](https://colab.research.google.com/assets/colab-badge.svg)](https://colab.research.google.com/github/Mahnaz-Meem/geohub/blob/main/docs/examples/raster.ipynb)"
   ]
  },
  {
   "cell_type": "code",
   "execution_count": null,
   "metadata": {},
   "outputs": [],
   "source": [
    "# pip install geohub"
   ]
  },
  {
   "cell_type": "code",
   "execution_count": 1,
   "metadata": {},
   "outputs": [
    {
     "data": {
      "application/vnd.jupyter.widget-view+json": {
       "model_id": "d3d6f4341ca54bb99b2ad14a39aa4ecb",
       "version_major": 2,
       "version_minor": 0
      },
      "text/plain": [
       "Map(center=[25, -115], controls=(ZoomControl(options=['position', 'zoom_in_text', 'zoom_in_title', 'zoom_out_t…"
      ]
     },
     "execution_count": 1,
     "metadata": {},
     "output_type": "execute_result"
    }
   ],
   "source": [
    "from ipyleaflet import Map, ImageOverlay\n",
    "\n",
    "m = Map(center=(25, -115), zoom=4)\n",
    "\n",
    "image = ImageOverlay(\n",
    "    url=\"https://i.imgur.com/06Q1fSz.png\",\n",
    "    # url='../06Q1fSz.png',\n",
    "    bounds=((13, -130), (32, -100))\n",
    ")\n",
    "\n",
    "m.add(image)\n",
    "m"
   ]
  },
  {
   "cell_type": "code",
   "execution_count": 2,
   "metadata": {},
   "outputs": [
    {
     "data": {
      "application/vnd.jupyter.widget-view+json": {
       "model_id": "3bc2e53f1a7843d0837546b591f3dcab",
       "version_major": 2,
       "version_minor": 0
      },
      "text/plain": [
       "Map(center=[20, 0], controls=(ZoomControl(options=['position', 'zoom_in_text', 'zoom_in_title', 'zoom_out_text…"
      ]
     },
     "execution_count": 2,
     "metadata": {},
     "output_type": "execute_result"
    }
   ],
   "source": [
    "import geohub\n",
    "m = geohub.Map()\n",
    "url=\"https://i.imgur.com/06Q1fSz.png\"\n",
    "    # url='../06Q1fSz.png',\n",
    "bounds=((13, -130), (32, -100))\n",
    "m.add_image(url, bounds)\n",
    "m.add_layers_control()\n",
    "m.scroll_wheel_zoom = True\n",
    "m"
   ]
  },
  {
   "cell_type": "code",
   "execution_count": 3,
   "metadata": {},
   "outputs": [
    {
     "data": {
      "application/vnd.jupyter.widget-view+json": {
       "model_id": "6fbf248e579a43e58218eb3d79c47855",
       "version_major": 2,
       "version_minor": 0
      },
      "text/plain": [
       "Map(center=[20, 0], controls=(ZoomControl(options=['position', 'zoom_in_text', 'zoom_in_title', 'zoom_out_text…"
      ]
     },
     "execution_count": 3,
     "metadata": {},
     "output_type": "execute_result"
    }
   ],
   "source": [
    "# Add gif\n",
    "m = geohub.Map()\n",
    "url=\"https://www.reactiongifs.com/r/cheering_minions.gif\"\n",
    "    # url='../06Q1fSz.png',\n",
    "bounds=((3, -100), (32, 10))\n",
    "m.add_image(url, bounds)\n",
    "m.add_layers_control()\n",
    "m"
   ]
  },
  {
   "cell_type": "code",
   "execution_count": null,
   "metadata": {},
   "outputs": [],
   "source": [
    "# pip install localtileserver"
   ]
  },
  {
   "cell_type": "code",
   "execution_count": 4,
   "metadata": {},
   "outputs": [
    {
     "data": {
      "application/vnd.jupyter.widget-view+json": {
       "model_id": "2dca057a44f941c38a0123c44feff1fe",
       "version_major": 2,
       "version_minor": 0
      },
      "text/plain": [
       "Map(center=[37.752215, -122.418776], controls=(ZoomControl(options=['position', 'zoom_in_text', 'zoom_in_title…"
      ]
     },
     "execution_count": 4,
     "metadata": {},
     "output_type": "execute_result"
    }
   ],
   "source": [
    "from localtileserver import TileClient, get_leaflet_tile_layer, examples\n",
    "from ipyleaflet import Map\n",
    "\n",
    "# Create a TileClient from a raster file\n",
    "# client = TileClient('path/to/geo.tif')\n",
    "client = examples.get_san_francisco()  # use example data\n",
    "\n",
    "# Create ipyleaflet TileLayer from that server\n",
    "t = get_leaflet_tile_layer(client)\n",
    "# Create ipyleaflet map, add tile layer, and display\n",
    "m = Map(center=client.center(), zoom=client.default_zoom)\n",
    "m.add(t)\n",
    "m"
   ]
  },
  {
   "cell_type": "code",
   "execution_count": 5,
   "metadata": {},
   "outputs": [
    {
     "data": {
      "text/plain": [
       "(TileLayer(attribution='&copy; <a href=\"https://www.openstreetmap.org/copyright\">OpenStreetMap</a> contributors', base=True, max_zoom=19, min_zoom=1, name='OpenStreetMap.Mapnik', options=['attribution', 'bounds', 'detect_retina', 'max_native_zoom', 'max_zoom', 'min_native_zoom', 'min_zoom', 'no_wrap', 'tile_size', 'tms', 'zoom_offset'], url='https://tile.openstreetmap.org/{z}/{x}/{y}.png'),\n",
       " BoundTileLayer(attribution=\"Raster file served by <a href='https://github.com/banesullivan/localtileserver' target='_blank'>localtileserver</a>.\", bounds=((37.452199, -122.718792), (38.052231, -122.11876)), loading=True, max_native_zoom=30, max_zoom=30, options=['attribution', 'bounds', 'detect_retina', 'max_native_zoom', 'max_zoom', 'min_native_zoom', 'min_zoom', 'no_wrap', 'tile_size', 'tms', 'zoom_offset'], show_loading=True, url='http://localhost:50624/api/tiles/{z}/{x}/{y}.png?&filename=%2Fvsicurl%3Furl%3Dhttps%253A%252F%252Fdata.kitware.com%252Fapi%252Fv1%252Ffile%252F626854a14acac99f42126a74%252Fdownload%26use_head%3Dno%26list_dir%3Dno'))"
      ]
     },
     "execution_count": 5,
     "metadata": {},
     "output_type": "execute_result"
    }
   ],
   "source": [
    "m.layers"
   ]
  },
  {
   "cell_type": "code",
   "execution_count": 6,
   "metadata": {},
   "outputs": [],
   "source": [
    "import matplotlib.pyplot as plt\n",
    "from ipyleaflet import Map, ImageOverlay"
   ]
  },
  {
   "cell_type": "code",
   "execution_count": 7,
   "metadata": {},
   "outputs": [
    {
     "data": {
      "application/vnd.jupyter.widget-view+json": {
       "model_id": "da28193f20e242d494554c4a12c07368",
       "version_major": 2,
       "version_minor": 0
      },
      "text/plain": [
       "Map(center=[37.630466999999996, -119.03021849999999], controls=(ZoomControl(options=['position', 'zoom_in_text…"
      ]
     },
     "execution_count": 7,
     "metadata": {},
     "output_type": "execute_result"
    }
   ],
   "source": [
    "import geohub\n",
    "m = geohub.Map()\n",
    "data = 'https://github.com/opengeos/datasets/releases/download/raster/srtm90.tif'\n",
    "m.add_raster(data, name = 'DEM')\n",
    "# m.add_layers_control()\n",
    "m"
   ]
  },
  {
   "cell_type": "code",
   "execution_count": 8,
   "metadata": {},
   "outputs": [
    {
     "data": {
      "application/vnd.jupyter.widget-view+json": {
       "model_id": "d4a9cbb10010464e8a90e57d57c97825",
       "version_major": 2,
       "version_minor": 0
      },
      "text/plain": [
       "Map(center=[37.630466999999996, -119.03021849999999], controls=(ZoomControl(options=['position', 'zoom_in_text…"
      ]
     },
     "execution_count": 8,
     "metadata": {},
     "output_type": "execute_result"
    }
   ],
   "source": [
    "from localtileserver import get_leaflet_tile_layer, TileClient\n",
    "from ipyleaflet import Map\n",
    "\n",
    "# First, create a tile server from local raster file\n",
    "client = TileClient('https://github.com/opengeos/datasets/releases/download/raster/srtm90.tif')\n",
    "\n",
    "# Create ipyleaflet tile layer from that server\n",
    "t = get_leaflet_tile_layer(client, colormap = 'terrain')\n",
    "\n",
    "m = Map(center=client.center(), zoom=client.default_zoom)\n",
    "m.add(t)\n",
    "m"
   ]
  },
  {
   "cell_type": "code",
   "execution_count": 9,
   "metadata": {},
   "outputs": [
    {
     "data": {
      "text/plain": [
       "(TileLayer(attribution='&copy; <a href=\"https://www.openstreetmap.org/copyright\">OpenStreetMap</a> contributors', base=True, max_zoom=19, min_zoom=1, name='OpenStreetMap.Mapnik', options=['attribution', 'bounds', 'detect_retina', 'max_native_zoom', 'max_zoom', 'min_native_zoom', 'min_zoom', 'no_wrap', 'tile_size', 'tms', 'zoom_offset'], url='https://tile.openstreetmap.org/{z}/{x}/{y}.png'),\n",
       " BoundTileLayer(attribution=\"Raster file served by <a href='https://github.com/banesullivan/localtileserver' target='_blank'>localtileserver</a>.\", bounds=((36.634011, -120.755927), (38.626923, -117.30451)), max_native_zoom=30, max_zoom=30, options=['attribution', 'bounds', 'detect_retina', 'max_native_zoom', 'max_zoom', 'min_native_zoom', 'min_zoom', 'no_wrap', 'tile_size', 'tms', 'zoom_offset'], show_loading=True, url='http://localhost:50624/api/tiles/{z}/{x}/{y}.png?&filename=%2Fvsicurl%3Furl%3Dhttps%253A%252F%252Fgithub.com%252Fopengeos%252Fdatasets%252Freleases%252Fdownload%252Fraster%252Fsrtm90.tif%26use_head%3Dno%26list_dir%3Dno&colormap=terrain'))"
      ]
     },
     "execution_count": 9,
     "metadata": {},
     "output_type": "execute_result"
    }
   ],
   "source": [
    "m.layers"
   ]
  },
  {
   "cell_type": "code",
   "execution_count": 10,
   "metadata": {},
   "outputs": [
    {
     "data": {
      "text/plain": [
       "(37.630466999999996, -119.03021849999999)"
      ]
     },
     "execution_count": 10,
     "metadata": {},
     "output_type": "execute_result"
    }
   ],
   "source": [
    "client.center()"
   ]
  },
  {
   "cell_type": "code",
   "execution_count": 11,
   "metadata": {},
   "outputs": [
    {
     "data": {
      "text/plain": [
       "7"
      ]
     },
     "execution_count": 11,
     "metadata": {},
     "output_type": "execute_result"
    }
   ],
   "source": [
    "client.default_zoom"
   ]
  },
  {
   "cell_type": "code",
   "execution_count": 12,
   "metadata": {},
   "outputs": [
    {
     "data": {
      "application/vnd.jupyter.widget-view+json": {
       "model_id": "80f17c92099f4b3f8555d7e17f2d6b03",
       "version_major": 2,
       "version_minor": 0
      },
      "text/plain": [
       "Map(center=[37.630466999999996, -119.03021849999999], controls=(ZoomControl(options=['position', 'zoom_in_text…"
      ]
     },
     "execution_count": 12,
     "metadata": {},
     "output_type": "execute_result"
    }
   ],
   "source": [
    "import geohub\n",
    "m = geohub.Map()\n",
    "data = 'https://github.com/opengeos/datasets/releases/download/raster/srtm90.tif'\n",
    "m.add_raster(data, name = 'DEM', colormap = 'terrain')\n",
    "# m.add_layers_control()\n",
    "m"
   ]
  }
 ],
 "metadata": {
  "kernelspec": {
   "display_name": "geo",
   "language": "python",
   "name": "python3"
  },
  "language_info": {
   "codemirror_mode": {
    "name": "ipython",
    "version": 3
   },
   "file_extension": ".py",
   "mimetype": "text/x-python",
   "name": "python",
   "nbconvert_exporter": "python",
   "pygments_lexer": "ipython3",
   "version": "3.11.8"
  }
 },
 "nbformat": 4,
 "nbformat_minor": 2
}
