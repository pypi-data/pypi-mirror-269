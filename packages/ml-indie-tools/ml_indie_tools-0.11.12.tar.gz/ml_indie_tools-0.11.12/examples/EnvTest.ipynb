{
 "cells": [
  {
   "cell_type": "code",
   "execution_count": 1,
   "id": "6d7b23cc-cceb-45c2-8fd2-b888f23e41c3",
   "metadata": {},
   "outputs": [],
   "source": [
    "import sys\n",
    "sys.path.append('../src/ml_indie_tools')  # point to source of module\n",
    "from env_tools import MLEnv"
   ]
  },
  {
   "cell_type": "code",
   "execution_count": 2,
   "id": "621acb6b-438f-4b51-89db-a4e5b42ea75b",
   "metadata": {},
   "outputs": [],
   "source": [
    "ml=MLEnv()"
   ]
  },
  {
   "cell_type": "code",
   "execution_count": 3,
   "id": "607fe819-d510-4a34-b8e3-9fe29248c9f7",
   "metadata": {},
   "outputs": [
    {
     "data": {
      "text/plain": [
       "'OS: Darwin, Python: 3.12.2, Jupyter Notebook Pytorch: 2.2.1, GPU: MPS Metal accelerator (system memory)'"
      ]
     },
     "execution_count": 3,
     "metadata": {},
     "output_type": "execute_result"
    }
   ],
   "source": [
    "ml.describe()"
   ]
  },
  {
   "cell_type": "code",
   "execution_count": null,
   "id": "8bfe2ac9-c182-4854-afcd-f50c5b5b6b4c",
   "metadata": {},
   "outputs": [],
   "source": []
  }
 ],
 "metadata": {
  "kernelspec": {
   "display_name": "Python 3 (ipykernel)",
   "language": "python",
   "name": "python3"
  },
  "language_info": {
   "codemirror_mode": {
    "name": "ipython",
    "version": 3
   },
   "file_extension": ".py",
   "mimetype": "text/x-python",
   "name": "python",
   "nbconvert_exporter": "python",
   "pygments_lexer": "ipython3",
   "version": "3.12.2"
  }
 },
 "nbformat": 4,
 "nbformat_minor": 5
}
