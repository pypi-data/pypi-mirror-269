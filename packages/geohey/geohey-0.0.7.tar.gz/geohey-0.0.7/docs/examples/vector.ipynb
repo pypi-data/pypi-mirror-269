{
 "cells": [
  {
   "cell_type": "code",
   "execution_count": null,
   "metadata": {},
   "outputs": [],
   "source": [
    "import json\n",
    "from ipyleaflet import Map, GeoJSON\n",
    "\n",
    "with open(\"europe_110.geo.json\", \"r\") as f:\n",
    "    data = json.load(f)\n",
    "\n",
    "m = Map(center=(50.6252978589571, 0.34580993652344), zoom=3)\n",
    "\n",
    "geo_json = GeoJSON(\n",
    "    data=data,\n",
    ")\n",
    "m.add(geo_json)\n",
    "\n",
    "m"
   ]
  },
  {
   "cell_type": "code",
   "execution_count": null,
   "metadata": {},
   "outputs": [],
   "source": [
    "import os\n",
    "import json\n",
    "import random\n",
    "import requests\n",
    "\n",
    "from ipyleaflet import Map, GeoJSON\n",
    "\n",
    "if not os.path.exists(\"europe_110.geo.json\"):\n",
    "    url = \"https://github.com/jupyter-widgets/ipyleaflet/raw/master/examples/europe_110.geo.json\"\n",
    "    r = requests.get(url)\n",
    "    with open(\"europe_110.geo.json\", \"w\") as f:\n",
    "        f.write(r.content.decode(\"utf-8\"))\n",
    "\n",
    "with open(\"europe_110.geo.json\", \"r\") as f:\n",
    "    data = json.load(f)\n",
    "\n",
    "\n",
    "def random_color(feature):\n",
    "    return {\n",
    "        \"color\": \"black\",\n",
    "        \"fillColor\": random.choice([\"red\", \"yellow\", \"green\", \"orange\"]),\n",
    "    }\n",
    "\n",
    "\n",
    "m = Map(center=(50.6252978589571, 0.34580993652344), zoom=3)\n",
    "\n",
    "geo_json = GeoJSON(\n",
    "    data=data,\n",
    "    style={\"opacity\": 1, \"dashArray\": \"9\", \"fillOpacity\": 0.1, \"weight\": 1},\n",
    "    hover_style={\"color\": \"white\", \"dashArray\": \"0\", \"fillOpacity\": 0.5},\n",
    "    style_callback=random_color,\n",
    ")\n",
    "m.add(geo_json)\n",
    "\n",
    "m"
   ]
  },
  {
   "cell_type": "code",
   "execution_count": null,
   "metadata": {},
   "outputs": [],
   "source": [
    "import geohey"
   ]
  },
  {
   "cell_type": "code",
   "execution_count": null,
   "metadata": {},
   "outputs": [],
   "source": [
    "m = geohey.Map()\n",
    "m.add_basemap(\"OpenTopoMap\")\n",
    "# m.add_geojson(\"europe_110.geo.json\")\n",
    "\n",
    "# m.add_geojson(\"countries.geojson\", name=\"Countries\")\n",
    "m.add_shp(\"countries.shp\", name=\"Countries\")\n",
    "m.add_layers_control()\n",
    "m"
   ]
  },
  {
   "cell_type": "code",
   "execution_count": null,
   "metadata": {},
   "outputs": [],
   "source": []
  }
 ],
 "metadata": {
  "kernelspec": {
   "display_name": "geo",
   "language": "python",
   "name": "python3"
  },
  "language_info": {
   "codemirror_mode": {
    "name": "ipython",
    "version": 3
   },
   "file_extension": ".py",
   "mimetype": "text/x-python",
   "name": "python",
   "nbconvert_exporter": "python",
   "pygments_lexer": "ipython3",
   "version": "3.11.7"
  }
 },
 "nbformat": 4,
 "nbformat_minor": 2
}
