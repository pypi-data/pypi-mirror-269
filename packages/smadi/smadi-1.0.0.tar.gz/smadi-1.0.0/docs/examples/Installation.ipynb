{
 "cells": [
  {
   "cell_type": "markdown",
   "metadata": {},
   "source": [
    "## 1. Installation\n",
    "\n",
    "In this section, we'll cover how to install the SMADI package.\n",
    "\n",
    "### 1.1 Prerequisites\n",
    "\n",
    "Before installing SMADI,\n",
    "\n",
    "- Ensure Python 3.x is installed on your system.\n",
    "- Create a virtual environment (optional but recommended) to manage dependencies and ensure isolation from other Python installations.\n",
    "\n",
    "```bash\n",
    "# Create a virtual environment named 'smadi_env' using python3 -m venv\n",
    "python3 -m venv smadi_env\n",
    "\n",
    "# Alternatively, if you have virtualenv installed, you can use:\n",
    "# virtualenv smadi_env\n",
    "\n",
    "# Activate the virtual environment\n",
    "\n",
    "# On Windows\n",
    "smadi_env\\Scripts\\activate\n",
    "\n",
    "# On Unix or MacOS\n",
    "source smadi_env/bin/activate\n",
    "\n",
    "```\n",
    "\n",
    "### 1.2 Installing SMADI\n",
    "\n",
    "You can install SMADI using pip, which is the recommended method:"
   ]
  },
  {
   "cell_type": "code",
   "execution_count": 1,
   "metadata": {},
   "outputs": [],
   "source": [
    "%%capture --no-display\n",
    "! pip install smadi"
   ]
  },
  {
   "cell_type": "markdown",
   "metadata": {},
   "source": [
    "This command will download and install the latest version of SMADI along with its dependencies. Also, a full list of dependencies required to run this notebook is available in the file requiremets.txt at [SMADI](https://github.com/MuhammedM294/smadi) github repo.\n",
    "\n",
    "### 1.3 Verifying Installation\n",
    "\n",
    "To verify that SMADI has been installed correctly, you can run the following command in your Python environment:"
   ]
  },
  {
   "cell_type": "code",
   "execution_count": 2,
   "metadata": {},
   "outputs": [
    {
     "name": "stdout",
     "output_type": "stream",
     "text": [
      "0.2.7\n"
     ]
    }
   ],
   "source": [
    "import smadi\n",
    "\n",
    "print(smadi.__version__)"
   ]
  },
  {
   "cell_type": "markdown",
   "metadata": {},
   "source": [
    "\n",
    "SMADI has been installed successfully, this command will print the version number of the installed package.\n",
    "\n"
   ]
  }
 ],
 "metadata": {
  "kernelspec": {
   "display_name": "env",
   "language": "python",
   "name": "python3"
  },
  "language_info": {
   "codemirror_mode": {
    "name": "ipython",
    "version": 3
   },
   "file_extension": ".py",
   "mimetype": "text/x-python",
   "name": "python",
   "nbconvert_exporter": "python",
   "pygments_lexer": "ipython3",
   "version": "3.10.12"
  }
 },
 "nbformat": 4,
 "nbformat_minor": 2
}
