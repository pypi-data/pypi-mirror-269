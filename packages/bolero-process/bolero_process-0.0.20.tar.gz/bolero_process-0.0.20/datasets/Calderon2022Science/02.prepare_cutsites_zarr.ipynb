{
 "cells": [
  {
   "cell_type": "code",
   "execution_count": 1,
   "id": "f313490c-c04a-4b21-ab05-2b0a895b028c",
   "metadata": {
    "execution": {
     "iopub.execute_input": "2024-02-08T16:11:30.848636Z",
     "iopub.status.busy": "2024-02-08T16:11:30.848364Z",
     "iopub.status.idle": "2024-02-08T16:11:32.988684Z",
     "shell.execute_reply": "2024-02-08T16:11:32.987645Z",
     "shell.execute_reply.started": "2024-02-08T16:11:30.848609Z"
    }
   },
   "outputs": [],
   "source": [
    "import pathlib\n",
    "from concurrent.futures import ProcessPoolExecutor, as_completed\n",
    "\n",
    "import pandas as pd\n",
    "\n",
    "from bolero_process.atac.sc.fragments_to_zarr import *"
   ]
  },
  {
   "cell_type": "code",
   "execution_count": 2,
   "id": "18750143-9a5c-4541-8e0d-ea7bef9fe102",
   "metadata": {
    "execution": {
     "iopub.execute_input": "2024-02-08T16:11:32.993390Z",
     "iopub.status.busy": "2024-02-08T16:11:32.993104Z",
     "iopub.status.idle": "2024-02-08T16:11:32.998498Z",
     "shell.execute_reply": "2024-02-08T16:11:32.997599Z",
     "shell.execute_reply.started": "2024-02-08T16:11:32.993361Z"
    }
   },
   "outputs": [],
   "source": [
    "dataset = \"Calderon2022Science\"\n",
    "genome = \"dm6\"\n",
    "cpu = 20\n",
    "chrom_sizes_path = f\"/ref/{genome}/fasta/{genome}.main.chrom.sizes\""
   ]
  },
  {
   "cell_type": "code",
   "execution_count": null,
   "id": "b5f7cc03-5135-45ae-ab48-395ad930377a",
   "metadata": {},
   "outputs": [],
   "source": []
  },
  {
   "cell_type": "code",
   "execution_count": 8,
   "id": "3ecc25bd-cb59-455e-b603-09cc7f72e80f",
   "metadata": {
    "execution": {
     "iopub.execute_input": "2024-02-08T16:12:31.765768Z",
     "iopub.status.busy": "2024-02-08T16:12:31.764849Z",
     "iopub.status.idle": "2024-02-08T16:12:31.846754Z",
     "shell.execute_reply": "2024-02-08T16:12:31.845804Z",
     "shell.execute_reply.started": "2024-02-08T16:12:31.765733Z"
    }
   },
   "outputs": [
    {
     "data": {
      "text/plain": [
       "16"
      ]
     },
     "execution_count": 8,
     "metadata": {},
     "output_type": "execute_result"
    }
   ],
   "source": [
    "frag_paths = pd.Series(\n",
    "    {\n",
    "        \".\".join(p.name.split(\".\")[:-3]): p\n",
    "        for p in pathlib.Path(\"/tempdata/Calderon2022Science/\").glob(\"*.fragments.txt.gz\")\n",
    "    }\n",
    ")\n",
    "frag_paths.size"
   ]
  },
  {
   "cell_type": "code",
   "execution_count": 10,
   "id": "a1d92cd8-8bfe-40cf-a722-a893efedd8e3",
   "metadata": {
    "execution": {
     "iopub.execute_input": "2024-02-08T16:13:03.639807Z",
     "iopub.status.busy": "2024-02-08T16:13:03.639392Z",
     "iopub.status.idle": "2024-02-08T16:13:04.481843Z",
     "shell.execute_reply": "2024-02-08T16:13:04.480688Z",
     "shell.execute_reply.started": "2024-02-08T16:13:03.639769Z"
    }
   },
   "outputs": [
    {
     "ename": "ValueError",
     "evalue": "If using all scalar values, you must pass an index",
     "output_type": "error",
     "traceback": [
      "\u001b[0;31m---------------------------------------------------------------------------\u001b[0m",
      "\u001b[0;31m_RemoteTraceback\u001b[0m                          Traceback (most recent call last)",
      "\u001b[0;31m_RemoteTraceback\u001b[0m: \n\"\"\"\nTraceback (most recent call last):\n  File \"/home/gcpuser/mambaforge/lib/python3.10/concurrent/futures/process.py\", line 246, in _process_worker\n    r = call_item.fn(*call_item.args, **call_item.kwargs)\n  File \"/home/gcpuser/mambaforge/lib/python3.10/site-packages/bolero_process/atac/sc/fragments_to_zarr.py\", line 155, in fragments_to_cutsite_zarr\n    chrom_offset_table = _chrom_sizes_to_chorm_offset_table(chrom_sizes)\n  File \"/home/gcpuser/mambaforge/lib/python3.10/site-packages/bolero_process/atac/sc/fragments_to_zarr.py\", line 14, in _chrom_sizes_to_chorm_offset_table\n    chrom_offset_table = pd.DataFrame({\"size\": chrom_sizes, \"global_end\": chrom_sizes.cumsum()})\n  File \"/home/gcpuser/mambaforge/lib/python3.10/site-packages/pandas/core/frame.py\", line 664, in __init__\n    mgr = dict_to_mgr(data, index, columns, dtype=dtype, copy=copy, typ=manager)\n  File \"/home/gcpuser/mambaforge/lib/python3.10/site-packages/pandas/core/internals/construction.py\", line 493, in dict_to_mgr\n    return arrays_to_mgr(arrays, columns, index, dtype=dtype, typ=typ, consolidate=copy)\n  File \"/home/gcpuser/mambaforge/lib/python3.10/site-packages/pandas/core/internals/construction.py\", line 118, in arrays_to_mgr\n    index = _extract_index(arrays)\n  File \"/home/gcpuser/mambaforge/lib/python3.10/site-packages/pandas/core/internals/construction.py\", line 656, in _extract_index\n    raise ValueError(\"If using all scalar values, you must pass an index\")\nValueError: If using all scalar values, you must pass an index\n\"\"\"",
      "\nThe above exception was the direct cause of the following exception:\n",
      "\u001b[0;31mValueError\u001b[0m                                Traceback (most recent call last)",
      "Cell \u001b[0;32mIn[10], line 18\u001b[0m\n\u001b[1;32m     16\u001b[0m     fs\u001b[38;5;241m.\u001b[39mappend(f)\n\u001b[1;32m     17\u001b[0m \u001b[38;5;28;01mfor\u001b[39;00m f \u001b[38;5;129;01min\u001b[39;00m as_completed(fs):\n\u001b[0;32m---> 18\u001b[0m     \u001b[43mf\u001b[49m\u001b[38;5;241;43m.\u001b[39;49m\u001b[43mresult\u001b[49m\u001b[43m(\u001b[49m\u001b[43m)\u001b[49m\n",
      "File \u001b[0;32m~/mambaforge/lib/python3.10/concurrent/futures/_base.py:451\u001b[0m, in \u001b[0;36mFuture.result\u001b[0;34m(self, timeout)\u001b[0m\n\u001b[1;32m    449\u001b[0m     \u001b[38;5;28;01mraise\u001b[39;00m CancelledError()\n\u001b[1;32m    450\u001b[0m \u001b[38;5;28;01melif\u001b[39;00m \u001b[38;5;28mself\u001b[39m\u001b[38;5;241m.\u001b[39m_state \u001b[38;5;241m==\u001b[39m FINISHED:\n\u001b[0;32m--> 451\u001b[0m     \u001b[38;5;28;01mreturn\u001b[39;00m \u001b[38;5;28;43mself\u001b[39;49m\u001b[38;5;241;43m.\u001b[39;49m\u001b[43m__get_result\u001b[49m\u001b[43m(\u001b[49m\u001b[43m)\u001b[49m\n\u001b[1;32m    453\u001b[0m \u001b[38;5;28mself\u001b[39m\u001b[38;5;241m.\u001b[39m_condition\u001b[38;5;241m.\u001b[39mwait(timeout)\n\u001b[1;32m    455\u001b[0m \u001b[38;5;28;01mif\u001b[39;00m \u001b[38;5;28mself\u001b[39m\u001b[38;5;241m.\u001b[39m_state \u001b[38;5;129;01min\u001b[39;00m [CANCELLED, CANCELLED_AND_NOTIFIED]:\n",
      "File \u001b[0;32m~/mambaforge/lib/python3.10/concurrent/futures/_base.py:403\u001b[0m, in \u001b[0;36mFuture.__get_result\u001b[0;34m(self)\u001b[0m\n\u001b[1;32m    401\u001b[0m \u001b[38;5;28;01mif\u001b[39;00m \u001b[38;5;28mself\u001b[39m\u001b[38;5;241m.\u001b[39m_exception:\n\u001b[1;32m    402\u001b[0m     \u001b[38;5;28;01mtry\u001b[39;00m:\n\u001b[0;32m--> 403\u001b[0m         \u001b[38;5;28;01mraise\u001b[39;00m \u001b[38;5;28mself\u001b[39m\u001b[38;5;241m.\u001b[39m_exception\n\u001b[1;32m    404\u001b[0m     \u001b[38;5;28;01mfinally\u001b[39;00m:\n\u001b[1;32m    405\u001b[0m         \u001b[38;5;66;03m# Break a reference cycle with the exception in self._exception\u001b[39;00m\n\u001b[1;32m    406\u001b[0m         \u001b[38;5;28mself\u001b[39m \u001b[38;5;241m=\u001b[39m \u001b[38;5;28;01mNone\u001b[39;00m\n",
      "\u001b[0;31mValueError\u001b[0m: If using all scalar values, you must pass an index"
     ]
    }
   ],
   "source": [
    "for chunk_start in range(0, frag_paths.size, cpu):\n",
    "    with ProcessPoolExecutor(cpu) as exe:\n",
    "        chunk_paths = frag_paths.iloc[chunk_start : chunk_start + cpu]\n",
    "        fs = []\n",
    "        for sample, path in chunk_paths.items():\n",
    "            f = exe.submit(\n",
    "                fragments_to_cutsite_zarr,\n",
    "                fragments_path=path,\n",
    "                chrom_sizes_path=chrom_sizes_path,\n",
    "                output_zarr_path=f\"/wmb/zarr/{dataset}.CutSites/{sample}.zarr\",\n",
    "                barcode_prefix=sample,\n",
    "                format=\"bed\",\n",
    "                adjust_tn5=False,\n",
    "                chunk_size=20000000,\n",
    "            )\n",
    "            fs.append(f)\n",
    "        for f in as_completed(fs):\n",
    "            f.result()"
   ]
  },
  {
   "cell_type": "code",
   "execution_count": null,
   "id": "59ed4a56-611e-4bcd-aec4-c461f225a0f8",
   "metadata": {},
   "outputs": [],
   "source": []
  },
  {
   "cell_type": "code",
   "execution_count": null,
   "id": "320113e6-ba3a-4558-9491-56f50adf8b92",
   "metadata": {},
   "outputs": [],
   "source": []
  }
 ],
 "metadata": {
  "kernelspec": {
   "display_name": "Python 3 (ipykernel)",
   "language": "python",
   "name": "python3"
  },
  "language_info": {
   "codemirror_mode": {
    "name": "ipython",
    "version": 3
   },
   "file_extension": ".py",
   "mimetype": "text/x-python",
   "name": "python",
   "nbconvert_exporter": "python",
   "pygments_lexer": "ipython3",
   "version": "3.10.12"
  }
 },
 "nbformat": 4,
 "nbformat_minor": 5
}
