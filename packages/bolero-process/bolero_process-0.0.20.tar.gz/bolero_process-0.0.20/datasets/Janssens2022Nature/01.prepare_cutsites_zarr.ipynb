{
 "cells": [
  {
   "cell_type": "code",
   "execution_count": 1,
   "id": "f313490c-c04a-4b21-ab05-2b0a895b028c",
   "metadata": {
    "execution": {
     "iopub.execute_input": "2024-02-08T22:39:46.727496Z",
     "iopub.status.busy": "2024-02-08T22:39:46.727159Z",
     "iopub.status.idle": "2024-02-08T22:39:48.976216Z",
     "shell.execute_reply": "2024-02-08T22:39:48.974600Z",
     "shell.execute_reply.started": "2024-02-08T22:39:46.727466Z"
    }
   },
   "outputs": [],
   "source": [
    "import pathlib\n",
    "from concurrent.futures import ProcessPoolExecutor, as_completed\n",
    "\n",
    "import pandas as pd\n",
    "\n",
    "from bolero_process.atac.sc.fragments_to_zarr import *"
   ]
  },
  {
   "cell_type": "code",
   "execution_count": 2,
   "id": "18750143-9a5c-4541-8e0d-ea7bef9fe102",
   "metadata": {
    "execution": {
     "iopub.execute_input": "2024-02-08T22:39:49.577192Z",
     "iopub.status.busy": "2024-02-08T22:39:49.575862Z",
     "iopub.status.idle": "2024-02-08T22:39:49.580915Z",
     "shell.execute_reply": "2024-02-08T22:39:49.580126Z",
     "shell.execute_reply.started": "2024-02-08T22:39:49.577151Z"
    }
   },
   "outputs": [],
   "source": [
    "dataset = \"Janssens2022Nature\"\n",
    "genome = \"dm6\"\n",
    "cpu = 13\n",
    "chrom_sizes_path = f\"/ref/{genome}/fasta/{genome}.main.chrom.sizes\""
   ]
  },
  {
   "cell_type": "code",
   "execution_count": 3,
   "id": "3ecc25bd-cb59-455e-b603-09cc7f72e80f",
   "metadata": {
    "execution": {
     "iopub.execute_input": "2024-02-08T22:39:50.094347Z",
     "iopub.status.busy": "2024-02-08T22:39:50.093968Z",
     "iopub.status.idle": "2024-02-08T22:39:50.948768Z",
     "shell.execute_reply": "2024-02-08T22:39:50.947934Z",
     "shell.execute_reply.started": "2024-02-08T22:39:50.094314Z"
    }
   },
   "outputs": [
    {
     "data": {
      "text/plain": [
       "25"
      ]
     },
     "execution_count": 3,
     "metadata": {},
     "output_type": "execute_result"
    }
   ],
   "source": [
    "frag_paths = pd.Series(\n",
    "    {\n",
    "        \"-\".join(p.parent.name.split(\"__\")[:2]): p\n",
    "        for p in pathlib.Path(f\"/tempdata/{dataset}/\").glob(\"*/fragments.tsv.gz\")\n",
    "    }\n",
    ")\n",
    "frag_paths.size"
   ]
  },
  {
   "cell_type": "code",
   "execution_count": 4,
   "id": "a1d92cd8-8bfe-40cf-a722-a893efedd8e3",
   "metadata": {
    "execution": {
     "iopub.execute_input": "2024-02-08T22:39:51.648681Z",
     "iopub.status.busy": "2024-02-08T22:39:51.647817Z",
     "iopub.status.idle": "2024-02-08T22:39:52.941261Z",
     "shell.execute_reply": "2024-02-08T22:39:52.939676Z",
     "shell.execute_reply.started": "2024-02-08T22:39:51.648642Z"
    }
   },
   "outputs": [
    {
     "name": "stdout",
     "output_type": "stream",
     "text": [
      "Zarr store already exists at /wmb/zarr/Janssens2022Nature.CutSites/DFB-2b777e.zarr\n",
      "Zarr store already exists at /wmb/zarr/Janssens2022Nature.CutSites/DFB-4e2bbb.zarrZarr store already exists at /wmb/zarr/Janssens2022Nature.CutSites/DFB-46d13d.zarrZarr store already exists at /wmb/zarr/Janssens2022Nature.CutSites/DFB-5e8b4e.zarr\n",
      "Zarr store already exists at /wmb/zarr/Janssens2022Nature.CutSites/DFB-303662.zarrZarr store already exists at /wmb/zarr/Janssens2022Nature.CutSites/DFB-8f8273.zarr\n",
      "\n",
      "Zarr store already exists at /wmb/zarr/Janssens2022Nature.CutSites/DFB-6d6d0c.zarr\n",
      "Zarr store already exists at /wmb/zarr/Janssens2022Nature.CutSites/DFB-7bc63d.zarr\n",
      "Zarr store already exists at /wmb/zarr/Janssens2022Nature.CutSites/DFB-8569df.zarr\n",
      "\n",
      "\n",
      "Zarr store already exists at /wmb/zarr/Janssens2022Nature.CutSites/DFB-127e2f.zarrZarr store already exists at /wmb/zarr/Janssens2022Nature.CutSites/DFB-2c5b14.zarr\n",
      "\n",
      "Zarr store already exists at /wmb/zarr/Janssens2022Nature.CutSites/DFB-59b45b.zarr\n",
      "Zarr store already exists at /wmb/zarr/Janssens2022Nature.CutSites/DFB-96a6e8.zarr\n",
      "Zarr store already exists at /wmb/zarr/Janssens2022Nature.CutSites/DFB-9ed3fa.zarr\n",
      "Zarr store already exists at /wmb/zarr/Janssens2022Nature.CutSites/DFB-c62f88.zarr\n",
      "Zarr store already exists at /wmb/zarr/Janssens2022Nature.CutSites/DFB-f13919.zarrZarr store already exists at /wmb/zarr/Janssens2022Nature.CutSites/FDM-9c338b.zarrZarr store already exists at /wmb/zarr/Janssens2022Nature.CutSites/DFB-a2d857.zarr\n",
      "\n",
      "Zarr store already exists at /wmb/zarr/Janssens2022Nature.CutSites/EAD-0f50f9.zarrZarr store already exists at /wmb/zarr/Janssens2022Nature.CutSites/FDM-f2501a.zarr\n",
      "\n",
      "\n",
      "Zarr store already exists at /wmb/zarr/Janssens2022Nature.CutSites/DFB-c0f875.zarrZarr store already exists at /wmb/zarr/Janssens2022Nature.CutSites/FDM-1d60cb.zarrZarr store already exists at /wmb/zarr/Janssens2022Nature.CutSites/DFB-e80c42.zarr\n",
      "\n",
      "\n",
      "Zarr store already exists at /wmb/zarr/Janssens2022Nature.CutSites/DFB-e26179.zarrZarr store already exists at /wmb/zarr/Janssens2022Nature.CutSites/EAD-79d3d8.zarr\n",
      "\n"
     ]
    }
   ],
   "source": [
    "for chunk_start in range(0, frag_paths.size, cpu):\n",
    "    with ProcessPoolExecutor(cpu) as exe:\n",
    "        chunk_paths = frag_paths.iloc[chunk_start : chunk_start + cpu]\n",
    "        fs = []\n",
    "        for sample, path in chunk_paths.items():\n",
    "            f = exe.submit(\n",
    "                fragments_to_cutsite_zarr,\n",
    "                fragments_path=path,\n",
    "                chrom_sizes_path=chrom_sizes_path,\n",
    "                output_zarr_path=f\"/wmb/zarr/{dataset}.CutSites/{sample}.zarr\",\n",
    "                barcode_prefix=sample,\n",
    "                format=\"bed\",\n",
    "                adjust_tn5=False,\n",
    "                chunk_size=20000000,\n",
    "                sort_fragments=True,\n",
    "                remove_chr=True,\n",
    "            )\n",
    "            fs.append(f)\n",
    "        for f in as_completed(fs):\n",
    "            f.result()"
   ]
  },
  {
   "cell_type": "code",
   "execution_count": null,
   "id": "59ed4a56-611e-4bcd-aec4-c461f225a0f8",
   "metadata": {},
   "outputs": [],
   "source": []
  },
  {
   "cell_type": "code",
   "execution_count": null,
   "id": "320113e6-ba3a-4558-9491-56f50adf8b92",
   "metadata": {},
   "outputs": [],
   "source": []
  }
 ],
 "metadata": {
  "kernelspec": {
   "display_name": "Python 3 (ipykernel)",
   "language": "python",
   "name": "python3"
  },
  "language_info": {
   "codemirror_mode": {
    "name": "ipython",
    "version": 3
   },
   "file_extension": ".py",
   "mimetype": "text/x-python",
   "name": "python",
   "nbconvert_exporter": "python",
   "pygments_lexer": "ipython3",
   "version": "3.10.12"
  }
 },
 "nbformat": 4,
 "nbformat_minor": 5
}
