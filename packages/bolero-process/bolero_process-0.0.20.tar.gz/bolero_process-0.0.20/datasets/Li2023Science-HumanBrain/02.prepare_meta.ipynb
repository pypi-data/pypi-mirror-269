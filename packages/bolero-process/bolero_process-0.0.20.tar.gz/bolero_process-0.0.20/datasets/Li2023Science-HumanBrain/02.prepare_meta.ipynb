{
 "cells": [
  {
   "cell_type": "code",
   "execution_count": 5,
   "id": "2458ae2f-d36b-4d62-8815-c28d3c569a81",
   "metadata": {
    "execution": {
     "iopub.execute_input": "2024-02-09T22:59:34.957059Z",
     "iopub.status.busy": "2024-02-09T22:59:34.956689Z",
     "iopub.status.idle": "2024-02-09T22:59:34.962257Z",
     "shell.execute_reply": "2024-02-09T22:59:34.961118Z",
     "shell.execute_reply.started": "2024-02-09T22:59:34.957031Z"
    }
   },
   "outputs": [],
   "source": [
    "import pathlib\n",
    "import re\n",
    "\n",
    "import pandas as pd\n",
    "import xarray as xr\n",
    "from tqdm import tqdm"
   ]
  },
  {
   "cell_type": "code",
   "execution_count": 2,
   "id": "ea962feb-7d11-4181-93b9-97d5d69e98f8",
   "metadata": {
    "execution": {
     "iopub.execute_input": "2024-02-09T22:58:19.186775Z",
     "iopub.status.busy": "2024-02-09T22:58:19.186281Z",
     "iopub.status.idle": "2024-02-09T22:58:20.373743Z",
     "shell.execute_reply": "2024-02-09T22:58:20.372653Z",
     "shell.execute_reply.started": "2024-02-09T22:58:19.186744Z"
    }
   },
   "outputs": [],
   "source": [
    "# annotation from Supp Table 3\n",
    "annot = pd.read_csv(\n",
    "    \"Table S3 – Metatable and annotation of single nuclei.txt\",\n",
    "    sep=\"\\t\",\n",
    "    header=None,\n",
    "    names=[\"sample\", \"barcode\", \"cell_type\"],\n",
    ")\n",
    "annot[\"cell_id\"] = annot[\"sample\"] + \".\" + annot[\"barcode\"]\n",
    "annot = annot.set_index(\"cell_id\")\n",
    "\n",
    "# this table is incomplete"
   ]
  },
  {
   "cell_type": "code",
   "execution_count": null,
   "id": "05a04992-fbce-4213-a968-6be9fa48a05a",
   "metadata": {},
   "outputs": [],
   "source": [
    "zarr_paths = list(pathlib.Path(\"/wmb/zarr/Li2023Science.CutSites/\").glob(\"*.zarr\"))\n",
    "records = []\n",
    "for zarr_path in tqdm(zarr_paths):\n",
    "    ds = xr.open_zarr(zarr_path)\n",
    "    barcode_map = ds[\"barcode_map\"].to_pandas().reset_index()\n",
    "    barcode_map.columns = [\"barcode\", \"barcode_idx\"]\n",
    "    barcode_map[\"zarr_path\"] = str(zarr_path)\n",
    "    records.append(barcode_map)\n",
    "barcode_records = pd.concat(records)\n",
    "barcode_records[\"barcode_idx\"] = barcode_records[\"barcode_idx\"].astype(\"uint32\")\n",
    "barcode_records[\"zarr_path\"] = barcode_records[\"zarr_path\"].astype(\"category\")\n",
    "barcode_records = barcode_records.set_index(\"barcode\")\n",
    "\n",
    "barcode_records[\"sample\"] = barcode_records.index.map(lambda i: i.split(\".\")[0])\n",
    "barcode_records[\"cell_type\"] = barcode_records[\"zarr_path\"].map(lambda i: i.split(\"/\")[-1][:-5])\n",
    "suffix = re.compile(r\"_a\\w$\")\n",
    "barcode_records[\"cell_type\"] = barcode_records[\"cell_type\"].map(lambda i: suffix.split(i)[0])\n",
    "barcode_records = barcode_records.reset_index()"
   ]
  },
  {
   "cell_type": "code",
   "execution_count": 28,
   "id": "b61bfea6-740c-462a-8490-8f4c1b0a82d6",
   "metadata": {
    "execution": {
     "iopub.execute_input": "2024-02-09T23:11:50.506064Z",
     "iopub.status.busy": "2024-02-09T23:11:50.505666Z",
     "iopub.status.idle": "2024-02-09T23:11:50.683905Z",
     "shell.execute_reply": "2024-02-09T23:11:50.682839Z",
     "shell.execute_reply.started": "2024-02-09T23:11:50.506035Z"
    }
   },
   "outputs": [],
   "source": [
    "barcode_records[\"sample\"] = barcode_records[\"sample\"].astype(\"category\")\n",
    "barcode_records[\"cell_type\"] = barcode_records[\"cell_type\"].astype(\"category\")"
   ]
  },
  {
   "cell_type": "code",
   "execution_count": 31,
   "id": "9a700597-9bb0-4ab8-aa6a-dca7b5a3bcaa",
   "metadata": {
    "execution": {
     "iopub.execute_input": "2024-02-09T23:12:51.147680Z",
     "iopub.status.busy": "2024-02-09T23:12:51.147291Z",
     "iopub.status.idle": "2024-02-09T23:12:52.037756Z",
     "shell.execute_reply": "2024-02-09T23:12:52.036660Z",
     "shell.execute_reply.started": "2024-02-09T23:12:51.147646Z"
    }
   },
   "outputs": [],
   "source": [
    "barcode_records.to_feather(\"/wmb/Li2023Science/Li2023Science.CellMetadata.feather\")"
   ]
  },
  {
   "cell_type": "code",
   "execution_count": 40,
   "id": "6bdba498-da9a-429a-82eb-38f6e35468f7",
   "metadata": {
    "execution": {
     "iopub.execute_input": "2024-02-09T23:14:27.495609Z",
     "iopub.status.busy": "2024-02-09T23:14:27.495147Z",
     "iopub.status.idle": "2024-02-09T23:14:27.502669Z",
     "shell.execute_reply": "2024-02-09T23:14:27.501670Z",
     "shell.execute_reply.started": "2024-02-09T23:14:27.495576Z"
    }
   },
   "outputs": [
    {
     "data": {
      "text/plain": [
       "(1136505, 'cells')"
      ]
     },
     "execution_count": 40,
     "metadata": {},
     "output_type": "execute_result"
    }
   ],
   "source": [
    "barcode_records.shape[0], \"cells\""
   ]
  },
  {
   "cell_type": "code",
   "execution_count": 42,
   "id": "d7d34286-f28c-4d86-8159-20434ad8eb5c",
   "metadata": {
    "execution": {
     "iopub.execute_input": "2024-02-09T23:14:39.500183Z",
     "iopub.status.busy": "2024-02-09T23:14:39.499791Z",
     "iopub.status.idle": "2024-02-09T23:14:39.513658Z",
     "shell.execute_reply": "2024-02-09T23:14:39.512291Z",
     "shell.execute_reply.started": "2024-02-09T23:14:39.500152Z"
    }
   },
   "outputs": [
    {
     "data": {
      "text/plain": [
       "(108, 'cell_types')"
      ]
     },
     "execution_count": 42,
     "metadata": {},
     "output_type": "execute_result"
    }
   ],
   "source": [
    "barcode_records[\"cell_type\"].unique().size, \"cell_types\""
   ]
  },
  {
   "cell_type": "code",
   "execution_count": 10,
   "id": "7e630201-fb27-48f8-b026-9b9514d7b08f",
   "metadata": {
    "execution": {
     "iopub.execute_input": "2024-02-09T23:00:30.540458Z",
     "iopub.status.busy": "2024-02-09T23:00:30.539970Z",
     "iopub.status.idle": "2024-02-09T23:00:30.551372Z",
     "shell.execute_reply": "2024-02-09T23:00:30.550272Z",
     "shell.execute_reply.started": "2024-02-09T23:00:30.540341Z"
    }
   },
   "outputs": [],
   "source": [
    "# sample meta\n",
    "sample_meta = pd.read_csv(\"sample_meta.csv\", index_col=0)\n",
    "assert (~barcode_records[\"sample\"].isin(sample_meta.index)).sum() == 0"
   ]
  },
  {
   "cell_type": "code",
   "execution_count": 33,
   "id": "ac5399a2-b496-45d9-9353-725da6c7b2d9",
   "metadata": {
    "execution": {
     "iopub.execute_input": "2024-02-09T23:13:08.760666Z",
     "iopub.status.busy": "2024-02-09T23:13:08.760281Z",
     "iopub.status.idle": "2024-02-09T23:13:08.768332Z",
     "shell.execute_reply": "2024-02-09T23:13:08.767150Z",
     "shell.execute_reply.started": "2024-02-09T23:13:08.760629Z"
    }
   },
   "outputs": [],
   "source": [
    "name_map = {\n",
    "    \"Brain dissetion ID\": \"DissetionId\",\n",
    "    \"donor\": \"Donor\",\n",
    "    \"Brain structure\": \"MajorRegion\",\n",
    "    \"Brain region\": \"SubRegion\",\n",
    "    \"Sample quality\": \"SampleQuality\",\n",
    "}\n",
    "sample_meta = sample_meta.rename(name_map).reset_index()"
   ]
  },
  {
   "cell_type": "code",
   "execution_count": 36,
   "id": "5b15108a-441b-49e2-8c6c-dfbef8e9da3d",
   "metadata": {
    "execution": {
     "iopub.execute_input": "2024-02-09T23:13:50.363786Z",
     "iopub.status.busy": "2024-02-09T23:13:50.363296Z",
     "iopub.status.idle": "2024-02-09T23:13:50.565808Z",
     "shell.execute_reply": "2024-02-09T23:13:50.564639Z",
     "shell.execute_reply.started": "2024-02-09T23:13:50.363752Z"
    }
   },
   "outputs": [],
   "source": [
    "sample_meta.to_feather(\"/wmb/Li2023Science/Li2023Science.SampleMetadata.feather\")"
   ]
  },
  {
   "cell_type": "code",
   "execution_count": null,
   "id": "3e51ae85-ac23-42c3-bb3b-ffe9bc7a1f38",
   "metadata": {},
   "outputs": [],
   "source": []
  }
 ],
 "metadata": {
  "kernelspec": {
   "display_name": "Python 3 (ipykernel)",
   "language": "python",
   "name": "python3"
  },
  "language_info": {
   "codemirror_mode": {
    "name": "ipython",
    "version": 3
   },
   "file_extension": ".py",
   "mimetype": "text/x-python",
   "name": "python",
   "nbconvert_exporter": "python",
   "pygments_lexer": "ipython3",
   "version": "3.10.12"
  }
 },
 "nbformat": 4,
 "nbformat_minor": 5
}
