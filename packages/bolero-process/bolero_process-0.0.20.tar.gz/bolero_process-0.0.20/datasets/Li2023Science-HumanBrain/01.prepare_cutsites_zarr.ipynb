{
 "cells": [
  {
   "cell_type": "code",
   "execution_count": 1,
   "id": "f313490c-c04a-4b21-ab05-2b0a895b028c",
   "metadata": {
    "execution": {
     "iopub.execute_input": "2024-02-08T02:24:15.687841Z",
     "iopub.status.busy": "2024-02-08T02:24:15.687581Z",
     "iopub.status.idle": "2024-02-08T02:24:18.025989Z",
     "shell.execute_reply": "2024-02-08T02:24:18.025304Z",
     "shell.execute_reply.started": "2024-02-08T02:24:15.687817Z"
    }
   },
   "outputs": [],
   "source": [
    "import pathlib\n",
    "from concurrent.futures import ProcessPoolExecutor\n",
    "\n",
    "import pandas as pd\n",
    "\n",
    "from bolero_process.atac.sc.fragments_to_zarr import *"
   ]
  },
  {
   "cell_type": "code",
   "execution_count": 2,
   "id": "3ecc25bd-cb59-455e-b603-09cc7f72e80f",
   "metadata": {
    "execution": {
     "iopub.execute_input": "2024-02-08T02:24:18.027428Z",
     "iopub.status.busy": "2024-02-08T02:24:18.026911Z",
     "iopub.status.idle": "2024-02-08T02:24:18.086040Z",
     "shell.execute_reply": "2024-02-08T02:24:18.085434Z",
     "shell.execute_reply.started": "2024-02-08T02:24:18.027401Z"
    }
   },
   "outputs": [],
   "source": [
    "bedpe_paths = pd.Series({p.name[:-9]: p for p in pathlib.Path(\"/tempdata/Li2023Science/\").glob(\"*.bedpe.gz\")})"
   ]
  },
  {
   "cell_type": "code",
   "execution_count": 3,
   "id": "34ba2b03-1d13-4191-ab26-fe20943070e9",
   "metadata": {
    "execution": {
     "iopub.execute_input": "2024-02-08T02:24:18.087863Z",
     "iopub.status.busy": "2024-02-08T02:24:18.087356Z",
     "iopub.status.idle": "2024-02-08T02:24:18.090879Z",
     "shell.execute_reply": "2024-02-08T02:24:18.090213Z",
     "shell.execute_reply.started": "2024-02-08T02:24:18.087818Z"
    }
   },
   "outputs": [],
   "source": [
    "cpu = 20\n",
    "chrom_sizes_path = \"/ref/hg38/fasta/hg38.main.chrom.sizes\""
   ]
  },
  {
   "cell_type": "code",
   "execution_count": null,
   "id": "a1d92cd8-8bfe-40cf-a722-a893efedd8e3",
   "metadata": {
    "execution": {
     "iopub.execute_input": "2024-02-08T02:24:19.813790Z",
     "iopub.status.busy": "2024-02-08T02:24:19.813053Z"
    }
   },
   "outputs": [
    {
     "name": "stdout",
     "output_type": "stream",
     "text": [
      "Using bedpe format from BEDTOOLS\n",
      "Adjusting TN5 positions\n",
      "Using bedpe format from BEDTOOLS\n",
      "Adjusting TN5 positions\n",
      "Using bedpe format from BEDTOOLS\n",
      "Adjusting TN5 positions\n",
      "Using bedpe format from BEDTOOLS\n",
      "Adjusting TN5 positions\n",
      "Using bedpe format from BEDTOOLS\n",
      "Adjusting TN5 positions\n",
      "Using bedpe format from BEDTOOLS\n",
      "Adjusting TN5 positions\n",
      "Using bedpe format from BEDTOOLS\n",
      "Adjusting TN5 positions\n"
     ]
    },
    {
     "name": "stderr",
     "output_type": "stream",
     "text": [
      "0it [00:00, ?it/s]"
     ]
    },
    {
     "name": "stdout",
     "output_type": "stream",
     "text": [
      "Using bedpe format from BEDTOOLS\n",
      "Adjusting TN5 positions\n",
      "Using bedpe format from BEDTOOLS\n",
      "Adjusting TN5 positions\n",
      "Using bedpe format from BEDTOOLS\n",
      "Adjusting TN5 positions\n"
     ]
    },
    {
     "name": "stderr",
     "output_type": "stream",
     "text": [
      "0it [00:00, ?it/s]"
     ]
    },
    {
     "name": "stdout",
     "output_type": "stream",
     "text": [
      "Using bedpe format from BEDTOOLS\n"
     ]
    },
    {
     "name": "stderr",
     "output_type": "stream",
     "text": [
      "0it [00:00, ?it/s]"
     ]
    },
    {
     "name": "stdout",
     "output_type": "stream",
     "text": [
      "Adjusting TN5 positions\n"
     ]
    },
    {
     "name": "stderr",
     "output_type": "stream",
     "text": [
      "0it [00:00, ?it/s]"
     ]
    },
    {
     "name": "stdout",
     "output_type": "stream",
     "text": [
      "Using bedpe format from BEDTOOLS\n",
      "Adjusting TN5 positions\n"
     ]
    },
    {
     "name": "stderr",
     "output_type": "stream",
     "text": [
      "0it [00:00, ?it/s]"
     ]
    },
    {
     "name": "stdout",
     "output_type": "stream",
     "text": [
      "Using bedpe format from BEDTOOLS\n",
      "Adjusting TN5 positions\n"
     ]
    },
    {
     "name": "stderr",
     "output_type": "stream",
     "text": [
      "0it [00:00, ?it/s]"
     ]
    },
    {
     "name": "stdout",
     "output_type": "stream",
     "text": [
      "Using bedpe format from BEDTOOLS\n",
      "Adjusting TN5 positions"
     ]
    },
    {
     "name": "stderr",
     "output_type": "stream",
     "text": [
      "0it [00:00, ?it/s]"
     ]
    },
    {
     "name": "stdout",
     "output_type": "stream",
     "text": [
      "\n",
      "Using bedpe format from BEDTOOLS\n",
      "Adjusting TN5 positions\n",
      "Using bedpe format from BEDTOOLS\n",
      "Adjusting TN5 positions\n"
     ]
    },
    {
     "name": "stderr",
     "output_type": "stream",
     "text": [
      "0it [00:00, ?it/s]"
     ]
    },
    {
     "name": "stdout",
     "output_type": "stream",
     "text": [
      "Using bedpe format from BEDTOOLS\n",
      "Adjusting TN5 positions\n"
     ]
    },
    {
     "name": "stderr",
     "output_type": "stream",
     "text": [
      "0it [00:00, ?it/s]"
     ]
    },
    {
     "name": "stdout",
     "output_type": "stream",
     "text": [
      "Using bedpe format from BEDTOOLS\n",
      "Adjusting TN5 positions\n",
      "Using bedpe format from BEDTOOLS\n",
      "Adjusting TN5 positions\n"
     ]
    },
    {
     "name": "stderr",
     "output_type": "stream",
     "text": [
      "0it [00:00, ?it/s]"
     ]
    },
    {
     "name": "stdout",
     "output_type": "stream",
     "text": [
      "Using bedpe format from BEDTOOLS\n",
      "Adjusting TN5 positions"
     ]
    },
    {
     "name": "stderr",
     "output_type": "stream",
     "text": [
      "0it [00:00, ?it/s]"
     ]
    },
    {
     "name": "stdout",
     "output_type": "stream",
     "text": [
      "\n"
     ]
    },
    {
     "name": "stderr",
     "output_type": "stream",
     "text": [
      "3it [00:08,  2.79s/it]\n",
      "3it [00:08,  2.70s/it]\n",
      "7it [00:18,  2.58s/it]\n",
      "10it [00:28,  2.85s/it]\n",
      "10it [00:29,  2.95s/it]\n",
      "19it [00:55,  2.94s/it]\n",
      "22it [01:04,  2.95s/it]\n",
      "39it [01:46,  2.74s/it]\n",
      "42it [01:59,  2.85s/it]\n",
      "44it [02:11,  2.98s/it]\n",
      "53it [02:32,  2.87s/it]\n",
      "70it [03:14,  2.77s/it]\n",
      "70it [03:19,  2.85s/it]\n",
      "70it [03:22,  2.89s/it]\n",
      "70it [03:23,  2.91s/it]\n",
      "70it [03:25,  2.93s/it]\n",
      "70it [03:26,  2.94s/it]\n",
      "70it [03:30,  3.01s/it]\n",
      "70it [03:30,  3.01s/it]\n",
      "70it [03:47,  3.25s/it]\n"
     ]
    }
   ],
   "source": [
    "for chunk_start in range(0, bedpe_paths.size, cpu):\n",
    "    with ProcessPoolExecutor(cpu) as exe:\n",
    "        chunk_paths = bedpe_paths.iloc[chunk_start : chunk_start + cpu]\n",
    "        fs = []\n",
    "        for sample, path in chunk_paths.items():\n",
    "            exe.submit(\n",
    "                fragments_to_cutsite_zarr,\n",
    "                fragments_path=path,\n",
    "                chrom_sizes_path=chrom_sizes_path,\n",
    "                output_zarr_path=f\"/wmb/zarr/Li2023Science.CutSites/{sample}.zarr\",\n",
    "                barcode_prefix=None,\n",
    "                format=\"bedpe\",\n",
    "                adjust_tn5=True,\n",
    "                chunk_size=20000000,\n",
    "            )"
   ]
  },
  {
   "cell_type": "code",
   "execution_count": null,
   "id": "44fd2692-e330-4ef5-a6e1-0ed520f22745",
   "metadata": {},
   "outputs": [],
   "source": []
  },
  {
   "cell_type": "code",
   "execution_count": null,
   "id": "4d7dedc7-02df-4a7b-9285-3bb54d823dbc",
   "metadata": {},
   "outputs": [],
   "source": []
  },
  {
   "cell_type": "code",
   "execution_count": null,
   "id": "59ed4a56-611e-4bcd-aec4-c461f225a0f8",
   "metadata": {},
   "outputs": [],
   "source": []
  },
  {
   "cell_type": "code",
   "execution_count": null,
   "id": "320113e6-ba3a-4558-9491-56f50adf8b92",
   "metadata": {},
   "outputs": [],
   "source": []
  }
 ],
 "metadata": {
  "kernelspec": {
   "display_name": "Python 3 (ipykernel)",
   "language": "python",
   "name": "python3"
  },
  "language_info": {
   "codemirror_mode": {
    "name": "ipython",
    "version": 3
   },
   "file_extension": ".py",
   "mimetype": "text/x-python",
   "name": "python",
   "nbconvert_exporter": "python",
   "pygments_lexer": "ipython3",
   "version": "3.10.12"
  }
 },
 "nbformat": 4,
 "nbformat_minor": 5
}
