{
 "cells": [
  {
   "cell_type": "code",
   "execution_count": 2,
   "id": "25b8fbac-fc17-4267-8427-d71a3e805abf",
   "metadata": {
    "execution": {
     "iopub.execute_input": "2024-02-09T13:49:11.143019Z",
     "iopub.status.busy": "2024-02-09T13:49:11.142048Z",
     "iopub.status.idle": "2024-02-09T13:49:12.092431Z",
     "shell.execute_reply": "2024-02-09T13:49:12.091170Z",
     "shell.execute_reply.started": "2024-02-09T13:49:11.142981Z"
    }
   },
   "outputs": [],
   "source": [
    "import pathlib\n",
    "import random\n",
    "import string\n",
    "import subprocess\n",
    "from concurrent.futures import ProcessPoolExecutor, as_completed\n",
    "\n",
    "import pandas as pd"
   ]
  },
  {
   "cell_type": "code",
   "execution_count": 3,
   "id": "613f20ca-78f0-41cd-8de2-2801322ea115",
   "metadata": {
    "execution": {
     "iopub.execute_input": "2024-02-09T13:49:12.710896Z",
     "iopub.status.busy": "2024-02-09T13:49:12.709439Z",
     "iopub.status.idle": "2024-02-09T13:49:12.720209Z",
     "shell.execute_reply": "2024-02-09T13:49:12.719373Z",
     "shell.execute_reply.started": "2024-02-09T13:49:12.710857Z"
    }
   },
   "outputs": [],
   "source": [
    "def sort_and_split_large_fragment_files(\n",
    "    path, prefix, sort=True, cpu=1, mem_gb_per_core=3, barcode_col=4, max_rows=100000000, temp_dir=\"/tmp\"\n",
    "):\n",
    "    \"\"\"\n",
    "    Split large fragment files into smaller files and sort them by barcode.\n",
    "\n",
    "    Parameters\n",
    "    ----------\n",
    "    path : str\n",
    "        Path to the fragment file.\n",
    "    prefix : str\n",
    "        Prefix for the split files.\n",
    "    sort : bool, optional\n",
    "        Sort the fragments by barcode. Default is True.\n",
    "    cpu : int, optional\n",
    "        Number of CPUs to use for sorting. Default is 1.\n",
    "    mem_gb_per_core : int, optional\n",
    "        Memory in GB per core for sorting. Default is 3.\n",
    "    barcode_col : int, optional\n",
    "        Column index for the barcode in the fragments file, start from 1. Default is 4.\n",
    "    max_rows : int, optional\n",
    "        Maximum number of rows for each split file. Default is 100,000,000.\n",
    "    temp_dir : str, optional\n",
    "        Temporary directory to store the sorted fragments file. Default is \"/tmp\".\n",
    "\n",
    "    Returns\n",
    "    -------\n",
    "    None\n",
    "    \"\"\"\n",
    "    path = pathlib.Path(path)\n",
    "\n",
    "    # Generate a random string of length 10\n",
    "    random_string = \"\".join(random.choices(string.ascii_letters + string.digits, k=10))\n",
    "\n",
    "    unzip_cmd = f\"gunzip -c {path} > {temp_dir}/{random_string}.tsv\"\n",
    "    if sort:\n",
    "        sort_cmd = (\n",
    "            f\"sort -S {int(cpu*mem_gb_per_core)}G -T {temp_dir} \"\n",
    "            f\"--compress-program gzip --parallel {cpu} \"\n",
    "            f\"-k{barcode_col},{barcode_col} {temp_dir}/{random_string}.tsv \"\n",
    "            f\"| split -l {max_rows} - {temp_dir}/{random_string}{prefix}.\"\n",
    "        )\n",
    "    else:\n",
    "        sort_cmd = f\"split -l {max_rows} {temp_dir}/{random_string}.tsv {temp_dir}/{random_string}{prefix}.\"\n",
    "    zip_cmd = f\"rm -f {temp_dir}/{random_string}.tsv && pigz -p {cpu} {temp_dir}/{random_string}{prefix}*\"\n",
    "\n",
    "    subprocess.check_call(unzip_cmd, shell=True)\n",
    "    subprocess.check_call(sort_cmd, shell=True)\n",
    "    subprocess.check_call(zip_cmd, shell=True)\n",
    "\n",
    "    new_path_temp_list = []\n",
    "    for p in pathlib.Path(temp_dir).glob(f\"{random_string}{prefix}*.gz\"):\n",
    "        new_path_temp = path.parent / f\"{p.name[len(random_string):-3]}.fragments.tsv.gz_temp\"\n",
    "        subprocess.check_call(f\"mv {p} {new_path_temp}\", shell=True)\n",
    "        new_path_temp_list.append(new_path_temp)\n",
    "    for new_path_temp in new_path_temp_list:\n",
    "        new_path_temp.rename(new_path_temp.parent / new_path_temp.name[:-5])\n",
    "    return"
   ]
  },
  {
   "cell_type": "code",
   "execution_count": 4,
   "id": "9dd91539-77bc-44ff-bf14-f0c87ca32f29",
   "metadata": {
    "execution": {
     "iopub.execute_input": "2024-02-09T13:49:13.528823Z",
     "iopub.status.busy": "2024-02-09T13:49:13.528409Z",
     "iopub.status.idle": "2024-02-09T13:49:13.610923Z",
     "shell.execute_reply": "2024-02-09T13:49:13.610149Z",
     "shell.execute_reply.started": "2024-02-09T13:49:13.528792Z"
    }
   },
   "outputs": [
    {
     "data": {
      "text/plain": [
       "sample_10_muscle      /tempdata/Domcke2020Science/sample_10_muscle.f...\n",
       "sample_11_cerebrum    /tempdata/Domcke2020Science/sample_11_cerebrum...\n",
       "sample_12_heart       /tempdata/Domcke2020Science/sample_12_heart.fr...\n",
       "sample_13_placenta    /tempdata/Domcke2020Science/sample_13_placenta...\n",
       "sample_14_heart       /tempdata/Domcke2020Science/sample_14_heart.fr...\n",
       "                                            ...                        \n",
       "sample_71_cerebrum    /tempdata/Domcke2020Science/sample_71_cerebrum...\n",
       "sample_72_standard    /tempdata/Domcke2020Science/sample_72_standard...\n",
       "sample_7_liver        /tempdata/Domcke2020Science/sample_7_liver.fra...\n",
       "sample_8_lung         /tempdata/Domcke2020Science/sample_8_lung.frag...\n",
       "sample_9_liver        /tempdata/Domcke2020Science/sample_9_liver.fra...\n",
       "Length: 72, dtype: object"
      ]
     },
     "execution_count": 4,
     "metadata": {},
     "output_type": "execute_result"
    }
   ],
   "source": [
    "frag_paths = pd.Series(\n",
    "    {\n",
    "        \".\".join(p.name.split(\".\")[:-3]): p\n",
    "        for p in pathlib.Path(\"/tempdata/Domcke2020Science/\").glob(\"*.fragments.txt.gz\")\n",
    "    }\n",
    ")\n",
    "frag_paths"
   ]
  },
  {
   "cell_type": "code",
   "execution_count": 7,
   "id": "58c3ec2e-7b07-406a-afb6-95bdd1c41326",
   "metadata": {
    "execution": {
     "iopub.execute_input": "2024-02-09T13:49:43.793500Z",
     "iopub.status.busy": "2024-02-09T13:49:43.792455Z",
     "iopub.status.idle": "2024-02-09T13:49:43.800283Z",
     "shell.execute_reply": "2024-02-09T13:49:43.799460Z",
     "shell.execute_reply.started": "2024-02-09T13:49:43.793465Z"
    }
   },
   "outputs": [
    {
     "data": {
      "text/plain": [
       "37"
      ]
     },
     "execution_count": 7,
     "metadata": {},
     "output_type": "execute_result"
    }
   ],
   "source": [
    "use_sample = {\n",
    "    \"sample_42_heart\",\n",
    "    \"sample_43_liver\",\n",
    "    \"sample_44_lung\",\n",
    "    \"sample_45_cerebrum\",\n",
    "    \"sample_46_liver\",\n",
    "    \"sample_47_lung\",\n",
    "    \"sample_48_standard\",\n",
    "    \"sample_49_stomach\",\n",
    "    \"sample_4_lung\",\n",
    "    \"sample_50_bonemarrow\",\n",
    "    \"sample_51_gonad\",\n",
    "    \"sample_52_pancreas\",\n",
    "    \"sample_53_eye\",\n",
    "    \"sample_54_thymus\",\n",
    "    \"sample_55_eye\",\n",
    "    \"sample_56_spleen\",\n",
    "    \"sample_57_spleen\",\n",
    "    \"sample_58_cerebellum\",\n",
    "    \"sample_59_bonemarrow\",\n",
    "    \"sample_5_kidney\",\n",
    "    \"sample_60_thymus\",\n",
    "    \"sample_61_pancreas\",\n",
    "    \"sample_62_stomach\",\n",
    "    \"sample_63_gonad\",\n",
    "    \"sample_64_cerebrum\",\n",
    "    \"sample_65_kidney\",\n",
    "    \"sample_66_cerebrum\",\n",
    "    \"sample_67_kidney\",\n",
    "    \"sample_68_lung\",\n",
    "    \"sample_69_cerebrum\",\n",
    "    \"sample_6_cerebrum\",\n",
    "    \"sample_70_lung\",\n",
    "    \"sample_71_cerebrum\",\n",
    "    \"sample_72_standard\",\n",
    "    \"sample_7_liver\",\n",
    "    \"sample_8_lung\",\n",
    "    \"sample_9_liver\",\n",
    "}\n",
    "frag_paths = frag_paths[frag_paths.index.isin(use_sample)]\n",
    "frag_paths.size"
   ]
  },
  {
   "cell_type": "code",
   "execution_count": null,
   "id": "9de5af4f-46c7-41d4-805d-6788c13eee1a",
   "metadata": {
    "execution": {
     "iopub.execute_input": "2024-02-09T13:49:54.017219Z",
     "iopub.status.busy": "2024-02-09T13:49:54.016242Z"
    }
   },
   "outputs": [],
   "source": [
    "with ProcessPoolExecutor(19) as exe:\n",
    "    fs = []\n",
    "    for sample, path in frag_paths.items():\n",
    "        f = exe.submit(\n",
    "            sort_and_split_large_fragment_files,\n",
    "            path=path,\n",
    "            prefix=sample,\n",
    "            sort=True,\n",
    "            cpu=4,\n",
    "            mem_gb_per_core=3,\n",
    "            barcode_col=4,\n",
    "            max_rows=100000000,\n",
    "            temp_dir=\"/tmp\",\n",
    "        )\n",
    "        fs.append(f)\n",
    "    for f in as_completed(fs):\n",
    "        f.result()"
   ]
  },
  {
   "cell_type": "code",
   "execution_count": null,
   "id": "8ed98ac7-44a5-481a-be75-817ab627cb3c",
   "metadata": {},
   "outputs": [],
   "source": []
  },
  {
   "cell_type": "code",
   "execution_count": null,
   "id": "e400d7bf-8935-41d6-8a1f-c5c3b262da45",
   "metadata": {},
   "outputs": [],
   "source": []
  },
  {
   "cell_type": "code",
   "execution_count": null,
   "id": "264485d8-caff-4427-a724-101e108a1f05",
   "metadata": {},
   "outputs": [],
   "source": []
  },
  {
   "cell_type": "code",
   "execution_count": null,
   "id": "667d60f7-200e-40fb-95d9-54d42425e061",
   "metadata": {},
   "outputs": [],
   "source": []
  },
  {
   "cell_type": "code",
   "execution_count": null,
   "id": "0e423ed7-3c0c-4512-b24f-0be0c1f9a581",
   "metadata": {},
   "outputs": [],
   "source": []
  },
  {
   "cell_type": "code",
   "execution_count": null,
   "id": "05cb3579-1ff7-461d-8a9d-9c38d2ce4b58",
   "metadata": {},
   "outputs": [],
   "source": []
  }
 ],
 "metadata": {
  "kernelspec": {
   "display_name": "Python 3 (ipykernel)",
   "language": "python",
   "name": "python3"
  },
  "language_info": {
   "codemirror_mode": {
    "name": "ipython",
    "version": 3
   },
   "file_extension": ".py",
   "mimetype": "text/x-python",
   "name": "python",
   "nbconvert_exporter": "python",
   "pygments_lexer": "ipython3",
   "version": "3.10.12"
  }
 },
 "nbformat": 4,
 "nbformat_minor": 5
}
