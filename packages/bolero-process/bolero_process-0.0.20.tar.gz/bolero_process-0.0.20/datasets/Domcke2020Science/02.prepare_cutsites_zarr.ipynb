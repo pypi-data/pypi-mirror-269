{
 "cells": [
  {
   "cell_type": "code",
   "execution_count": 1,
   "id": "f313490c-c04a-4b21-ab05-2b0a895b028c",
   "metadata": {
    "execution": {
     "iopub.execute_input": "2024-02-08T16:19:31.959772Z",
     "iopub.status.busy": "2024-02-08T16:19:31.959353Z",
     "iopub.status.idle": "2024-02-08T16:19:34.532112Z",
     "shell.execute_reply": "2024-02-08T16:19:34.530747Z",
     "shell.execute_reply.started": "2024-02-08T16:19:31.959730Z"
    }
   },
   "outputs": [],
   "source": [
    "import pathlib\n",
    "from concurrent.futures import ProcessPoolExecutor, as_completed\n",
    "\n",
    "import pandas as pd\n",
    "\n",
    "from bolero_process.atac.sc.fragments_to_zarr import *"
   ]
  },
  {
   "cell_type": "code",
   "execution_count": 2,
   "id": "18750143-9a5c-4541-8e0d-ea7bef9fe102",
   "metadata": {
    "execution": {
     "iopub.execute_input": "2024-02-08T16:19:34.538648Z",
     "iopub.status.busy": "2024-02-08T16:19:34.538191Z",
     "iopub.status.idle": "2024-02-08T16:19:34.544991Z",
     "shell.execute_reply": "2024-02-08T16:19:34.543727Z",
     "shell.execute_reply.started": "2024-02-08T16:19:34.538604Z"
    }
   },
   "outputs": [],
   "source": [
    "dataset = \"Domcke2020Science\"\n",
    "genome = \"hg38\"\n",
    "cpu = 36\n",
    "chrom_sizes_path = f\"/ref/{genome}/fasta/{genome}.main.chrom.sizes\""
   ]
  },
  {
   "cell_type": "code",
   "execution_count": 3,
   "id": "3ecc25bd-cb59-455e-b603-09cc7f72e80f",
   "metadata": {
    "execution": {
     "iopub.execute_input": "2024-02-08T16:19:34.553563Z",
     "iopub.status.busy": "2024-02-08T16:19:34.553114Z",
     "iopub.status.idle": "2024-02-08T16:19:34.665569Z",
     "shell.execute_reply": "2024-02-08T16:19:34.664333Z",
     "shell.execute_reply.started": "2024-02-08T16:19:34.553519Z"
    }
   },
   "outputs": [
    {
     "data": {
      "text/plain": [
       "72"
      ]
     },
     "execution_count": 3,
     "metadata": {},
     "output_type": "execute_result"
    }
   ],
   "source": [
    "frag_paths = pd.Series(\n",
    "    {\".\".join(p.name.split(\".\")[:-3]): p for p in pathlib.Path(f\"/tempdata/{dataset}/\").glob(\"*.fragments.txt.gz\")}\n",
    ")\n",
    "frag_paths.size"
   ]
  },
  {
   "cell_type": "code",
   "execution_count": null,
   "id": "a1d92cd8-8bfe-40cf-a722-a893efedd8e3",
   "metadata": {
    "execution": {
     "iopub.execute_input": "2024-02-08T16:19:34.671426Z",
     "iopub.status.busy": "2024-02-08T16:19:34.670999Z"
    }
   },
   "outputs": [],
   "source": [
    "for chunk_start in range(0, frag_paths.size, cpu):\n",
    "    with ProcessPoolExecutor(cpu) as exe:\n",
    "        chunk_paths = frag_paths.iloc[chunk_start : chunk_start + cpu]\n",
    "        fs = []\n",
    "        for sample, path in chunk_paths.items():\n",
    "            f = exe.submit(\n",
    "                fragments_to_cutsite_zarr,\n",
    "                fragments_path=path,\n",
    "                chrom_sizes_path=chrom_sizes_path,\n",
    "                output_zarr_path=f\"/wmb/zarr/{dataset}.CutSites/{sample}.zarr\",\n",
    "                barcode_prefix=sample,\n",
    "                format=\"bed\",\n",
    "                adjust_tn5=False,\n",
    "                chunk_size=20000000,\n",
    "            )\n",
    "            fs.append(f)\n",
    "        for f in as_completed(fs):\n",
    "            f.result()"
   ]
  },
  {
   "cell_type": "code",
   "execution_count": null,
   "id": "59ed4a56-611e-4bcd-aec4-c461f225a0f8",
   "metadata": {},
   "outputs": [],
   "source": []
  },
  {
   "cell_type": "code",
   "execution_count": null,
   "id": "320113e6-ba3a-4558-9491-56f50adf8b92",
   "metadata": {},
   "outputs": [],
   "source": []
  }
 ],
 "metadata": {
  "kernelspec": {
   "display_name": "Python 3 (ipykernel)",
   "language": "python",
   "name": "python3"
  },
  "language_info": {
   "codemirror_mode": {
    "name": "ipython",
    "version": 3
   },
   "file_extension": ".py",
   "mimetype": "text/x-python",
   "name": "python",
   "nbconvert_exporter": "python",
   "pygments_lexer": "ipython3",
   "version": "3.10.12"
  }
 },
 "nbformat": 4,
 "nbformat_minor": 5
}
