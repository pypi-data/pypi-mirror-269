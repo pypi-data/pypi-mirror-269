{
 "cells": [
  {
   "cell_type": "code",
   "execution_count": 1,
   "id": "f313490c-c04a-4b21-ab05-2b0a895b028c",
   "metadata": {
    "execution": {
     "iopub.execute_input": "2024-02-08T02:29:20.129076Z",
     "iopub.status.busy": "2024-02-08T02:29:20.128850Z",
     "iopub.status.idle": "2024-02-08T02:29:22.296598Z",
     "shell.execute_reply": "2024-02-08T02:29:22.295825Z",
     "shell.execute_reply.started": "2024-02-08T02:29:20.129052Z"
    }
   },
   "outputs": [],
   "source": [
    "import pathlib\n",
    "from concurrent.futures import ProcessPoolExecutor\n",
    "\n",
    "import pandas as pd\n",
    "\n",
    "from bolero_process.atac.sc.fragments_to_zarr import *"
   ]
  },
  {
   "cell_type": "code",
   "execution_count": 12,
   "id": "3ecc25bd-cb59-455e-b603-09cc7f72e80f",
   "metadata": {
    "execution": {
     "iopub.execute_input": "2024-02-08T03:22:58.122413Z",
     "iopub.status.busy": "2024-02-08T03:22:58.121711Z",
     "iopub.status.idle": "2024-02-08T03:22:58.287290Z",
     "shell.execute_reply": "2024-02-08T03:22:58.285486Z",
     "shell.execute_reply.started": "2024-02-08T03:22:58.122382Z"
    }
   },
   "outputs": [],
   "source": [
    "frag_paths = pd.Series(\n",
    "    {\"_\".join(p.name.split(\"_\")[:-1]): p for p in pathlib.Path(\"/tempdata/Zhang2021Cell/\").glob(\"*.bed.gz\")}\n",
    ")"
   ]
  },
  {
   "cell_type": "code",
   "execution_count": 15,
   "id": "34ba2b03-1d13-4191-ab26-fe20943070e9",
   "metadata": {
    "execution": {
     "iopub.execute_input": "2024-02-08T03:23:11.567407Z",
     "iopub.status.busy": "2024-02-08T03:23:11.566680Z",
     "iopub.status.idle": "2024-02-08T03:23:11.570835Z",
     "shell.execute_reply": "2024-02-08T03:23:11.570174Z",
     "shell.execute_reply.started": "2024-02-08T03:23:11.567369Z"
    }
   },
   "outputs": [],
   "source": [
    "cpu = 30\n",
    "chrom_sizes_path = \"/ref/hg38/fasta/hg38.main.chrom.sizes\""
   ]
  },
  {
   "cell_type": "code",
   "execution_count": null,
   "id": "a1d92cd8-8bfe-40cf-a722-a893efedd8e3",
   "metadata": {
    "execution": {
     "iopub.execute_input": "2024-02-08T03:23:25.149488Z",
     "iopub.status.busy": "2024-02-08T03:23:25.149028Z"
    }
   },
   "outputs": [
    {
     "name": "stderr",
     "output_type": "stream",
     "text": [
      "0it [00:00, ?it/s]\n",
      "0it [00:01, ?it/s]\n",
      "\n",
      "0it [00:01, ?it/s]\n",
      "0it [00:01, ?it/s]\n",
      "0it [00:01, ?it/s]\n",
      "0it [00:01, ?it/s]\n",
      "0it [00:00, ?it/s]\n",
      "0it [00:01, ?it/s]\n",
      "0it [00:01, ?it/s]\n",
      "0it [00:01, ?it/s]\n",
      "0it [00:01, ?it/s]\n",
      "0it [00:01, ?it/s]\n",
      "0it [00:01, ?it/s]\n",
      "0it [00:01, ?it/s]\n",
      "0it [00:01, ?it/s]\n",
      "0it [00:00, ?it/s]\n",
      "0it [00:01, ?it/s]\n",
      "0it [00:01, ?it/s]\n",
      "0it [00:01, ?it/s]\n",
      "0it [00:00, ?it/s]\n",
      "0it [00:01, ?it/s]\n",
      "0it [00:01, ?it/s]\n",
      "0it [00:01, ?it/s]\n",
      "0it [00:00, ?it/s]\n"
     ]
    }
   ],
   "source": [
    "for chunk_start in range(0, bedpe_paths.size, cpu):\n",
    "    with ProcessPoolExecutor(cpu) as exe:\n",
    "        chunk_paths = bedpe_paths.iloc[chunk_start : chunk_start + cpu]\n",
    "        fs = []\n",
    "        for sample, path in chunk_paths.items():\n",
    "            exe.submit(\n",
    "                fragments_to_cutsite_zarr,\n",
    "                fragments_path=path,\n",
    "                chrom_sizes_path=chrom_sizes_path,\n",
    "                output_zarr_path=f\"/wmb/zarr/Zhang2021Cell.CutSites/{sample}.zarr\",\n",
    "                barcode_prefix=sample,\n",
    "                format=\"bed\",\n",
    "                adjust_tn5=False,\n",
    "                chunk_size=20000000,\n",
    "            )"
   ]
  },
  {
   "cell_type": "code",
   "execution_count": null,
   "id": "44fd2692-e330-4ef5-a6e1-0ed520f22745",
   "metadata": {},
   "outputs": [],
   "source": []
  },
  {
   "cell_type": "code",
   "execution_count": null,
   "id": "4d7dedc7-02df-4a7b-9285-3bb54d823dbc",
   "metadata": {},
   "outputs": [],
   "source": []
  },
  {
   "cell_type": "code",
   "execution_count": null,
   "id": "59ed4a56-611e-4bcd-aec4-c461f225a0f8",
   "metadata": {},
   "outputs": [],
   "source": []
  },
  {
   "cell_type": "code",
   "execution_count": null,
   "id": "320113e6-ba3a-4558-9491-56f50adf8b92",
   "metadata": {},
   "outputs": [],
   "source": []
  }
 ],
 "metadata": {
  "kernelspec": {
   "display_name": "Python 3 (ipykernel)",
   "language": "python",
   "name": "python3"
  },
  "language_info": {
   "codemirror_mode": {
    "name": "ipython",
    "version": 3
   },
   "file_extension": ".py",
   "mimetype": "text/x-python",
   "name": "python",
   "nbconvert_exporter": "python",
   "pygments_lexer": "ipython3",
   "version": "3.10.12"
  }
 },
 "nbformat": 4,
 "nbformat_minor": 5
}
