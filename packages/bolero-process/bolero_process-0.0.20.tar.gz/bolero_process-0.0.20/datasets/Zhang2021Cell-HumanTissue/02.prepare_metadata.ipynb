{
 "cells": [
  {
   "cell_type": "code",
   "execution_count": 1,
   "id": "e3c5eaec-0f4d-4dd1-8eb7-c77443785d66",
   "metadata": {
    "execution": {
     "iopub.execute_input": "2024-02-10T19:20:15.938929Z",
     "iopub.status.busy": "2024-02-10T19:20:15.938689Z",
     "iopub.status.idle": "2024-02-10T19:20:16.654388Z",
     "shell.execute_reply": "2024-02-10T19:20:16.653531Z",
     "shell.execute_reply.started": "2024-02-10T19:20:15.938903Z"
    }
   },
   "outputs": [],
   "source": [
    "import pathlib\n",
    "\n",
    "import pandas as pd\n",
    "import xarray as xr\n",
    "from tqdm import tqdm"
   ]
  },
  {
   "cell_type": "code",
   "execution_count": 2,
   "id": "ff6e40fc-07d3-4592-9946-d22cca4aa9cd",
   "metadata": {
    "execution": {
     "iopub.execute_input": "2024-02-10T19:20:16.655867Z",
     "iopub.status.busy": "2024-02-10T19:20:16.655428Z",
     "iopub.status.idle": "2024-02-10T19:20:16.859425Z",
     "shell.execute_reply": "2024-02-10T19:20:16.858565Z",
     "shell.execute_reply.started": "2024-02-10T19:20:16.655840Z"
    }
   },
   "outputs": [],
   "source": [
    "zhang_paths = list(pathlib.Path(\"/wmb/zarr/Zhang2021Cell.CutSites/\").glob(\"*.zarr\"))\n",
    "domcke_paths = list(pathlib.Path(\"/wmb/zarr/Domcke2020Science.CutSites/\").glob(\"*.zarr\"))\n",
    "zarr_paths = zhang_paths + domcke_paths"
   ]
  },
  {
   "cell_type": "code",
   "execution_count": 3,
   "id": "28c90b3d-e593-4cde-a5f3-e0a43abc3425",
   "metadata": {
    "execution": {
     "iopub.execute_input": "2024-02-10T19:20:16.861666Z",
     "iopub.status.busy": "2024-02-10T19:20:16.861295Z",
     "iopub.status.idle": "2024-02-10T19:20:16.871887Z",
     "shell.execute_reply": "2024-02-10T19:20:16.871195Z",
     "shell.execute_reply.started": "2024-02-10T19:20:16.861641Z"
    }
   },
   "outputs": [],
   "source": [
    "tissue_sample_to_zarr_cate = {\n",
    "    \"Human_brain_1\": \"UMB4540-snATAC-frontal-cortex-rep1\",\n",
    "    \"Human_brain_2\": \"UMB4540-snATAC-frontal-cortex-rep2\",\n",
    "    \"LungMap_D122\": \"LungMap-D122-rep1\",\n",
    "    \"LungMap_D175\": \"LungMap-D175-rep1\",\n",
    "    \"LungMap_D231\": \"LungMap-D231-rep1\",\n",
    "    \"adipose_omentum_SM-ADYHB\": \"adipose-omentum-SM-ADYHB-rep1\",\n",
    "    \"adipose_omentum_SM-CHZRM\": \"adipose-omentum-SM-CHZRM-rep1\",\n",
    "    \"adipose_omentum_SM-CSSD4\": \"adipose-omentum-SM-CSSD4-rep1\",\n",
    "    \"adipose_omentum_SM-IOBHJ\": \"adipose-omentum-SM-IOBHJ-rep1\",\n",
    "    \"adrenal_gland_SM-A8WNO\": \"adrenal-gland-SM-A8WNO-rep1\",\n",
    "    \"artery_aorta_SM-C1MLC\": \"artery-aorta-SM-C1MLC-rep1\",\n",
    "    \"artery_aorta_SM-C1PX3\": \"artery-aorta-SM-C1PX3-rep1\",\n",
    "    \"artery_aorta_SM-CR89M\": \"artery-aorta-SM-CR89M-rep1\",\n",
    "    \"artery_aorta_SM-JF1NU\": \"artery-aorta-SM-JF1NU-rep1\",\n",
    "    \"artery_tibial_SM-CHLWW\": \"artery-tibial-SM-CHLWW-rep1\",\n",
    "    \"artery_tibial_SM-IOBHK\": \"artery-tibial-SM-IOBHK-rep1\",\n",
    "    \"colon_sigmoid_SM-AZPYO\": \"colon-sigmoid-SM-AZPYO-rep1\",\n",
    "    \"colon_sigmoid_SM-JF1O8\": \"colon-sigmoid-SM-JF1O8-rep1\",\n",
    "    \"colon_transverse_SM-A9HOW\": \"colon-transverse-SM-A9HOW-rep1\",\n",
    "    \"colon_transverse_SM-A9VP4\": \"colon-transverse-SM-A9VP4-rep1\",\n",
    "    \"colon_transverse_SM-ACCQ1\": \"colon-transverse-SM-ACCQ1-rep1\",\n",
    "    \"colon_transverse_SM-BZ2ZS\": \"colon-transverse-SM-BZ2ZS-rep1\",\n",
    "    \"colon_transverse_SM-CSSDA\": \"colon-transverse-SM-CSSDA-rep1\",\n",
    "    \"esophagus_ge_junction_SM-CTD24\": \"esophagus-ge-junction-SM-CTD24-rep1\",\n",
    "    \"esophagus_ge_junction_SM-IOERG\": \"esophagus-ge-junction-SM-IOERG-rep1\",\n",
    "    \"esophagus_mucosa_SM-A9HOR\": \"esophagus-mucosa-SM-A9HOR-rep1\",\n",
    "    \"esophagus_mucosa_SM-A9VPA\": \"esophagus-mucosa-SM-A9VPA-rep1\",\n",
    "    \"esophagus_mucosa_SM-AZPYJ\": \"esophagus-mucosa-SM-AZPYJ-rep1\",\n",
    "    \"esophagus_muscularis_SM-A8CPH\": \"esophagus-muscularis-SM-A8CPH-rep1\",\n",
    "    \"esophagus_muscularis_SM-CSSCV\": \"esophagus-muscularis-SM-CSSCV-rep1\",\n",
    "    \"esophagus_muscularis_SM-IOBHM\": \"esophagus-muscularis-SM-IOBHM-rep1\",\n",
    "    \"esophagus_muscularis_SM-IQYD1\": \"esophagus-muscularis-SM-IQYD1-rep1\",\n",
    "    \"heart_atrial_appendage_SM-IOBHN\": \"heart-atrial-appendage-SM-IOBHN-rep1\",\n",
    "    \"heart_atrial_appendage_SM-JF1NX\": \"heart-atrial-appendage-SM-JF1NX-rep1\",\n",
    "    \"heart_la_CARE181125_3C\": \"CARE181125-3C-rep1\",\n",
    "    \"heart_la_CARE190307_10C\": \"CARE190307-10C-rep1\",\n",
    "    \"heart_la_CARE191122_2C\": \"CARE191122-2C-rep1\",\n",
    "    \"heart_lv_CARE181125_3D\": \"CARE181125-3D-rep1\",\n",
    "    \"heart_lv_CARE190307_10D\": \"CARE190307-10D-rep1\",\n",
    "    \"heart_lv_CARE190331_11D\": \"CARE190331-11D-rep1\",\n",
    "    \"heart_lv_CARE191122_2D\": \"CARE191122-2D-rep1\",\n",
    "    \"heart_lv_CARE191122_3D\": \"CARE191122-3D-rep1\",\n",
    "    \"heart_lv_SM-IOBHO\": \"heart-lv-SM-IOBHO-rep1\",\n",
    "    \"heart_lv_SM-JF1NY\": \"heart-lv-SM-JF1NY-rep1\",\n",
    "    \"heart_ra_CARE181213_2A\": \"CARE181213-2A-rep1\",\n",
    "    \"heart_ra_CARE190307_10A\": \"CARE190307-10A-rep1\",\n",
    "    \"heart_rv_CARE181125_3B\": \"CARE181125-3B-rep1\",\n",
    "    \"heart_rv_CARE181213_2B\": \"CARE181213-2B-rep1\",\n",
    "    \"heart_rv_CARE190307_10B\": \"CARE190307-10B-rep1\",\n",
    "    \"heart_rv_CARE190331_11B\": \"CARE190331-11B-rep1\",\n",
    "    \"islet_CB1\": \"islet-CB1-rep1\",\n",
    "    \"islet_CB2\": \"islet-CB2-rep1\",\n",
    "    \"islet_CB3\": \"islet-CB3-rep1\",\n",
    "    \"liver_SM-A8WNZ\": \"liver-SM-A8WNZ-rep1\",\n",
    "    \"lung_SM-A62E9\": \"lung-SM-A62E9-rep1\",\n",
    "    \"lung_SM-A8WNH\": \"lung-SM-A8WNH-rep1\",\n",
    "    \"lung_SM-ACCPU\": \"lung-SM-ACCPU-rep1\",\n",
    "    \"lung_SM-JF1NZ\": \"lung-SM-JF1NZ-rep1\",\n",
    "    \"mammary_tissue_SM-IOBHL\": \"mammary-tissue-SM-IOBHL-rep1\",\n",
    "    \"mammary_tissue_SM-JF1NV\": \"mammary-tissue-SM-JF1NV-rep1\",\n",
    "    \"muscle_SM-ADA6L\": \"muscle-SM-ADA6L-rep1\",\n",
    "    \"muscle_SM-C1MKW\": \"muscle-SM-C1MKW-rep1\",\n",
    "    \"muscle_SM-C1PWV\": \"muscle-SM-C1PWV-rep1\",\n",
    "    \"muscle_SM-IOBHP\": \"muscle-SM-IOBHP-rep1\",\n",
    "    \"muscle_SM-JF1O9\": \"muscle-SM-JF1O9-rep1\",\n",
    "    \"nerve_tibial_SM-CHLWU\": \"nerve-tibial-SM-CHLWU-rep1\",\n",
    "    \"nerve_tibial_SM-CP2V6\": \"nerve-tibial-SM-CP2V6-rep1\",\n",
    "    \"nerve_tibial_SM-IOBHQ\": \"nerve-tibial-SM-IOBHQ-rep1\",\n",
    "    \"ovary_SM-IOBHR\": \"ovary-SM-IOBHR-rep1\",\n",
    "    \"pancreas_SM-ADRUQ\": \"pancreas-SM-ADRUQ-rep1\",\n",
    "    \"pancreas_SM-IOBHS\": \"pancreas-SM-IOBHS-rep1\",\n",
    "    \"pancreas_SM-JF1NS\": \"pancreas-SM-JF1NS-rep1\",\n",
    "    \"pancreas_SM-JF1O6\": \"pancreas-SM-JF1O6-rep1\",\n",
    "    \"skin_SM-IOBHT\": \"skin-SM-IOBHT-rep1\",\n",
    "    \"skin_SM-JF1O1\": \"skin-SM-JF1O1-rep1\",\n",
    "    \"skin_sun_exposed_SM-ADYHK\": \"skin-sun-exposed-SM-ADYHK-rep1\",\n",
    "    \"skin_sun_exposed_SM-IOBHU\": \"skin-sun-exposed-SM-IOBHU-rep1\",\n",
    "    \"skin_sun_exposed_SM-IQYCP\": \"skin-sun-exposed-SM-IQYCP-rep1\",\n",
    "    \"skin_sun_exposed_SM-JF1NT\": \"skin-sun-exposed-SM-JF1NT-rep1\",\n",
    "    \"small_intestine_SM-A62GO\": \"small-intestine-SM-A62GO-rep1\",\n",
    "    \"small_intestine_SM-ADA5F\": \"small-intestine-SM-ADA5F-rep1\",\n",
    "    \"small_intestine_SM-JF1O2\": \"small-intestine-SM-JF1O2-rep1\",\n",
    "    \"stomach_SM-CHLWL\": \"stomach-SM-CHLWL-rep1\",\n",
    "    \"stomach_SM-IOBHV\": \"stomach-SM-IOBHV-rep1\",\n",
    "    \"stomach_SM-JF1NP\": \"stomach-SM-JF1NP-rep1\",\n",
    "    \"stomach_SM-JF1O3\": \"stomach-SM-JF1O3-rep1\",\n",
    "    \"thyroid_SM-C1MKY\": \"thyroid-SM-C1MKY-rep1\",\n",
    "    \"thyroid_SM-IOBHW\": \"thyroid-SM-IOBHW-rep1\",\n",
    "    \"thyroid_SM-JF1O4\": \"thyroid-SM-JF1O4-rep1\",\n",
    "    \"uterus_SM-A87A2\": \"uterus-SM-A87A2-rep1\",\n",
    "    \"uterus_SM-IOBHX\": \"uterus-SM-IOBHX-rep1\",\n",
    "    \"vagina_SM-A9HOS\": \"vagina-SM-A9HOS-rep1\",\n",
    "}\n",
    "\n",
    "for zarr_path in domcke_paths:\n",
    "    zarr_name = zarr_path.name.split(\".\")[0]\n",
    "    *sample, tissue = zarr_name.split(\"_\")\n",
    "    sample = \"_\".join(sample)\n",
    "    new_name = f\"{tissue}_{sample}\"\n",
    "    tissue_sample_to_zarr_cate[new_name] = zarr_name"
   ]
  },
  {
   "cell_type": "code",
   "execution_count": 4,
   "id": "97c3527f-d288-4240-8e0c-31d7f665e57b",
   "metadata": {
    "execution": {
     "iopub.execute_input": "2024-02-10T19:20:16.873067Z",
     "iopub.status.busy": "2024-02-10T19:20:16.872814Z",
     "iopub.status.idle": "2024-02-10T19:20:21.347057Z",
     "shell.execute_reply": "2024-02-10T19:20:21.346187Z",
     "shell.execute_reply.started": "2024-02-10T19:20:16.873033Z"
    }
   },
   "outputs": [],
   "source": [
    "meta = pd.read_csv(\"Cell_metadata.tsv.gz\", sep=\"\\t\")\n",
    "meta[\"zarr_tissue\"] = meta[\"tissue\"].map(tissue_sample_to_zarr_cate).str.replace(\"-\", \"_\")\n",
    "assert (meta[\"zarr_tissue\"].isna()).sum() == 0\n",
    "meta[\"barcode\"] = meta[\"cellID\"].map(lambda i: i.split(\"+\")[1])"
   ]
  },
  {
   "cell_type": "code",
   "execution_count": 16,
   "id": "a450d88d-dd0a-4a1a-a470-c5a3dce4b2e2",
   "metadata": {
    "execution": {
     "iopub.execute_input": "2024-02-10T19:24:10.276516Z",
     "iopub.status.busy": "2024-02-10T19:24:10.276119Z",
     "iopub.status.idle": "2024-02-10T19:24:10.357530Z",
     "shell.execute_reply": "2024-02-10T19:24:10.356696Z",
     "shell.execute_reply.started": "2024-02-10T19:24:10.276488Z"
    },
    "scrolled": true
   },
   "outputs": [
    {
     "data": {
      "text/plain": [
       "['Human_brain_1',\n",
       " 'Human_brain_2',\n",
       " 'LungMap_D122',\n",
       " 'LungMap_D175',\n",
       " 'LungMap_D231',\n",
       " 'adipose_omentum_SM-ADYHB',\n",
       " 'adipose_omentum_SM-CHZRM',\n",
       " 'adipose_omentum_SM-CSSD4',\n",
       " 'adipose_omentum_SM-IOBHJ',\n",
       " 'adrenal_gland_SM-A8WNO',\n",
       " 'adrenal_sample_1',\n",
       " 'adrenal_sample_16',\n",
       " 'adrenal_sample_27',\n",
       " 'adrenal_sample_31',\n",
       " 'artery_aorta_SM-C1MLC',\n",
       " 'artery_aorta_SM-C1PX3',\n",
       " 'artery_aorta_SM-CR89M',\n",
       " 'artery_aorta_SM-JF1NU',\n",
       " 'artery_tibial_SM-CHLWW',\n",
       " 'artery_tibial_SM-IOBHK',\n",
       " 'cerebellum_sample_58',\n",
       " 'cerebrum_sample_36',\n",
       " 'cerebrum_sample_6',\n",
       " 'cerebrum_sample_64',\n",
       " 'cerebrum_sample_66',\n",
       " 'cerebrum_sample_69',\n",
       " 'cerebrum_sample_71',\n",
       " 'colon_sigmoid_SM-AZPYO',\n",
       " 'colon_sigmoid_SM-JF1O8',\n",
       " 'colon_transverse_SM-A9HOW',\n",
       " 'colon_transverse_SM-A9VP4',\n",
       " 'colon_transverse_SM-ACCQ1',\n",
       " 'colon_transverse_SM-BZ2ZS',\n",
       " 'colon_transverse_SM-CSSDA',\n",
       " 'esophagus_ge_junction_SM-CTD24',\n",
       " 'esophagus_ge_junction_SM-IOERG',\n",
       " 'esophagus_mucosa_SM-A9HOR',\n",
       " 'esophagus_mucosa_SM-A9VPA',\n",
       " 'esophagus_mucosa_SM-AZPYJ',\n",
       " 'esophagus_muscularis_SM-A8CPH',\n",
       " 'esophagus_muscularis_SM-CSSCV',\n",
       " 'esophagus_muscularis_SM-IOBHM',\n",
       " 'esophagus_muscularis_SM-IQYD1',\n",
       " 'eye_sample_18',\n",
       " 'eye_sample_53',\n",
       " 'eye_sample_55',\n",
       " 'heart_atrial_appendage_SM-IOBHN',\n",
       " 'heart_atrial_appendage_SM-JF1NX',\n",
       " 'heart_la_CARE181125_3C',\n",
       " 'heart_la_CARE190307_10C',\n",
       " 'heart_la_CARE191122_2C',\n",
       " 'heart_lv_CARE181125_3D',\n",
       " 'heart_lv_CARE190307_10D',\n",
       " 'heart_lv_CARE190331_11D',\n",
       " 'heart_lv_CARE191122_2D',\n",
       " 'heart_lv_CARE191122_3D',\n",
       " 'heart_lv_SM-IOBHO',\n",
       " 'heart_lv_SM-JF1NY',\n",
       " 'heart_ra_CARE181213_2A',\n",
       " 'heart_ra_CARE190307_10A',\n",
       " 'heart_rv_CARE181125_3B',\n",
       " 'heart_rv_CARE181213_2B',\n",
       " 'heart_rv_CARE190307_10B',\n",
       " 'heart_rv_CARE190331_11B',\n",
       " 'heart_sample_12',\n",
       " 'heart_sample_14',\n",
       " 'heart_sample_32',\n",
       " 'heart_sample_39',\n",
       " 'heart_sample_42',\n",
       " 'intestine_sample_19',\n",
       " 'intestine_sample_21',\n",
       " 'intestine_sample_28',\n",
       " 'islet_CB1',\n",
       " 'islet_CB2',\n",
       " 'islet_CB3',\n",
       " 'kidney_sample_20',\n",
       " 'kidney_sample_22',\n",
       " 'kidney_sample_25',\n",
       " 'kidney_sample_3',\n",
       " 'kidney_sample_34',\n",
       " 'kidney_sample_5',\n",
       " 'kidney_sample_65',\n",
       " 'kidney_sample_67',\n",
       " 'liver_SM-A8WNZ',\n",
       " 'liver_sample_35',\n",
       " 'liver_sample_37',\n",
       " 'liver_sample_40',\n",
       " 'liver_sample_43',\n",
       " 'liver_sample_46',\n",
       " 'liver_sample_7',\n",
       " 'liver_sample_9',\n",
       " 'lung_SM-A62E9',\n",
       " 'lung_SM-A8WNH',\n",
       " 'lung_SM-ACCPU',\n",
       " 'lung_SM-JF1NZ',\n",
       " 'lung_sample_33',\n",
       " 'lung_sample_38',\n",
       " 'lung_sample_4',\n",
       " 'lung_sample_44',\n",
       " 'lung_sample_47',\n",
       " 'lung_sample_68',\n",
       " 'lung_sample_70',\n",
       " 'lung_sample_8',\n",
       " 'mammary_tissue_SM-IOBHL',\n",
       " 'mammary_tissue_SM-JF1NV',\n",
       " 'muscle_SM-ADA6L',\n",
       " 'muscle_SM-C1MKW',\n",
       " 'muscle_SM-C1PWV',\n",
       " 'muscle_SM-IOBHP',\n",
       " 'muscle_SM-JF1O9',\n",
       " 'muscle_sample_10',\n",
       " 'muscle_sample_23',\n",
       " 'nerve_tibial_SM-CHLWU',\n",
       " 'nerve_tibial_SM-CP2V6',\n",
       " 'nerve_tibial_SM-IOBHQ',\n",
       " 'ovary_SM-IOBHR',\n",
       " 'pancreas_SM-ADRUQ',\n",
       " 'pancreas_SM-IOBHS',\n",
       " 'pancreas_SM-JF1NS',\n",
       " 'pancreas_SM-JF1O6',\n",
       " 'pancreas_sample_61',\n",
       " 'placenta_sample_13',\n",
       " 'placenta_sample_15',\n",
       " 'placenta_sample_26',\n",
       " 'placenta_sample_29',\n",
       " 'placenta_sample_30',\n",
       " 'skin_SM-IOBHT',\n",
       " 'skin_SM-JF1O1',\n",
       " 'skin_sun_exposed_SM-ADYHK',\n",
       " 'skin_sun_exposed_SM-IOBHU',\n",
       " 'skin_sun_exposed_SM-IQYCP',\n",
       " 'skin_sun_exposed_SM-JF1NT',\n",
       " 'small_intestine_SM-A62GO',\n",
       " 'small_intestine_SM-ADA5F',\n",
       " 'small_intestine_SM-JF1O2',\n",
       " 'spleen_sample_57',\n",
       " 'standard_sample_24',\n",
       " 'standard_sample_48',\n",
       " 'standard_sample_72',\n",
       " 'stomach_SM-CHLWL',\n",
       " 'stomach_SM-IOBHV',\n",
       " 'stomach_SM-JF1NP',\n",
       " 'stomach_SM-JF1O3',\n",
       " 'stomach_sample_49',\n",
       " 'stomach_sample_62',\n",
       " 'thymus_sample_2',\n",
       " 'thymus_sample_41',\n",
       " 'thymus_sample_54',\n",
       " 'thymus_sample_60',\n",
       " 'thyroid_SM-C1MKY',\n",
       " 'thyroid_SM-IOBHW',\n",
       " 'thyroid_SM-JF1O4',\n",
       " 'uterus_SM-A87A2',\n",
       " 'uterus_SM-IOBHX',\n",
       " 'vagina_SM-A9HOS']"
      ]
     },
     "execution_count": 16,
     "metadata": {},
     "output_type": "execute_result"
    }
   ],
   "source": [
    "sorted(meta[\"tissue\"].unique())"
   ]
  },
  {
   "cell_type": "code",
   "execution_count": null,
   "id": "c3ea61bc-f944-4344-8fda-0b7467d6074d",
   "metadata": {},
   "outputs": [],
   "source": []
  },
  {
   "cell_type": "code",
   "execution_count": null,
   "id": "dcf853f3-090c-4a41-9994-d22a5af09abc",
   "metadata": {},
   "outputs": [],
   "source": []
  },
  {
   "cell_type": "code",
   "execution_count": 17,
   "id": "f6f01e70-a017-4ed4-b0a9-3c595149d8aa",
   "metadata": {
    "execution": {
     "iopub.execute_input": "2024-02-10T19:24:59.213959Z",
     "iopub.status.busy": "2024-02-10T19:24:59.212850Z",
     "iopub.status.idle": "2024-02-10T19:35:31.909693Z",
     "shell.execute_reply": "2024-02-10T19:35:31.908781Z",
     "shell.execute_reply.started": "2024-02-10T19:24:59.213926Z"
    },
    "scrolled": true
   },
   "outputs": [
    {
     "name": "stderr",
     "output_type": "stream",
     "text": [
      " 34%|███▎      | 99/295 [00:54<05:35,  1.71s/it]"
     ]
    },
    {
     "name": "stdout",
     "output_type": "stream",
     "text": [
      "['sample_11_cerebrum']\n"
     ]
    },
    {
     "name": "stderr",
     "output_type": "stream",
     "text": [
      " 34%|███▍      | 100/295 [00:56<05:39,  1.74s/it]"
     ]
    },
    {
     "name": "stdout",
     "output_type": "stream",
     "text": [
      "['sample_11_cerebrum']\n"
     ]
    },
    {
     "name": "stderr",
     "output_type": "stream",
     "text": [
      " 34%|███▍      | 101/295 [00:58<05:37,  1.74s/it]"
     ]
    },
    {
     "name": "stdout",
     "output_type": "stream",
     "text": [
      "['sample_11_cerebrum']\n"
     ]
    },
    {
     "name": "stderr",
     "output_type": "stream",
     "text": [
      " 35%|███▍      | 102/295 [01:00<05:46,  1.80s/it]"
     ]
    },
    {
     "name": "stdout",
     "output_type": "stream",
     "text": [
      "['sample_11_cerebrum']\n"
     ]
    },
    {
     "name": "stderr",
     "output_type": "stream",
     "text": [
      " 35%|███▍      | 103/295 [01:02<05:56,  1.85s/it]"
     ]
    },
    {
     "name": "stdout",
     "output_type": "stream",
     "text": [
      "['sample_11_cerebrum']\n"
     ]
    },
    {
     "name": "stderr",
     "output_type": "stream",
     "text": [
      " 35%|███▌      | 104/295 [01:04<06:08,  1.93s/it]"
     ]
    },
    {
     "name": "stdout",
     "output_type": "stream",
     "text": [
      "['sample_11_cerebrum']\n"
     ]
    },
    {
     "name": "stderr",
     "output_type": "stream",
     "text": [
      " 36%|███▌      | 105/295 [01:06<06:05,  1.92s/it]"
     ]
    },
    {
     "name": "stdout",
     "output_type": "stream",
     "text": [
      "['sample_11_cerebrum']\n"
     ]
    },
    {
     "name": "stderr",
     "output_type": "stream",
     "text": [
      " 43%|████▎     | 128/295 [01:56<06:24,  2.30s/it]"
     ]
    },
    {
     "name": "stdout",
     "output_type": "stream",
     "text": [
      "['sample_17_cerebellum']\n"
     ]
    },
    {
     "name": "stderr",
     "output_type": "stream",
     "text": [
      " 44%|████▎     | 129/295 [01:59<06:50,  2.47s/it]"
     ]
    },
    {
     "name": "stdout",
     "output_type": "stream",
     "text": [
      "['sample_17_cerebellum']\n"
     ]
    },
    {
     "name": "stderr",
     "output_type": "stream",
     "text": [
      " 44%|████▍     | 130/295 [02:02<07:11,  2.62s/it]"
     ]
    },
    {
     "name": "stdout",
     "output_type": "stream",
     "text": [
      "['sample_17_cerebellum']\n"
     ]
    },
    {
     "name": "stderr",
     "output_type": "stream",
     "text": [
      " 76%|███████▋  | 225/295 [07:05<03:50,  3.29s/it]"
     ]
    },
    {
     "name": "stdout",
     "output_type": "stream",
     "text": [
      "['sample_45_cerebrum']\n"
     ]
    },
    {
     "name": "stderr",
     "output_type": "stream",
     "text": [
      " 77%|███████▋  | 226/295 [07:08<03:40,  3.20s/it]"
     ]
    },
    {
     "name": "stdout",
     "output_type": "stream",
     "text": [
      "['sample_45_cerebrum']\n"
     ]
    },
    {
     "name": "stderr",
     "output_type": "stream",
     "text": [
      " 77%|███████▋  | 227/295 [07:11<03:34,  3.15s/it]"
     ]
    },
    {
     "name": "stdout",
     "output_type": "stream",
     "text": [
      "['sample_45_cerebrum']\n"
     ]
    },
    {
     "name": "stderr",
     "output_type": "stream",
     "text": [
      " 77%|███████▋  | 228/295 [07:14<03:30,  3.14s/it]"
     ]
    },
    {
     "name": "stdout",
     "output_type": "stream",
     "text": [
      "['sample_45_cerebrum']\n"
     ]
    },
    {
     "name": "stderr",
     "output_type": "stream",
     "text": [
      " 78%|███████▊  | 229/295 [07:17<03:25,  3.11s/it]"
     ]
    },
    {
     "name": "stdout",
     "output_type": "stream",
     "text": [
      "['sample_45_cerebrum']\n"
     ]
    },
    {
     "name": "stderr",
     "output_type": "stream",
     "text": [
      " 78%|███████▊  | 231/295 [07:21<02:31,  2.37s/it]"
     ]
    },
    {
     "name": "stdout",
     "output_type": "stream",
     "text": [
      "['sample_45_cerebrum']\n"
     ]
    },
    {
     "name": "stderr",
     "output_type": "stream",
     "text": [
      " 84%|████████▎ | 247/295 [08:12<01:49,  2.28s/it]"
     ]
    },
    {
     "name": "stdout",
     "output_type": "stream",
     "text": [
      "['sample_50_bonemarrow']\n",
      "['sample_51_gonad']\n"
     ]
    },
    {
     "name": "stderr",
     "output_type": "stream",
     "text": [
      " 84%|████████▍ | 249/295 [08:17<01:47,  2.34s/it]"
     ]
    },
    {
     "name": "stdout",
     "output_type": "stream",
     "text": [
      "['sample_51_gonad']\n"
     ]
    },
    {
     "name": "stderr",
     "output_type": "stream",
     "text": [
      " 85%|████████▍ | 250/295 [08:19<01:38,  2.19s/it]"
     ]
    },
    {
     "name": "stdout",
     "output_type": "stream",
     "text": [
      "['sample_52_pancreas']\n"
     ]
    },
    {
     "name": "stderr",
     "output_type": "stream",
     "text": [
      " 86%|████████▌ | 254/295 [08:27<01:20,  1.97s/it]"
     ]
    },
    {
     "name": "stdout",
     "output_type": "stream",
     "text": [
      "['sample_56_spleen']\n"
     ]
    },
    {
     "name": "stderr",
     "output_type": "stream",
     "text": [
      " 87%|████████▋ | 257/295 [08:36<01:30,  2.38s/it]"
     ]
    },
    {
     "name": "stdout",
     "output_type": "stream",
     "text": [
      "['sample_59_bonemarrow']\n"
     ]
    },
    {
     "name": "stderr",
     "output_type": "stream",
     "text": [
      " 90%|█████████ | 266/295 [08:56<01:02,  2.15s/it]"
     ]
    },
    {
     "name": "stdout",
     "output_type": "stream",
     "text": [
      "['sample_63_gonad']\n"
     ]
    },
    {
     "name": "stderr",
     "output_type": "stream",
     "text": [
      "100%|██████████| 295/295 [10:27<00:00,  2.13s/it]\n"
     ]
    }
   ],
   "source": [
    "records = []\n",
    "for zarr_path in tqdm(zarr_paths):\n",
    "    ds = xr.open_zarr(zarr_path)\n",
    "    barcode_map = ds[\"barcode_map\"].to_pandas().reset_index()\n",
    "    barcode_map.columns = [\"barcode\", \"barcode_idx\"]\n",
    "    barcode_map[\"zarr_path\"] = str(zarr_path)\n",
    "    barcode_map[\"zarr_tissue\"] = barcode_map[\"barcode\"].map(lambda i: i.split(\":\")[0].split(\".\")[0].replace(\"-\", \"_\"))\n",
    "    barcode_map[\"barcode_seq\"] = barcode_map[\"barcode\"].map(lambda i: i.split(\":\")[1])\n",
    "\n",
    "    use_cells = meta.loc[meta[\"zarr_tissue\"].isin(barcode_map[\"zarr_tissue\"].unique()), \"barcode\"]\n",
    "    if use_cells.size < 1:\n",
    "        print(barcode_map[\"zarr_tissue\"].unique())\n",
    "    barcode_map = barcode_map[barcode_map[\"barcode_seq\"].isin(use_cells)].copy()\n",
    "    records.append(barcode_map)\n",
    "\n",
    "barcode_records = pd.concat(records)\n",
    "barcode_records[\"barcode_idx\"] = barcode_records[\"barcode_idx\"].astype(\"uint32\")\n",
    "barcode_records[\"zarr_path\"] = barcode_records[\"zarr_path\"].astype(\"category\")\n",
    "barcode_records = barcode_records.set_index([\"zarr_tissue\", \"barcode_seq\"])"
   ]
  },
  {
   "cell_type": "code",
   "execution_count": 19,
   "id": "2123ba93-a4f7-46e4-8d2a-83a6167d92bc",
   "metadata": {
    "execution": {
     "iopub.execute_input": "2024-02-10T19:37:48.429187Z",
     "iopub.status.busy": "2024-02-10T19:37:48.428227Z",
     "iopub.status.idle": "2024-02-10T19:37:48.442434Z",
     "shell.execute_reply": "2024-02-10T19:37:48.441703Z",
     "shell.execute_reply.started": "2024-02-10T19:37:48.429155Z"
    },
    "scrolled": true
   },
   "outputs": [
    {
     "data": {
      "text/html": [
       "<div>\n",
       "<style scoped>\n",
       "    .dataframe tbody tr th:only-of-type {\n",
       "        vertical-align: middle;\n",
       "    }\n",
       "\n",
       "    .dataframe tbody tr th {\n",
       "        vertical-align: top;\n",
       "    }\n",
       "\n",
       "    .dataframe thead th {\n",
       "        text-align: right;\n",
       "    }\n",
       "</style>\n",
       "<table border=\"1\" class=\"dataframe\">\n",
       "  <thead>\n",
       "    <tr style=\"text-align: right;\">\n",
       "      <th></th>\n",
       "      <th></th>\n",
       "      <th>barcode</th>\n",
       "      <th>barcode_idx</th>\n",
       "      <th>zarr_path</th>\n",
       "    </tr>\n",
       "    <tr>\n",
       "      <th>zarr_tissue</th>\n",
       "      <th>barcode_seq</th>\n",
       "      <th></th>\n",
       "      <th></th>\n",
       "      <th></th>\n",
       "    </tr>\n",
       "  </thead>\n",
       "  <tbody>\n",
       "    <tr>\n",
       "      <th rowspan=\"5\" valign=\"top\">CARE181125_3B_rep1</th>\n",
       "      <th>AACGAGAGCTAAAGCACTAGCG</th>\n",
       "      <td>CARE181125_3B_rep1:AACGAGAGCTAAAGCACTAGCG</td>\n",
       "      <td>0</td>\n",
       "      <td>/wmb/zarr/Zhang2021Cell.CutSites/CARE181125_3B...</td>\n",
       "    </tr>\n",
       "    <tr>\n",
       "      <th>AACGAGAGCTAACCACCTAAAG</th>\n",
       "      <td>CARE181125_3B_rep1:AACGAGAGCTAACCACCTAAAG</td>\n",
       "      <td>6</td>\n",
       "      <td>/wmb/zarr/Zhang2021Cell.CutSites/CARE181125_3B...</td>\n",
       "    </tr>\n",
       "    <tr>\n",
       "      <th>AACGAGAGCTAACGAGCTGTGA</th>\n",
       "      <td>CARE181125_3B_rep1:AACGAGAGCTAACGAGCTGTGA</td>\n",
       "      <td>8</td>\n",
       "      <td>/wmb/zarr/Zhang2021Cell.CutSites/CARE181125_3B...</td>\n",
       "    </tr>\n",
       "    <tr>\n",
       "      <th>AACGAGAGCTAAGCTCAACGCA</th>\n",
       "      <td>CARE181125_3B_rep1:AACGAGAGCTAAGCTCAACGCA</td>\n",
       "      <td>13</td>\n",
       "      <td>/wmb/zarr/Zhang2021Cell.CutSites/CARE181125_3B...</td>\n",
       "    </tr>\n",
       "    <tr>\n",
       "      <th>AACGAGAGCTAAGTTGTGCTAC</th>\n",
       "      <td>CARE181125_3B_rep1:AACGAGAGCTAAGTTGTGCTAC</td>\n",
       "      <td>14</td>\n",
       "      <td>/wmb/zarr/Zhang2021Cell.CutSites/CARE181125_3B...</td>\n",
       "    </tr>\n",
       "    <tr>\n",
       "      <th>...</th>\n",
       "      <th>...</th>\n",
       "      <td>...</td>\n",
       "      <td>...</td>\n",
       "      <td>...</td>\n",
       "    </tr>\n",
       "    <tr>\n",
       "      <th rowspan=\"5\" valign=\"top\">sample_9_liver</th>\n",
       "      <th>TTGGTTGGTATCATCAGCCATTGGCCAGGTGAGAAGACCA</th>\n",
       "      <td>sample_9_liver.ac:TTGGTTGGTATCATCAGCCATTGGCCAG...</td>\n",
       "      <td>1078995</td>\n",
       "      <td>/wmb/zarr/Domcke2020Science.CutSites/sample_9_...</td>\n",
       "    </tr>\n",
       "    <tr>\n",
       "      <th>TTGGTTGGTATCTGACGAACGCCAAGGCAATGGCAAGTCA</th>\n",
       "      <td>sample_9_liver.ac:TTGGTTGGTATCTGACGAACGCCAAGGC...</td>\n",
       "      <td>1079290</td>\n",
       "      <td>/wmb/zarr/Domcke2020Science.CutSites/sample_9_...</td>\n",
       "    </tr>\n",
       "    <tr>\n",
       "      <th>TTGGTTGGTATGACGCGACCTATTCCTTGCTTAATTCGTA</th>\n",
       "      <td>sample_9_liver.ac:TTGGTTGGTATGACGCGACCTATTCCTT...</td>\n",
       "      <td>1079540</td>\n",
       "      <td>/wmb/zarr/Domcke2020Science.CutSites/sample_9_...</td>\n",
       "    </tr>\n",
       "    <tr>\n",
       "      <th>TTGGTTGGTATGCGAATCGGATGAATACCATTACCTTGCA</th>\n",
       "      <td>sample_9_liver.ac:TTGGTTGGTATGCGAATCGGATGAATAC...</td>\n",
       "      <td>1079883</td>\n",
       "      <td>/wmb/zarr/Domcke2020Science.CutSites/sample_9_...</td>\n",
       "    </tr>\n",
       "    <tr>\n",
       "      <th>TTGGTTGGTATGCTTAGCGAAACCTTCTCTTGACGCAGTC</th>\n",
       "      <td>sample_9_liver.ac:TTGGTTGGTATGCTTAGCGAAACCTTCT...</td>\n",
       "      <td>1080113</td>\n",
       "      <td>/wmb/zarr/Domcke2020Science.CutSites/sample_9_...</td>\n",
       "    </tr>\n",
       "  </tbody>\n",
       "</table>\n",
       "<p>1323094 rows × 3 columns</p>\n",
       "</div>"
      ],
      "text/plain": [
       "                                                                                                       barcode  \\\n",
       "zarr_tissue        barcode_seq                                                                                   \n",
       "CARE181125_3B_rep1 AACGAGAGCTAAAGCACTAGCG                            CARE181125_3B_rep1:AACGAGAGCTAAAGCACTAGCG   \n",
       "                   AACGAGAGCTAACCACCTAAAG                            CARE181125_3B_rep1:AACGAGAGCTAACCACCTAAAG   \n",
       "                   AACGAGAGCTAACGAGCTGTGA                            CARE181125_3B_rep1:AACGAGAGCTAACGAGCTGTGA   \n",
       "                   AACGAGAGCTAAGCTCAACGCA                            CARE181125_3B_rep1:AACGAGAGCTAAGCTCAACGCA   \n",
       "                   AACGAGAGCTAAGTTGTGCTAC                            CARE181125_3B_rep1:AACGAGAGCTAAGTTGTGCTAC   \n",
       "...                                                                                                        ...   \n",
       "sample_9_liver     TTGGTTGGTATCATCAGCCATTGGCCAGGTGAGAAGACCA  sample_9_liver.ac:TTGGTTGGTATCATCAGCCATTGGCCAG...   \n",
       "                   TTGGTTGGTATCTGACGAACGCCAAGGCAATGGCAAGTCA  sample_9_liver.ac:TTGGTTGGTATCTGACGAACGCCAAGGC...   \n",
       "                   TTGGTTGGTATGACGCGACCTATTCCTTGCTTAATTCGTA  sample_9_liver.ac:TTGGTTGGTATGACGCGACCTATTCCTT...   \n",
       "                   TTGGTTGGTATGCGAATCGGATGAATACCATTACCTTGCA  sample_9_liver.ac:TTGGTTGGTATGCGAATCGGATGAATAC...   \n",
       "                   TTGGTTGGTATGCTTAGCGAAACCTTCTCTTGACGCAGTC  sample_9_liver.ac:TTGGTTGGTATGCTTAGCGAAACCTTCT...   \n",
       "\n",
       "                                                             barcode_idx  \\\n",
       "zarr_tissue        barcode_seq                                             \n",
       "CARE181125_3B_rep1 AACGAGAGCTAAAGCACTAGCG                              0   \n",
       "                   AACGAGAGCTAACCACCTAAAG                              6   \n",
       "                   AACGAGAGCTAACGAGCTGTGA                              8   \n",
       "                   AACGAGAGCTAAGCTCAACGCA                             13   \n",
       "                   AACGAGAGCTAAGTTGTGCTAC                             14   \n",
       "...                                                                  ...   \n",
       "sample_9_liver     TTGGTTGGTATCATCAGCCATTGGCCAGGTGAGAAGACCA      1078995   \n",
       "                   TTGGTTGGTATCTGACGAACGCCAAGGCAATGGCAAGTCA      1079290   \n",
       "                   TTGGTTGGTATGACGCGACCTATTCCTTGCTTAATTCGTA      1079540   \n",
       "                   TTGGTTGGTATGCGAATCGGATGAATACCATTACCTTGCA      1079883   \n",
       "                   TTGGTTGGTATGCTTAGCGAAACCTTCTCTTGACGCAGTC      1080113   \n",
       "\n",
       "                                                                                                     zarr_path  \n",
       "zarr_tissue        barcode_seq                                                                                  \n",
       "CARE181125_3B_rep1 AACGAGAGCTAAAGCACTAGCG                    /wmb/zarr/Zhang2021Cell.CutSites/CARE181125_3B...  \n",
       "                   AACGAGAGCTAACCACCTAAAG                    /wmb/zarr/Zhang2021Cell.CutSites/CARE181125_3B...  \n",
       "                   AACGAGAGCTAACGAGCTGTGA                    /wmb/zarr/Zhang2021Cell.CutSites/CARE181125_3B...  \n",
       "                   AACGAGAGCTAAGCTCAACGCA                    /wmb/zarr/Zhang2021Cell.CutSites/CARE181125_3B...  \n",
       "                   AACGAGAGCTAAGTTGTGCTAC                    /wmb/zarr/Zhang2021Cell.CutSites/CARE181125_3B...  \n",
       "...                                                                                                        ...  \n",
       "sample_9_liver     TTGGTTGGTATCATCAGCCATTGGCCAGGTGAGAAGACCA  /wmb/zarr/Domcke2020Science.CutSites/sample_9_...  \n",
       "                   TTGGTTGGTATCTGACGAACGCCAAGGCAATGGCAAGTCA  /wmb/zarr/Domcke2020Science.CutSites/sample_9_...  \n",
       "                   TTGGTTGGTATGACGCGACCTATTCCTTGCTTAATTCGTA  /wmb/zarr/Domcke2020Science.CutSites/sample_9_...  \n",
       "                   TTGGTTGGTATGCGAATCGGATGAATACCATTACCTTGCA  /wmb/zarr/Domcke2020Science.CutSites/sample_9_...  \n",
       "                   TTGGTTGGTATGCTTAGCGAAACCTTCTCTTGACGCAGTC  /wmb/zarr/Domcke2020Science.CutSites/sample_9_...  \n",
       "\n",
       "[1323094 rows x 3 columns]"
      ]
     },
     "execution_count": 19,
     "metadata": {},
     "output_type": "execute_result"
    }
   ],
   "source": [
    "barcode_records"
   ]
  },
  {
   "cell_type": "code",
   "execution_count": 22,
   "id": "1bde0baa-0ddc-497b-a4bb-b783fb57a68b",
   "metadata": {
    "execution": {
     "iopub.execute_input": "2024-02-10T19:38:12.896451Z",
     "iopub.status.busy": "2024-02-10T19:38:12.896096Z",
     "iopub.status.idle": "2024-02-10T19:38:15.100536Z",
     "shell.execute_reply": "2024-02-10T19:38:15.099393Z",
     "shell.execute_reply.started": "2024-02-10T19:38:12.896427Z"
    }
   },
   "outputs": [],
   "source": [
    "meta = meta.set_index([\"zarr_tissue\", \"barcode\"])"
   ]
  },
  {
   "cell_type": "code",
   "execution_count": 33,
   "id": "15e7eb47-8aa4-4b47-8a25-3e667ac2bf30",
   "metadata": {
    "execution": {
     "iopub.execute_input": "2024-02-10T20:09:57.428465Z",
     "iopub.status.busy": "2024-02-10T20:09:57.428099Z",
     "iopub.status.idle": "2024-02-10T20:09:57.439390Z",
     "shell.execute_reply": "2024-02-10T20:09:57.438661Z",
     "shell.execute_reply.started": "2024-02-10T20:09:57.428436Z"
    }
   },
   "outputs": [
    {
     "data": {
      "text/html": [
       "<div>\n",
       "<style scoped>\n",
       "    .dataframe tbody tr th:only-of-type {\n",
       "        vertical-align: middle;\n",
       "    }\n",
       "\n",
       "    .dataframe tbody tr th {\n",
       "        vertical-align: top;\n",
       "    }\n",
       "\n",
       "    .dataframe thead th {\n",
       "        text-align: right;\n",
       "    }\n",
       "</style>\n",
       "<table border=\"1\" class=\"dataframe\">\n",
       "  <thead>\n",
       "    <tr style=\"text-align: right;\">\n",
       "      <th></th>\n",
       "      <th></th>\n",
       "      <th>cellID</th>\n",
       "      <th>logUMI</th>\n",
       "      <th>tsse</th>\n",
       "      <th>tissue</th>\n",
       "      <th>cell type</th>\n",
       "      <th>Life stage</th>\n",
       "    </tr>\n",
       "    <tr>\n",
       "      <th>zarr_tissue</th>\n",
       "      <th>barcode</th>\n",
       "      <th></th>\n",
       "      <th></th>\n",
       "      <th></th>\n",
       "      <th></th>\n",
       "      <th></th>\n",
       "      <th></th>\n",
       "    </tr>\n",
       "  </thead>\n",
       "  <tbody>\n",
       "    <tr>\n",
       "      <th rowspan=\"5\" valign=\"top\">sample_1_adrenal</th>\n",
       "      <th>AACCAATAACACCGGTCTGCTTATTGCTAAGCTCCGCTTG</th>\n",
       "      <td>adrenal_sample_1_1+AACCAATAACACCGGTCTGCTTATTGC...</td>\n",
       "      <td>3.012837</td>\n",
       "      <td>20.926244</td>\n",
       "      <td>adrenal_sample_1</td>\n",
       "      <td>Fetal Adrenal Cortical Cell</td>\n",
       "      <td>Fetal</td>\n",
       "    </tr>\n",
       "    <tr>\n",
       "      <th>AACCAATAACATCCTTCAACCTTCAGTAGTAAGTAGACTA</th>\n",
       "      <td>adrenal_sample_1_1+AACCAATAACATCCTTCAACCTTCAGT...</td>\n",
       "      <td>4.724988</td>\n",
       "      <td>8.408811</td>\n",
       "      <td>adrenal_sample_1</td>\n",
       "      <td>Fetal Adrenal Cortical Cell</td>\n",
       "      <td>Fetal</td>\n",
       "    </tr>\n",
       "    <tr>\n",
       "      <th>AACCAATAACATGCTAACCTCTAGTTAAGTGCTCCGCTTG</th>\n",
       "      <td>adrenal_sample_1_1+AACCAATAACATGCTAACCTCTAGTTA...</td>\n",
       "      <td>3.889918</td>\n",
       "      <td>12.594235</td>\n",
       "      <td>adrenal_sample_1</td>\n",
       "      <td>Fetal Adrenal Cortical Cell</td>\n",
       "      <td>Fetal</td>\n",
       "    </tr>\n",
       "    <tr>\n",
       "      <th>AACCAATAACATGCTAACCTTGGCCGTCTTGCTCCGCTTG</th>\n",
       "      <td>adrenal_sample_1_1+AACCAATAACATGCTAACCTTGGCCGT...</td>\n",
       "      <td>4.210024</td>\n",
       "      <td>11.216235</td>\n",
       "      <td>adrenal_sample_1</td>\n",
       "      <td>Fetal Adrenal Cortical Cell</td>\n",
       "      <td>Fetal</td>\n",
       "    </tr>\n",
       "    <tr>\n",
       "      <th>AACCAATAACCAACGGTCTTACCAGTTCAGCGGCGCTCAA</th>\n",
       "      <td>adrenal_sample_1_1+AACCAATAACCAACGGTCTTACCAGTT...</td>\n",
       "      <td>4.496418</td>\n",
       "      <td>7.467532</td>\n",
       "      <td>adrenal_sample_1</td>\n",
       "      <td>Fetal Adrenal Cortical Cell</td>\n",
       "      <td>Fetal</td>\n",
       "    </tr>\n",
       "  </tbody>\n",
       "</table>\n",
       "</div>"
      ],
      "text/plain": [
       "                                                                                                      cellID  \\\n",
       "zarr_tissue      barcode                                                                                       \n",
       "sample_1_adrenal AACCAATAACACCGGTCTGCTTATTGCTAAGCTCCGCTTG  adrenal_sample_1_1+AACCAATAACACCGGTCTGCTTATTGC...   \n",
       "                 AACCAATAACATCCTTCAACCTTCAGTAGTAAGTAGACTA  adrenal_sample_1_1+AACCAATAACATCCTTCAACCTTCAGT...   \n",
       "                 AACCAATAACATGCTAACCTCTAGTTAAGTGCTCCGCTTG  adrenal_sample_1_1+AACCAATAACATGCTAACCTCTAGTTA...   \n",
       "                 AACCAATAACATGCTAACCTTGGCCGTCTTGCTCCGCTTG  adrenal_sample_1_1+AACCAATAACATGCTAACCTTGGCCGT...   \n",
       "                 AACCAATAACCAACGGTCTTACCAGTTCAGCGGCGCTCAA  adrenal_sample_1_1+AACCAATAACCAACGGTCTTACCAGTT...   \n",
       "\n",
       "                                                             logUMI  \\\n",
       "zarr_tissue      barcode                                              \n",
       "sample_1_adrenal AACCAATAACACCGGTCTGCTTATTGCTAAGCTCCGCTTG  3.012837   \n",
       "                 AACCAATAACATCCTTCAACCTTCAGTAGTAAGTAGACTA  4.724988   \n",
       "                 AACCAATAACATGCTAACCTCTAGTTAAGTGCTCCGCTTG  3.889918   \n",
       "                 AACCAATAACATGCTAACCTTGGCCGTCTTGCTCCGCTTG  4.210024   \n",
       "                 AACCAATAACCAACGGTCTTACCAGTTCAGCGGCGCTCAA  4.496418   \n",
       "\n",
       "                                                                tsse  \\\n",
       "zarr_tissue      barcode                                               \n",
       "sample_1_adrenal AACCAATAACACCGGTCTGCTTATTGCTAAGCTCCGCTTG  20.926244   \n",
       "                 AACCAATAACATCCTTCAACCTTCAGTAGTAAGTAGACTA   8.408811   \n",
       "                 AACCAATAACATGCTAACCTCTAGTTAAGTGCTCCGCTTG  12.594235   \n",
       "                 AACCAATAACATGCTAACCTTGGCCGTCTTGCTCCGCTTG  11.216235   \n",
       "                 AACCAATAACCAACGGTCTTACCAGTTCAGCGGCGCTCAA   7.467532   \n",
       "\n",
       "                                                                     tissue  \\\n",
       "zarr_tissue      barcode                                                      \n",
       "sample_1_adrenal AACCAATAACACCGGTCTGCTTATTGCTAAGCTCCGCTTG  adrenal_sample_1   \n",
       "                 AACCAATAACATCCTTCAACCTTCAGTAGTAAGTAGACTA  adrenal_sample_1   \n",
       "                 AACCAATAACATGCTAACCTCTAGTTAAGTGCTCCGCTTG  adrenal_sample_1   \n",
       "                 AACCAATAACATGCTAACCTTGGCCGTCTTGCTCCGCTTG  adrenal_sample_1   \n",
       "                 AACCAATAACCAACGGTCTTACCAGTTCAGCGGCGCTCAA  adrenal_sample_1   \n",
       "\n",
       "                                                                             cell type  \\\n",
       "zarr_tissue      barcode                                                                 \n",
       "sample_1_adrenal AACCAATAACACCGGTCTGCTTATTGCTAAGCTCCGCTTG  Fetal Adrenal Cortical Cell   \n",
       "                 AACCAATAACATCCTTCAACCTTCAGTAGTAAGTAGACTA  Fetal Adrenal Cortical Cell   \n",
       "                 AACCAATAACATGCTAACCTCTAGTTAAGTGCTCCGCTTG  Fetal Adrenal Cortical Cell   \n",
       "                 AACCAATAACATGCTAACCTTGGCCGTCTTGCTCCGCTTG  Fetal Adrenal Cortical Cell   \n",
       "                 AACCAATAACCAACGGTCTTACCAGTTCAGCGGCGCTCAA  Fetal Adrenal Cortical Cell   \n",
       "\n",
       "                                                          Life stage  \n",
       "zarr_tissue      barcode                                              \n",
       "sample_1_adrenal AACCAATAACACCGGTCTGCTTATTGCTAAGCTCCGCTTG      Fetal  \n",
       "                 AACCAATAACATCCTTCAACCTTCAGTAGTAAGTAGACTA      Fetal  \n",
       "                 AACCAATAACATGCTAACCTCTAGTTAAGTGCTCCGCTTG      Fetal  \n",
       "                 AACCAATAACATGCTAACCTTGGCCGTCTTGCTCCGCTTG      Fetal  \n",
       "                 AACCAATAACCAACGGTCTTACCAGTTCAGCGGCGCTCAA      Fetal  "
      ]
     },
     "execution_count": 33,
     "metadata": {},
     "output_type": "execute_result"
    }
   ],
   "source": [
    "meta.head()"
   ]
  },
  {
   "cell_type": "code",
   "execution_count": 28,
   "id": "98eae3be-6870-461a-a9a6-856d2c750710",
   "metadata": {
    "execution": {
     "iopub.execute_input": "2024-02-10T19:57:11.537354Z",
     "iopub.status.busy": "2024-02-10T19:57:11.536638Z",
     "iopub.status.idle": "2024-02-10T19:57:27.133636Z",
     "shell.execute_reply": "2024-02-10T19:57:27.132741Z",
     "shell.execute_reply.started": "2024-02-10T19:57:11.537308Z"
    }
   },
   "outputs": [],
   "source": [
    "barcode_records[\"logUMI\"] = barcode_records.index.map(meta[\"logUMI\"])\n",
    "barcode_records[\"tsse\"] = barcode_records.index.map(meta[\"tsse\"])\n",
    "barcode_records[\"cell type\"] = barcode_records.index.map(meta[\"cell type\"])\n",
    "barcode_records[\"Life stage\"] = barcode_records.index.map(meta[\"Life stage\"])"
   ]
  },
  {
   "cell_type": "code",
   "execution_count": 34,
   "id": "64be3594-888e-480a-9c03-88a33e02dab7",
   "metadata": {
    "execution": {
     "iopub.execute_input": "2024-02-10T20:10:45.012512Z",
     "iopub.status.busy": "2024-02-10T20:10:45.012148Z",
     "iopub.status.idle": "2024-02-10T20:10:45.554921Z",
     "shell.execute_reply": "2024-02-10T20:10:45.554111Z",
     "shell.execute_reply.started": "2024-02-10T20:10:45.012485Z"
    }
   },
   "outputs": [],
   "source": [
    "barcode_records = barcode_records.reset_index()"
   ]
  },
  {
   "cell_type": "code",
   "execution_count": 36,
   "id": "d66e5afa-489a-45fa-9a0a-edebb49ddf24",
   "metadata": {
    "execution": {
     "iopub.execute_input": "2024-02-10T20:10:54.337031Z",
     "iopub.status.busy": "2024-02-10T20:10:54.336159Z",
     "iopub.status.idle": "2024-02-10T20:10:54.348805Z",
     "shell.execute_reply": "2024-02-10T20:10:54.347930Z",
     "shell.execute_reply.started": "2024-02-10T20:10:54.336993Z"
    }
   },
   "outputs": [
    {
     "data": {
      "text/html": [
       "<div>\n",
       "<style scoped>\n",
       "    .dataframe tbody tr th:only-of-type {\n",
       "        vertical-align: middle;\n",
       "    }\n",
       "\n",
       "    .dataframe tbody tr th {\n",
       "        vertical-align: top;\n",
       "    }\n",
       "\n",
       "    .dataframe thead th {\n",
       "        text-align: right;\n",
       "    }\n",
       "</style>\n",
       "<table border=\"1\" class=\"dataframe\">\n",
       "  <thead>\n",
       "    <tr style=\"text-align: right;\">\n",
       "      <th></th>\n",
       "      <th>zarr_tissue</th>\n",
       "      <th>barcode_seq</th>\n",
       "      <th>barcode</th>\n",
       "      <th>barcode_idx</th>\n",
       "      <th>zarr_path</th>\n",
       "      <th>logUMI</th>\n",
       "      <th>tsse</th>\n",
       "      <th>cell type</th>\n",
       "      <th>Life stage</th>\n",
       "    </tr>\n",
       "  </thead>\n",
       "  <tbody>\n",
       "    <tr>\n",
       "      <th>0</th>\n",
       "      <td>CARE181125_3B_rep1</td>\n",
       "      <td>AACGAGAGCTAAAGCACTAGCG</td>\n",
       "      <td>CARE181125_3B_rep1:AACGAGAGCTAAAGCACTAGCG</td>\n",
       "      <td>0</td>\n",
       "      <td>/wmb/zarr/Zhang2021Cell.CutSites/CARE181125_3B...</td>\n",
       "      <td>3.459091</td>\n",
       "      <td>16.240071</td>\n",
       "      <td>Ventricular Cardiomyocyte</td>\n",
       "      <td>Adult</td>\n",
       "    </tr>\n",
       "    <tr>\n",
       "      <th>1</th>\n",
       "      <td>CARE181125_3B_rep1</td>\n",
       "      <td>AACGAGAGCTAACCACCTAAAG</td>\n",
       "      <td>CARE181125_3B_rep1:AACGAGAGCTAACCACCTAAAG</td>\n",
       "      <td>6</td>\n",
       "      <td>/wmb/zarr/Zhang2021Cell.CutSites/CARE181125_3B...</td>\n",
       "      <td>3.256237</td>\n",
       "      <td>11.706102</td>\n",
       "      <td>Ventricular Cardiomyocyte</td>\n",
       "      <td>Adult</td>\n",
       "    </tr>\n",
       "    <tr>\n",
       "      <th>2</th>\n",
       "      <td>CARE181125_3B_rep1</td>\n",
       "      <td>AACGAGAGCTAACGAGCTGTGA</td>\n",
       "      <td>CARE181125_3B_rep1:AACGAGAGCTAACGAGCTGTGA</td>\n",
       "      <td>8</td>\n",
       "      <td>/wmb/zarr/Zhang2021Cell.CutSites/CARE181125_3B...</td>\n",
       "      <td>3.423737</td>\n",
       "      <td>10.909091</td>\n",
       "      <td>Cardiac Fibroblasts</td>\n",
       "      <td>Adult</td>\n",
       "    </tr>\n",
       "    <tr>\n",
       "      <th>3</th>\n",
       "      <td>CARE181125_3B_rep1</td>\n",
       "      <td>AACGAGAGCTAAGCTCAACGCA</td>\n",
       "      <td>CARE181125_3B_rep1:AACGAGAGCTAAGCTCAACGCA</td>\n",
       "      <td>13</td>\n",
       "      <td>/wmb/zarr/Zhang2021Cell.CutSites/CARE181125_3B...</td>\n",
       "      <td>3.623973</td>\n",
       "      <td>12.500000</td>\n",
       "      <td>Cardiac Fibroblasts</td>\n",
       "      <td>Adult</td>\n",
       "    </tr>\n",
       "    <tr>\n",
       "      <th>4</th>\n",
       "      <td>CARE181125_3B_rep1</td>\n",
       "      <td>AACGAGAGCTAAGTTGTGCTAC</td>\n",
       "      <td>CARE181125_3B_rep1:AACGAGAGCTAAGTTGTGCTAC</td>\n",
       "      <td>14</td>\n",
       "      <td>/wmb/zarr/Zhang2021Cell.CutSites/CARE181125_3B...</td>\n",
       "      <td>3.429106</td>\n",
       "      <td>11.079545</td>\n",
       "      <td>Cardiac Fibroblasts</td>\n",
       "      <td>Adult</td>\n",
       "    </tr>\n",
       "  </tbody>\n",
       "</table>\n",
       "</div>"
      ],
      "text/plain": [
       "          zarr_tissue             barcode_seq  \\\n",
       "0  CARE181125_3B_rep1  AACGAGAGCTAAAGCACTAGCG   \n",
       "1  CARE181125_3B_rep1  AACGAGAGCTAACCACCTAAAG   \n",
       "2  CARE181125_3B_rep1  AACGAGAGCTAACGAGCTGTGA   \n",
       "3  CARE181125_3B_rep1  AACGAGAGCTAAGCTCAACGCA   \n",
       "4  CARE181125_3B_rep1  AACGAGAGCTAAGTTGTGCTAC   \n",
       "\n",
       "                                     barcode  barcode_idx  \\\n",
       "0  CARE181125_3B_rep1:AACGAGAGCTAAAGCACTAGCG            0   \n",
       "1  CARE181125_3B_rep1:AACGAGAGCTAACCACCTAAAG            6   \n",
       "2  CARE181125_3B_rep1:AACGAGAGCTAACGAGCTGTGA            8   \n",
       "3  CARE181125_3B_rep1:AACGAGAGCTAAGCTCAACGCA           13   \n",
       "4  CARE181125_3B_rep1:AACGAGAGCTAAGTTGTGCTAC           14   \n",
       "\n",
       "                                           zarr_path    logUMI       tsse  \\\n",
       "0  /wmb/zarr/Zhang2021Cell.CutSites/CARE181125_3B...  3.459091  16.240071   \n",
       "1  /wmb/zarr/Zhang2021Cell.CutSites/CARE181125_3B...  3.256237  11.706102   \n",
       "2  /wmb/zarr/Zhang2021Cell.CutSites/CARE181125_3B...  3.423737  10.909091   \n",
       "3  /wmb/zarr/Zhang2021Cell.CutSites/CARE181125_3B...  3.623973  12.500000   \n",
       "4  /wmb/zarr/Zhang2021Cell.CutSites/CARE181125_3B...  3.429106  11.079545   \n",
       "\n",
       "                   cell type Life stage  \n",
       "0  Ventricular Cardiomyocyte      Adult  \n",
       "1  Ventricular Cardiomyocyte      Adult  \n",
       "2        Cardiac Fibroblasts      Adult  \n",
       "3        Cardiac Fibroblasts      Adult  \n",
       "4        Cardiac Fibroblasts      Adult  "
      ]
     },
     "execution_count": 36,
     "metadata": {},
     "output_type": "execute_result"
    }
   ],
   "source": [
    "barcode_records.head()"
   ]
  },
  {
   "cell_type": "code",
   "execution_count": 38,
   "id": "38ce17df-0775-4598-8f2f-b0c68e2f2e1b",
   "metadata": {
    "execution": {
     "iopub.execute_input": "2024-02-10T20:12:23.713682Z",
     "iopub.status.busy": "2024-02-10T20:12:23.712930Z",
     "iopub.status.idle": "2024-02-10T20:12:24.295633Z",
     "shell.execute_reply": "2024-02-10T20:12:24.294775Z",
     "shell.execute_reply.started": "2024-02-10T20:12:23.713646Z"
    }
   },
   "outputs": [],
   "source": [
    "barcode_records[\"zarr_tissue\"] = barcode_records[\"zarr_tissue\"].astype(\"category\")\n",
    "barcode_records[\"barcode_seq\"] = barcode_records[\"barcode_seq\"].astype(str)\n",
    "barcode_records[\"zarr_path\"] = barcode_records[\"zarr_path\"].astype(\"category\")\n",
    "barcode_records[\"logUMI\"] = barcode_records[\"logUMI\"].astype(\"float16\")\n",
    "barcode_records[\"tsse\"] = barcode_records[\"tsse\"].astype(\"float16\")\n",
    "barcode_records[\"cell type\"] = barcode_records[\"cell type\"].astype(\"category\")\n",
    "barcode_records[\"Life stage\"] = barcode_records[\"Life stage\"].astype(\"category\")\n",
    "del barcode_records[\"barcode\"]"
   ]
  },
  {
   "cell_type": "code",
   "execution_count": 50,
   "id": "d0bb8bbe-46fa-4f23-b6ea-83fd807574df",
   "metadata": {
    "execution": {
     "iopub.execute_input": "2024-02-10T20:22:04.804378Z",
     "iopub.status.busy": "2024-02-10T20:22:04.803660Z",
     "iopub.status.idle": "2024-02-10T20:22:04.852518Z",
     "shell.execute_reply": "2024-02-10T20:22:04.851776Z",
     "shell.execute_reply.started": "2024-02-10T20:22:04.804344Z"
    }
   },
   "outputs": [],
   "source": [
    "barcode_records = barcode_records.rename(\n",
    "    columns={\"barcode_seq\": \"barcode\", \"cell type\": \"cell_type\", \"Life stage\": \"life_stage\", \"zarr_tissue\": \"sample\"}\n",
    ")"
   ]
  },
  {
   "cell_type": "code",
   "execution_count": 51,
   "id": "65bb1993-a863-4c02-81ff-351c6b7b8c3f",
   "metadata": {
    "execution": {
     "iopub.execute_input": "2024-02-10T20:22:23.514244Z",
     "iopub.status.busy": "2024-02-10T20:22:23.513320Z",
     "iopub.status.idle": "2024-02-10T20:22:23.561677Z",
     "shell.execute_reply": "2024-02-10T20:22:23.560854Z",
     "shell.execute_reply.started": "2024-02-10T20:22:23.514208Z"
    }
   },
   "outputs": [],
   "source": [
    "sample_to_tissue = {\n",
    "    \"CARE181125_3B_rep1\": \"heart_rv\",\n",
    "    \"CARE181125_3C_rep1\": \"heart_la\",\n",
    "    \"CARE181125_3D_rep1\": \"heart_la\",\n",
    "    \"CARE181213_2A_rep1\": \"heart_ra\",\n",
    "    \"CARE181213_2B_rep1\": \"heart_rv\",\n",
    "    \"CARE190307_10A_rep1\": \"heart_ra\",\n",
    "    \"CARE190307_10B_rep1\": \"heart_rv\",\n",
    "    \"CARE190307_10C_rep1\": \"heart_la\",\n",
    "    \"CARE190307_10D_rep1\": \"heart_lv\",\n",
    "    \"CARE190331_11B_rep1\": \"heart_rv\",\n",
    "    \"CARE190331_11D_rep1\": \"heart_lv\",\n",
    "    \"CARE191122_2C_rep1\": \"heart_la\",\n",
    "    \"CARE191122_2D_rep1\": \"heart_lv\",\n",
    "    \"CARE191122_3D_rep1\": \"heart_lv\",\n",
    "    \"LungMap_D122_rep1\": \"Lung\",\n",
    "    \"LungMap_D175_rep1\": \"Lung\",\n",
    "    \"LungMap_D231_rep1\": \"Lung\",\n",
    "    \"UMB4540_snATAC_frontal_cortex_rep1\": \"frontal_cortex\",\n",
    "    \"UMB4540_snATAC_frontal_cortex_rep2\": \"frontal_cortex\",\n",
    "    \"adipose_omentum_SM_ADYHB_rep1\": \"adipose_omentum\",\n",
    "    \"adipose_omentum_SM_CHZRM_rep1\": \"adipose_omentum\",\n",
    "    \"adipose_omentum_SM_CSSD4_rep1\": \"adipose_omentum\",\n",
    "    \"adipose_omentum_SM_IOBHJ_rep1\": \"adipose_omentum\",\n",
    "    \"adrenal_gland_SM_A8WNO_rep1\": \"adrenal_gland\",\n",
    "    \"artery_aorta_SM_C1MLC_rep1\": \"artery_aorta\",\n",
    "    \"artery_aorta_SM_C1PX3_rep1\": \"artery_aorta\",\n",
    "    \"artery_aorta_SM_CR89M_rep1\": \"artery_aorta\",\n",
    "    \"artery_aorta_SM_JF1NU_rep1\": \"artery_aorta\",\n",
    "    \"artery_tibial_SM_CHLWW_rep1\": \"artery_tibial\",\n",
    "    \"artery_tibial_SM_IOBHK_rep1\": \"artery_tibial\",\n",
    "    \"colon_sigmoid_SM_AZPYO_rep1\": \"colon_sigmoid\",\n",
    "    \"colon_sigmoid_SM_JF1O8_rep1\": \"colon_sigmoid\",\n",
    "    \"colon_transverse_SM_A9HOW_rep1\": \"colon_transverse\",\n",
    "    \"colon_transverse_SM_A9VP4_rep1\": \"colon_transverse\",\n",
    "    \"colon_transverse_SM_ACCQ1_rep1\": \"colon_transverse\",\n",
    "    \"colon_transverse_SM_BZ2ZS_rep1\": \"colon_transverse\",\n",
    "    \"colon_transverse_SM_CSSDA_rep1\": \"colon_transverse\",\n",
    "    \"esophagus_ge_junction_SM_CTD24_rep1\": \"esophagus_ge_junction\",\n",
    "    \"esophagus_ge_junction_SM_IOERG_rep1\": \"esophagus_ge_junction\",\n",
    "    \"esophagus_mucosa_SM_A9HOR_rep1\": \"esophagus_mucosa\",\n",
    "    \"esophagus_mucosa_SM_A9VPA_rep1\": \"esophagus_mucosa\",\n",
    "    \"esophagus_mucosa_SM_AZPYJ_rep1\": \"esophagus_mucosa\",\n",
    "    \"esophagus_muscularis_SM_A8CPH_rep1\": \"esophagus_muscularis\",\n",
    "    \"esophagus_muscularis_SM_CSSCV_rep1\": \"esophagus_muscularis\",\n",
    "    \"esophagus_muscularis_SM_IOBHM_rep1\": \"esophagus_muscularis\",\n",
    "    \"esophagus_muscularis_SM_IQYD1_rep1\": \"esophagus_muscularis\",\n",
    "    \"heart_atrial_appendage_SM_IOBHN_rep1\": \"heart_atrial_appendage\",\n",
    "    \"heart_atrial_appendage_SM_JF1NX_rep1\": \"heart_atrial_appendage\",\n",
    "    \"heart_lv_SM_IOBHO_rep1\": \"heart_lv\",\n",
    "    \"heart_lv_SM_JF1NY_rep1\": \"heart_lv\",\n",
    "    \"islet_CB1_rep1\": \"islet\",\n",
    "    \"islet_CB2_rep1\": \"islet\",\n",
    "    \"islet_CB3_rep1\": \"islet\",\n",
    "    \"liver_SM_A8WNZ_rep1\": \"liver\",\n",
    "    \"lung_SM_A62E9_rep1\": \"lung\",\n",
    "    \"lung_SM_A8WNH_rep1\": \"lung\",\n",
    "    \"lung_SM_ACCPU_rep1\": \"lung\",\n",
    "    \"lung_SM_JF1NZ_rep1\": \"lung\",\n",
    "    \"mammary_tissue_SM_IOBHL_rep1\": \"mammary_tissue\",\n",
    "    \"mammary_tissue_SM_JF1NV_rep1\": \"mammary_tissue\",\n",
    "    \"muscle_SM_ADA6L_rep1\": \"muscle\",\n",
    "    \"muscle_SM_C1MKW_rep1\": \"muscle\",\n",
    "    \"muscle_SM_C1PWV_rep1\": \"muscle\",\n",
    "    \"muscle_SM_IOBHP_rep1\": \"muscle\",\n",
    "    \"muscle_SM_JF1O9_rep1\": \"muscle\",\n",
    "    \"nerve_tibial_SM_CHLWU_rep1\": \"nerve_tibial\",\n",
    "    \"nerve_tibial_SM_CP2V6_rep1\": \"nerve_tibial\",\n",
    "    \"nerve_tibial_SM_IOBHQ_rep1\": \"nerve_tibial\",\n",
    "    \"ovary_SM_IOBHR_rep1\": \"ovary\",\n",
    "    \"pancreas_SM_ADRUQ_rep1\": \"pancreas\",\n",
    "    \"pancreas_SM_IOBHS_rep1\": \"pancreas\",\n",
    "    \"pancreas_SM_JF1NS_rep1\": \"pancreas\",\n",
    "    \"pancreas_SM_JF1O6_rep1\": \"pancreas\",\n",
    "    \"skin_SM_IOBHT_rep1\": \"skin\",\n",
    "    \"skin_SM_JF1O1_rep1\": \"skin\",\n",
    "    \"skin_sun_exposed_SM_ADYHK_rep1\": \"skin\",\n",
    "    \"skin_sun_exposed_SM_IOBHU_rep1\": \"skin\",\n",
    "    \"skin_sun_exposed_SM_IQYCP_rep1\": \"skin\",\n",
    "    \"skin_sun_exposed_SM_JF1NT_rep1\": \"skin\",\n",
    "    \"small_intestine_SM_A62GO_rep1\": \"small_intestine\",\n",
    "    \"small_intestine_SM_ADA5F_rep1\": \"small_intestine\",\n",
    "    \"small_intestine_SM_JF1O2_rep1\": \"small_intestine\",\n",
    "    \"stomach_SM_CHLWL_rep1\": \"stomach\",\n",
    "    \"stomach_SM_IOBHV_rep1\": \"stomach\",\n",
    "    \"stomach_SM_JF1NP_rep1\": \"stomach\",\n",
    "    \"stomach_SM_JF1O3_rep1\": \"stomach\",\n",
    "    \"thyroid_SM_C1MKY_rep1\": \"thyroid\",\n",
    "    \"thyroid_SM_IOBHW_rep1\": \"thyroid\",\n",
    "    \"thyroid_SM_JF1O4_rep1\": \"thyroid\",\n",
    "    \"uterus_SM_A87A2_rep1\": \"uterus\",\n",
    "    \"uterus_SM_IOBHX_rep1\": \"uterus\",\n",
    "    \"vagina_SM_A9HOS_rep1\": \"vagina\",\n",
    "    \"sample_10_muscle\": \"muscle\",\n",
    "    \"sample_12_heart\": \"heart\",\n",
    "    \"sample_13_placenta\": \"placenta\",\n",
    "    \"sample_14_heart\": \"heart\",\n",
    "    \"sample_15_placenta\": \"placenta\",\n",
    "    \"sample_16_adrenal\": \"adrenal\",\n",
    "    \"sample_18_eye\": \"eye\",\n",
    "    \"sample_19_intestine\": \"intestine\",\n",
    "    \"sample_1_adrenal\": \"adrenal\",\n",
    "    \"sample_20_kidney\": \"kidney\",\n",
    "    \"sample_21_intestine\": \"intestine\",\n",
    "    \"sample_22_kidney\": \"kidney\",\n",
    "    \"sample_23_muscle\": \"muscle\",\n",
    "    \"sample_24_standard\": \"standard\",\n",
    "    \"sample_25_kidney\": \"kidney\",\n",
    "    \"sample_26_placenta\": \"placenta\",\n",
    "    \"sample_27_adrenal\": \"adrenal\",\n",
    "    \"sample_28_intestine\": \"intestine\",\n",
    "    \"sample_29_placenta\": \"placenta\",\n",
    "    \"sample_2_thymus\": \"thymus\",\n",
    "    \"sample_30_placenta\": \"placenta\",\n",
    "    \"sample_31_adrenal\": \"adrenal\",\n",
    "    \"sample_32_heart\": \"heart\",\n",
    "    \"sample_33_lung\": \"lung\",\n",
    "    \"sample_34_kidney\": \"kidney\",\n",
    "    \"sample_35_liver\": \"liver\",\n",
    "    \"sample_36_cerebrum\": \"cerebrum\",\n",
    "    \"sample_37_liver\": \"liver\",\n",
    "    \"sample_38_lung\": \"lung\",\n",
    "    \"sample_39_heart\": \"heart\",\n",
    "    \"sample_3_kidney\": \"kidney\",\n",
    "    \"sample_40_liver\": \"liver\",\n",
    "    \"sample_41_thymus\": \"thymus\",\n",
    "    \"sample_42_heart\": \"heart\",\n",
    "    \"sample_43_liver\": \"liver\",\n",
    "    \"sample_44_lung\": \"lung\",\n",
    "    \"sample_46_liver\": \"liver\",\n",
    "    \"sample_47_lung\": \"lung\",\n",
    "    \"sample_48_standard\": \"standard\",\n",
    "    \"sample_49_stomach\": \"stomach\",\n",
    "    \"sample_4_lung\": \"lung\",\n",
    "    \"sample_53_eye\": \"eye\",\n",
    "    \"sample_54_thymus\": \"thymus\",\n",
    "    \"sample_55_eye\": \"eye\",\n",
    "    \"sample_57_spleen\": \"spleen\",\n",
    "    \"sample_58_cerebellum\": \"cerebellum\",\n",
    "    \"sample_5_kidney\": \"kidney\",\n",
    "    \"sample_60_thymus\": \"thymus\",\n",
    "    \"sample_61_pancreas\": \"pancreas\",\n",
    "    \"sample_62_stomach\": \"stomach\",\n",
    "    \"sample_64_cerebrum\": \"cerebrum\",\n",
    "    \"sample_65_kidney\": \"kidney\",\n",
    "    \"sample_66_cerebrum\": \"cerebrum\",\n",
    "    \"sample_67_kidney\": \"kidney\",\n",
    "    \"sample_68_lung\": \"lung\",\n",
    "    \"sample_69_cerebrum\": \"cerebrum\",\n",
    "    \"sample_6_cerebrum\": \"cerebrum\",\n",
    "    \"sample_70_lung\": \"lung\",\n",
    "    \"sample_71_cerebrum\": \"cerebrum\",\n",
    "    \"sample_72_standard\": \"standard\",\n",
    "    \"sample_7_liver\": \"liver\",\n",
    "    \"sample_8_lung\": \"lung\",\n",
    "    \"sample_9_liver\": \"liver\",\n",
    "}\n",
    "barcode_records[\"tissue\"] = barcode_records[\"sample\"].map(sample_to_tissue)"
   ]
  },
  {
   "cell_type": "code",
   "execution_count": 52,
   "id": "11bd228c-d265-4ed8-89fd-4fed0f6365fc",
   "metadata": {
    "execution": {
     "iopub.execute_input": "2024-02-10T20:22:25.869478Z",
     "iopub.status.busy": "2024-02-10T20:22:25.869085Z",
     "iopub.status.idle": "2024-02-10T20:22:25.885087Z",
     "shell.execute_reply": "2024-02-10T20:22:25.884324Z",
     "shell.execute_reply.started": "2024-02-10T20:22:25.869450Z"
    }
   },
   "outputs": [
    {
     "data": {
      "text/html": [
       "<div>\n",
       "<style scoped>\n",
       "    .dataframe tbody tr th:only-of-type {\n",
       "        vertical-align: middle;\n",
       "    }\n",
       "\n",
       "    .dataframe tbody tr th {\n",
       "        vertical-align: top;\n",
       "    }\n",
       "\n",
       "    .dataframe thead th {\n",
       "        text-align: right;\n",
       "    }\n",
       "</style>\n",
       "<table border=\"1\" class=\"dataframe\">\n",
       "  <thead>\n",
       "    <tr style=\"text-align: right;\">\n",
       "      <th></th>\n",
       "      <th>sample</th>\n",
       "      <th>barcode</th>\n",
       "      <th>barcode_idx</th>\n",
       "      <th>zarr_path</th>\n",
       "      <th>logUMI</th>\n",
       "      <th>tsse</th>\n",
       "      <th>cell_type</th>\n",
       "      <th>life_stage</th>\n",
       "      <th>tissue</th>\n",
       "    </tr>\n",
       "  </thead>\n",
       "  <tbody>\n",
       "    <tr>\n",
       "      <th>0</th>\n",
       "      <td>CARE181125_3B_rep1</td>\n",
       "      <td>AACGAGAGCTAAAGCACTAGCG</td>\n",
       "      <td>0</td>\n",
       "      <td>/wmb/zarr/Zhang2021Cell.CutSites/CARE181125_3B...</td>\n",
       "      <td>3.458984</td>\n",
       "      <td>16.234375</td>\n",
       "      <td>Ventricular Cardiomyocyte</td>\n",
       "      <td>Adult</td>\n",
       "      <td>heart_rv</td>\n",
       "    </tr>\n",
       "    <tr>\n",
       "      <th>1</th>\n",
       "      <td>CARE181125_3B_rep1</td>\n",
       "      <td>AACGAGAGCTAACCACCTAAAG</td>\n",
       "      <td>6</td>\n",
       "      <td>/wmb/zarr/Zhang2021Cell.CutSites/CARE181125_3B...</td>\n",
       "      <td>3.255859</td>\n",
       "      <td>11.703125</td>\n",
       "      <td>Ventricular Cardiomyocyte</td>\n",
       "      <td>Adult</td>\n",
       "      <td>heart_rv</td>\n",
       "    </tr>\n",
       "    <tr>\n",
       "      <th>2</th>\n",
       "      <td>CARE181125_3B_rep1</td>\n",
       "      <td>AACGAGAGCTAACGAGCTGTGA</td>\n",
       "      <td>8</td>\n",
       "      <td>/wmb/zarr/Zhang2021Cell.CutSites/CARE181125_3B...</td>\n",
       "      <td>3.423828</td>\n",
       "      <td>10.906250</td>\n",
       "      <td>Cardiac Fibroblasts</td>\n",
       "      <td>Adult</td>\n",
       "      <td>heart_rv</td>\n",
       "    </tr>\n",
       "    <tr>\n",
       "      <th>3</th>\n",
       "      <td>CARE181125_3B_rep1</td>\n",
       "      <td>AACGAGAGCTAAGCTCAACGCA</td>\n",
       "      <td>13</td>\n",
       "      <td>/wmb/zarr/Zhang2021Cell.CutSites/CARE181125_3B...</td>\n",
       "      <td>3.623047</td>\n",
       "      <td>12.500000</td>\n",
       "      <td>Cardiac Fibroblasts</td>\n",
       "      <td>Adult</td>\n",
       "      <td>heart_rv</td>\n",
       "    </tr>\n",
       "    <tr>\n",
       "      <th>4</th>\n",
       "      <td>CARE181125_3B_rep1</td>\n",
       "      <td>AACGAGAGCTAAGTTGTGCTAC</td>\n",
       "      <td>14</td>\n",
       "      <td>/wmb/zarr/Zhang2021Cell.CutSites/CARE181125_3B...</td>\n",
       "      <td>3.429688</td>\n",
       "      <td>11.078125</td>\n",
       "      <td>Cardiac Fibroblasts</td>\n",
       "      <td>Adult</td>\n",
       "      <td>heart_rv</td>\n",
       "    </tr>\n",
       "    <tr>\n",
       "      <th>...</th>\n",
       "      <td>...</td>\n",
       "      <td>...</td>\n",
       "      <td>...</td>\n",
       "      <td>...</td>\n",
       "      <td>...</td>\n",
       "      <td>...</td>\n",
       "      <td>...</td>\n",
       "      <td>...</td>\n",
       "      <td>...</td>\n",
       "    </tr>\n",
       "    <tr>\n",
       "      <th>1323089</th>\n",
       "      <td>sample_9_liver</td>\n",
       "      <td>TTGGTTGGTATCATCAGCCATTGGCCAGGTGAGAAGACCA</td>\n",
       "      <td>1078995</td>\n",
       "      <td>/wmb/zarr/Domcke2020Science.CutSites/sample_9_...</td>\n",
       "      <td>4.062500</td>\n",
       "      <td>14.585938</td>\n",
       "      <td>Fetal Erythroblast 2</td>\n",
       "      <td>Fetal</td>\n",
       "      <td>liver</td>\n",
       "    </tr>\n",
       "    <tr>\n",
       "      <th>1323090</th>\n",
       "      <td>sample_9_liver</td>\n",
       "      <td>TTGGTTGGTATCTGACGAACGCCAAGGCAATGGCAAGTCA</td>\n",
       "      <td>1079290</td>\n",
       "      <td>/wmb/zarr/Domcke2020Science.CutSites/sample_9_...</td>\n",
       "      <td>3.923828</td>\n",
       "      <td>15.617188</td>\n",
       "      <td>Fetal Erythroblast 1</td>\n",
       "      <td>Fetal</td>\n",
       "      <td>liver</td>\n",
       "    </tr>\n",
       "    <tr>\n",
       "      <th>1323091</th>\n",
       "      <td>sample_9_liver</td>\n",
       "      <td>TTGGTTGGTATGACGCGACCTATTCCTTGCTTAATTCGTA</td>\n",
       "      <td>1079540</td>\n",
       "      <td>/wmb/zarr/Domcke2020Science.CutSites/sample_9_...</td>\n",
       "      <td>3.275391</td>\n",
       "      <td>21.265625</td>\n",
       "      <td>Fetal Erythroblast 2</td>\n",
       "      <td>Fetal</td>\n",
       "      <td>liver</td>\n",
       "    </tr>\n",
       "    <tr>\n",
       "      <th>1323092</th>\n",
       "      <td>sample_9_liver</td>\n",
       "      <td>TTGGTTGGTATGCGAATCGGATGAATACCATTACCTTGCA</td>\n",
       "      <td>1079883</td>\n",
       "      <td>/wmb/zarr/Domcke2020Science.CutSites/sample_9_...</td>\n",
       "      <td>3.753906</td>\n",
       "      <td>11.257812</td>\n",
       "      <td>Fetal Fibroblast (General) 3</td>\n",
       "      <td>Fetal</td>\n",
       "      <td>liver</td>\n",
       "    </tr>\n",
       "    <tr>\n",
       "      <th>1323093</th>\n",
       "      <td>sample_9_liver</td>\n",
       "      <td>TTGGTTGGTATGCTTAGCGAAACCTTCTCTTGACGCAGTC</td>\n",
       "      <td>1080113</td>\n",
       "      <td>/wmb/zarr/Domcke2020Science.CutSites/sample_9_...</td>\n",
       "      <td>3.748047</td>\n",
       "      <td>12.796875</td>\n",
       "      <td>Fetal Hepatoblast</td>\n",
       "      <td>Fetal</td>\n",
       "      <td>liver</td>\n",
       "    </tr>\n",
       "  </tbody>\n",
       "</table>\n",
       "<p>1323094 rows × 9 columns</p>\n",
       "</div>"
      ],
      "text/plain": [
       "                     sample                                   barcode  \\\n",
       "0        CARE181125_3B_rep1                    AACGAGAGCTAAAGCACTAGCG   \n",
       "1        CARE181125_3B_rep1                    AACGAGAGCTAACCACCTAAAG   \n",
       "2        CARE181125_3B_rep1                    AACGAGAGCTAACGAGCTGTGA   \n",
       "3        CARE181125_3B_rep1                    AACGAGAGCTAAGCTCAACGCA   \n",
       "4        CARE181125_3B_rep1                    AACGAGAGCTAAGTTGTGCTAC   \n",
       "...                     ...                                       ...   \n",
       "1323089      sample_9_liver  TTGGTTGGTATCATCAGCCATTGGCCAGGTGAGAAGACCA   \n",
       "1323090      sample_9_liver  TTGGTTGGTATCTGACGAACGCCAAGGCAATGGCAAGTCA   \n",
       "1323091      sample_9_liver  TTGGTTGGTATGACGCGACCTATTCCTTGCTTAATTCGTA   \n",
       "1323092      sample_9_liver  TTGGTTGGTATGCGAATCGGATGAATACCATTACCTTGCA   \n",
       "1323093      sample_9_liver  TTGGTTGGTATGCTTAGCGAAACCTTCTCTTGACGCAGTC   \n",
       "\n",
       "         barcode_idx                                          zarr_path  \\\n",
       "0                  0  /wmb/zarr/Zhang2021Cell.CutSites/CARE181125_3B...   \n",
       "1                  6  /wmb/zarr/Zhang2021Cell.CutSites/CARE181125_3B...   \n",
       "2                  8  /wmb/zarr/Zhang2021Cell.CutSites/CARE181125_3B...   \n",
       "3                 13  /wmb/zarr/Zhang2021Cell.CutSites/CARE181125_3B...   \n",
       "4                 14  /wmb/zarr/Zhang2021Cell.CutSites/CARE181125_3B...   \n",
       "...              ...                                                ...   \n",
       "1323089      1078995  /wmb/zarr/Domcke2020Science.CutSites/sample_9_...   \n",
       "1323090      1079290  /wmb/zarr/Domcke2020Science.CutSites/sample_9_...   \n",
       "1323091      1079540  /wmb/zarr/Domcke2020Science.CutSites/sample_9_...   \n",
       "1323092      1079883  /wmb/zarr/Domcke2020Science.CutSites/sample_9_...   \n",
       "1323093      1080113  /wmb/zarr/Domcke2020Science.CutSites/sample_9_...   \n",
       "\n",
       "           logUMI       tsse                     cell_type life_stage  \\\n",
       "0        3.458984  16.234375     Ventricular Cardiomyocyte      Adult   \n",
       "1        3.255859  11.703125     Ventricular Cardiomyocyte      Adult   \n",
       "2        3.423828  10.906250           Cardiac Fibroblasts      Adult   \n",
       "3        3.623047  12.500000           Cardiac Fibroblasts      Adult   \n",
       "4        3.429688  11.078125           Cardiac Fibroblasts      Adult   \n",
       "...           ...        ...                           ...        ...   \n",
       "1323089  4.062500  14.585938          Fetal Erythroblast 2      Fetal   \n",
       "1323090  3.923828  15.617188          Fetal Erythroblast 1      Fetal   \n",
       "1323091  3.275391  21.265625          Fetal Erythroblast 2      Fetal   \n",
       "1323092  3.753906  11.257812  Fetal Fibroblast (General) 3      Fetal   \n",
       "1323093  3.748047  12.796875             Fetal Hepatoblast      Fetal   \n",
       "\n",
       "           tissue  \n",
       "0        heart_rv  \n",
       "1        heart_rv  \n",
       "2        heart_rv  \n",
       "3        heart_rv  \n",
       "4        heart_rv  \n",
       "...           ...  \n",
       "1323089     liver  \n",
       "1323090     liver  \n",
       "1323091     liver  \n",
       "1323092     liver  \n",
       "1323093     liver  \n",
       "\n",
       "[1323094 rows x 9 columns]"
      ]
     },
     "execution_count": 52,
     "metadata": {},
     "output_type": "execute_result"
    }
   ],
   "source": [
    "barcode_records"
   ]
  },
  {
   "cell_type": "code",
   "execution_count": 53,
   "id": "b8976704-4220-43df-98f2-25167e0a1ea8",
   "metadata": {
    "execution": {
     "iopub.execute_input": "2024-02-10T20:22:42.476592Z",
     "iopub.status.busy": "2024-02-10T20:22:42.475916Z",
     "iopub.status.idle": "2024-02-10T20:22:44.207305Z",
     "shell.execute_reply": "2024-02-10T20:22:44.206379Z",
     "shell.execute_reply.started": "2024-02-10T20:22:42.476560Z"
    }
   },
   "outputs": [],
   "source": [
    "barcode_records.to_feather(\"/wmb/Zhang2021Cell/Zhang2021Cell.CellMetadata.feather\")"
   ]
  },
  {
   "cell_type": "code",
   "execution_count": null,
   "id": "317e536d-4744-4353-9076-300e4f4dddf5",
   "metadata": {},
   "outputs": [],
   "source": []
  },
  {
   "cell_type": "code",
   "execution_count": null,
   "id": "a8853610-14af-479f-a3ab-2ef2f6eaa43e",
   "metadata": {},
   "outputs": [],
   "source": []
  },
  {
   "cell_type": "code",
   "execution_count": null,
   "id": "619bb19c-165e-449a-9c63-2c43333e03d3",
   "metadata": {},
   "outputs": [],
   "source": []
  },
  {
   "cell_type": "code",
   "execution_count": null,
   "id": "608e2158-7bef-4266-8b5a-a3443b45fec7",
   "metadata": {},
   "outputs": [],
   "source": []
  },
  {
   "cell_type": "code",
   "execution_count": null,
   "id": "3dc71c56-2efc-44a8-a295-952050d69aa0",
   "metadata": {},
   "outputs": [],
   "source": []
  },
  {
   "cell_type": "code",
   "execution_count": null,
   "id": "b8d00d6b-8590-437c-943f-2442c2b6114f",
   "metadata": {},
   "outputs": [],
   "source": []
  }
 ],
 "metadata": {
  "kernelspec": {
   "display_name": "Python 3 (ipykernel)",
   "language": "python",
   "name": "python3"
  },
  "language_info": {
   "codemirror_mode": {
    "name": "ipython",
    "version": 3
   },
   "file_extension": ".py",
   "mimetype": "text/x-python",
   "name": "python",
   "nbconvert_exporter": "python",
   "pygments_lexer": "ipython3",
   "version": "3.10.12"
  }
 },
 "nbformat": 4,
 "nbformat_minor": 5
}
