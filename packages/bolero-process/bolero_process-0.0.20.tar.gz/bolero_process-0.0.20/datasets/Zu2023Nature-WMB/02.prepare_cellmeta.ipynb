{
 "cells": [
  {
   "cell_type": "code",
   "execution_count": 1,
   "id": "ccfd75a8-863a-4730-b905-aa253bcb1a2d",
   "metadata": {
    "execution": {
     "iopub.execute_input": "2024-02-07T03:13:38.242699Z",
     "iopub.status.busy": "2024-02-07T03:13:38.242434Z",
     "iopub.status.idle": "2024-02-07T03:13:39.015531Z",
     "shell.execute_reply": "2024-02-07T03:13:39.014650Z",
     "shell.execute_reply.started": "2024-02-07T03:13:38.242672Z"
    }
   },
   "outputs": [],
   "source": [
    "import pathlib\n",
    "\n",
    "import joblib\n",
    "import pandas as pd\n",
    "import xarray as xr\n",
    "from tqdm import tqdm"
   ]
  },
  {
   "cell_type": "markdown",
   "id": "da7d3b4a-b3ec-400a-bfed-ab4cd97f906f",
   "metadata": {},
   "source": [
    "## Barcode to idx in Cut Sites Zarr"
   ]
  },
  {
   "cell_type": "code",
   "execution_count": 2,
   "id": "4b63775f-ff53-42f1-8e27-4619a5b87c03",
   "metadata": {
    "execution": {
     "iopub.execute_input": "2024-02-07T03:13:39.017712Z",
     "iopub.status.busy": "2024-02-07T03:13:39.017207Z",
     "iopub.status.idle": "2024-02-07T03:14:40.706145Z",
     "shell.execute_reply": "2024-02-07T03:14:40.705248Z",
     "shell.execute_reply.started": "2024-02-07T03:13:39.017680Z"
    }
   },
   "outputs": [
    {
     "name": "stderr",
     "output_type": "stream",
     "text": [
      "100%|██████████| 234/234 [01:01<00:00,  3.84it/s]\n"
     ]
    }
   ],
   "source": [
    "zarr_paths = list(pathlib.Path(\"/wmb/zarr/Zu2023Nautre.CutSites/\").glob(\"*.zarr\"))\n",
    "\n",
    "records = []\n",
    "for zarr_path in tqdm(zarr_paths):\n",
    "    ds = xr.open_zarr(zarr_path)\n",
    "    barcode_map = ds[\"barcode_map\"].to_pandas().reset_index()\n",
    "    barcode_map.columns = [\"barcode\", \"barcode_idx\"]\n",
    "    barcode_map[\"zarr_path\"] = str(zarr_path)\n",
    "    records.append(barcode_map)\n",
    "barcode_records = pd.concat(records)\n",
    "barcode_records[\"barcode_idx\"] = barcode_records[\"barcode_idx\"].astype(\"uint32\")\n",
    "barcode_records[\"zarr_path\"] = barcode_records[\"zarr_path\"].astype(\"category\")\n",
    "barcode_records = barcode_records.set_index(\"barcode\")"
   ]
  },
  {
   "cell_type": "markdown",
   "id": "6483bbe9-ca90-44c8-80f5-3e316a905803",
   "metadata": {},
   "source": [
    "## Metadata"
   ]
  },
  {
   "cell_type": "code",
   "execution_count": 3,
   "id": "80928517-ad79-4d33-bd0f-99d0592b5742",
   "metadata": {
    "execution": {
     "iopub.execute_input": "2024-02-07T03:14:40.713902Z",
     "iopub.status.busy": "2024-02-07T03:14:40.713537Z",
     "iopub.status.idle": "2024-02-07T03:15:00.927714Z",
     "shell.execute_reply": "2024-02-07T03:15:00.926777Z",
     "shell.execute_reply.started": "2024-02-07T03:14:40.713874Z"
    }
   },
   "outputs": [],
   "source": [
    "# Download from catlas\n",
    "atac_meta = pd.read_csv(\n",
    "    \"meta/SI Table 2 Metadata table for all the 2.3 million nuclei in the snATAC-seq data.txt\", sep=\"\\t\"\n",
    ")\n",
    "meta = pd.read_hdf(\"meta/CEMBA.snATAC.Metadata.hdf\")\n",
    "\n",
    "for s, df in meta.groupby(\"Sample\"):\n",
    "    assert df[\"DissectionRegion\"].unique().size == 1\n",
    "sample_to_region = meta.set_index(\"Sample\")[\"DissectionRegion\"].to_dict()\n",
    "atac_meta[\"DissectionRegion\"] = atac_meta[\"Sample\"].map(sample_to_region)\n",
    "atac_meta[\"new_cell_id\"] = atac_meta[\"CellID\"].str.replace(\".\", \":\").str.replace(\"_\", \"-\")\n",
    "\n",
    "has_meta = barcode_records.index.isin(atac_meta[\"new_cell_id\"])\n",
    "assert (~has_meta).sum() == 0"
   ]
  },
  {
   "cell_type": "code",
   "execution_count": 7,
   "id": "de465fdd-2c1e-404c-83a4-4529db87f0da",
   "metadata": {
    "execution": {
     "iopub.execute_input": "2024-02-07T03:15:23.721514Z",
     "iopub.status.busy": "2024-02-07T03:15:23.720643Z",
     "iopub.status.idle": "2024-02-07T03:15:24.767716Z",
     "shell.execute_reply": "2024-02-07T03:15:24.766859Z",
     "shell.execute_reply.started": "2024-02-07T03:15:23.721465Z"
    }
   },
   "outputs": [],
   "source": [
    "zu_annot = atac_meta.set_index(\"new_cell_id\")[\"Subclass\"]"
   ]
  },
  {
   "cell_type": "code",
   "execution_count": 8,
   "id": "e46287ec-727e-4940-9d5a-f38805254a65",
   "metadata": {
    "execution": {
     "iopub.execute_input": "2024-02-07T03:15:26.821085Z",
     "iopub.status.busy": "2024-02-07T03:15:26.820401Z",
     "iopub.status.idle": "2024-02-07T03:15:32.062930Z",
     "shell.execute_reply": "2024-02-07T03:15:32.062056Z",
     "shell.execute_reply.started": "2024-02-07T03:15:26.821050Z"
    }
   },
   "outputs": [],
   "source": [
    "atac_meta = atac_meta.set_index(\"new_cell_id\")\n",
    "atac_meta = atac_meta[[\"Sample\", \"# of Fragments\", \"TSSe\", \"DissectionRegion\"]].copy()\n",
    "atac_meta[\"ZarrPath\"] = barcode_records[\"zarr_path\"]\n",
    "atac_meta[\"ZarrBarcodeIdx\"] = barcode_records[\"barcode_idx\"]\n",
    "atac_meta.index.name = \"cell\"\n",
    "assert atac_meta.isna().sum().sum() == 0"
   ]
  },
  {
   "cell_type": "code",
   "execution_count": 9,
   "id": "b8b4ef8b-76fc-4c7d-829b-0270a89ee8a9",
   "metadata": {
    "execution": {
     "iopub.execute_input": "2024-02-07T03:15:32.064863Z",
     "iopub.status.busy": "2024-02-07T03:15:32.064566Z",
     "iopub.status.idle": "2024-02-07T03:15:34.178760Z",
     "shell.execute_reply": "2024-02-07T03:15:34.177972Z",
     "shell.execute_reply.started": "2024-02-07T03:15:32.064835Z"
    }
   },
   "outputs": [],
   "source": [
    "atac_meta[\"Sample\"] = atac_meta[\"Sample\"].astype(str).astype(\"category\")\n",
    "atac_meta[\"DissectionRegion\"] = atac_meta[\"DissectionRegion\"].astype(str).astype(\"category\")\n",
    "atac_meta[\"ZarrPath\"] = atac_meta[\"ZarrPath\"].astype(str).astype(\"category\")\n",
    "\n",
    "atac_meta[\"# of Fragments\"] = atac_meta[\"# of Fragments\"].astype(\"uint32\")\n",
    "atac_meta[\"TSSe\"] = atac_meta[\"TSSe\"].astype(\"float32\")\n",
    "atac_meta[\"ZarrBarcodeIdx\"] = atac_meta[\"ZarrBarcodeIdx\"].astype(\"uint32\")"
   ]
  },
  {
   "cell_type": "code",
   "execution_count": 10,
   "id": "db88c18b-9115-43c3-b500-cd8cfd0d9b56",
   "metadata": {
    "execution": {
     "iopub.execute_input": "2024-02-07T03:15:34.180270Z",
     "iopub.status.busy": "2024-02-07T03:15:34.179965Z",
     "iopub.status.idle": "2024-02-07T03:15:34.186729Z",
     "shell.execute_reply": "2024-02-07T03:15:34.186064Z",
     "shell.execute_reply.started": "2024-02-07T03:15:34.180243Z"
    }
   },
   "outputs": [
    {
     "data": {
      "text/plain": [
       "56.19189643859863"
      ]
     },
     "execution_count": 10,
     "metadata": {},
     "output_type": "execute_result"
    }
   ],
   "source": [
    "(atac_meta.memory_usage() / 1024 / 1024).sum()"
   ]
  },
  {
   "cell_type": "code",
   "execution_count": 26,
   "id": "891df919-d620-463b-8d9b-bdae6330c724",
   "metadata": {
    "execution": {
     "iopub.execute_input": "2024-02-07T03:26:27.628883Z",
     "iopub.status.busy": "2024-02-07T03:26:27.628332Z",
     "iopub.status.idle": "2024-02-07T03:26:29.141012Z",
     "shell.execute_reply": "2024-02-07T03:26:29.140201Z",
     "shell.execute_reply.started": "2024-02-07T03:26:27.628854Z"
    }
   },
   "outputs": [],
   "source": [
    "atac_meta.reset_index().to_feather(\"/wmb/Zu2023Nature/Zu2023Nature.CellMetadata.feather\")"
   ]
  },
  {
   "cell_type": "markdown",
   "id": "df442ecc-70dc-4a48-8add-9a4eed3ad9b3",
   "metadata": {},
   "source": [
    "## ATAC to mC Map"
   ]
  },
  {
   "cell_type": "code",
   "execution_count": 11,
   "id": "b4adb61a-cfff-4b45-a38d-24596cce688d",
   "metadata": {
    "execution": {
     "iopub.execute_input": "2024-02-07T03:15:34.188270Z",
     "iopub.status.busy": "2024-02-07T03:15:34.188020Z",
     "iopub.status.idle": "2024-02-07T03:15:53.061910Z",
     "shell.execute_reply": "2024-02-07T03:15:53.061054Z",
     "shell.execute_reply.started": "2024-02-07T03:15:34.188245Z"
    }
   },
   "outputs": [],
   "source": [
    "atac_to_mc = joblib.load(\"atac_cell_to_mc_clusters.dict\")"
   ]
  },
  {
   "cell_type": "code",
   "execution_count": 12,
   "id": "6bcd6563-e1b8-48ce-a67a-ecdfbb5461b5",
   "metadata": {
    "execution": {
     "iopub.execute_input": "2024-02-07T03:15:53.063362Z",
     "iopub.status.busy": "2024-02-07T03:15:53.063002Z",
     "iopub.status.idle": "2024-02-07T03:15:55.358372Z",
     "shell.execute_reply": "2024-02-07T03:15:55.357552Z",
     "shell.execute_reply.started": "2024-02-07T03:15:53.063334Z"
    }
   },
   "outputs": [],
   "source": [
    "new_atac_to_mc = {}\n",
    "for c, v in atac_to_mc.items():\n",
    "    *sample, barcode = c.split(\"_\")\n",
    "    nc = f'{\"-\".join(sample)}:{barcode}'\n",
    "    new_atac_to_mc[nc] = v"
   ]
  },
  {
   "cell_type": "code",
   "execution_count": 25,
   "id": "fbfef1ac-9456-4904-8842-268b26e64574",
   "metadata": {
    "execution": {
     "iopub.execute_input": "2024-02-07T03:25:55.172860Z",
     "iopub.status.busy": "2024-02-07T03:25:55.171943Z",
     "iopub.status.idle": "2024-02-07T03:26:27.626993Z",
     "shell.execute_reply": "2024-02-07T03:26:27.626105Z",
     "shell.execute_reply.started": "2024-02-07T03:25:55.172823Z"
    }
   },
   "outputs": [
    {
     "data": {
      "text/plain": [
       "['/wmb/Zu2023Nature/atac_cell_to_mc_clusters.new.dict']"
      ]
     },
     "execution_count": 25,
     "metadata": {},
     "output_type": "execute_result"
    }
   ],
   "source": [
    "joblib.dump(new_atac_to_mc, \"/wmb/Zu2023Nature/atac_cell_to_mc_clusters.dict\", compress=1)"
   ]
  },
  {
   "cell_type": "code",
   "execution_count": 13,
   "id": "db1ca72b-f14a-40da-bdce-d14d7b65969e",
   "metadata": {
    "execution": {
     "iopub.execute_input": "2024-02-07T03:15:55.360321Z",
     "iopub.status.busy": "2024-02-07T03:15:55.360031Z",
     "iopub.status.idle": "2024-02-07T03:15:55.504106Z",
     "shell.execute_reply": "2024-02-07T03:15:55.503319Z",
     "shell.execute_reply.started": "2024-02-07T03:15:55.360294Z"
    }
   },
   "outputs": [],
   "source": [
    "has_mc = pd.Index(new_atac_to_mc.keys())"
   ]
  },
  {
   "cell_type": "code",
   "execution_count": 14,
   "id": "e4670d47-753b-4b5d-a17a-fe7c72c1af7c",
   "metadata": {
    "execution": {
     "iopub.execute_input": "2024-02-07T03:15:55.505494Z",
     "iopub.status.busy": "2024-02-07T03:15:55.505124Z",
     "iopub.status.idle": "2024-02-07T03:15:56.829151Z",
     "shell.execute_reply": "2024-02-07T03:15:56.828187Z",
     "shell.execute_reply.started": "2024-02-07T03:15:55.505459Z"
    }
   },
   "outputs": [
    {
     "data": {
      "text/plain": [
       "1972156"
      ]
     },
     "execution_count": 14,
     "metadata": {},
     "output_type": "execute_result"
    }
   ],
   "source": [
    "atac_meta.index.isin(has_mc).sum()"
   ]
  },
  {
   "cell_type": "code",
   "execution_count": 15,
   "id": "b3eaf9e8-3634-496b-9d7e-3ea95550ef3d",
   "metadata": {
    "execution": {
     "iopub.execute_input": "2024-02-07T03:15:56.830646Z",
     "iopub.status.busy": "2024-02-07T03:15:56.830268Z",
     "iopub.status.idle": "2024-02-07T03:15:56.835358Z",
     "shell.execute_reply": "2024-02-07T03:15:56.834638Z",
     "shell.execute_reply.started": "2024-02-07T03:15:56.830616Z"
    }
   },
   "outputs": [
    {
     "data": {
      "text/plain": [
       "2065820"
      ]
     },
     "execution_count": 15,
     "metadata": {},
     "output_type": "execute_result"
    }
   ],
   "source": [
    "has_mc.size"
   ]
  },
  {
   "cell_type": "code",
   "execution_count": 16,
   "id": "9775ee08-0cb2-4303-b317-e85574050bbc",
   "metadata": {
    "execution": {
     "iopub.execute_input": "2024-02-07T03:15:56.836493Z",
     "iopub.status.busy": "2024-02-07T03:15:56.836226Z",
     "iopub.status.idle": "2024-02-07T03:15:58.215266Z",
     "shell.execute_reply": "2024-02-07T03:15:58.214418Z",
     "shell.execute_reply.started": "2024-02-07T03:15:56.836459Z"
    }
   },
   "outputs": [],
   "source": [
    "no_mc = atac_meta[~atac_meta.index.isin(has_mc)].index"
   ]
  },
  {
   "cell_type": "code",
   "execution_count": 22,
   "id": "d25eb767-60d7-4e9d-a904-95b4f89d0d53",
   "metadata": {
    "execution": {
     "iopub.execute_input": "2024-02-07T03:20:15.128563Z",
     "iopub.status.busy": "2024-02-07T03:20:15.127769Z",
     "iopub.status.idle": "2024-02-07T03:20:15.134175Z",
     "shell.execute_reply": "2024-02-07T03:20:15.133360Z",
     "shell.execute_reply.started": "2024-02-07T03:20:15.128516Z"
    }
   },
   "outputs": [
    {
     "data": {
      "text/plain": [
       "Index(['CEMBA171206-3C:AGCGATAGACTGAGCGGTAAGGAGCCTATCCT',\n",
       "       'CEMBA171206-3C:ATTACTCGGAACGGTAAATGACGTGTACTGAC',\n",
       "       'CEMBA171206-3C:ATTCAGAAAACCAGGTAGGATAACAGGCGAAG',\n",
       "       'CEMBA171206-3C:ATTCAGAACAGAACTGATAGCCTTCCTATCCT',\n",
       "       'CEMBA171206-3C:CGCTCATTAACCAGGTCGAATTCCTAATCTTA',\n",
       "       'CEMBA171206-3C:CGCTCATTAACCAGGTTTGGAAGTATAGAGGC',\n",
       "       'CEMBA171206-3C:CGCTCATTCAAGTTCAATAGCCTTCCTATCCT',\n",
       "       'CEMBA171206-3C:CGCTCATTCGAGGCTGTTATGCGAGTACTGAC',\n",
       "       'CEMBA171206-3C:CGCTCATTGCCTCAATTTACGACCGTACTGAC',\n",
       "       'CEMBA171206-3C:CGCTCATTTATGGTCGTTACGACCATAGAGGC',\n",
       "       ...\n",
       "       'CEMBA191031-11D:CAGAAGACTATGTCAGGAACAC',\n",
       "       'CEMBA191031-11D:CTTCTGATGACGCCCTGCTATA',\n",
       "       'CEMBA191031-11D:GCATAACCTACTCCGATATGAC',\n",
       "       'CEMBA191031-11D:GCCAACGATTGTGTCATGAAAG',\n",
       "       'CEMBA191031-11D:GGAACACTAGTCCACACCTCCA',\n",
       "       'CEMBA191031-11D:TATACTCCGCTCGACCAGATCT',\n",
       "       'CEMBA191031-11D:TCTATTCCTGATGTGCATCTGG',\n",
       "       'CEMBA191031-11D:TGTACAGCGAACGCATAGGCAC',\n",
       "       'CEMBA191031-11D:TTAGTCGGCGGCGTTATTGTGC',\n",
       "       'CEMBA191031-11D:TTGCCTGAACGGCCATCCACAA'],\n",
       "      dtype='object', name='cell', length=383686)"
      ]
     },
     "execution_count": 22,
     "metadata": {},
     "output_type": "execute_result"
    }
   ],
   "source": [
    "no_mc"
   ]
  },
  {
   "cell_type": "code",
   "execution_count": null,
   "id": "1eac8e17-c7fd-4166-9dde-d1284f5459cf",
   "metadata": {},
   "outputs": [],
   "source": []
  },
  {
   "cell_type": "code",
   "execution_count": null,
   "id": "91354ad7-48e8-4f88-bc10-303f4e267869",
   "metadata": {},
   "outputs": [],
   "source": []
  },
  {
   "cell_type": "code",
   "execution_count": null,
   "id": "6205e40b-f60a-4a52-bf90-c9ed588879e1",
   "metadata": {},
   "outputs": [],
   "source": []
  },
  {
   "cell_type": "code",
   "execution_count": null,
   "id": "d82283ad-b7a7-4735-af38-136d80773dd4",
   "metadata": {},
   "outputs": [],
   "source": []
  },
  {
   "cell_type": "code",
   "execution_count": null,
   "id": "92db05f0-8276-4c8d-8f26-7843380b7c2c",
   "metadata": {},
   "outputs": [],
   "source": []
  },
  {
   "cell_type": "code",
   "execution_count": null,
   "id": "8d37e180-eca4-4cd8-aa0d-dc146f042519",
   "metadata": {},
   "outputs": [],
   "source": []
  },
  {
   "cell_type": "code",
   "execution_count": null,
   "id": "4f30c998-3155-4d27-9e5e-142cd938238e",
   "metadata": {},
   "outputs": [],
   "source": []
  },
  {
   "cell_type": "code",
   "execution_count": null,
   "id": "07f61b9d-890c-44f6-a164-318e3572c7cb",
   "metadata": {},
   "outputs": [],
   "source": []
  }
 ],
 "metadata": {
  "kernelspec": {
   "display_name": "Python 3 (ipykernel)",
   "language": "python",
   "name": "python3"
  },
  "language_info": {
   "codemirror_mode": {
    "name": "ipython",
    "version": 3
   },
   "file_extension": ".py",
   "mimetype": "text/x-python",
   "name": "python",
   "nbconvert_exporter": "python",
   "pygments_lexer": "ipython3",
   "version": "3.10.12"
  }
 },
 "nbformat": 4,
 "nbformat_minor": 5
}
