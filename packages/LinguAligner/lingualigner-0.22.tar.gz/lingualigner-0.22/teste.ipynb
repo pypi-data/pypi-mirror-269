{
 "cells": [
  {
   "cell_type": "code",
   "execution_count": 1,
   "metadata": {},
   "outputs": [
    {
     "name": "stderr",
     "output_type": "stream",
     "text": [
      "c:\\Users\\Filip\\AppData\\Local\\Programs\\Python\\Python39\\lib\\site-packages\\tqdm\\auto.py:22: TqdmWarning: IProgress not found. Please update jupyter and ipywidgets. See https://ipywidgets.readthedocs.io/en/stable/user_install.html\n",
      "  from .autonotebook import tqdm as notebook_tqdm\n"
     ]
    }
   ],
   "source": [
    "import LinguAligner"
   ]
  },
  {
   "cell_type": "code",
   "execution_count": 2,
   "metadata": {},
   "outputs": [
    {
     "name": "stdout",
     "output_type": "stream",
     "text": [
      "Help on package LinguAligner:\n",
      "\n",
      "NAME\n",
      "    LinguAligner - LinguAligner is a Python library for aligning annotations in parallel corpora. It is designed to be used in the context of parallel corpora annotation alignment, where the goal is to align annotations in the source language with annotations in the target language.\n",
      "\n",
      "PACKAGE CONTENTS\n",
      "    aligners\n",
      "    multiple_translations\n",
      "    translation\n",
      "    utils\n",
      "\n",
      "CLASSES\n",
      "    builtins.object\n",
      "        AlignmentPipeline\n",
      "    \n",
      "    class AlignmentPipeline(builtins.object)\n",
      "     |  AlignmentPipeline(config)\n",
      "     |  \n",
      "     |  Methods defined here:\n",
      "     |  \n",
      "     |  __init__(self, config)\n",
      "     |      Initialize self.  See help(type(self)) for accurate signature.\n",
      "     |  \n",
      "     |  align_annotation(self, src_sent, src_ann, tgt_sent, trans_ann, lookupTable=None)\n",
      "     |  \n",
      "     |  ----------------------------------------------------------------------\n",
      "     |  Data descriptors defined here:\n",
      "     |  \n",
      "     |  __dict__\n",
      "     |      dictionary for instance variables (if defined)\n",
      "     |  \n",
      "     |  __weakref__\n",
      "     |      list of weak references to the object (if defined)\n",
      "\n",
      "VERSION\n",
      "    0.21\n",
      "\n",
      "FILE\n",
      "    e:\\onedrive - universidade do minho\\doutormaneto\\alignment\\lingualigner\\lingualigner\\__init__.py\n",
      "\n",
      "\n"
     ]
    }
   ],
   "source": [
    "help(LinguAligner)"
   ]
  },
  {
   "cell_type": "code",
   "execution_count": 7,
   "metadata": {},
   "outputs": [
    {
     "name": "stdout",
     "output_type": "stream",
     "text": [
      "Collecting pt-core-news-lg==3.7.0\n",
      "  Downloading https://github.com/explosion/spacy-models/releases/download/pt_core_news_lg-3.7.0/pt_core_news_lg-3.7.0-py3-none-any.whl (568.2 MB)\n",
      "     -------------------------------------- 568.2/568.2 MB 1.7 MB/s eta 0:00:00\n",
      "Requirement already satisfied: spacy<3.8.0,>=3.7.0 in e:\\onedrive - universidade do minho\\doutormaneto\\alignment\\lingu_test\\env\\lib\\site-packages (from pt-core-news-lg==3.7.0) (3.7.4)\n",
      "Requirement already satisfied: numpy>=1.19.0 in e:\\onedrive - universidade do minho\\doutormaneto\\alignment\\lingu_test\\env\\lib\\site-packages (from spacy<3.8.0,>=3.7.0->pt-core-news-lg==3.7.0) (1.26.4)\n",
      "Requirement already satisfied: packaging>=20.0 in e:\\onedrive - universidade do minho\\doutormaneto\\alignment\\lingu_test\\env\\lib\\site-packages (from spacy<3.8.0,>=3.7.0->pt-core-news-lg==3.7.0) (24.0)\n",
      "Requirement already satisfied: spacy-legacy<3.1.0,>=3.0.11 in e:\\onedrive - universidade do minho\\doutormaneto\\alignment\\lingu_test\\env\\lib\\site-packages (from spacy<3.8.0,>=3.7.0->pt-core-news-lg==3.7.0) (3.0.12)\n",
      "Requirement already satisfied: weasel<0.4.0,>=0.1.0 in e:\\onedrive - universidade do minho\\doutormaneto\\alignment\\lingu_test\\env\\lib\\site-packages (from spacy<3.8.0,>=3.7.0->pt-core-news-lg==3.7.0) (0.3.4)\n",
      "Requirement already satisfied: setuptools in e:\\onedrive - universidade do minho\\doutormaneto\\alignment\\lingu_test\\env\\lib\\site-packages (from spacy<3.8.0,>=3.7.0->pt-core-news-lg==3.7.0) (58.1.0)\n",
      "Requirement already satisfied: jinja2 in e:\\onedrive - universidade do minho\\doutormaneto\\alignment\\lingu_test\\env\\lib\\site-packages (from spacy<3.8.0,>=3.7.0->pt-core-news-lg==3.7.0) (3.1.3)\n",
      "Requirement already satisfied: thinc<8.3.0,>=8.2.2 in e:\\onedrive - universidade do minho\\doutormaneto\\alignment\\lingu_test\\env\\lib\\site-packages (from spacy<3.8.0,>=3.7.0->pt-core-news-lg==3.7.0) (8.2.3)\n",
      "Requirement already satisfied: smart-open<7.0.0,>=5.2.1 in e:\\onedrive - universidade do minho\\doutormaneto\\alignment\\lingu_test\\env\\lib\\site-packages (from spacy<3.8.0,>=3.7.0->pt-core-news-lg==3.7.0) (6.4.0)\n",
      "Requirement already satisfied: wasabi<1.2.0,>=0.9.1 in e:\\onedrive - universidade do minho\\doutormaneto\\alignment\\lingu_test\\env\\lib\\site-packages (from spacy<3.8.0,>=3.7.0->pt-core-news-lg==3.7.0) (1.1.2)\n",
      "Requirement already satisfied: preshed<3.1.0,>=3.0.2 in e:\\onedrive - universidade do minho\\doutormaneto\\alignment\\lingu_test\\env\\lib\\site-packages (from spacy<3.8.0,>=3.7.0->pt-core-news-lg==3.7.0) (3.0.9)\n",
      "Requirement already satisfied: typer<0.10.0,>=0.3.0 in e:\\onedrive - universidade do minho\\doutormaneto\\alignment\\lingu_test\\env\\lib\\site-packages (from spacy<3.8.0,>=3.7.0->pt-core-news-lg==3.7.0) (0.9.4)\n",
      "Requirement already satisfied: requests<3.0.0,>=2.13.0 in e:\\onedrive - universidade do minho\\doutormaneto\\alignment\\lingu_test\\env\\lib\\site-packages (from spacy<3.8.0,>=3.7.0->pt-core-news-lg==3.7.0) (2.31.0)\n",
      "Requirement already satisfied: langcodes<4.0.0,>=3.2.0 in e:\\onedrive - universidade do minho\\doutormaneto\\alignment\\lingu_test\\env\\lib\\site-packages (from spacy<3.8.0,>=3.7.0->pt-core-news-lg==3.7.0) (3.4.0)\n",
      "Requirement already satisfied: srsly<3.0.0,>=2.4.3 in e:\\onedrive - universidade do minho\\doutormaneto\\alignment\\lingu_test\\env\\lib\\site-packages (from spacy<3.8.0,>=3.7.0->pt-core-news-lg==3.7.0) (2.4.8)\n",
      "Requirement already satisfied: pydantic!=1.8,!=1.8.1,<3.0.0,>=1.7.4 in e:\\onedrive - universidade do minho\\doutormaneto\\alignment\\lingu_test\\env\\lib\\site-packages (from spacy<3.8.0,>=3.7.0->pt-core-news-lg==3.7.0) (2.7.1)\n",
      "Requirement already satisfied: catalogue<2.1.0,>=2.0.6 in e:\\onedrive - universidade do minho\\doutormaneto\\alignment\\lingu_test\\env\\lib\\site-packages (from spacy<3.8.0,>=3.7.0->pt-core-news-lg==3.7.0) (2.0.10)\n",
      "Requirement already satisfied: cymem<2.1.0,>=2.0.2 in e:\\onedrive - universidade do minho\\doutormaneto\\alignment\\lingu_test\\env\\lib\\site-packages (from spacy<3.8.0,>=3.7.0->pt-core-news-lg==3.7.0) (2.0.8)\n",
      "Requirement already satisfied: murmurhash<1.1.0,>=0.28.0 in e:\\onedrive - universidade do minho\\doutormaneto\\alignment\\lingu_test\\env\\lib\\site-packages (from spacy<3.8.0,>=3.7.0->pt-core-news-lg==3.7.0) (1.0.10)\n",
      "Requirement already satisfied: tqdm<5.0.0,>=4.38.0 in e:\\onedrive - universidade do minho\\doutormaneto\\alignment\\lingu_test\\env\\lib\\site-packages (from spacy<3.8.0,>=3.7.0->pt-core-news-lg==3.7.0) (4.66.2)\n",
      "Requirement already satisfied: spacy-loggers<2.0.0,>=1.0.0 in e:\\onedrive - universidade do minho\\doutormaneto\\alignment\\lingu_test\\env\\lib\\site-packages (from spacy<3.8.0,>=3.7.0->pt-core-news-lg==3.7.0) (1.0.5)\n",
      "Requirement already satisfied: language-data>=1.2 in e:\\onedrive - universidade do minho\\doutormaneto\\alignment\\lingu_test\\env\\lib\\site-packages (from langcodes<4.0.0,>=3.2.0->spacy<3.8.0,>=3.7.0->pt-core-news-lg==3.7.0) (1.2.0)\n",
      "Requirement already satisfied: pydantic-core==2.18.2 in e:\\onedrive - universidade do minho\\doutormaneto\\alignment\\lingu_test\\env\\lib\\site-packages (from pydantic!=1.8,!=1.8.1,<3.0.0,>=1.7.4->spacy<3.8.0,>=3.7.0->pt-core-news-lg==3.7.0) (2.18.2)\n",
      "Requirement already satisfied: typing-extensions>=4.6.1 in e:\\onedrive - universidade do minho\\doutormaneto\\alignment\\lingu_test\\env\\lib\\site-packages (from pydantic!=1.8,!=1.8.1,<3.0.0,>=1.7.4->spacy<3.8.0,>=3.7.0->pt-core-news-lg==3.7.0) (4.11.0)\n",
      "Requirement already satisfied: annotated-types>=0.4.0 in e:\\onedrive - universidade do minho\\doutormaneto\\alignment\\lingu_test\\env\\lib\\site-packages (from pydantic!=1.8,!=1.8.1,<3.0.0,>=1.7.4->spacy<3.8.0,>=3.7.0->pt-core-news-lg==3.7.0) (0.6.0)\n",
      "Requirement already satisfied: urllib3<3,>=1.21.1 in e:\\onedrive - universidade do minho\\doutormaneto\\alignment\\lingu_test\\env\\lib\\site-packages (from requests<3.0.0,>=2.13.0->spacy<3.8.0,>=3.7.0->pt-core-news-lg==3.7.0) (2.2.1)\n",
      "Requirement already satisfied: idna<4,>=2.5 in e:\\onedrive - universidade do minho\\doutormaneto\\alignment\\lingu_test\\env\\lib\\site-packages (from requests<3.0.0,>=2.13.0->spacy<3.8.0,>=3.7.0->pt-core-news-lg==3.7.0) (3.7)\n",
      "Requirement already satisfied: charset-normalizer<4,>=2 in e:\\onedrive - universidade do minho\\doutormaneto\\alignment\\lingu_test\\env\\lib\\site-packages (from requests<3.0.0,>=2.13.0->spacy<3.8.0,>=3.7.0->pt-core-news-lg==3.7.0) (3.3.2)\n",
      "Requirement already satisfied: certifi>=2017.4.17 in e:\\onedrive - universidade do minho\\doutormaneto\\alignment\\lingu_test\\env\\lib\\site-packages (from requests<3.0.0,>=2.13.0->spacy<3.8.0,>=3.7.0->pt-core-news-lg==3.7.0) (2024.2.2)\n",
      "Requirement already satisfied: confection<1.0.0,>=0.0.1 in e:\\onedrive - universidade do minho\\doutormaneto\\alignment\\lingu_test\\env\\lib\\site-packages (from thinc<8.3.0,>=8.2.2->spacy<3.8.0,>=3.7.0->pt-core-news-lg==3.7.0) (0.1.4)\n",
      "Requirement already satisfied: blis<0.8.0,>=0.7.8 in e:\\onedrive - universidade do minho\\doutormaneto\\alignment\\lingu_test\\env\\lib\\site-packages (from thinc<8.3.0,>=8.2.2->spacy<3.8.0,>=3.7.0->pt-core-news-lg==3.7.0) (0.7.11)\n",
      "Requirement already satisfied: colorama in e:\\onedrive - universidade do minho\\doutormaneto\\alignment\\lingu_test\\env\\lib\\site-packages (from tqdm<5.0.0,>=4.38.0->spacy<3.8.0,>=3.7.0->pt-core-news-lg==3.7.0) (0.4.6)\n",
      "Requirement already satisfied: click<9.0.0,>=7.1.1 in e:\\onedrive - universidade do minho\\doutormaneto\\alignment\\lingu_test\\env\\lib\\site-packages (from typer<0.10.0,>=0.3.0->spacy<3.8.0,>=3.7.0->pt-core-news-lg==3.7.0) (8.1.7)\n",
      "Requirement already satisfied: cloudpathlib<0.17.0,>=0.7.0 in e:\\onedrive - universidade do minho\\doutormaneto\\alignment\\lingu_test\\env\\lib\\site-packages (from weasel<0.4.0,>=0.1.0->spacy<3.8.0,>=3.7.0->pt-core-news-lg==3.7.0) (0.16.0)\n",
      "Requirement already satisfied: MarkupSafe>=2.0 in e:\\onedrive - universidade do minho\\doutormaneto\\alignment\\lingu_test\\env\\lib\\site-packages (from jinja2->spacy<3.8.0,>=3.7.0->pt-core-news-lg==3.7.0) (2.1.5)\n",
      "Requirement already satisfied: marisa-trie>=0.7.7 in e:\\onedrive - universidade do minho\\doutormaneto\\alignment\\lingu_test\\env\\lib\\site-packages (from language-data>=1.2->langcodes<4.0.0,>=3.2.0->spacy<3.8.0,>=3.7.0->pt-core-news-lg==3.7.0) (1.1.0)\n",
      "Installing collected packages: pt-core-news-lg\n",
      "Successfully installed pt-core-news-lg-3.7.0\n",
      "\u001b[38;5;2m✔ Download and installation successful\u001b[0m\n",
      "You can now load the package via spacy.load('pt_core_news_lg')\n"
     ]
    },
    {
     "name": "stderr",
     "output_type": "stream",
     "text": [
      "WARNING: You are using pip version 22.0.4; however, version 24.0 is available.\n",
      "You should consider upgrading via the 'e:\\OneDrive - Universidade do Minho\\Doutormaneto\\alignment\\Lingu_test\\env\\Scripts\\python.exe -m pip install --upgrade pip' command.\n"
     ]
    }
   ],
   "source": [
    "!python -m spacy download pt_core_news_lg"
   ]
  },
  {
   "cell_type": "code",
   "execution_count": 2,
   "metadata": {},
   "outputs": [
    {
     "ename": "AttributeError",
     "evalue": "module 'LinguAligner' has no attribute 'Pipeline'",
     "output_type": "error",
     "traceback": [
      "\u001b[1;31m---------------------------------------------------------------------------\u001b[0m",
      "\u001b[1;31mAttributeError\u001b[0m                            Traceback (most recent call last)",
      "Cell \u001b[1;32mIn[2], line 14\u001b[0m\n\u001b[0;32m      9\u001b[0m key \u001b[38;5;241m=\u001b[39m \u001b[38;5;124m\"\u001b[39m\u001b[38;5;124mf6d44239a73046ca8378bcdc689b395c\u001b[39m\u001b[38;5;124m\"\u001b[39m\n\u001b[0;32m     11\u001b[0m lista \u001b[38;5;241m=\u001b[39m [\u001b[38;5;124m\"\u001b[39m\u001b[38;5;124mwar\u001b[39m\u001b[38;5;124m\"\u001b[39m,\u001b[38;5;124m\"\u001b[39m\u001b[38;5;124mland\u001b[39m\u001b[38;5;124m\"\u001b[39m,\u001b[38;5;124m\"\u001b[39m\u001b[38;5;124mfire\u001b[39m\u001b[38;5;124m\"\u001b[39m]\n\u001b[1;32m---> 14\u001b[0m pipeline_ \u001b[38;5;241m=\u001b[39m \u001b[43mLinguAligner\u001b[49m\u001b[38;5;241;43m.\u001b[39;49m\u001b[43mPipeline\u001b[49m(config)\n",
      "\u001b[1;31mAttributeError\u001b[0m: module 'LinguAligner' has no attribute 'Pipeline'"
     ]
    }
   ],
   "source": [
    "import LinguAligner\n",
    "\n",
    "config= {\n",
    "    \"spacy_model\": \"pt_core_news_lg\",\n",
    "    \"pipeline\": [ \"lemma\", \"external_resource\", \"word_aligner\",\"gestalt\",\"leveinstein\"],\n",
    "    \"WAligner_model\": \"bert-base-multilingual-uncased\",\n",
    "}\n",
    "\n",
    "key = \"f6d44239a73046ca8378bcdc689b395c\"\n",
    "\n",
    "lista = [\"war\",\"land\",\"fire\"]\n",
    "\n",
    "\n",
    "pipeline_ = LinguAligner.Pipeline(config)\n"
   ]
  },
  {
   "cell_type": "code",
   "execution_count": 2,
   "metadata": {},
   "outputs": [
    {
     "name": "stdout",
     "output_type": "stream",
     "text": [
      "Loading spacy model: pt_core_news_lg\n",
      "Model loaded\n",
      "Loading WAligner model: bert-base-multilingual-uncased\n",
      "Model loaded\n",
      "Lookup table not provided for M_Trans method. (skipped)\n",
      "disparar\n"
     ]
    }
   ],
   "source": [
    "from LinguAligner import AlignmentPipeline\n",
    "\n",
    "\"\"\"\n",
    "(By default, the first method used is string matching. If unsuccessful, the alignment pipeline is employed.)\n",
    "Methods:\n",
    "- lemma: Lemmatization\n",
    "- M_Trans: Multiple Translations of a word\n",
    "- word_aligner: mBERT-based word aligner\n",
    "- gestalt: Gestalt pattern matching (character-based)\n",
    "- levenshtein: Levenshtein distance (character-based)\n",
    "\"\"\"\n",
    "\n",
    "config= {\n",
    "    \"pipeline\": [ \"lemma\", \"M_Trans\", \"word_aligner\",\"gestalt\",\"leveinstein\"], # can be changed according to the desired pipeline\n",
    "    \"spacy_model\": \"pt_core_news_lg\", # change according to the language\n",
    "    \"WAligner_model\": \"bert-base-multilingual-uncased\", # needed for word_aligner\n",
    "}\n",
    "\n",
    "\n",
    "aligner = AlignmentPipeline(config)\n",
    "x = aligner.align_annotation(\"The soldiers were ordered to fire their weapons\",\"fire\", \"Os soldados receberam ordens para disparar as suas armas\",\"incêndio\")\n",
    "print(x)"
   ]
  },
  {
   "cell_type": "code",
   "execution_count": 4,
   "metadata": {},
   "outputs": [
    {
     "name": "stdout",
     "output_type": "stream",
     "text": [
      "Lookup table not provided for M_Trans method. (skipped)\n",
      "disparar\n"
     ]
    }
   ],
   "source": [
    "x = aligner.align_annotation(\"The soldiers were ordered to fire their weapons\",\"fire\", \"Os soldados receberam ordens para disparar as suas armas\",\"incêndio\")\n",
    "print(x)"
   ]
  },
  {
   "cell_type": "code",
   "execution_count": 5,
   "metadata": {},
   "outputs": [
    {
     "data": {
      "text/plain": [
       "{'war': ['guerra'],\n",
       " 'land': ['terra',\n",
       "  'terreno',\n",
       "  'aterrar',\n",
       "  'pousar',\n",
       "  'aterra',\n",
       "  'solo',\n",
       "  'território'],\n",
       " 'fire': ['fogo',\n",
       "  'incêndio',\n",
       "  'demitir',\n",
       "  'despedir',\n",
       "  'fogueira',\n",
       "  'disparar',\n",
       "  'chamas',\n",
       "  'dispare',\n",
       "  'lareira',\n",
       "  'atirar',\n",
       "  'atire']}"
      ]
     },
     "execution_count": 5,
     "metadata": {},
     "output_type": "execute_result"
    }
   ],
   "source": [
    "from LinguAligner import translation\n",
    "translator = translation.MicrosoftTranslator(source_lang=\"en\", target_lang=\"pt\", auth_key=\"f6d44239a73046ca8378bcdc689b395c\")\n",
    "lookupTable = {}\n",
    "annotations_list = [\"war\",\"land\",\"fire\"]\n",
    "for word in annotations_list:\n",
    "    lookupTable[word] = translator.getMultipleTranslations(word) # change the language codes according to the desired languages\n",
    "\n",
    "# Then, pass the lookupTable to the align_annotation method\n",
    "x = aligner.align_annotation(\"The soldiers were ordered to fire their weapons\",\"fire\", \"Os soldados receberam ordens para disparar as suas armas\",\"incêndio\",lookupTable)\n"
   ]
  },
  {
   "cell_type": "code",
   "execution_count": 1,
   "metadata": {},
   "outputs": [
    {
     "name": "stderr",
     "output_type": "stream",
     "text": [
      "c:\\Users\\Filip\\AppData\\Local\\Programs\\Python\\Python39\\lib\\site-packages\\tqdm\\auto.py:22: TqdmWarning: IProgress not found. Please update jupyter and ipywidgets. See https://ipywidgets.readthedocs.io/en/stable/user_install.html\n",
      "  from .autonotebook import tqdm as notebook_tqdm\n"
     ]
    },
    {
     "name": "stdout",
     "output_type": "stream",
     "text": [
      "Os soldados receberam ordem de disparar suas armas\n"
     ]
    }
   ],
   "source": [
    "from LinguAligner import translation\n",
    "\n",
    "translator = translation.GoogleTranslator(source_lang=\"en\", target_lang=\"pt\")\n",
    "\n",
    "x = translator.translate(\"The soldiers were ordered to fire their weapons\")\n",
    "print(x)\n",
    "\n",
    "\n",
    "translator = translation.DeepLTranslator(source_lang=\"en\", target_lang=\"pt\", key=\"DEEPL_KEY\")\n",
    "\n",
    "x = translator.translate(\"The soldiers were ordered to fire their weapons\")\n",
    "print(x)\n",
    "\n",
    "\n",
    "translator = translation.MicrosoftTranslator(source_lang=\"en\", target_lang=\"pt\", key=\"MICROSOFT_TRANSLATOR_KEY\")\n",
    "\n",
    "x = translator.translate(\"The soldiers were ordered to fire their weapons\")\n",
    "print(x)"
   ]
  },
  {
   "cell_type": "code",
   "execution_count": 3,
   "metadata": {},
   "outputs": [
    {
     "name": "stdout",
     "output_type": "stream",
     "text": [
      "['l']\n"
     ]
    }
   ],
   "source": [
    "x = [\"o\",\"l\"]\n",
    "\n",
    "x.remove(\"o\")\n",
    "\n",
    "print(x)"
   ]
  }
 ],
 "metadata": {
  "kernelspec": {
   "display_name": "Python 3",
   "language": "python",
   "name": "python3"
  },
  "language_info": {
   "codemirror_mode": {
    "name": "ipython",
    "version": 3
   },
   "file_extension": ".py",
   "mimetype": "text/x-python",
   "name": "python",
   "nbconvert_exporter": "python",
   "pygments_lexer": "ipython3",
   "version": "3.9.12"
  }
 },
 "nbformat": 4,
 "nbformat_minor": 2
}
