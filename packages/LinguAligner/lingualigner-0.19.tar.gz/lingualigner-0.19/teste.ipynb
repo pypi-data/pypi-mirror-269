{
 "cells": [
  {
   "cell_type": "code",
   "execution_count": 5,
   "metadata": {},
   "outputs": [
    {
     "ename": "ModuleNotFoundError",
     "evalue": "No module named 'fuzzywuzzy'",
     "output_type": "error",
     "traceback": [
      "\u001b[1;31m---------------------------------------------------------------------------\u001b[0m",
      "\u001b[1;31mModuleNotFoundError\u001b[0m                       Traceback (most recent call last)",
      "Cell \u001b[1;32mIn[5], line 1\u001b[0m\n\u001b[1;32m----> 1\u001b[0m \u001b[38;5;28;01mimport\u001b[39;00m \u001b[38;5;21;01mLinguAligner\u001b[39;00m\n",
      "File \u001b[1;32me:\\OneDrive - Universidade do Minho\\Doutormaneto\\alignment\\LinguAligner\\LinguAligner\\__init__.py:5\u001b[0m\n\u001b[0;32m      1\u001b[0m \u001b[38;5;124;03m\"\"\"LinguAligner is a Python library for aligning annotations in parallel corpora. It is designed to be used in the context of parallel corpora annotation alignment, where the goal is to align annotations in the source language with annotations in the target language. \"\"\"\u001b[39;00m\n\u001b[0;32m      2\u001b[0m __version__ \u001b[38;5;241m=\u001b[39m \u001b[38;5;124m\"\u001b[39m\u001b[38;5;124m0.18\u001b[39m\u001b[38;5;124m\"\u001b[39m\n\u001b[1;32m----> 5\u001b[0m \u001b[38;5;28;01mfrom\u001b[39;00m \u001b[38;5;21;01m.\u001b[39;00m \u001b[38;5;28;01mimport\u001b[39;00m aligners\n\u001b[0;32m      6\u001b[0m \u001b[38;5;28;01mimport\u001b[39;00m \u001b[38;5;21;01mspacy\u001b[39;00m\n\u001b[0;32m      7\u001b[0m \u001b[38;5;28;01mfrom\u001b[39;00m \u001b[38;5;21;01m.\u001b[39;00m \u001b[38;5;28;01mimport\u001b[39;00m translation\n",
      "File \u001b[1;32me:\\OneDrive - Universidade do Minho\\Doutormaneto\\alignment\\LinguAligner\\LinguAligner\\aligners.py:7\u001b[0m\n\u001b[0;32m      3\u001b[0m __version__ \u001b[38;5;241m=\u001b[39m \u001b[38;5;124m\"\u001b[39m\u001b[38;5;124m0.1\u001b[39m\u001b[38;5;124m\"\u001b[39m\n\u001b[0;32m      6\u001b[0m \u001b[38;5;28;01mfrom\u001b[39;00m \u001b[38;5;21;01mdifflib\u001b[39;00m \u001b[38;5;28;01mimport\u001b[39;00m get_close_matches\n\u001b[1;32m----> 7\u001b[0m \u001b[38;5;28;01mfrom\u001b[39;00m \u001b[38;5;21;01mfuzzywuzzy\u001b[39;00m \u001b[38;5;28;01mimport\u001b[39;00m process\n\u001b[0;32m      8\u001b[0m \u001b[38;5;28;01mimport\u001b[39;00m \u001b[38;5;21;01mre\u001b[39;00m\n\u001b[0;32m      9\u001b[0m \u001b[38;5;28;01mimport\u001b[39;00m \u001b[38;5;21;01mjson\u001b[39;00m\n",
      "\u001b[1;31mModuleNotFoundError\u001b[0m: No module named 'fuzzywuzzy'"
     ]
    }
   ],
   "source": [
    "import LinguAligner"
   ]
  },
  {
   "cell_type": "code",
   "execution_count": 1,
   "metadata": {},
   "outputs": [
    {
     "name": "stderr",
     "output_type": "stream",
     "text": [
      "c:\\Users\\Filip\\AppData\\Local\\Programs\\Python\\Python39\\lib\\site-packages\\tqdm\\auto.py:22: TqdmWarning: IProgress not found. Please update jupyter and ipywidgets. See https://ipywidgets.readthedocs.io/en/stable/user_install.html\n",
      "  from .autonotebook import tqdm as notebook_tqdm\n"
     ]
    },
    {
     "name": "stdout",
     "output_type": "stream",
     "text": [
      "Loading spacy model: pt_core_news_lg\n",
      "Model loaded\n",
      "Loading WAligner model: bert-base-multilingual-uncased\n",
      "Model loaded\n",
      "{'war': ['guerra'], 'land': ['terra', 'terreno', 'aterrar', 'pousar', 'aterra', 'solo', 'território'], 'fire': ['fogo', 'incêndio', 'demitir', 'despedir', 'fogueira', 'disparar', 'chamas', 'dispare', 'lareira', 'atirar', 'atire']}\n"
     ]
    }
   ],
   "source": [
    "import LinguAligner\n",
    "\n",
    "config= {\n",
    "    \"spacy_model\": \"pt_core_news_lg\",\n",
    "    \"pipeline\": [ \"lemma\", \"external_resource\", \"word_aligner\",\"gestalt\",\"leveinstein\"],\n",
    "    \"WAligner_model\": \"bert-base-multilingual-uncased\",\n",
    "}\n",
    "\n",
    "key = \"f6d44239a73046ca8378bcdc689b395c\"\n",
    "\n",
    "lista = [\"war\",\"land\",\"fire\"]\n",
    "\n",
    "\n",
    "pipeline_ = LinguAligner.Pipeline(config)\n"
   ]
  },
  {
   "cell_type": "code",
   "execution_count": 1,
   "metadata": {},
   "outputs": [
    {
     "name": "stderr",
     "output_type": "stream",
     "text": [
      "c:\\Users\\Filip\\AppData\\Local\\Programs\\Python\\Python39\\lib\\site-packages\\tqdm\\auto.py:22: TqdmWarning: IProgress not found. Please update jupyter and ipywidgets. See https://ipywidgets.readthedocs.io/en/stable/user_install.html\n",
      "  from .autonotebook import tqdm as notebook_tqdm\n"
     ]
    },
    {
     "name": "stdout",
     "output_type": "stream",
     "text": [
      "Loading spacy model: pt_core_news_lg\n",
      "Model loaded\n",
      "Loading WAligner model: bert-base-multilingual-uncased\n",
      "Model loaded\n",
      "Lookup table not provided for M_Trans method. (skipped)\n",
      "['lemma', 'word_aligner', 'gestalt', 'leveinstein']\n",
      "disparar\n"
     ]
    }
   ],
   "source": [
    "from LinguAligner import Pipeline\n",
    "\n",
    "\"\"\"\n",
    "(By default, the first method used is string matching. If unsuccessful, the alignment pipeline is employed.)\n",
    "Methods:\n",
    "- lemma: Lemmatization\n",
    "- M_Trans: Multiple Translations of a word\n",
    "- word_aligner: mBERT-based word aligner\n",
    "- gestalt: Gestalt pattern matching (character-based)\n",
    "- levenshtein: Levenshtein distance (character-based)\n",
    "\"\"\"\n",
    "\n",
    "config= {\n",
    "    \"pipeline\": [ \"lemma\", \"M_Trans\", \"word_aligner\",\"gestalt\",\"leveinstein\"], # can be changed according to the desired pipeline\n",
    "    \"spacy_model\": \"pt_core_news_lg\", # change according to the language\n",
    "    \"WAligner_model\": \"bert-base-multilingual-uncased\", # needed for word_aligner\n",
    "}\n",
    "\n",
    "\n",
    "aligner = Pipeline(config)\n",
    "x = aligner.align_annotation(\"The soldiers were ordered to fire their weapons\",\"fire\", \"Os soldados receberam ordens para disparar as suas armas\",\"incêndio\")\n",
    "print(x)"
   ]
  },
  {
   "cell_type": "code",
   "execution_count": 4,
   "metadata": {},
   "outputs": [
    {
     "name": "stdout",
     "output_type": "stream",
     "text": [
      "Lookup table not provided for M_Trans method. (skipped)\n",
      "disparar\n"
     ]
    }
   ],
   "source": [
    "x = aligner.align_annotation(\"The soldiers were ordered to fire their weapons\",\"fire\", \"Os soldados receberam ordens para disparar as suas armas\",\"incêndio\")\n",
    "print(x)"
   ]
  },
  {
   "cell_type": "code",
   "execution_count": 5,
   "metadata": {},
   "outputs": [
    {
     "data": {
      "text/plain": [
       "{'war': ['guerra'],\n",
       " 'land': ['terra',\n",
       "  'terreno',\n",
       "  'aterrar',\n",
       "  'pousar',\n",
       "  'aterra',\n",
       "  'solo',\n",
       "  'território'],\n",
       " 'fire': ['fogo',\n",
       "  'incêndio',\n",
       "  'demitir',\n",
       "  'despedir',\n",
       "  'fogueira',\n",
       "  'disparar',\n",
       "  'chamas',\n",
       "  'dispare',\n",
       "  'lareira',\n",
       "  'atirar',\n",
       "  'atire']}"
      ]
     },
     "execution_count": 5,
     "metadata": {},
     "output_type": "execute_result"
    }
   ],
   "source": [
    "from LinguAligner import translation\n",
    "translator = translation.MicrosoftTranslator(source_lang=\"en\", target_lang=\"pt\", auth_key=\"f6d44239a73046ca8378bcdc689b395c\")\n",
    "lookupTable = {}\n",
    "annotations_list = [\"war\",\"land\",\"fire\"]\n",
    "for word in annotations_list:\n",
    "    lookupTable[word] = translator.getMultipleTranslations(word) # change the language codes according to the desired languages\n",
    "\n",
    "# Then, pass the lookupTable to the align_annotation method\n",
    "x = aligner.align_annotation(\"The soldiers were ordered to fire their weapons\",\"fire\", \"Os soldados receberam ordens para disparar as suas armas\",\"incêndio\",lookupTable)\n"
   ]
  },
  {
   "cell_type": "code",
   "execution_count": 1,
   "metadata": {},
   "outputs": [
    {
     "name": "stderr",
     "output_type": "stream",
     "text": [
      "c:\\Users\\Filip\\AppData\\Local\\Programs\\Python\\Python39\\lib\\site-packages\\tqdm\\auto.py:22: TqdmWarning: IProgress not found. Please update jupyter and ipywidgets. See https://ipywidgets.readthedocs.io/en/stable/user_install.html\n",
      "  from .autonotebook import tqdm as notebook_tqdm\n"
     ]
    },
    {
     "name": "stdout",
     "output_type": "stream",
     "text": [
      "Os soldados receberam ordem de disparar suas armas\n"
     ]
    }
   ],
   "source": [
    "from LinguAligner import translation\n",
    "\n",
    "translator = translation.GoogleTranslator(source_lang=\"en\", target_lang=\"pt\")\n",
    "\n",
    "x = translator.translate(\"The soldiers were ordered to fire their weapons\")\n",
    "print(x)\n",
    "\n",
    "\n",
    "translator = translation.DeepLTranslator(source_lang=\"en\", target_lang=\"pt\", key=\"DEEPL_KEY\")\n",
    "\n",
    "x = translator.translate(\"The soldiers were ordered to fire their weapons\")\n",
    "print(x)\n",
    "\n",
    "\n",
    "translator = translation.MicrosoftTranslator(source_lang=\"en\", target_lang=\"pt\", key=\"MICROSOFT_TRANSLATOR_KEY\")\n",
    "\n",
    "x = translator.translate(\"The soldiers were ordered to fire their weapons\")\n",
    "print(x)"
   ]
  },
  {
   "cell_type": "code",
   "execution_count": 3,
   "metadata": {},
   "outputs": [
    {
     "name": "stdout",
     "output_type": "stream",
     "text": [
      "['l']\n"
     ]
    }
   ],
   "source": [
    "x = [\"o\",\"l\"]\n",
    "\n",
    "x.remove(\"o\")\n",
    "\n",
    "print(x)"
   ]
  }
 ],
 "metadata": {
  "kernelspec": {
   "display_name": "Python 3",
   "language": "python",
   "name": "python3"
  },
  "language_info": {
   "codemirror_mode": {
    "name": "ipython",
    "version": 3
   },
   "file_extension": ".py",
   "mimetype": "text/x-python",
   "name": "python",
   "nbconvert_exporter": "python",
   "pygments_lexer": "ipython3",
   "version": "3.9.12"
  }
 },
 "nbformat": 4,
 "nbformat_minor": 2
}
