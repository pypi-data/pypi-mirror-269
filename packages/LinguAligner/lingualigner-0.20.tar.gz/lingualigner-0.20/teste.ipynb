{
 "cells": [
  {
   "cell_type": "code",
   "execution_count": 4,
   "metadata": {},
   "outputs": [],
   "source": [
    "import LinguAligner"
   ]
  },
  {
   "cell_type": "code",
   "execution_count": 5,
   "metadata": {},
   "outputs": [
    {
     "name": "stdout",
     "output_type": "stream",
     "text": [
      "Help on package LinguAligner:\n",
      "\n",
      "NAME\n",
      "    LinguAligner - LinguAligner is a Python library for aligning annotations in parallel corpora. It is designed to be used in the context of parallel corpora annotation alignment, where the goal is to align annotations in the source language with annotations in the target language.\n",
      "\n",
      "PACKAGE CONTENTS\n",
      "    aligners\n",
      "    multiple_translations\n",
      "    translation\n",
      "    utils\n",
      "\n",
      "CLASSES\n",
      "    builtins.object\n",
      "        AlignmentPipeline\n",
      "    \n",
      "    class AlignmentPipeline(builtins.object)\n",
      "     |  AlignmentPipeline(config)\n",
      "     |  \n",
      "     |  Methods defined here:\n",
      "     |  \n",
      "     |  __init__(self, config)\n",
      "     |      Initialize self.  See help(type(self)) for accurate signature.\n",
      "     |  \n",
      "     |  align_annotation(self, src_sent, src_ann, tgt_sent, trans_ann, lookupTable=None)\n",
      "     |  \n",
      "     |  ----------------------------------------------------------------------\n",
      "     |  Data descriptors defined here:\n",
      "     |  \n",
      "     |  __dict__\n",
      "     |      dictionary for instance variables (if defined)\n",
      "     |  \n",
      "     |  __weakref__\n",
      "     |      list of weak references to the object (if defined)\n",
      "\n",
      "VERSION\n",
      "    0.19\n",
      "\n",
      "FILE\n",
      "    e:\\onedrive - universidade do minho\\doutormaneto\\alignment\\lingualigner\\lingualigner\\__init__.py\n",
      "\n",
      "\n"
     ]
    }
   ],
   "source": [
    "help(LinguAligner)"
   ]
  },
  {
   "cell_type": "code",
   "execution_count": 7,
   "metadata": {},
   "outputs": [],
   "source": [
    "!python -m spacy download pt_core_news_lg"
   ]
  },
  {
   "cell_type": "code",
   "execution_count": 2,
   "metadata": {},
   "outputs": [
    {
     "ename": "AttributeError",
     "evalue": "module 'LinguAligner' has no attribute 'Pipeline'",
     "output_type": "error",
     "traceback": [
      "\u001b[1;31m---------------------------------------------------------------------------\u001b[0m",
      "\u001b[1;31mAttributeError\u001b[0m                            Traceback (most recent call last)",
      "Cell \u001b[1;32mIn[2], line 14\u001b[0m\n\u001b[0;32m      9\u001b[0m key \u001b[38;5;241m=\u001b[39m \u001b[38;5;124m\"\u001b[39m\u001b[38;5;124mf6d44239a73046ca8378bcdc689b395c\u001b[39m\u001b[38;5;124m\"\u001b[39m\n\u001b[0;32m     11\u001b[0m lista \u001b[38;5;241m=\u001b[39m [\u001b[38;5;124m\"\u001b[39m\u001b[38;5;124mwar\u001b[39m\u001b[38;5;124m\"\u001b[39m,\u001b[38;5;124m\"\u001b[39m\u001b[38;5;124mland\u001b[39m\u001b[38;5;124m\"\u001b[39m,\u001b[38;5;124m\"\u001b[39m\u001b[38;5;124mfire\u001b[39m\u001b[38;5;124m\"\u001b[39m]\n\u001b[1;32m---> 14\u001b[0m pipeline_ \u001b[38;5;241m=\u001b[39m \u001b[43mLinguAligner\u001b[49m\u001b[38;5;241;43m.\u001b[39;49m\u001b[43mPipeline\u001b[49m(config)\n",
      "\u001b[1;31mAttributeError\u001b[0m: module 'LinguAligner' has no attribute 'Pipeline'"
     ]
    }
   ],
   "source": [
    "import LinguAligner\n",
    "\n",
    "config= {\n",
    "    \"spacy_model\": \"pt_core_news_lg\",\n",
    "    \"pipeline\": [ \"lemma\", \"external_resource\", \"word_aligner\",\"gestalt\",\"leveinstein\"],\n",
    "    \"WAligner_model\": \"bert-base-multilingual-uncased\",\n",
    "}\n",
    "\n",
    "key = \"f6d44239a73046ca8378bcdc689b395c\"\n",
    "\n",
    "lista = [\"war\",\"land\",\"fire\"]\n",
    "\n",
    "\n",
    "pipeline_ = LinguAligner.Pipeline(config)\n"
   ]
  },
  {
   "cell_type": "code",
   "execution_count": 6,
   "metadata": {},
   "outputs": [
    {
     "name": "stdout",
     "output_type": "stream",
     "text": [
      "Loading spacy model: pt_core_news_lg\n"
     ]
    },
    {
     "ename": "OSError",
     "evalue": "[E050] Can't find model 'pt_core_news_lg'. It doesn't seem to be a Python package or a valid path to a data directory.",
     "output_type": "error",
     "traceback": [
      "\u001b[1;31m---------------------------------------------------------------------------\u001b[0m",
      "\u001b[1;31mOSError\u001b[0m                                   Traceback (most recent call last)",
      "Cell \u001b[1;32mIn[6], line 20\u001b[0m\n\u001b[0;32m      3\u001b[0m \u001b[38;5;124;03m\"\"\"\u001b[39;00m\n\u001b[0;32m      4\u001b[0m \u001b[38;5;124;03m(By default, the first method used is string matching. If unsuccessful, the alignment pipeline is employed.)\u001b[39;00m\n\u001b[0;32m      5\u001b[0m \u001b[38;5;124;03mMethods:\u001b[39;00m\n\u001b[1;32m   (...)\u001b[0m\n\u001b[0;32m     10\u001b[0m \u001b[38;5;124;03m- levenshtein: Levenshtein distance (character-based)\u001b[39;00m\n\u001b[0;32m     11\u001b[0m \u001b[38;5;124;03m\"\"\"\u001b[39;00m\n\u001b[0;32m     13\u001b[0m config\u001b[38;5;241m=\u001b[39m {\n\u001b[0;32m     14\u001b[0m     \u001b[38;5;124m\"\u001b[39m\u001b[38;5;124mpipeline\u001b[39m\u001b[38;5;124m\"\u001b[39m: [ \u001b[38;5;124m\"\u001b[39m\u001b[38;5;124mlemma\u001b[39m\u001b[38;5;124m\"\u001b[39m, \u001b[38;5;124m\"\u001b[39m\u001b[38;5;124mM_Trans\u001b[39m\u001b[38;5;124m\"\u001b[39m, \u001b[38;5;124m\"\u001b[39m\u001b[38;5;124mword_aligner\u001b[39m\u001b[38;5;124m\"\u001b[39m,\u001b[38;5;124m\"\u001b[39m\u001b[38;5;124mgestalt\u001b[39m\u001b[38;5;124m\"\u001b[39m,\u001b[38;5;124m\"\u001b[39m\u001b[38;5;124mleveinstein\u001b[39m\u001b[38;5;124m\"\u001b[39m], \u001b[38;5;66;03m# can be changed according to the desired pipeline\u001b[39;00m\n\u001b[0;32m     15\u001b[0m     \u001b[38;5;124m\"\u001b[39m\u001b[38;5;124mspacy_model\u001b[39m\u001b[38;5;124m\"\u001b[39m: \u001b[38;5;124m\"\u001b[39m\u001b[38;5;124mpt_core_news_lg\u001b[39m\u001b[38;5;124m\"\u001b[39m, \u001b[38;5;66;03m# change according to the language\u001b[39;00m\n\u001b[0;32m     16\u001b[0m     \u001b[38;5;124m\"\u001b[39m\u001b[38;5;124mWAligner_model\u001b[39m\u001b[38;5;124m\"\u001b[39m: \u001b[38;5;124m\"\u001b[39m\u001b[38;5;124mbert-base-multilingual-uncased\u001b[39m\u001b[38;5;124m\"\u001b[39m, \u001b[38;5;66;03m# needed for word_aligner\u001b[39;00m\n\u001b[0;32m     17\u001b[0m }\n\u001b[1;32m---> 20\u001b[0m aligner \u001b[38;5;241m=\u001b[39m \u001b[43mAlignmentPipeline\u001b[49m\u001b[43m(\u001b[49m\u001b[43mconfig\u001b[49m\u001b[43m)\u001b[49m\n\u001b[0;32m     21\u001b[0m x \u001b[38;5;241m=\u001b[39m aligner\u001b[38;5;241m.\u001b[39malign_annotation(\u001b[38;5;124m\"\u001b[39m\u001b[38;5;124mThe soldiers were ordered to fire their weapons\u001b[39m\u001b[38;5;124m\"\u001b[39m,\u001b[38;5;124m\"\u001b[39m\u001b[38;5;124mfire\u001b[39m\u001b[38;5;124m\"\u001b[39m, \u001b[38;5;124m\"\u001b[39m\u001b[38;5;124mOs soldados receberam ordens para disparar as suas armas\u001b[39m\u001b[38;5;124m\"\u001b[39m,\u001b[38;5;124m\"\u001b[39m\u001b[38;5;124mincêndio\u001b[39m\u001b[38;5;124m\"\u001b[39m)\n\u001b[0;32m     22\u001b[0m \u001b[38;5;28mprint\u001b[39m(x)\n",
      "File \u001b[1;32me:\\OneDrive - Universidade do Minho\\Doutormaneto\\alignment\\LinguAligner\\LinguAligner\\__init__.py:16\u001b[0m, in \u001b[0;36mAlignmentPipeline.__init__\u001b[1;34m(self, config)\u001b[0m\n\u001b[0;32m     14\u001b[0m \u001b[38;5;28mself\u001b[39m\u001b[38;5;241m.\u001b[39mconfig \u001b[38;5;241m=\u001b[39m config\n\u001b[0;32m     15\u001b[0m \u001b[38;5;28mprint\u001b[39m(\u001b[38;5;124m\"\u001b[39m\u001b[38;5;124mLoading spacy model: \u001b[39m\u001b[38;5;124m\"\u001b[39m \u001b[38;5;241m+\u001b[39m config[\u001b[38;5;124m\"\u001b[39m\u001b[38;5;124mspacy_model\u001b[39m\u001b[38;5;124m\"\u001b[39m])\n\u001b[1;32m---> 16\u001b[0m \u001b[38;5;28mself\u001b[39m\u001b[38;5;241m.\u001b[39mnlp \u001b[38;5;241m=\u001b[39m \u001b[43mspacy\u001b[49m\u001b[38;5;241;43m.\u001b[39;49m\u001b[43mload\u001b[49m\u001b[43m(\u001b[49m\u001b[43mconfig\u001b[49m\u001b[43m[\u001b[49m\u001b[38;5;124;43m\"\u001b[39;49m\u001b[38;5;124;43mspacy_model\u001b[39;49m\u001b[38;5;124;43m\"\u001b[39;49m\u001b[43m]\u001b[49m\u001b[43m)\u001b[49m\n\u001b[0;32m     17\u001b[0m \u001b[38;5;28mprint\u001b[39m(\u001b[38;5;124m\"\u001b[39m\u001b[38;5;124mModel loaded\u001b[39m\u001b[38;5;124m\"\u001b[39m)\n\u001b[0;32m     18\u001b[0m \u001b[38;5;28;01mif\u001b[39;00m \u001b[38;5;124m\"\u001b[39m\u001b[38;5;124mword_aligner\u001b[39m\u001b[38;5;124m\"\u001b[39m \u001b[38;5;129;01min\u001b[39;00m config[\u001b[38;5;124m\"\u001b[39m\u001b[38;5;124mpipeline\u001b[39m\u001b[38;5;124m\"\u001b[39m]:\n",
      "File \u001b[1;32me:\\OneDrive - Universidade do Minho\\Doutormaneto\\alignment\\Lingu_test\\env\\lib\\site-packages\\spacy\\__init__.py:51\u001b[0m, in \u001b[0;36mload\u001b[1;34m(name, vocab, disable, enable, exclude, config)\u001b[0m\n\u001b[0;32m     27\u001b[0m \u001b[38;5;28;01mdef\u001b[39;00m \u001b[38;5;21mload\u001b[39m(\n\u001b[0;32m     28\u001b[0m     name: Union[\u001b[38;5;28mstr\u001b[39m, Path],\n\u001b[0;32m     29\u001b[0m     \u001b[38;5;241m*\u001b[39m,\n\u001b[1;32m   (...)\u001b[0m\n\u001b[0;32m     34\u001b[0m     config: Union[Dict[\u001b[38;5;28mstr\u001b[39m, Any], Config] \u001b[38;5;241m=\u001b[39m util\u001b[38;5;241m.\u001b[39mSimpleFrozenDict(),\n\u001b[0;32m     35\u001b[0m ) \u001b[38;5;241m-\u001b[39m\u001b[38;5;241m>\u001b[39m Language:\n\u001b[0;32m     36\u001b[0m \u001b[38;5;250m    \u001b[39m\u001b[38;5;124;03m\"\"\"Load a spaCy model from an installed package or a local path.\u001b[39;00m\n\u001b[0;32m     37\u001b[0m \n\u001b[0;32m     38\u001b[0m \u001b[38;5;124;03m    name (str): Package name or model path.\u001b[39;00m\n\u001b[1;32m   (...)\u001b[0m\n\u001b[0;32m     49\u001b[0m \u001b[38;5;124;03m    RETURNS (Language): The loaded nlp object.\u001b[39;00m\n\u001b[0;32m     50\u001b[0m \u001b[38;5;124;03m    \"\"\"\u001b[39;00m\n\u001b[1;32m---> 51\u001b[0m     \u001b[38;5;28;01mreturn\u001b[39;00m \u001b[43mutil\u001b[49m\u001b[38;5;241;43m.\u001b[39;49m\u001b[43mload_model\u001b[49m\u001b[43m(\u001b[49m\n\u001b[0;32m     52\u001b[0m \u001b[43m        \u001b[49m\u001b[43mname\u001b[49m\u001b[43m,\u001b[49m\n\u001b[0;32m     53\u001b[0m \u001b[43m        \u001b[49m\u001b[43mvocab\u001b[49m\u001b[38;5;241;43m=\u001b[39;49m\u001b[43mvocab\u001b[49m\u001b[43m,\u001b[49m\n\u001b[0;32m     54\u001b[0m \u001b[43m        \u001b[49m\u001b[43mdisable\u001b[49m\u001b[38;5;241;43m=\u001b[39;49m\u001b[43mdisable\u001b[49m\u001b[43m,\u001b[49m\n\u001b[0;32m     55\u001b[0m \u001b[43m        \u001b[49m\u001b[43menable\u001b[49m\u001b[38;5;241;43m=\u001b[39;49m\u001b[43menable\u001b[49m\u001b[43m,\u001b[49m\n\u001b[0;32m     56\u001b[0m \u001b[43m        \u001b[49m\u001b[43mexclude\u001b[49m\u001b[38;5;241;43m=\u001b[39;49m\u001b[43mexclude\u001b[49m\u001b[43m,\u001b[49m\n\u001b[0;32m     57\u001b[0m \u001b[43m        \u001b[49m\u001b[43mconfig\u001b[49m\u001b[38;5;241;43m=\u001b[39;49m\u001b[43mconfig\u001b[49m\u001b[43m,\u001b[49m\n\u001b[0;32m     58\u001b[0m \u001b[43m    \u001b[49m\u001b[43m)\u001b[49m\n",
      "File \u001b[1;32me:\\OneDrive - Universidade do Minho\\Doutormaneto\\alignment\\Lingu_test\\env\\lib\\site-packages\\spacy\\util.py:472\u001b[0m, in \u001b[0;36mload_model\u001b[1;34m(name, vocab, disable, enable, exclude, config)\u001b[0m\n\u001b[0;32m    470\u001b[0m \u001b[38;5;28;01mif\u001b[39;00m name \u001b[38;5;129;01min\u001b[39;00m OLD_MODEL_SHORTCUTS:\n\u001b[0;32m    471\u001b[0m     \u001b[38;5;28;01mraise\u001b[39;00m \u001b[38;5;167;01mIOError\u001b[39;00m(Errors\u001b[38;5;241m.\u001b[39mE941\u001b[38;5;241m.\u001b[39mformat(name\u001b[38;5;241m=\u001b[39mname, full\u001b[38;5;241m=\u001b[39mOLD_MODEL_SHORTCUTS[name]))  \u001b[38;5;66;03m# type: ignore[index]\u001b[39;00m\n\u001b[1;32m--> 472\u001b[0m \u001b[38;5;28;01mraise\u001b[39;00m \u001b[38;5;167;01mIOError\u001b[39;00m(Errors\u001b[38;5;241m.\u001b[39mE050\u001b[38;5;241m.\u001b[39mformat(name\u001b[38;5;241m=\u001b[39mname))\n",
      "\u001b[1;31mOSError\u001b[0m: [E050] Can't find model 'pt_core_news_lg'. It doesn't seem to be a Python package or a valid path to a data directory."
     ]
    }
   ],
   "source": [
    "from LinguAligner import AlignmentPipeline\n",
    "\n",
    "\"\"\"\n",
    "(By default, the first method used is string matching. If unsuccessful, the alignment pipeline is employed.)\n",
    "Methods:\n",
    "- lemma: Lemmatization\n",
    "- M_Trans: Multiple Translations of a word\n",
    "- word_aligner: mBERT-based word aligner\n",
    "- gestalt: Gestalt pattern matching (character-based)\n",
    "- levenshtein: Levenshtein distance (character-based)\n",
    "\"\"\"\n",
    "\n",
    "config= {\n",
    "    \"pipeline\": [ \"lemma\", \"M_Trans\", \"word_aligner\",\"gestalt\",\"leveinstein\"], # can be changed according to the desired pipeline\n",
    "    \"spacy_model\": \"pt_core_news_lg\", # change according to the language\n",
    "    \"WAligner_model\": \"bert-base-multilingual-uncased\", # needed for word_aligner\n",
    "}\n",
    "\n",
    "\n",
    "aligner = AlignmentPipeline(config)\n",
    "x = aligner.align_annotation(\"The soldiers were ordered to fire their weapons\",\"fire\", \"Os soldados receberam ordens para disparar as suas armas\",\"incêndio\")\n",
    "print(x)"
   ]
  },
  {
   "cell_type": "code",
   "execution_count": 4,
   "metadata": {},
   "outputs": [
    {
     "name": "stdout",
     "output_type": "stream",
     "text": [
      "Lookup table not provided for M_Trans method. (skipped)\n",
      "disparar\n"
     ]
    }
   ],
   "source": [
    "x = aligner.align_annotation(\"The soldiers were ordered to fire their weapons\",\"fire\", \"Os soldados receberam ordens para disparar as suas armas\",\"incêndio\")\n",
    "print(x)"
   ]
  },
  {
   "cell_type": "code",
   "execution_count": 5,
   "metadata": {},
   "outputs": [
    {
     "data": {
      "text/plain": [
       "{'war': ['guerra'],\n",
       " 'land': ['terra',\n",
       "  'terreno',\n",
       "  'aterrar',\n",
       "  'pousar',\n",
       "  'aterra',\n",
       "  'solo',\n",
       "  'território'],\n",
       " 'fire': ['fogo',\n",
       "  'incêndio',\n",
       "  'demitir',\n",
       "  'despedir',\n",
       "  'fogueira',\n",
       "  'disparar',\n",
       "  'chamas',\n",
       "  'dispare',\n",
       "  'lareira',\n",
       "  'atirar',\n",
       "  'atire']}"
      ]
     },
     "execution_count": 5,
     "metadata": {},
     "output_type": "execute_result"
    }
   ],
   "source": [
    "from LinguAligner import translation\n",
    "translator = translation.MicrosoftTranslator(source_lang=\"en\", target_lang=\"pt\", auth_key=\"f6d44239a73046ca8378bcdc689b395c\")\n",
    "lookupTable = {}\n",
    "annotations_list = [\"war\",\"land\",\"fire\"]\n",
    "for word in annotations_list:\n",
    "    lookupTable[word] = translator.getMultipleTranslations(word) # change the language codes according to the desired languages\n",
    "\n",
    "# Then, pass the lookupTable to the align_annotation method\n",
    "x = aligner.align_annotation(\"The soldiers were ordered to fire their weapons\",\"fire\", \"Os soldados receberam ordens para disparar as suas armas\",\"incêndio\",lookupTable)\n"
   ]
  },
  {
   "cell_type": "code",
   "execution_count": 1,
   "metadata": {},
   "outputs": [
    {
     "name": "stderr",
     "output_type": "stream",
     "text": [
      "c:\\Users\\Filip\\AppData\\Local\\Programs\\Python\\Python39\\lib\\site-packages\\tqdm\\auto.py:22: TqdmWarning: IProgress not found. Please update jupyter and ipywidgets. See https://ipywidgets.readthedocs.io/en/stable/user_install.html\n",
      "  from .autonotebook import tqdm as notebook_tqdm\n"
     ]
    },
    {
     "name": "stdout",
     "output_type": "stream",
     "text": [
      "Os soldados receberam ordem de disparar suas armas\n"
     ]
    }
   ],
   "source": [
    "from LinguAligner import translation\n",
    "\n",
    "translator = translation.GoogleTranslator(source_lang=\"en\", target_lang=\"pt\")\n",
    "\n",
    "x = translator.translate(\"The soldiers were ordered to fire their weapons\")\n",
    "print(x)\n",
    "\n",
    "\n",
    "translator = translation.DeepLTranslator(source_lang=\"en\", target_lang=\"pt\", key=\"DEEPL_KEY\")\n",
    "\n",
    "x = translator.translate(\"The soldiers were ordered to fire their weapons\")\n",
    "print(x)\n",
    "\n",
    "\n",
    "translator = translation.MicrosoftTranslator(source_lang=\"en\", target_lang=\"pt\", key=\"MICROSOFT_TRANSLATOR_KEY\")\n",
    "\n",
    "x = translator.translate(\"The soldiers were ordered to fire their weapons\")\n",
    "print(x)"
   ]
  },
  {
   "cell_type": "code",
   "execution_count": 3,
   "metadata": {},
   "outputs": [
    {
     "name": "stdout",
     "output_type": "stream",
     "text": [
      "['l']\n"
     ]
    }
   ],
   "source": [
    "x = [\"o\",\"l\"]\n",
    "\n",
    "x.remove(\"o\")\n",
    "\n",
    "print(x)"
   ]
  }
 ],
 "metadata": {
  "kernelspec": {
   "display_name": "Python 3",
   "language": "python",
   "name": "python3"
  },
  "language_info": {
   "codemirror_mode": {
    "name": "ipython",
    "version": 3
   },
   "file_extension": ".py",
   "mimetype": "text/x-python",
   "name": "python",
   "nbconvert_exporter": "python",
   "pygments_lexer": "ipython3",
   "version": "3.9.12"
  }
 },
 "nbformat": 4,
 "nbformat_minor": 2
}
